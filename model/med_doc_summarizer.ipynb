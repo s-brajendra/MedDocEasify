{
 "cells": [
  {
   "cell_type": "markdown",
   "source": [
    "### NLP/NLU Model Which summerizes Medical Research Paper which makes them easier to read for Student\n",
    "* In this Model We are Replicating Model proposed in paper [2017 PubMed 200k RCT](https://arxiv.org/abs/1710.06071)\n",
    "* Dateset is freely available at [GITHUB](https://github.com/Franck-Dernoncourt/pubmed-rct)"
   ],
   "metadata": {
    "collapsed": false
   },
   "id": "a86065325101b511"
  },
  {
   "cell_type": "code",
   "execution_count": 1,
   "id": "initial_id",
   "metadata": {
    "collapsed": true,
    "ExecuteTime": {
     "end_time": "2023-09-24T11:16:10.110148600Z",
     "start_time": "2023-09-24T11:16:08.628210100Z"
    }
   },
   "outputs": [],
   "source": [
    "import numpy as np\n",
    "\n",
    "from helpers import helper as hf\n",
    "import pandas as pd\n",
    "\n",
    "\n",
    "\n"
   ]
  },
  {
   "cell_type": "code",
   "execution_count": 2,
   "outputs": [],
   "source": [
    "from tensorflow import constant"
   ],
   "metadata": {
    "collapsed": false,
    "ExecuteTime": {
     "end_time": "2023-09-24T11:17:43.504573400Z",
     "start_time": "2023-09-24T11:17:37.614065Z"
    }
   },
   "id": "73c13183a458083c"
  },
  {
   "cell_type": "code",
   "execution_count": 3,
   "outputs": [],
   "source": [
    "data_dir = \"../data/pubmed-rct-master/PubMed_20k_RCT_numbers_replaced_with_at_sign\""
   ],
   "metadata": {
    "collapsed": false,
    "ExecuteTime": {
     "end_time": "2023-09-24T11:17:43.515013400Z",
     "start_time": "2023-09-24T11:17:43.509994200Z"
    }
   },
   "id": "be30255869220cea"
  },
  {
   "cell_type": "code",
   "execution_count": 4,
   "outputs": [],
   "source": [
    "train_text_lines = hf.read_lines_from_txt(data_dir+\"/train.txt\")\n",
    "test_text_lines = hf.read_lines_from_txt(data_dir+\"/test.txt\")\n",
    "dev_text_lines = hf.read_lines_from_txt(data_dir+\"/dev.txt\")"
   ],
   "metadata": {
    "collapsed": false,
    "ExecuteTime": {
     "end_time": "2023-09-24T11:17:43.666859800Z",
     "start_time": "2023-09-24T11:17:43.510504900Z"
    }
   },
   "id": "6218c653d85de43a"
  },
  {
   "cell_type": "code",
   "execution_count": 5,
   "outputs": [],
   "source": [
    "train_data_dic = hf.extract_para(train_text_lines)\n",
    "test_data_dic = hf.extract_para(test_text_lines)\n",
    "dev_data_dic = hf.extract_para(dev_text_lines)\n"
   ],
   "metadata": {
    "collapsed": false,
    "ExecuteTime": {
     "end_time": "2023-09-24T11:17:44.036044600Z",
     "start_time": "2023-09-24T11:17:43.666859800Z"
    }
   },
   "id": "91d8258b2d6f830"
  },
  {
   "cell_type": "markdown",
   "source": [
    "* Data Modeling\n",
    "```\n",
    "# object return structure\n",
    "\n",
    "    return dict:\n",
    "    {\n",
    "        \"total_para\":\n",
    "        0:\n",
    "        1:\n",
    "        .\n",
    "        .\n",
    "        .\n",
    "    }\n",
    "\n",
    "\n",
    "    0 indexed deic structure\n",
    "    {\n",
    "        \"entire_para\": list of dic object containing target, text eg. [ { target:\n",
    "                                                                          text:\n",
    "                                                                         },\n",
    "                                                                         {\n",
    "                                                                                ..  \n",
    "                                                                         }\n",
    "                                                                       ]\n",
    "        \"total_lines\":total lines in para\n",
    "\n",
    "    }\n",
    "```"
   ],
   "metadata": {
    "collapsed": false
   },
   "id": "ac7b7496c05a341e"
  },
  {
   "cell_type": "code",
   "execution_count": 6,
   "outputs": [
    {
     "name": "stdout",
     "output_type": "stream",
     "text": [
      "train:  15000 test: 2500 test: 2500\n"
     ]
    }
   ],
   "source": [
    "print( \"train: \", train_data_dic[\"total_para\"], \"test:\", \n",
    "test_data_dic[\"total_para\"], \"test:\", \n",
    "dev_data_dic[\"total_para\"]  )"
   ],
   "metadata": {
    "collapsed": false,
    "ExecuteTime": {
     "end_time": "2023-09-24T11:17:44.045517400Z",
     "start_time": "2023-09-24T11:17:44.036044600Z"
    }
   },
   "id": "17ed48228707491c"
  },
  {
   "cell_type": "code",
   "execution_count": 7,
   "outputs": [
    {
     "data": {
      "text/plain": "False"
     },
     "execution_count": 7,
     "metadata": {},
     "output_type": "execute_result"
    }
   ],
   "source": [
    "len(dev_data_dic[3][\"entire_para\"]) == dev_data_dic[3][\"total_lines\"]"
   ],
   "metadata": {
    "collapsed": false,
    "ExecuteTime": {
     "end_time": "2023-09-24T11:17:44.576467200Z",
     "start_time": "2023-09-24T11:17:44.568412900Z"
    }
   },
   "id": "9695baed1eaf4fc1"
  },
  {
   "cell_type": "code",
   "execution_count": 8,
   "outputs": [
    {
     "data": {
      "text/plain": "{'entire_para': [{'target': 'BACKGROUND',\n   'text': 'minimally invasive endovascular aneurysm repair ( evar ) could be a surgical technique that improves outcome of patients with ruptured abdominal aortic aneurysm ( raaa ) .',\n   'line_number': 0},\n  {'target': 'BACKGROUND',\n   'text': 'the aim of this study was to analyse the cost-effectiveness and cost-utility of evar compared with standard open repair ( or ) in the treatment of raaa , with costs per @-day and @-month survivor as outcome parameters .',\n   'line_number': 1},\n  {'target': 'METHODS',\n   'text': 'resource use was determined from the amsterdam acute aneurysm ( ajax ) trial , a multicentre randomized trial comparing evar with or in patients with raaa .',\n   'line_number': 2},\n  {'target': 'METHODS',\n   'text': 'the analysis was performed from a provider perspective .',\n   'line_number': 3},\n  {'target': 'METHODS',\n   'text': 'all costs were calculated as if all patients had been treated in the same hospital ( onze lieve vrouwe gasthuis , teaching hospital ) .',\n   'line_number': 4},\n  {'target': 'RESULTS',\n   'text': 'a total of @ patients were randomized .',\n   'line_number': 5},\n  {'target': 'RESULTS',\n   'text': 'the @-day mortality rate was @ per cent after evar and @ per cent for or : absolute risk reduction ( arr ) @ ( @ per cent confidence interval ( c.i. ) -@ to @ ) per cent .',\n   'line_number': 6},\n  {'target': 'RESULTS',\n   'text': 'at @months , the total mortality rate for evar was @ per cent , compared with @ per cent among those assigned to or : arr @ ( -@ to @ ) per cent .',\n   'line_number': 7},\n  {'target': 'RESULTS',\n   'text': 'the mean cost difference between evar and or was @ ( @ per cent c.i. -@ to @,@ ) at @days and @,@ ( -@ to @,@ ) at @months .',\n   'line_number': 8},\n  {'target': 'RESULTS',\n   'text': 'the incremental cost-effectiveness ratio per prevented death was @,@ at @days and @,@ at @months .',\n   'line_number': 9},\n  {'target': 'RESULTS',\n   'text': 'there was no significant difference in quality of life between evar and or .',\n   'line_number': 10},\n  {'target': 'RESULTS',\n   'text': 'nor was evar superior regarding cost-utility .',\n   'line_number': 11},\n  {'target': 'CONCLUSIONS',\n   'text': 'evar may be more effective for raaa , but its increased costs mean that it is unaffordable based on current standards of societal willingness-to-pay for health gains .',\n   'line_number': 12},\n  None],\n 'total_lines': 13}"
     },
     "execution_count": 8,
     "metadata": {},
     "output_type": "execute_result"
    }
   ],
   "source": [
    "test_data_dic[2]"
   ],
   "metadata": {
    "collapsed": false,
    "ExecuteTime": {
     "end_time": "2023-09-24T11:17:45.164482700Z",
     "start_time": "2023-09-24T11:17:45.148419200Z"
    }
   },
   "id": "46cc6a59ed70edf0"
  },
  {
   "cell_type": "code",
   "execution_count": 9,
   "outputs": [
    {
     "data": {
      "text/plain": "{'entire_para': [{'target': 'OBJECTIVE',\n   'text': 'to determine whether plasma sclerostin levels are affected by applying whole-body vibration treatments .',\n   'line_number': 0},\n  {'target': 'METHODS',\n   'text': 'following a pilot study , the pretsent prospective , randomized , controlled single-blind study was performed on @ healthy volunteer women ( ages @ to @ years ) .',\n   'line_number': 1},\n  {'target': 'METHODS',\n   'text': 'subjects were randomly divided into @ groups , and whole-body vibration was applied to the treatment group but not to the controls .',\n   'line_number': 2},\n  {'target': 'METHODS',\n   'text': 'the plasma sclerostin levels were measured before the treatment and at the @th minute after whole-body vibration on the @st , @nd , and @th days of application .',\n   'line_number': 3},\n  {'target': 'RESULTS',\n   'text': 'the plasma sclerostin level measured at @ min after the whole-body vibration treatment increased @ % ( p = @ ) on the @st day and decreased @ % ( p = @ ) on the @th day in the whole-body vibration group .',\n   'line_number': 4},\n  {'target': 'RESULTS',\n   'text': 'in the control group , there was no change in the plasma sclerostin level at any time .',\n   'line_number': 5},\n  {'target': 'RESULTS',\n   'text': 'a progressive increase in baseline plasma sclerostin levels during the @ days of vibration sessions was also found .',\n   'line_number': 6},\n  {'target': 'CONCLUSIONS',\n   'text': 'our study demonstrated that whole-body vibration can change plasma sclerostin levels , and that this change is detectable @ min after whole-body vibration treatments .',\n   'line_number': 7},\n  None],\n 'total_lines': 8}"
     },
     "execution_count": 9,
     "metadata": {},
     "output_type": "execute_result"
    }
   ],
   "source": [
    "test_data_dic[80]"
   ],
   "metadata": {
    "collapsed": false,
    "ExecuteTime": {
     "end_time": "2023-09-24T11:17:46.052201400Z",
     "start_time": "2023-09-24T11:17:45.989564Z"
    }
   },
   "id": "abc5c66fd8b8460b"
  },
  {
   "cell_type": "code",
   "execution_count": 10,
   "outputs": [],
   "source": [
    "dev_data = pd.DataFrame(hf.make_list_of_all_labeled_sentences(dev_data_dic))\n",
    "test_data = pd.DataFrame(hf.make_list_of_all_labeled_sentences(test_data_dic))\n",
    "train_data = pd.DataFrame(hf.make_list_of_all_labeled_sentences(train_data_dic))\n",
    "\n",
    "\n",
    "\n"
   ],
   "metadata": {
    "collapsed": false,
    "ExecuteTime": {
     "end_time": "2023-09-24T11:17:46.915949700Z",
     "start_time": "2023-09-24T11:17:46.656528200Z"
    }
   },
   "id": "153ffc84233b095f"
  },
  {
   "cell_type": "code",
   "execution_count": 11,
   "outputs": [
    {
     "data": {
      "text/plain": "         target                                               text  \\\n0     OBJECTIVE  to investigate the efficacy of @ weeks of dail...   \n1       METHODS  a total of @ patients with primary knee oa wer...   \n2       METHODS  outcome measures included pain reduction and i...   \n3       METHODS  pain was assessed using the visual analog pain...   \n4       METHODS  secondary outcome measures included the wester...   \n5       METHODS  serum levels of interleukin @ ( il-@ ) , il-@ ...   \n6       RESULTS  there was a clinically relevant reduction in t...   \n7       RESULTS  the mean difference between treatment arms ( @...   \n8       RESULTS  further , there was a clinically relevant redu...   \n9       RESULTS  these differences remained significant at @ we...   \n10      RESULTS  the outcome measures in rheumatology clinical ...   \n11  CONCLUSIONS  low-dose oral prednisolone had both a short-te...   \n12   BACKGROUND  emotional eating is associated with overeating...   \n13   BACKGROUND  yet , empirical evidence for individual ( trai...   \n14    OBJECTIVE  the aim of this study was to test if attention...   \n15    OBJECTIVE  it was expected that emotional eating is predi...   \n16      METHODS  participants ( n = @ ) were randomly assigned ...   \n17      METHODS  attentional biases for high caloric foods were...   \n18      METHODS  self-reported emotional eating was assessed wi...   \n19      RESULTS  hierarchical multivariate regression modeling ...   \n\n    line_number  \n0             0  \n1             1  \n2             2  \n3             3  \n4             4  \n5             5  \n6             6  \n7             7  \n8             8  \n9             9  \n10           10  \n11           11  \n12            0  \n13            1  \n14            2  \n15            3  \n16            4  \n17            5  \n18            6  \n19            7  ",
      "text/html": "<div>\n<style scoped>\n    .dataframe tbody tr th:only-of-type {\n        vertical-align: middle;\n    }\n\n    .dataframe tbody tr th {\n        vertical-align: top;\n    }\n\n    .dataframe thead th {\n        text-align: right;\n    }\n</style>\n<table border=\"1\" class=\"dataframe\">\n  <thead>\n    <tr style=\"text-align: right;\">\n      <th></th>\n      <th>target</th>\n      <th>text</th>\n      <th>line_number</th>\n    </tr>\n  </thead>\n  <tbody>\n    <tr>\n      <th>0</th>\n      <td>OBJECTIVE</td>\n      <td>to investigate the efficacy of @ weeks of dail...</td>\n      <td>0</td>\n    </tr>\n    <tr>\n      <th>1</th>\n      <td>METHODS</td>\n      <td>a total of @ patients with primary knee oa wer...</td>\n      <td>1</td>\n    </tr>\n    <tr>\n      <th>2</th>\n      <td>METHODS</td>\n      <td>outcome measures included pain reduction and i...</td>\n      <td>2</td>\n    </tr>\n    <tr>\n      <th>3</th>\n      <td>METHODS</td>\n      <td>pain was assessed using the visual analog pain...</td>\n      <td>3</td>\n    </tr>\n    <tr>\n      <th>4</th>\n      <td>METHODS</td>\n      <td>secondary outcome measures included the wester...</td>\n      <td>4</td>\n    </tr>\n    <tr>\n      <th>5</th>\n      <td>METHODS</td>\n      <td>serum levels of interleukin @ ( il-@ ) , il-@ ...</td>\n      <td>5</td>\n    </tr>\n    <tr>\n      <th>6</th>\n      <td>RESULTS</td>\n      <td>there was a clinically relevant reduction in t...</td>\n      <td>6</td>\n    </tr>\n    <tr>\n      <th>7</th>\n      <td>RESULTS</td>\n      <td>the mean difference between treatment arms ( @...</td>\n      <td>7</td>\n    </tr>\n    <tr>\n      <th>8</th>\n      <td>RESULTS</td>\n      <td>further , there was a clinically relevant redu...</td>\n      <td>8</td>\n    </tr>\n    <tr>\n      <th>9</th>\n      <td>RESULTS</td>\n      <td>these differences remained significant at @ we...</td>\n      <td>9</td>\n    </tr>\n    <tr>\n      <th>10</th>\n      <td>RESULTS</td>\n      <td>the outcome measures in rheumatology clinical ...</td>\n      <td>10</td>\n    </tr>\n    <tr>\n      <th>11</th>\n      <td>CONCLUSIONS</td>\n      <td>low-dose oral prednisolone had both a short-te...</td>\n      <td>11</td>\n    </tr>\n    <tr>\n      <th>12</th>\n      <td>BACKGROUND</td>\n      <td>emotional eating is associated with overeating...</td>\n      <td>0</td>\n    </tr>\n    <tr>\n      <th>13</th>\n      <td>BACKGROUND</td>\n      <td>yet , empirical evidence for individual ( trai...</td>\n      <td>1</td>\n    </tr>\n    <tr>\n      <th>14</th>\n      <td>OBJECTIVE</td>\n      <td>the aim of this study was to test if attention...</td>\n      <td>2</td>\n    </tr>\n    <tr>\n      <th>15</th>\n      <td>OBJECTIVE</td>\n      <td>it was expected that emotional eating is predi...</td>\n      <td>3</td>\n    </tr>\n    <tr>\n      <th>16</th>\n      <td>METHODS</td>\n      <td>participants ( n = @ ) were randomly assigned ...</td>\n      <td>4</td>\n    </tr>\n    <tr>\n      <th>17</th>\n      <td>METHODS</td>\n      <td>attentional biases for high caloric foods were...</td>\n      <td>5</td>\n    </tr>\n    <tr>\n      <th>18</th>\n      <td>METHODS</td>\n      <td>self-reported emotional eating was assessed wi...</td>\n      <td>6</td>\n    </tr>\n    <tr>\n      <th>19</th>\n      <td>RESULTS</td>\n      <td>hierarchical multivariate regression modeling ...</td>\n      <td>7</td>\n    </tr>\n  </tbody>\n</table>\n</div>"
     },
     "execution_count": 11,
     "metadata": {},
     "output_type": "execute_result"
    }
   ],
   "source": [
    "train_data.head(20)"
   ],
   "metadata": {
    "collapsed": false,
    "ExecuteTime": {
     "end_time": "2023-09-24T11:17:47.515587Z",
     "start_time": "2023-09-24T11:17:47.468463200Z"
    }
   },
   "id": "92639d663691fd29"
  },
  {
   "cell_type": "code",
   "execution_count": 12,
   "outputs": [
    {
     "data": {
      "text/plain": "            target                                               text  \\\n0       BACKGROUND  ige sensitization to aspergillus fumigatus and...   \n1       BACKGROUND  it is not clear whether these patients would b...   \n2        OBJECTIVE  we sought to determine whether a @-month cours...   \n3          METHODS  asthmatic patients who were ige sensitized to ...   \n4          METHODS  primary outcomes were improvement in quality o...   \n...            ...                                                ...   \n30193      RESULTS  in patients with uncontrolled or untreated hyp...   \n30194      RESULTS  the mean difference in total ipss and ipss-qua...   \n30195      RESULTS  maximum flow rate , average flow rate , voided...   \n30196  CONCLUSIONS  this study shows that alfuzosin @ mg is effect...   \n30197  CONCLUSIONS  however , in patients with uncontrolled or unt...   \n\n       line_number  \n0                0  \n1                1  \n2                2  \n3                3  \n4                4  \n...            ...  \n30193            7  \n30194            8  \n30195            9  \n30196           10  \n30197           11  \n\n[30198 rows x 3 columns]",
      "text/html": "<div>\n<style scoped>\n    .dataframe tbody tr th:only-of-type {\n        vertical-align: middle;\n    }\n\n    .dataframe tbody tr th {\n        vertical-align: top;\n    }\n\n    .dataframe thead th {\n        text-align: right;\n    }\n</style>\n<table border=\"1\" class=\"dataframe\">\n  <thead>\n    <tr style=\"text-align: right;\">\n      <th></th>\n      <th>target</th>\n      <th>text</th>\n      <th>line_number</th>\n    </tr>\n  </thead>\n  <tbody>\n    <tr>\n      <th>0</th>\n      <td>BACKGROUND</td>\n      <td>ige sensitization to aspergillus fumigatus and...</td>\n      <td>0</td>\n    </tr>\n    <tr>\n      <th>1</th>\n      <td>BACKGROUND</td>\n      <td>it is not clear whether these patients would b...</td>\n      <td>1</td>\n    </tr>\n    <tr>\n      <th>2</th>\n      <td>OBJECTIVE</td>\n      <td>we sought to determine whether a @-month cours...</td>\n      <td>2</td>\n    </tr>\n    <tr>\n      <th>3</th>\n      <td>METHODS</td>\n      <td>asthmatic patients who were ige sensitized to ...</td>\n      <td>3</td>\n    </tr>\n    <tr>\n      <th>4</th>\n      <td>METHODS</td>\n      <td>primary outcomes were improvement in quality o...</td>\n      <td>4</td>\n    </tr>\n    <tr>\n      <th>...</th>\n      <td>...</td>\n      <td>...</td>\n      <td>...</td>\n    </tr>\n    <tr>\n      <th>30193</th>\n      <td>RESULTS</td>\n      <td>in patients with uncontrolled or untreated hyp...</td>\n      <td>7</td>\n    </tr>\n    <tr>\n      <th>30194</th>\n      <td>RESULTS</td>\n      <td>the mean difference in total ipss and ipss-qua...</td>\n      <td>8</td>\n    </tr>\n    <tr>\n      <th>30195</th>\n      <td>RESULTS</td>\n      <td>maximum flow rate , average flow rate , voided...</td>\n      <td>9</td>\n    </tr>\n    <tr>\n      <th>30196</th>\n      <td>CONCLUSIONS</td>\n      <td>this study shows that alfuzosin @ mg is effect...</td>\n      <td>10</td>\n    </tr>\n    <tr>\n      <th>30197</th>\n      <td>CONCLUSIONS</td>\n      <td>however , in patients with uncontrolled or unt...</td>\n      <td>11</td>\n    </tr>\n  </tbody>\n</table>\n<p>30198 rows × 3 columns</p>\n</div>"
     },
     "execution_count": 12,
     "metadata": {},
     "output_type": "execute_result"
    }
   ],
   "source": [
    "dev_data"
   ],
   "metadata": {
    "collapsed": false,
    "ExecuteTime": {
     "end_time": "2023-09-24T11:17:48.031573700Z",
     "start_time": "2023-09-24T11:17:48.015473600Z"
    }
   },
   "id": "4e89b850053c8d20"
  },
  {
   "cell_type": "code",
   "execution_count": 13,
   "outputs": [
    {
     "data": {
      "text/plain": "target\nMETHODS        59349\nRESULTS        57949\nCONCLUSIONS    27166\nBACKGROUND     21726\nOBJECTIVE      13838\nName: count, dtype: int64"
     },
     "execution_count": 13,
     "metadata": {},
     "output_type": "execute_result"
    }
   ],
   "source": [
    "train_data.target.value_counts()"
   ],
   "metadata": {
    "collapsed": false,
    "ExecuteTime": {
     "end_time": "2023-09-24T11:17:48.517676300Z",
     "start_time": "2023-09-24T11:17:48.486093200Z"
    }
   },
   "id": "126aa47da0ea82a1"
  },
  {
   "cell_type": "code",
   "execution_count": 14,
   "outputs": [],
   "source": [
    "import matplotlib.pyplot as plt\n",
    "def sentences_count_in_para(data_dic = train_data_dic):\n",
    "    count = []\n",
    "    for index in range(len(data_dic) - 1):\n",
    "        count.append(data_dic[index][\"total_lines\"])\n",
    "\n",
    "    return count[1:]\n",
    "sent_count_in_para = sentences_count_in_para(data_dic = train_data_dic)\n",
    "\n"
   ],
   "metadata": {
    "collapsed": false,
    "ExecuteTime": {
     "end_time": "2023-09-24T11:17:49.799674Z",
     "start_time": "2023-09-24T11:17:48.983754500Z"
    }
   },
   "id": "ccde65de9d7d1f73"
  },
  {
   "cell_type": "code",
   "execution_count": 15,
   "outputs": [
    {
     "data": {
      "text/plain": "(array([2.420e+02, 2.777e+03, 6.127e+03, 3.018e+03, 2.084e+03, 5.890e+02,\n        9.600e+01, 5.200e+01, 1.100e+01, 3.000e+00]),\n array([ 4. ,  6.7,  9.4, 12.1, 14.8, 17.5, 20.2, 22.9, 25.6, 28.3, 31. ]),\n <BarContainer object of 10 artists>)"
     },
     "execution_count": 15,
     "metadata": {},
     "output_type": "execute_result"
    },
    {
     "data": {
      "text/plain": "<Figure size 640x480 with 1 Axes>",
      "image/png": "[encoded data removed]"
     },
     "metadata": {},
     "output_type": "display_data"
    }
   ],
   "source": [
    "plt.hist(sent_count_in_para)"
   ],
   "metadata": {
    "collapsed": false,
    "ExecuteTime": {
     "end_time": "2023-09-24T11:17:50.049747700Z",
     "start_time": "2023-09-24T11:17:49.799674Z"
    }
   },
   "id": "387b334e8dafe1ac"
  },
  {
   "cell_type": "code",
   "execution_count": 16,
   "outputs": [
    {
     "name": "stderr",
     "output_type": "stream",
     "text": [
      "C:\\Users\\braje\\miniconda3\\envs\\ML\\Lib\\site-packages\\sklearn\\preprocessing\\_encoders.py:972: FutureWarning: `sparse` was renamed to `sparse_output` in version 1.2 and will be removed in 1.4. `sparse_output` is ignored unless you leave `sparse` to its default value.\n",
      "  warnings.warn(\n",
      "C:\\Users\\braje\\miniconda3\\envs\\ML\\Lib\\site-packages\\sklearn\\preprocessing\\_encoders.py:972: FutureWarning: `sparse` was renamed to `sparse_output` in version 1.2 and will be removed in 1.4. `sparse_output` is ignored unless you leave `sparse` to its default value.\n",
      "  warnings.warn(\n",
      "C:\\Users\\braje\\miniconda3\\envs\\ML\\Lib\\site-packages\\sklearn\\preprocessing\\_encoders.py:972: FutureWarning: `sparse` was renamed to `sparse_output` in version 1.2 and will be removed in 1.4. `sparse_output` is ignored unless you leave `sparse` to its default value.\n",
      "  warnings.warn(\n"
     ]
    }
   ],
   "source": [
    "from sklearn.preprocessing import OneHotEncoder\n",
    "one_hot_enc = OneHotEncoder(sparse=False)\n",
    "train_labels_one_hot = one_hot_enc.fit_transform(train_data[\"target\"].to_numpy().reshape(-1,1))\n",
    "test_labels_one_hot = one_hot_enc.fit_transform(test_data[\"target\"].to_numpy().reshape(-1,1))\n",
    "val_labels_one_hot = one_hot_enc.fit_transform(dev_data[\"target\"].to_numpy().reshape(-1,1))\n",
    "\n",
    "# one Hot Encoding done in alphabetical order\n",
    "# eg. [\"BACKGROUND\",\"CONCLUSION\",\"METHODS\",\"OBJECTS\",\"RESULTS\"]\n",
    "# [0 , 0 , 1 , 0 , 0]\n",
    "\n",
    "test_labels = constant(test_labels_one_hot)\n",
    "train_labels = constant(train_labels_one_hot)\n",
    "val_labels = constant(val_labels_one_hot)\n",
    "\n"
   ],
   "metadata": {
    "collapsed": false,
    "ExecuteTime": {
     "end_time": "2023-09-24T11:17:50.820851700Z",
     "start_time": "2023-09-24T11:17:50.709393300Z"
    }
   },
   "id": "6e4e8da7355706bb"
  },
  {
   "cell_type": "code",
   "execution_count": 17,
   "outputs": [],
   "source": [
    "from sklearn.preprocessing import LabelEncoder\n",
    "label_enc = LabelEncoder()\n",
    "\n",
    "train_labels_encoded = label_enc.fit_transform(train_data[\"target\"].to_numpy())\n",
    "val_labels_encoded = label_enc.fit_transform(dev_data[\"target\"].to_numpy())\n",
    "test_labels_encoded = label_enc.fit_transform(test_data[\"target\"].to_numpy())\n",
    "\n"
   ],
   "metadata": {
    "collapsed": false,
    "ExecuteTime": {
     "end_time": "2023-09-24T11:17:51.394576600Z",
     "start_time": "2023-09-24T11:17:51.331769800Z"
    }
   },
   "id": "59c3cd4999febc2"
  },
  {
   "cell_type": "code",
   "execution_count": 18,
   "outputs": [
    {
     "data": {
      "text/plain": "array(['BACKGROUND', 'RESULTS'], dtype=object)"
     },
     "execution_count": 18,
     "metadata": {},
     "output_type": "execute_result"
    }
   ],
   "source": [
    "num_classes = len(label_enc.classes_)\n",
    "class_names = label_enc.classes_\n",
    "\n",
    "label_enc.inverse_transform([0,4]) # 0 = BACKGROUND\n",
    "# can access class using label_enc.inverse_transform([0,4])"
   ],
   "metadata": {
    "collapsed": false,
    "ExecuteTime": {
     "end_time": "2023-09-24T11:17:51.862733400Z",
     "start_time": "2023-09-24T11:17:51.831443300Z"
    }
   },
   "id": "6f28a007d6e78a0d"
  },
  {
   "cell_type": "markdown",
   "source": [
    "15-09-23\n",
    "> Note: DataModeling Almost done \n",
    "* Abstract:\n",
    "    * Labels: \n",
    "        1. test_labels: one hot encoded tensors \n",
    "        2. train_labels:  one hot encoded tensors shape = (180028, 5)\n",
    "        3. val_labels:\n",
    "    * Data:\n",
    "        1. train_data: pd.DataFrame\n",
    "        2. dev_data\n",
    "        3. test_data\n"
   ],
   "metadata": {
    "collapsed": false
   },
   "id": "99031a5b990dbef3"
  },
  {
   "cell_type": "code",
   "execution_count": 19,
   "outputs": [
    {
     "data": {
      "text/plain": "Pipeline(steps=[('tf-idf', TfidfVectorizer()), ('clf', MultinomialNB())])",
      "text/html": "<style>#sk-container-id-1 {color: black;}#sk-container-id-1 pre{padding: 0;}#sk-container-id-1 div.sk-toggleable {background-color: white;}#sk-container-id-1 label.sk-toggleable__label {cursor: pointer;display: block;width: 100%;margin-bottom: 0;padding: 0.3em;box-sizing: border-box;text-align: center;}#sk-container-id-1 label.sk-toggleable__label-arrow:before {content: \"▸\";float: left;margin-right: 0.25em;color: #696969;}#sk-container-id-1 label.sk-toggleable__label-arrow:hover:before {color: black;}#sk-container-id-1 div.sk-estimator:hover label.sk-toggleable__label-arrow:before {color: black;}#sk-container-id-1 div.sk-toggleable__content {max-height: 0;max-width: 0;overflow: hidden;text-align: left;background-color: #f0f8ff;}#sk-container-id-1 div.sk-toggleable__content pre {margin: 0.2em;color: black;border-radius: 0.25em;background-color: #f0f8ff;}#sk-container-id-1 input.sk-toggleable__control:checked~div.sk-toggleable__content {max-height: 200px;max-width: 100%;overflow: auto;}#sk-container-id-1 input.sk-toggleable__control:checked~label.sk-toggleable__label-arrow:before {content: \"▾\";}#sk-container-id-1 div.sk-estimator input.sk-toggleable__control:checked~label.sk-toggleable__label {background-color: #d4ebff;}#sk-container-id-1 div.sk-label input.sk-toggleable__control:checked~label.sk-toggleable__label {background-color: #d4ebff;}#sk-container-id-1 input.sk-hidden--visually {border: 0;clip: rect(1px 1px 1px 1px);clip: rect(1px, 1px, 1px, 1px);height: 1px;margin: -1px;overflow: hidden;padding: 0;position: absolute;width: 1px;}#sk-container-id-1 div.sk-estimator {font-family: monospace;background-color: #f0f8ff;border: 1px dotted black;border-radius: 0.25em;box-sizing: border-box;margin-bottom: 0.5em;}#sk-container-id-1 div.sk-estimator:hover {background-color: #d4ebff;}#sk-container-id-1 div.sk-parallel-item::after {content: \"\";width: 100%;border-bottom: 1px solid gray;flex-grow: 1;}#sk-container-id-1 div.sk-label:hover label.sk-toggleable__label {background-color: #d4ebff;}#sk-container-id-1 div.sk-serial::before {content: \"\";position: absolute;border-left: 1px solid gray;box-sizing: border-box;top: 0;bottom: 0;left: 50%;z-index: 0;}#sk-container-id-1 div.sk-serial {display: flex;flex-direction: column;align-items: center;background-color: white;padding-right: 0.2em;padding-left: 0.2em;position: relative;}#sk-container-id-1 div.sk-item {position: relative;z-index: 1;}#sk-container-id-1 div.sk-parallel {display: flex;align-items: stretch;justify-content: center;background-color: white;position: relative;}#sk-container-id-1 div.sk-item::before, #sk-container-id-1 div.sk-parallel-item::before {content: \"\";position: absolute;border-left: 1px solid gray;box-sizing: border-box;top: 0;bottom: 0;left: 50%;z-index: -1;}#sk-container-id-1 div.sk-parallel-item {display: flex;flex-direction: column;z-index: 1;position: relative;background-color: white;}#sk-container-id-1 div.sk-parallel-item:first-child::after {align-self: flex-end;width: 50%;}#sk-container-id-1 div.sk-parallel-item:last-child::after {align-self: flex-start;width: 50%;}#sk-container-id-1 div.sk-parallel-item:only-child::after {width: 0;}#sk-container-id-1 div.sk-dashed-wrapped {border: 1px dashed gray;margin: 0 0.4em 0.5em 0.4em;box-sizing: border-box;padding-bottom: 0.4em;background-color: white;}#sk-container-id-1 div.sk-label label {font-family: monospace;font-weight: bold;display: inline-block;line-height: 1.2em;}#sk-container-id-1 div.sk-label-container {text-align: center;}#sk-container-id-1 div.sk-container {/* jupyter's `normalize.less` sets `[hidden] { display: none; }` but bootstrap.min.css set `[hidden] { display: none !important; }` so we also need the `!important` here to be able to override the default hidden behavior on the sphinx rendered scikit-learn.org. See: https://github.com/scikit-learn/scikit-learn/issues/21755 */display: inline-block !important;position: relative;}#sk-container-id-1 div.sk-text-repr-fallback {display: none;}</style><div id=\"sk-container-id-1\" class=\"sk-top-container\"><div class=\"sk-text-repr-fallback\"><pre>Pipeline(steps=[(&#x27;tf-idf&#x27;, TfidfVectorizer()), (&#x27;clf&#x27;, MultinomialNB())])</pre><b>In a Jupyter environment, please rerun this cell to show the HTML representation or trust the notebook. <br />On GitHub, the HTML representation is unable to render, please try loading this page with nbviewer.org.</b></div><div class=\"sk-container\" hidden><div class=\"sk-item sk-dashed-wrapped\"><div class=\"sk-label-container\"><div class=\"sk-label sk-toggleable\"><input class=\"sk-toggleable__control sk-hidden--visually\" id=\"sk-estimator-id-1\" type=\"checkbox\" ><label for=\"sk-estimator-id-1\" class=\"sk-toggleable__label sk-toggleable__label-arrow\">Pipeline</label><div class=\"sk-toggleable__content\"><pre>Pipeline(steps=[(&#x27;tf-idf&#x27;, TfidfVectorizer()), (&#x27;clf&#x27;, MultinomialNB())])</pre></div></div></div><div class=\"sk-serial\"><div class=\"sk-item\"><div class=\"sk-estimator sk-toggleable\"><input class=\"sk-toggleable__control sk-hidden--visually\" id=\"sk-estimator-id-2\" type=\"checkbox\" ><label for=\"sk-estimator-id-2\" class=\"sk-toggleable__label sk-toggleable__label-arrow\">TfidfVectorizer</label><div class=\"sk-toggleable__content\"><pre>TfidfVectorizer()</pre></div></div></div><div class=\"sk-item\"><div class=\"sk-estimator sk-toggleable\"><input class=\"sk-toggleable__control sk-hidden--visually\" id=\"sk-estimator-id-3\" type=\"checkbox\" ><label for=\"sk-estimator-id-3\" class=\"sk-toggleable__label sk-toggleable__label-arrow\">MultinomialNB</label><div class=\"sk-toggleable__content\"><pre>MultinomialNB()</pre></div></div></div></div></div></div></div>"
     },
     "execution_count": 19,
     "metadata": {},
     "output_type": "execute_result"
    }
   ],
   "source": [
    "from sklearn.feature_extraction.text import TfidfVectorizer\n",
    "from sklearn.naive_bayes import MultinomialNB\n",
    "from sklearn.pipeline import Pipeline\n",
    "\n",
    "# Create a pipeline\n",
    "model_nv = Pipeline([\n",
    "  (\"tf-idf\", TfidfVectorizer()),\n",
    "  (\"clf\", MultinomialNB())\n",
    "])\n",
    "\n",
    "# Fit the pipeline to the training data\n",
    "model_nv.fit(X=train_data[\"text\"], \n",
    "            y=train_labels_encoded)\n",
    "\n",
    "\n"
   ],
   "metadata": {
    "collapsed": false,
    "ExecuteTime": {
     "end_time": "2023-09-24T11:17:56.864407600Z",
     "start_time": "2023-09-24T11:17:53.119656100Z"
    }
   },
   "id": "d49adaca4e07a424"
  },
  {
   "cell_type": "code",
   "execution_count": 20,
   "outputs": [
    {
     "data": {
      "text/plain": "0.7220014570501357"
     },
     "execution_count": 20,
     "metadata": {},
     "output_type": "execute_result"
    }
   ],
   "source": [
    "model_nv.score(X=dev_data[\"text\"],\n",
    "              y=val_labels_encoded\n",
    "              )"
   ],
   "metadata": {
    "collapsed": false,
    "ExecuteTime": {
     "end_time": "2023-09-24T11:17:57.445670800Z",
     "start_time": "2023-09-24T11:17:56.864407600Z"
    }
   },
   "id": "9104179c182052e3"
  },
  {
   "cell_type": "code",
   "execution_count": 21,
   "outputs": [],
   "source": [
    "pred = model_nv.predict(test_data[\"text\"])"
   ],
   "metadata": {
    "collapsed": false,
    "ExecuteTime": {
     "end_time": "2023-09-24T11:17:57.942276Z",
     "start_time": "2023-09-24T11:17:57.421528800Z"
    }
   },
   "id": "1fb5105d3670369f"
  },
  {
   "cell_type": "markdown",
   "source": [
    "> note: so far we got 72% of accuracy we need more experimenting"
   ],
   "metadata": {
    "collapsed": false
   },
   "id": "571c5ddf8389901b"
  },
  {
   "cell_type": "code",
   "execution_count": 22,
   "outputs": [
    {
     "data": {
      "text/plain": "{'accuracy': 71.66052395656938,\n 'precision': 0.7124522262544967,\n 'recall': 0.7166052395656938,\n 'f1': 0.6924182031316956}"
     },
     "execution_count": 22,
     "metadata": {},
     "output_type": "execute_result"
    }
   ],
   "source": [
    "base_accuracy = hf.accuracy_of_model(test_labels_encoded,pred)\n",
    "base_accuracy # reference accuracy for further experimenting"
   ],
   "metadata": {
    "collapsed": false,
    "ExecuteTime": {
     "end_time": "2023-09-24T11:18:00.439427600Z",
     "start_time": "2023-09-24T11:18:00.392130500Z"
    }
   },
   "id": "bbde0a46cbbe72b0"
  },
  {
   "cell_type": "markdown",
   "source": [
    " #### Deep Sequence Models \n",
    " \n",
    "   * Goal is preparing Data in a proper form\n",
    "   * and getting insights so that we can customize model for best result \n"
   ],
   "metadata": {
    "collapsed": false
   },
   "id": "ac5cd5f74439deb3"
  },
  {
   "cell_type": "markdown",
   "source": [
    "##### Data insights \n",
    " * **avg sentence length in train data**"
   ],
   "metadata": {
    "collapsed": false
   },
   "id": "65e33f5dd60bd856"
  },
  {
   "cell_type": "code",
   "execution_count": 23,
   "outputs": [],
   "source": [
    "temp = []\n",
    "\n",
    "for sentence in train_data[\"text\"]:\n",
    "    \n",
    "    sentence_word_count = len(sentence.split(\" \"))\n",
    "    temp.append(sentence_word_count)\n",
    "    # print(temp)\n",
    "avg_sent_word_count = np.mean(temp)\n",
    "max_sentence_word_count = np.median(temp)\n"
   ],
   "metadata": {
    "collapsed": false,
    "ExecuteTime": {
     "end_time": "2023-09-24T11:18:02.330415100Z",
     "start_time": "2023-09-24T11:18:01.982815700Z"
    }
   },
   "id": "ff267e316e8359c6"
  },
  {
   "cell_type": "code",
   "execution_count": 24,
   "outputs": [
    {
     "name": "stdout",
     "output_type": "stream",
     "text": [
      "avg no of words in sentence: 26.338069633612548\n",
      "median of sentence length: 23.0\n"
     ]
    }
   ],
   "source": [
    "print(f\"avg no of words in sentence: {avg_sent_word_count}\")\n",
    "print(f\"median of sentence length: {max_sentence_word_count}\")\n"
   ],
   "metadata": {
    "collapsed": false,
    "ExecuteTime": {
     "end_time": "2023-09-24T11:18:02.409010300Z",
     "start_time": "2023-09-24T11:18:02.409010300Z"
    }
   },
   "id": "8f4c95c1d7eb6faa"
  },
  {
   "cell_type": "code",
   "execution_count": 25,
   "outputs": [
    {
     "data": {
      "text/plain": "(array([4.6220e+03, 2.0864e+04, 3.5049e+04, 3.6423e+04, 2.8878e+04,\n        2.0005e+04, 1.2593e+04, 7.6670e+03, 4.8980e+03, 2.6580e+03,\n        2.0780e+03, 1.3590e+03, 8.9500e+02, 6.0000e+02, 4.4400e+02,\n        2.9200e+02, 2.0300e+02, 1.2500e+02, 1.0000e+02, 6.5000e+01,\n        4.9000e+01, 3.6000e+01, 2.6000e+01, 2.3000e+01, 1.2000e+01,\n        8.0000e+00, 1.1000e+01, 4.0000e+00, 5.0000e+00, 4.0000e+00,\n        3.0000e+00, 3.0000e+00, 6.0000e+00, 2.0000e+00, 5.0000e+00,\n        3.0000e+00, 3.0000e+00, 0.0000e+00, 2.0000e+00, 0.0000e+00,\n        1.0000e+00, 2.0000e+00, 0.0000e+00, 0.0000e+00, 0.0000e+00,\n        0.0000e+00, 1.0000e+00, 0.0000e+00, 0.0000e+00, 1.0000e+00]),\n array([  1. ,   6.9,  12.8,  18.7,  24.6,  30.5,  36.4,  42.3,  48.2,\n         54.1,  60. ,  65.9,  71.8,  77.7,  83.6,  89.5,  95.4, 101.3,\n        107.2, 113.1, 119. , 124.9, 130.8, 136.7, 142.6, 148.5, 154.4,\n        160.3, 166.2, 172.1, 178. , 183.9, 189.8, 195.7, 201.6, 207.5,\n        213.4, 219.3, 225.2, 231.1, 237. , 242.9, 248.8, 254.7, 260.6,\n        266.5, 272.4, 278.3, 284.2, 290.1, 296. ]),\n <BarContainer object of 50 artists>)"
     },
     "execution_count": 25,
     "metadata": {},
     "output_type": "execute_result"
    },
    {
     "data": {
      "text/plain": "<Figure size 640x480 with 1 Axes>",
      "image/png": "[encoded data removed]"
     },
     "metadata": {},
     "output_type": "display_data"
    }
   ],
   "source": [
    "plt.hist(temp,bins=50,stacked=True)"
   ],
   "metadata": {
    "collapsed": false,
    "ExecuteTime": {
     "end_time": "2023-09-24T11:18:04.250384200Z",
     "start_time": "2023-09-24T11:18:03.058684300Z"
    }
   },
   "id": "608ab55fdbdb023"
  },
  {
   "cell_type": "markdown",
   "source": [
    "💡 most sentence length is leass than 50 mostly around 25"
   ],
   "metadata": {
    "collapsed": false
   },
   "id": "5837ae8e7baa51f7"
  },
  {
   "cell_type": "markdown",
   "source": [
    "  * **Text Vectorization length we will take to 60 using above hist**"
   ],
   "metadata": {
    "collapsed": false
   },
   "id": "e1b59b0d2475d178"
  },
  {
   "cell_type": "code",
   "execution_count": 26,
   "outputs": [],
   "source": [
    "from tensorflow import keras\n"
   ],
   "metadata": {
    "collapsed": false,
    "ExecuteTime": {
     "end_time": "2023-09-24T11:18:06.708251Z",
     "start_time": "2023-09-24T11:18:06.707743800Z"
    }
   },
   "id": "1d97de9db78d868b"
  },
  {
   "cell_type": "code",
   "execution_count": 27,
   "outputs": [],
   "source": [
    "MAX_TOKEN = 68000 # from paper \n",
    "otp_seq_ln = 60\n",
    "text_vectorizer_layer = keras.layers.TextVectorization(max_tokens=MAX_TOKEN,\n",
    "                                                 output_sequence_length=otp_seq_ln\n",
    ")\n",
    "text_vectorizer_layer.adapt(train_data[\"text\"])"
   ],
   "metadata": {
    "collapsed": false,
    "ExecuteTime": {
     "end_time": "2023-09-24T11:18:15.166881Z",
     "start_time": "2023-09-24T11:18:07.611493400Z"
    }
   },
   "id": "3f7453f814844d69"
  },
  {
   "cell_type": "code",
   "execution_count": 28,
   "outputs": [
    {
     "data": {
      "text/plain": "<tf.Tensor: shape=(1, 60), dtype=int64, numpy=\narray([[15664,   388,  2650,     5,   237,     0,     0,     0,     0,\n            0,     0,     0,     0,     0,     0,     0,     0,     0,\n            0,     0,     0,     0,     0,     0,     0,     0,     0,\n            0,     0,     0,     0,     0,     0,     0,     0,     0,\n            0,     0,     0,     0,     0,     0,     0,     0,     0,\n            0,     0,     0,     0,     0,     0,     0,     0,     0,\n            0,     0,     0,     0,     0,     0]], dtype=int64)>"
     },
     "execution_count": 28,
     "metadata": {},
     "output_type": "execute_result"
    }
   ],
   "source": [
    "text_vectorizer_layer([\"ok i am in hospital\"]) # mapped sentence to integer"
   ],
   "metadata": {
    "collapsed": false,
    "ExecuteTime": {
     "end_time": "2023-09-24T11:18:15.219162Z",
     "start_time": "2023-09-24T11:18:15.171890800Z"
    }
   },
   "id": "6c97beeef4a591cd"
  },
  {
   "cell_type": "code",
   "execution_count": 29,
   "outputs": [],
   "source": [
    "total_words_saved = len(text_vectorizer_layer.get_vocabulary())\n",
    "# Embedding layer \n",
    "embedding_layer = keras.layers.Embedding(total_words_saved,\n",
    "                       output_dim=512,\n",
    "                       mask_zero=True,\n",
    "                       name=\"Token_Embadding_Layer\"\n",
    "                       )\n"
   ],
   "metadata": {
    "collapsed": false,
    "ExecuteTime": {
     "end_time": "2023-09-24T11:18:25.484569200Z",
     "start_time": "2023-09-24T11:18:25.343907400Z"
    }
   },
   "id": "6adbb2e2802dcd5c"
  },
  {
   "cell_type": "code",
   "execution_count": 30,
   "outputs": [
    {
     "data": {
      "text/plain": "<tf.Tensor: shape=(1, 60), dtype=int64, numpy=\narray([[  421,    60,     3, 15112,    12,   112,    31,   813,    37,\n           74,     5, 23910,     3,  8264,  1777,    15,  1292,     0,\n            0,     0,     0,     0,     0,     0,     0,     0,     0,\n            0,     0,     0,     0,     0,     0,     0,     0,     0,\n            0,     0,     0,     0,     0,     0,     0,     0,     0,\n            0,     0,     0,     0,     0,     0,     0,     0,     0,\n            0,     0,     0,     0,     0,     0]], dtype=int64)>"
     },
     "execution_count": 30,
     "metadata": {},
     "output_type": "execute_result"
    }
   ],
   "source": [
    "temp_sent = np.random.choice(train_data[\"text\"])\n",
    "tokened = text_vectorizer_layer([temp_sent])\n",
    "tokened"
   ],
   "metadata": {
    "collapsed": false,
    "ExecuteTime": {
     "end_time": "2023-09-24T11:18:26.196777900Z",
     "start_time": "2023-09-24T11:18:26.165068700Z"
    }
   },
   "id": "371a5f083f08ed43"
  },
  {
   "cell_type": "code",
   "execution_count": 31,
   "outputs": [
    {
     "name": "stdout",
     "output_type": "stream",
     "text": [
      "sentence:\n",
      "comparison participants and cocaine-dependent patients did not show significant difference in amygdalar and hippocampal volumes at pre-treatment .\n",
      "\n",
      "Tokened sentence\n",
      "tf.Tensor(\n",
      "[[  421    60     3 15112    12   112    31   813    37    74     5 23910\n",
      "      3  8264  1777    15  1292     0     0     0     0     0     0     0\n",
      "      0     0     0     0     0     0     0     0     0     0     0     0\n",
      "      0     0     0     0     0     0     0     0     0     0     0     0\n",
      "      0     0     0     0     0     0     0     0     0     0     0     0]], shape=(1, 60), dtype=int64)\n",
      "Embedded Sentece:\n",
      "tf.Tensor(\n",
      "[[[-2.2067619e-02 -1.8734224e-03 -3.9786182e-02 ...  1.4142897e-02\n",
      "   -1.1366747e-02  1.4084306e-02]\n",
      "  [ 4.8878778e-02  2.3485389e-02  4.3083694e-02 ...  6.5900385e-05\n",
      "   -3.1334780e-02  2.8428342e-02]\n",
      "  [-3.2796338e-02 -5.4575205e-03  6.8069212e-03 ...  2.1179590e-02\n",
      "   -4.5183189e-03 -2.3555338e-02]\n",
      "  ...\n",
      "  [ 2.4709925e-03  1.4091518e-02  5.8771744e-03 ... -3.5961069e-02\n",
      "   -3.9810933e-02 -3.0510092e-02]\n",
      "  [ 2.4709925e-03  1.4091518e-02  5.8771744e-03 ... -3.5961069e-02\n",
      "   -3.9810933e-02 -3.0510092e-02]\n",
      "  [ 2.4709925e-03  1.4091518e-02  5.8771744e-03 ... -3.5961069e-02\n",
      "   -3.9810933e-02 -3.0510092e-02]]], shape=(1, 60, 512), dtype=float32)\n"
     ]
    }
   ],
   "source": [
    "print(\"sentence:\")\n",
    "print(temp_sent+ \"\\n\")\n",
    "print(\"Tokened sentence\")\n",
    "print(tokened)\n",
    "print(\"Embedded Sentece:\")\n",
    "print(embedding_layer(tokened)) # each word is represented by 512 long vector"
   ],
   "metadata": {
    "collapsed": false,
    "ExecuteTime": {
     "end_time": "2023-09-24T11:18:27.194254900Z",
     "start_time": "2023-09-24T11:18:26.893834100Z"
    }
   },
   "id": "ae045d91f5050c7c"
  },
  {
   "cell_type": "code",
   "execution_count": 32,
   "outputs": [],
   "source": [
    "from tensorflow import data"
   ],
   "metadata": {
    "collapsed": false,
    "ExecuteTime": {
     "end_time": "2023-09-24T11:18:27.971331100Z",
     "start_time": "2023-09-24T11:18:27.959320900Z"
    }
   },
   "id": "9301461d65ce91b8"
  },
  {
   "cell_type": "code",
   "execution_count": 33,
   "outputs": [
    {
     "data": {
      "text/plain": "<_TensorSliceDataset element_spec=(TensorSpec(shape=(), dtype=tf.string, name=None), TensorSpec(shape=(5,), dtype=tf.float64, name=None))>"
     },
     "execution_count": 33,
     "metadata": {},
     "output_type": "execute_result"
    }
   ],
   "source": [
    "train_dataset = data.Dataset.from_tensor_slices((train_data[\"text\"],train_labels_one_hot)) # we ll use one hot encoding \n",
    "val_dataset = data.Dataset.from_tensor_slices((dev_data[\"text\"],val_labels_one_hot)) # we ll use one hot encoding \n",
    "\n",
    "test_dataset = data.Dataset.from_tensor_slices((test_data[\"text\"],test_labels_one_hot)) # we ll use one hot encoding \n",
    "\n",
    "train_dataset\n",
    "# fast dataloading"
   ],
   "metadata": {
    "collapsed": false,
    "ExecuteTime": {
     "end_time": "2023-09-24T11:18:28.617584100Z",
     "start_time": "2023-09-24T11:18:28.545590700Z"
    }
   },
   "id": "4bdd0ad43867956e"
  },
  {
   "cell_type": "code",
   "execution_count": 34,
   "outputs": [],
   "source": [
    "train_dataset = train_dataset.batch(32).prefetch(data.AUTOTUNE)\n",
    "val_dataset = val_dataset.batch(32).prefetch(data.AUTOTUNE)\n",
    "test_dataset = test_dataset.batch(32).prefetch(data.AUTOTUNE)\n"
   ],
   "metadata": {
    "collapsed": false,
    "ExecuteTime": {
     "end_time": "2023-09-24T11:18:29.231205900Z",
     "start_time": "2023-09-24T11:18:29.199464600Z"
    }
   },
   "id": "36d63fb21b350eb1"
  },
  {
   "cell_type": "markdown",
   "source": [
    "##### MODEL"
   ],
   "metadata": {
    "collapsed": false
   },
   "id": "24b4c0414a211344"
  },
  {
   "cell_type": "code",
   "execution_count": 35,
   "outputs": [],
   "source": [
    "# from tensorflow import string as tfstr\n",
    "# \n",
    "# inputs = keras.layers.Input(shape=(1,),dtype=tfstr)\n",
    "# text_vectors = text_vectorizer_layer(inputs)\n",
    "# embedded_output = embedding_layer(text_vectors)\n",
    "# x = keras.layers.Conv1D(64,kernel_size=5, padding=\"same\",activation=\"relu\")(embedded_output)\n",
    "# x = keras.layers.GlobalMaxPool1D()(x)\n",
    "# outputs = keras.layers.Dense(num_classes,activation=\"softmax\")(x)\n",
    "# \n",
    "# modelConv1DUntrainedEmbedding = keras.Model(inputs,outputs)\n",
    "# \n",
    "# modelConv1DUntrainedEmbedding.compile(loss=\"categorical_crossentropy\",\n",
    "#                                       optimizer=keras.optimizers.Adam(),\n",
    "#                                       metrics=[\"accuracy\"])\n"
   ],
   "metadata": {
    "collapsed": false,
    "ExecuteTime": {
     "end_time": "2023-09-24T11:18:31.084525200Z",
     "start_time": "2023-09-24T11:18:31.084525200Z"
    }
   },
   "id": "f662ab2b4b3f93cf"
  },
  {
   "cell_type": "code",
   "execution_count": 36,
   "outputs": [],
   "source": [
    "# history_model1 = modelConv1DUntrainedEmbedding.fit(train_dataset,\n",
    "#                                                    steps_per_epoch=int(0.1*len(train_dataset)),\n",
    "#                                                    epochs=3,\n",
    "#                                                    validation_data=val_dataset,\n",
    "#                                                    validation_steps=int(0.1*len(val_dataset)),\n",
    "#                                                    )"
   ],
   "metadata": {
    "collapsed": false,
    "ExecuteTime": {
     "end_time": "2023-09-24T11:18:31.854320100Z",
     "start_time": "2023-09-24T11:18:31.854320100Z"
    }
   },
   "id": "30122f6bbca56578"
  },
  {
   "cell_type": "code",
   "execution_count": 37,
   "outputs": [],
   "source": [
    "# print(f\"Accuracy on validation dataset: {modelConv1DUntrainedEmbedding.evaluate(val_dataset)}\")\n",
    "# \n",
    "# test_dataset_prediction = modelConv1DUntrainedEmbedding.predict(test_dataset)\n",
    "# pred_model1 =  np.argmax(test_dataset_prediction,axis=1)\n",
    "# print(hf.accuracy_of_model(np.argmax(test_labels,axis=1),pred_model1 ))"
   ],
   "metadata": {
    "collapsed": false,
    "ExecuteTime": {
     "end_time": "2023-09-24T11:18:32.618618500Z",
     "start_time": "2023-09-24T11:18:32.618618500Z"
    }
   },
   "id": "bf1d92927c45f765"
  },
  {
   "cell_type": "markdown",
   "source": [],
   "metadata": {
    "collapsed": false
   },
   "id": "6c87aaf97e9e13c2"
  },
  {
   "cell_type": "markdown",
   "source": [
    "##### comparison base to model 1 on test data\n",
    "   | Model                    | Accuracy |   Precision   | Recall | f1 |\n",
    "    |--------------------------|----------|:-------------:|-------:|------:|\n",
    "    | base                  | 71.6605 | 0.71245|  0.71660 | 0.692418 |\n",
    "    | conv1D trained embedding |  79.430222 |   0.797181    |    0.79430 | 0.79256 |\n",
    "    \n",
    "> note : 80% accuracy on training dataset\n",
    "commented as it is taking lot of time to fit\n",
    " "
   ],
   "metadata": {
    "collapsed": false
   },
   "id": "3682d65a8f75bd"
  },
  {
   "cell_type": "code",
   "execution_count": 38,
   "outputs": [],
   "source": [
    "# universal sentence encoder downloaded from tensorflow hub\n",
    "import tensorflow_hub as hub\n",
    "embedding_layer_tfhub = hub.KerasLayer(\"../data/use\")\n",
    "\n",
    "\n",
    "\n",
    "\n"
   ],
   "metadata": {
    "collapsed": false,
    "ExecuteTime": {
     "end_time": "2023-09-24T11:18:41.609617500Z",
     "start_time": "2023-09-24T11:18:34.031815900Z"
    }
   },
   "id": "41076e1835fe3285"
  },
  {
   "cell_type": "markdown",
   "source": [],
   "metadata": {
    "collapsed": false
   },
   "id": "356f7dfa409e3e07"
  },
  {
   "cell_type": "code",
   "execution_count": 38,
   "outputs": [],
   "source": [],
   "metadata": {
    "collapsed": false,
    "ExecuteTime": {
     "end_time": "2023-09-24T11:18:46.120951400Z",
     "start_time": "2023-09-24T11:18:46.120951400Z"
    }
   },
   "id": "bb50a6024e08235b"
  },
  {
   "cell_type": "markdown",
   "source": [
    "##### character level embedding \n"
   ],
   "metadata": {
    "collapsed": false
   },
   "id": "1919376c05adbb87"
  },
  {
   "cell_type": "code",
   "execution_count": 39,
   "outputs": [
    {
     "data": {
      "text/plain": "'o k   g e t   i t'"
     },
     "execution_count": 39,
     "metadata": {},
     "output_type": "execute_result"
    }
   ],
   "source": [
    "def split_sen_to_char(text):\n",
    "    return \" \".join(list(text))\n",
    "\n",
    "split_sen_to_char(\"ok get it\")"
   ],
   "metadata": {
    "collapsed": false,
    "ExecuteTime": {
     "end_time": "2023-09-24T11:18:47.448000300Z",
     "start_time": "2023-09-24T11:18:47.415382300Z"
    }
   },
   "id": "fd9112d1480b8928"
  },
  {
   "cell_type": "code",
   "execution_count": 40,
   "outputs": [],
   "source": [
    "train_chars = [split_sen_to_char(sent) for sent in train_data[\"text\"]]\n",
    "val_chars = [split_sen_to_char(sent) for sent in dev_data[\"text\"]]\n",
    "test_chars = [split_sen_to_char(sent) for sent in test_data[\"text\"]]\n"
   ],
   "metadata": {
    "collapsed": false,
    "ExecuteTime": {
     "end_time": "2023-09-24T11:18:48.913550500Z",
     "start_time": "2023-09-24T11:18:48.140190100Z"
    }
   },
   "id": "5983da5ac8b7bbcb"
  },
  {
   "cell_type": "code",
   "execution_count": 41,
   "outputs": [],
   "source": [
    "len_char = [len(sentence) for sentence in train_chars]\n",
    "mean_len_char = np.mean(len_char)"
   ],
   "metadata": {
    "collapsed": false,
    "ExecuteTime": {
     "end_time": "2023-09-24T11:18:48.957595900Z",
     "start_time": "2023-09-24T11:18:48.913550500Z"
    }
   },
   "id": "347b0c2e60d479d6"
  },
  {
   "cell_type": "code",
   "execution_count": 42,
   "outputs": [
    {
     "name": "stdout",
     "output_type": "stream",
     "text": [
      "Avg no of char in sentence: 297.7297309307441 \n"
     ]
    }
   ],
   "source": [
    "print(f\"Avg no of char in sentence: {mean_len_char} \\n\" )\n",
    "OUTPUT_SEQ_LEN = round(mean_len_char)"
   ],
   "metadata": {
    "collapsed": false,
    "ExecuteTime": {
     "end_time": "2023-09-24T11:18:50.005556100Z",
     "start_time": "2023-09-24T11:18:49.981905900Z"
    }
   },
   "id": "336b0819ee87bec"
  },
  {
   "cell_type": "code",
   "execution_count": 43,
   "outputs": [
    {
     "data": {
      "text/plain": "(array([2.2108e+04, 7.0578e+04, 5.3948e+04, 2.2389e+04, 7.4540e+03,\n        2.2340e+03, 8.0200e+02, 2.8700e+02, 1.1800e+02, 4.9000e+01,\n        2.9000e+01, 1.3000e+01, 8.0000e+00, 5.0000e+00, 1.0000e+00,\n        2.0000e+00, 1.0000e+00, 1.0000e+00, 0.0000e+00, 1.0000e+00]),\n array([1.0000e+00, 1.3950e+02, 2.7800e+02, 4.1650e+02, 5.5500e+02,\n        6.9350e+02, 8.3200e+02, 9.7050e+02, 1.1090e+03, 1.2475e+03,\n        1.3860e+03, 1.5245e+03, 1.6630e+03, 1.8015e+03, 1.9400e+03,\n        2.0785e+03, 2.2170e+03, 2.3555e+03, 2.4940e+03, 2.6325e+03,\n        2.7710e+03]),\n <BarContainer object of 20 artists>)"
     },
     "execution_count": 43,
     "metadata": {},
     "output_type": "execute_result"
    },
    {
     "data": {
      "text/plain": "<Figure size 640x480 with 1 Axes>",
      "image/png": "[encoded data removed]"
     },
     "metadata": {},
     "output_type": "display_data"
    }
   ],
   "source": [
    "plt.hist(len_char, bins = 20)"
   ],
   "metadata": {
    "collapsed": false,
    "ExecuteTime": {
     "end_time": "2023-09-24T11:18:51.758254700Z",
     "start_time": "2023-09-24T11:18:50.728865100Z"
    }
   },
   "id": "2ed314d7c04a0b23"
  },
  {
   "cell_type": "code",
   "execution_count": 44,
   "outputs": [],
   "source": [
    "import string\n",
    "len_all_chars = len(string.ascii_lowercase + string.digits + string.punctuation)\n"
   ],
   "metadata": {
    "collapsed": false,
    "ExecuteTime": {
     "end_time": "2023-09-24T11:18:52.460120300Z",
     "start_time": "2023-09-24T11:18:52.436975100Z"
    }
   },
   "id": "faf81963b786e334"
  },
  {
   "cell_type": "code",
   "execution_count": 45,
   "outputs": [],
   "source": [
    "# token level embeding\n",
    "vectorize_char_level_layer = keras.layers.TextVectorization(max_tokens=len_all_chars,\n",
    "                                                            output_sequence_length=OUTPUT_SEQ_LEN,\n",
    "                                                            name = \"layer_char_level_vectorizeing\"\n",
    "                                                            )\n"
   ],
   "metadata": {
    "collapsed": false,
    "ExecuteTime": {
     "end_time": "2023-09-24T11:18:53.921740300Z",
     "start_time": "2023-09-24T11:18:53.890394600Z"
    }
   },
   "id": "a861f555f6f84b9e"
  },
  {
   "cell_type": "code",
   "execution_count": null,
   "outputs": [],
   "source": [
    "vectorize_char_level_layer.adapt(train_chars)\n",
    "OUTPUT_DIM_CHAR_LEVEL = 25\n",
    "embedding_char_level = keras.layers.Embedding(input_dim=OUTPUT_SEQ_LEN ,\n",
    "                                              output_dim=25,\n",
    "                                              mask_zero=True,\n",
    "                                              name = \"embedding_char_layer\")"
   ],
   "metadata": {
    "collapsed": false,
    "is_executing": true,
    "ExecuteTime": {
     "start_time": "2023-09-24T11:20:37.231719Z"
    }
   },
   "id": "782ef2fee21ca908"
  },
  {
   "cell_type": "code",
   "execution_count": null,
   "outputs": [],
   "source": [
    "# train_char_dataset = data.Dataset.from_tensor_slices((train_chars, train_labels_one_hot)).batch(32).prefetch(data.AUTOTUNE)\n",
    "# val_char_dataset = data.Dataset.from_tensor_slices((val_chars, val_labels_one_hot)).batch(32).prefetch(data.AUTOTUNE)\n"
   ],
   "metadata": {
    "collapsed": false,
    "ExecuteTime": {
     "start_time": "2023-09-24T10:58:52.685159500Z"
    }
   },
   "id": "f6412235c441b6dc"
  },
  {
   "cell_type": "markdown",
   "source": [
    "##### Multimodal Modal as described in paper"
   ],
   "metadata": {
    "collapsed": false
   },
   "id": "b182c6a0fba25e4b"
  },
  {
   "cell_type": "code",
   "execution_count": 47,
   "outputs": [
    {
     "ename": "NameError",
     "evalue": "name 'embedding_char_level' is not defined",
     "output_type": "error",
     "traceback": [
      "\u001B[1;31m---------------------------------------------------------------------------\u001B[0m",
      "\u001B[1;31mNameError\u001B[0m                                 Traceback (most recent call last)",
      "Cell \u001B[1;32mIn[47], line 18\u001B[0m\n\u001B[0;32m     11\u001B[0m \u001B[38;5;66;03m# char level encodding\u001B[39;00m\n\u001B[0;32m     15\u001B[0m input_char \u001B[38;5;241m=\u001B[39m keras\u001B[38;5;241m.\u001B[39mlayers\u001B[38;5;241m.\u001B[39mInput(shape\u001B[38;5;241m=\u001B[39m(\u001B[38;5;241m1\u001B[39m,),\n\u001B[0;32m     16\u001B[0m                                  dtype\u001B[38;5;241m=\u001B[39mtfstr,\n\u001B[0;32m     17\u001B[0m                                 name\u001B[38;5;241m=\u001B[39m\u001B[38;5;124m\"\u001B[39m\u001B[38;5;124mlayer_input_char\u001B[39m\u001B[38;5;124m\"\u001B[39m)\n\u001B[1;32m---> 18\u001B[0m layer_embedding_char \u001B[38;5;241m=\u001B[39m embedding_char_level(input_char)\n\u001B[0;32m     20\u001B[0m layer_output_char_bidir \u001B[38;5;241m=\u001B[39m keras\u001B[38;5;241m.\u001B[39mlayers\u001B[38;5;241m.\u001B[39mBidirectional(keras\u001B[38;5;241m.\u001B[39mlayers\u001B[38;5;241m.\u001B[39mLSTM())(layer_embedding_char)\n\u001B[0;32m     21\u001B[0m model_char \u001B[38;5;241m=\u001B[39m keras\u001B[38;5;241m.\u001B[39mModel(inputs \u001B[38;5;241m=\u001B[39m input_char,\n\u001B[0;32m     22\u001B[0m                           outputs \u001B[38;5;241m=\u001B[39m layer_output_char_bidir)\n",
      "\u001B[1;31mNameError\u001B[0m: name 'embedding_char_level' is not defined"
     ]
    }
   ],
   "source": [
    "from tensorflow import string as tfstr\n",
    "\n",
    "# token lavel encoding\n",
    "layer_input_token = keras.layers.Input(shape=[],\n",
    "                                 dtype=tfstr,name=\"layer_input_token\")\n",
    "layer_embedding_token = embedding_layer_tfhub(layer_input_token)\n",
    "layer_output_token = keras.layers.Dense(128,activation=\"relu\")(layer_embedding_token)\n",
    "model_token = keras.Model(inputs = layer_input_token,\n",
    "                          outputs = layer_output_token)\n",
    "\n",
    "# char level encodding\n",
    "\n",
    "\n",
    "\n",
    "input_char = keras.layers.Input(shape=(1,),\n",
    "                                 dtype=tfstr,\n",
    "                                name=\"layer_input_char\")\n",
    "layer_embedding_char = embedding_char_level(input_char)\n",
    "\n",
    "layer_output_char_bidir = keras.layers.Bidirectional(keras.layers.LSTM())(layer_embedding_char)\n",
    "model_char = keras.Model(inputs = input_char,\n",
    "                          outputs = layer_output_char_bidir)\n",
    "\n",
    "# concatenation \n",
    "\n",
    "token_char_concat = keras.layers.Concatenate(name=\"token_char_hybrid\")(model_token.output,model_char.output)\n",
    "\n",
    "\n",
    "combined_dropout = keras.layers.Dropout(0.5)(token_char_concat)\n",
    "combined_dense = keras.layers.Dense(200, activation=\"relu\")(combined_dropout) # slightly different to Figure 1 due to different shapes of token/char embedding layers\n",
    "final_dropout = keras.layers.Dropout(0.5)(combined_dense)\n",
    "output_layer = keras.layers.Dense(num_classes, activation=\"softmax\")(final_dropout)\n",
    "\n",
    "# 5. Construct model with char and token inputs\n",
    "model_token_and_char = keras.Model(inputs=[model_token.input, model_char.input],\n",
    "                         outputs=output_layer,\n",
    "                         name=\"model_token_and_char_embeddings\")\n"
   ],
   "metadata": {
    "collapsed": false,
    "ExecuteTime": {
     "end_time": "2023-09-24T11:01:18.194692Z",
     "start_time": "2023-09-24T11:01:16.232176Z"
    }
   },
   "id": "bac1350a85db8f8e"
  },
  {
   "cell_type": "code",
   "execution_count": null,
   "outputs": [],
   "source": [],
   "metadata": {
    "collapsed": false,
    "ExecuteTime": {
     "start_time": "2023-09-24T10:58:52.693337Z"
    }
   },
   "id": "c1baed2f76c86f9f"
  }
 ],
 "metadata": {
  "kernelspec": {
   "display_name": "Python 3",
   "language": "python",
   "name": "python3"
  },
  "language_info": {
   "codemirror_mode": {
    "name": "ipython",
    "version": 2
   },
   "file_extension": ".py",
   "mimetype": "text/x-python",
   "name": "python",
   "nbconvert_exporter": "python",
   "pygments_lexer": "ipython2",
   "version": "2.7.6"
  }
 },
 "nbformat": 4,
 "nbformat_minor": 5
}
