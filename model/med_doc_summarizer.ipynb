{
 "cells": [
  {
   "cell_type": "markdown",
   "source": [
    "### NLP/NLU Model Which summerizes Medical Research Paper which makes them easier to read for Student\n",
    "* In this Model We are Replicating Model proposed in paper [2017 PubMed 200k RCT](https://arxiv.org/abs/1710.06071)\n",
    "* Dateset is freely available at [GITHUB](https://github.com/Franck-Dernoncourt/pubmed-rct)"
   ],
   "metadata": {
    "collapsed": false
   },
   "id": "a86065325101b511"
  },
  {
   "cell_type": "code",
   "execution_count": 1,
   "id": "initial_id",
   "metadata": {
    "collapsed": true,
    "ExecuteTime": {
     "end_time": "2023-09-15T21:17:24.131253900Z",
     "start_time": "2023-09-15T21:17:21.158317100Z"
    }
   },
   "outputs": [],
   "source": [
    "from helpers import helper as hf\n",
    "import pandas as pd\n",
    "\n",
    "\n",
    "\n"
   ]
  },
  {
   "cell_type": "code",
   "execution_count": 2,
   "outputs": [],
   "source": [
    "from tensorflow import constant"
   ],
   "metadata": {
    "collapsed": false,
    "ExecuteTime": {
     "end_time": "2023-09-15T21:17:31.350426800Z",
     "start_time": "2023-09-15T21:17:24.133253600Z"
    }
   },
   "id": "73c13183a458083c"
  },
  {
   "cell_type": "code",
   "execution_count": 3,
   "outputs": [],
   "source": [
    "data_dir = \"../data/pubmed-rct-master/PubMed_20k_RCT_numbers_replaced_with_at_sign\""
   ],
   "metadata": {
    "collapsed": false,
    "ExecuteTime": {
     "end_time": "2023-09-15T21:17:31.368349200Z",
     "start_time": "2023-09-15T21:17:31.355732500Z"
    }
   },
   "id": "be30255869220cea"
  },
  {
   "cell_type": "code",
   "execution_count": 4,
   "outputs": [],
   "source": [
    "train_text_lines = hf.read_lines_from_txt(data_dir+\"/train.txt\")\n",
    "test_text_lines = hf.read_lines_from_txt(data_dir+\"/test.txt\")\n",
    "dev_text_lines = hf.read_lines_from_txt(data_dir+\"/dev.txt\")"
   ],
   "metadata": {
    "collapsed": false,
    "ExecuteTime": {
     "end_time": "2023-09-15T21:17:31.633809500Z",
     "start_time": "2023-09-15T21:17:31.365354Z"
    }
   },
   "id": "6218c653d85de43a"
  },
  {
   "cell_type": "code",
   "execution_count": 5,
   "outputs": [],
   "source": [
    "train_data_dic = hf.extract_para(train_text_lines)\n",
    "test_data_dic = hf.extract_para(test_text_lines)\n",
    "dev_data_dic = hf.extract_para(dev_text_lines)\n"
   ],
   "metadata": {
    "collapsed": false,
    "ExecuteTime": {
     "end_time": "2023-09-15T21:17:32.342848700Z",
     "start_time": "2023-09-15T21:17:31.637818900Z"
    }
   },
   "id": "91d8258b2d6f830"
  },
  {
   "cell_type": "markdown",
   "source": [
    "* Data Modeling\n",
    "```\n",
    "# object return structure\n",
    "\n",
    "    return dict:\n",
    "    {\n",
    "        \"total_para\":\n",
    "        0:\n",
    "        1:\n",
    "        .\n",
    "        .\n",
    "        .\n",
    "    }\n",
    "\n",
    "\n",
    "    0 indexed deic structure\n",
    "    {\n",
    "        \"entire_para\": list of dic object containing target, text eg. [ { target:\n",
    "                                                                          text:\n",
    "                                                                         },\n",
    "                                                                         {\n",
    "                                                                                ..  \n",
    "                                                                         }\n",
    "                                                                       ]\n",
    "        \"total_lines\":total lines in para\n",
    "\n",
    "    }\n",
    "```"
   ],
   "metadata": {
    "collapsed": false
   },
   "id": "ac7b7496c05a341e"
  },
  {
   "cell_type": "code",
   "execution_count": 6,
   "outputs": [
    {
     "name": "stdout",
     "output_type": "stream",
     "text": [
      "train:  15000 test: 2500 test: 2500\n"
     ]
    }
   ],
   "source": [
    "print( \"train: \", train_data_dic[\"total_para\"], \"test:\", \n",
    "test_data_dic[\"total_para\"], \"test:\", \n",
    "dev_data_dic[\"total_para\"]  )"
   ],
   "metadata": {
    "collapsed": false,
    "ExecuteTime": {
     "end_time": "2023-09-15T21:17:32.367173600Z",
     "start_time": "2023-09-15T21:17:32.347868400Z"
    }
   },
   "id": "17ed48228707491c"
  },
  {
   "cell_type": "code",
   "execution_count": 7,
   "outputs": [
    {
     "data": {
      "text/plain": "False"
     },
     "execution_count": 7,
     "metadata": {},
     "output_type": "execute_result"
    }
   ],
   "source": [
    "len(dev_data_dic[3][\"entire_para\"]) == dev_data_dic[3][\"total_lines\"]"
   ],
   "metadata": {
    "collapsed": false,
    "ExecuteTime": {
     "end_time": "2023-09-15T21:17:32.461578500Z",
     "start_time": "2023-09-15T21:17:32.367173600Z"
    }
   },
   "id": "9695baed1eaf4fc1"
  },
  {
   "cell_type": "code",
   "execution_count": 8,
   "outputs": [
    {
     "data": {
      "text/plain": "{'entire_para': [{'target': 'BACKGROUND',\n   'text': 'minimally invasive endovascular aneurysm repair ( evar ) could be a surgical technique that improves outcome of patients with ruptured abdominal aortic aneurysm ( raaa ) .',\n   'line_number': 0},\n  {'target': 'BACKGROUND',\n   'text': 'the aim of this study was to analyse the cost-effectiveness and cost-utility of evar compared with standard open repair ( or ) in the treatment of raaa , with costs per @-day and @-month survivor as outcome parameters .',\n   'line_number': 1},\n  {'target': 'METHODS',\n   'text': 'resource use was determined from the amsterdam acute aneurysm ( ajax ) trial , a multicentre randomized trial comparing evar with or in patients with raaa .',\n   'line_number': 2},\n  {'target': 'METHODS',\n   'text': 'the analysis was performed from a provider perspective .',\n   'line_number': 3},\n  {'target': 'METHODS',\n   'text': 'all costs were calculated as if all patients had been treated in the same hospital ( onze lieve vrouwe gasthuis , teaching hospital ) .',\n   'line_number': 4},\n  {'target': 'RESULTS',\n   'text': 'a total of @ patients were randomized .',\n   'line_number': 5},\n  {'target': 'RESULTS',\n   'text': 'the @-day mortality rate was @ per cent after evar and @ per cent for or : absolute risk reduction ( arr ) @ ( @ per cent confidence interval ( c.i. ) -@ to @ ) per cent .',\n   'line_number': 6},\n  {'target': 'RESULTS',\n   'text': 'at @months , the total mortality rate for evar was @ per cent , compared with @ per cent among those assigned to or : arr @ ( -@ to @ ) per cent .',\n   'line_number': 7},\n  {'target': 'RESULTS',\n   'text': 'the mean cost difference between evar and or was @ ( @ per cent c.i. -@ to @,@ ) at @days and @,@ ( -@ to @,@ ) at @months .',\n   'line_number': 8},\n  {'target': 'RESULTS',\n   'text': 'the incremental cost-effectiveness ratio per prevented death was @,@ at @days and @,@ at @months .',\n   'line_number': 9},\n  {'target': 'RESULTS',\n   'text': 'there was no significant difference in quality of life between evar and or .',\n   'line_number': 10},\n  {'target': 'RESULTS',\n   'text': 'nor was evar superior regarding cost-utility .',\n   'line_number': 11},\n  {'target': 'CONCLUSIONS',\n   'text': 'evar may be more effective for raaa , but its increased costs mean that it is unaffordable based on current standards of societal willingness-to-pay for health gains .',\n   'line_number': 12},\n  None],\n 'total_lines': 13}"
     },
     "execution_count": 8,
     "metadata": {},
     "output_type": "execute_result"
    }
   ],
   "source": [
    "test_data_dic[2]"
   ],
   "metadata": {
    "collapsed": false,
    "ExecuteTime": {
     "end_time": "2023-09-15T21:17:32.465110500Z",
     "start_time": "2023-09-15T21:17:32.397095Z"
    }
   },
   "id": "46cc6a59ed70edf0"
  },
  {
   "cell_type": "code",
   "execution_count": 9,
   "outputs": [
    {
     "data": {
      "text/plain": "{'entire_para': [{'target': 'OBJECTIVE',\n   'text': 'to determine whether plasma sclerostin levels are affected by applying whole-body vibration treatments .',\n   'line_number': 0},\n  {'target': 'METHODS',\n   'text': 'following a pilot study , the pretsent prospective , randomized , controlled single-blind study was performed on @ healthy volunteer women ( ages @ to @ years ) .',\n   'line_number': 1},\n  {'target': 'METHODS',\n   'text': 'subjects were randomly divided into @ groups , and whole-body vibration was applied to the treatment group but not to the controls .',\n   'line_number': 2},\n  {'target': 'METHODS',\n   'text': 'the plasma sclerostin levels were measured before the treatment and at the @th minute after whole-body vibration on the @st , @nd , and @th days of application .',\n   'line_number': 3},\n  {'target': 'RESULTS',\n   'text': 'the plasma sclerostin level measured at @ min after the whole-body vibration treatment increased @ % ( p = @ ) on the @st day and decreased @ % ( p = @ ) on the @th day in the whole-body vibration group .',\n   'line_number': 4},\n  {'target': 'RESULTS',\n   'text': 'in the control group , there was no change in the plasma sclerostin level at any time .',\n   'line_number': 5},\n  {'target': 'RESULTS',\n   'text': 'a progressive increase in baseline plasma sclerostin levels during the @ days of vibration sessions was also found .',\n   'line_number': 6},\n  {'target': 'CONCLUSIONS',\n   'text': 'our study demonstrated that whole-body vibration can change plasma sclerostin levels , and that this change is detectable @ min after whole-body vibration treatments .',\n   'line_number': 7},\n  None],\n 'total_lines': 8}"
     },
     "execution_count": 9,
     "metadata": {},
     "output_type": "execute_result"
    }
   ],
   "source": [
    "test_data_dic[80]"
   ],
   "metadata": {
    "collapsed": false,
    "ExecuteTime": {
     "end_time": "2023-09-15T21:17:32.467107900Z",
     "start_time": "2023-09-15T21:17:32.425845100Z"
    }
   },
   "id": "abc5c66fd8b8460b"
  },
  {
   "cell_type": "code",
   "execution_count": 10,
   "outputs": [],
   "source": [
    "dev_data = pd.DataFrame(hf.make_list_of_all_labeled_sentences(dev_data_dic))\n",
    "test_data = pd.DataFrame(hf.make_list_of_all_labeled_sentences(test_data_dic))\n",
    "train_data = pd.DataFrame(hf.make_list_of_all_labeled_sentences(train_data_dic))\n",
    "\n",
    "\n",
    "\n"
   ],
   "metadata": {
    "collapsed": false,
    "ExecuteTime": {
     "end_time": "2023-09-15T21:17:32.799748300Z",
     "start_time": "2023-09-15T21:17:32.440482800Z"
    }
   },
   "id": "153ffc84233b095f"
  },
  {
   "cell_type": "code",
   "execution_count": 11,
   "outputs": [
    {
     "data": {
      "text/plain": "         target                                               text  \\\n0     OBJECTIVE  to investigate the efficacy of @ weeks of dail...   \n1       METHODS  a total of @ patients with primary knee oa wer...   \n2       METHODS  outcome measures included pain reduction and i...   \n3       METHODS  pain was assessed using the visual analog pain...   \n4       METHODS  secondary outcome measures included the wester...   \n5       METHODS  serum levels of interleukin @ ( il-@ ) , il-@ ...   \n6       RESULTS  there was a clinically relevant reduction in t...   \n7       RESULTS  the mean difference between treatment arms ( @...   \n8       RESULTS  further , there was a clinically relevant redu...   \n9       RESULTS  these differences remained significant at @ we...   \n10      RESULTS  the outcome measures in rheumatology clinical ...   \n11  CONCLUSIONS  low-dose oral prednisolone had both a short-te...   \n12   BACKGROUND  emotional eating is associated with overeating...   \n13   BACKGROUND  yet , empirical evidence for individual ( trai...   \n14    OBJECTIVE  the aim of this study was to test if attention...   \n15    OBJECTIVE  it was expected that emotional eating is predi...   \n16      METHODS  participants ( n = @ ) were randomly assigned ...   \n17      METHODS  attentional biases for high caloric foods were...   \n18      METHODS  self-reported emotional eating was assessed wi...   \n19      RESULTS  hierarchical multivariate regression modeling ...   \n\n    line_number  \n0             0  \n1             1  \n2             2  \n3             3  \n4             4  \n5             5  \n6             6  \n7             7  \n8             8  \n9             9  \n10           10  \n11           11  \n12            0  \n13            1  \n14            2  \n15            3  \n16            4  \n17            5  \n18            6  \n19            7  ",
      "text/html": "<div>\n<style scoped>\n    .dataframe tbody tr th:only-of-type {\n        vertical-align: middle;\n    }\n\n    .dataframe tbody tr th {\n        vertical-align: top;\n    }\n\n    .dataframe thead th {\n        text-align: right;\n    }\n</style>\n<table border=\"1\" class=\"dataframe\">\n  <thead>\n    <tr style=\"text-align: right;\">\n      <th></th>\n      <th>target</th>\n      <th>text</th>\n      <th>line_number</th>\n    </tr>\n  </thead>\n  <tbody>\n    <tr>\n      <th>0</th>\n      <td>OBJECTIVE</td>\n      <td>to investigate the efficacy of @ weeks of dail...</td>\n      <td>0</td>\n    </tr>\n    <tr>\n      <th>1</th>\n      <td>METHODS</td>\n      <td>a total of @ patients with primary knee oa wer...</td>\n      <td>1</td>\n    </tr>\n    <tr>\n      <th>2</th>\n      <td>METHODS</td>\n      <td>outcome measures included pain reduction and i...</td>\n      <td>2</td>\n    </tr>\n    <tr>\n      <th>3</th>\n      <td>METHODS</td>\n      <td>pain was assessed using the visual analog pain...</td>\n      <td>3</td>\n    </tr>\n    <tr>\n      <th>4</th>\n      <td>METHODS</td>\n      <td>secondary outcome measures included the wester...</td>\n      <td>4</td>\n    </tr>\n    <tr>\n      <th>5</th>\n      <td>METHODS</td>\n      <td>serum levels of interleukin @ ( il-@ ) , il-@ ...</td>\n      <td>5</td>\n    </tr>\n    <tr>\n      <th>6</th>\n      <td>RESULTS</td>\n      <td>there was a clinically relevant reduction in t...</td>\n      <td>6</td>\n    </tr>\n    <tr>\n      <th>7</th>\n      <td>RESULTS</td>\n      <td>the mean difference between treatment arms ( @...</td>\n      <td>7</td>\n    </tr>\n    <tr>\n      <th>8</th>\n      <td>RESULTS</td>\n      <td>further , there was a clinically relevant redu...</td>\n      <td>8</td>\n    </tr>\n    <tr>\n      <th>9</th>\n      <td>RESULTS</td>\n      <td>these differences remained significant at @ we...</td>\n      <td>9</td>\n    </tr>\n    <tr>\n      <th>10</th>\n      <td>RESULTS</td>\n      <td>the outcome measures in rheumatology clinical ...</td>\n      <td>10</td>\n    </tr>\n    <tr>\n      <th>11</th>\n      <td>CONCLUSIONS</td>\n      <td>low-dose oral prednisolone had both a short-te...</td>\n      <td>11</td>\n    </tr>\n    <tr>\n      <th>12</th>\n      <td>BACKGROUND</td>\n      <td>emotional eating is associated with overeating...</td>\n      <td>0</td>\n    </tr>\n    <tr>\n      <th>13</th>\n      <td>BACKGROUND</td>\n      <td>yet , empirical evidence for individual ( trai...</td>\n      <td>1</td>\n    </tr>\n    <tr>\n      <th>14</th>\n      <td>OBJECTIVE</td>\n      <td>the aim of this study was to test if attention...</td>\n      <td>2</td>\n    </tr>\n    <tr>\n      <th>15</th>\n      <td>OBJECTIVE</td>\n      <td>it was expected that emotional eating is predi...</td>\n      <td>3</td>\n    </tr>\n    <tr>\n      <th>16</th>\n      <td>METHODS</td>\n      <td>participants ( n = @ ) were randomly assigned ...</td>\n      <td>4</td>\n    </tr>\n    <tr>\n      <th>17</th>\n      <td>METHODS</td>\n      <td>attentional biases for high caloric foods were...</td>\n      <td>5</td>\n    </tr>\n    <tr>\n      <th>18</th>\n      <td>METHODS</td>\n      <td>self-reported emotional eating was assessed wi...</td>\n      <td>6</td>\n    </tr>\n    <tr>\n      <th>19</th>\n      <td>RESULTS</td>\n      <td>hierarchical multivariate regression modeling ...</td>\n      <td>7</td>\n    </tr>\n  </tbody>\n</table>\n</div>"
     },
     "execution_count": 11,
     "metadata": {},
     "output_type": "execute_result"
    }
   ],
   "source": [
    "train_data.head(20)"
   ],
   "metadata": {
    "collapsed": false,
    "ExecuteTime": {
     "end_time": "2023-09-15T21:17:32.865530600Z",
     "start_time": "2023-09-15T21:17:32.802751300Z"
    }
   },
   "id": "92639d663691fd29"
  },
  {
   "cell_type": "code",
   "execution_count": 12,
   "outputs": [
    {
     "data": {
      "text/plain": "            target                                               text  \\\n0       BACKGROUND  ige sensitization to aspergillus fumigatus and...   \n1       BACKGROUND  it is not clear whether these patients would b...   \n2        OBJECTIVE  we sought to determine whether a @-month cours...   \n3          METHODS  asthmatic patients who were ige sensitized to ...   \n4          METHODS  primary outcomes were improvement in quality o...   \n...            ...                                                ...   \n30193      RESULTS  in patients with uncontrolled or untreated hyp...   \n30194      RESULTS  the mean difference in total ipss and ipss-qua...   \n30195      RESULTS  maximum flow rate , average flow rate , voided...   \n30196  CONCLUSIONS  this study shows that alfuzosin @ mg is effect...   \n30197  CONCLUSIONS  however , in patients with uncontrolled or unt...   \n\n       line_number  \n0                0  \n1                1  \n2                2  \n3                3  \n4                4  \n...            ...  \n30193            7  \n30194            8  \n30195            9  \n30196           10  \n30197           11  \n\n[30198 rows x 3 columns]",
      "text/html": "<div>\n<style scoped>\n    .dataframe tbody tr th:only-of-type {\n        vertical-align: middle;\n    }\n\n    .dataframe tbody tr th {\n        vertical-align: top;\n    }\n\n    .dataframe thead th {\n        text-align: right;\n    }\n</style>\n<table border=\"1\" class=\"dataframe\">\n  <thead>\n    <tr style=\"text-align: right;\">\n      <th></th>\n      <th>target</th>\n      <th>text</th>\n      <th>line_number</th>\n    </tr>\n  </thead>\n  <tbody>\n    <tr>\n      <th>0</th>\n      <td>BACKGROUND</td>\n      <td>ige sensitization to aspergillus fumigatus and...</td>\n      <td>0</td>\n    </tr>\n    <tr>\n      <th>1</th>\n      <td>BACKGROUND</td>\n      <td>it is not clear whether these patients would b...</td>\n      <td>1</td>\n    </tr>\n    <tr>\n      <th>2</th>\n      <td>OBJECTIVE</td>\n      <td>we sought to determine whether a @-month cours...</td>\n      <td>2</td>\n    </tr>\n    <tr>\n      <th>3</th>\n      <td>METHODS</td>\n      <td>asthmatic patients who were ige sensitized to ...</td>\n      <td>3</td>\n    </tr>\n    <tr>\n      <th>4</th>\n      <td>METHODS</td>\n      <td>primary outcomes were improvement in quality o...</td>\n      <td>4</td>\n    </tr>\n    <tr>\n      <th>...</th>\n      <td>...</td>\n      <td>...</td>\n      <td>...</td>\n    </tr>\n    <tr>\n      <th>30193</th>\n      <td>RESULTS</td>\n      <td>in patients with uncontrolled or untreated hyp...</td>\n      <td>7</td>\n    </tr>\n    <tr>\n      <th>30194</th>\n      <td>RESULTS</td>\n      <td>the mean difference in total ipss and ipss-qua...</td>\n      <td>8</td>\n    </tr>\n    <tr>\n      <th>30195</th>\n      <td>RESULTS</td>\n      <td>maximum flow rate , average flow rate , voided...</td>\n      <td>9</td>\n    </tr>\n    <tr>\n      <th>30196</th>\n      <td>CONCLUSIONS</td>\n      <td>this study shows that alfuzosin @ mg is effect...</td>\n      <td>10</td>\n    </tr>\n    <tr>\n      <th>30197</th>\n      <td>CONCLUSIONS</td>\n      <td>however , in patients with uncontrolled or unt...</td>\n      <td>11</td>\n    </tr>\n  </tbody>\n</table>\n<p>30198 rows × 3 columns</p>\n</div>"
     },
     "execution_count": 12,
     "metadata": {},
     "output_type": "execute_result"
    }
   ],
   "source": [
    "dev_data"
   ],
   "metadata": {
    "collapsed": false,
    "ExecuteTime": {
     "end_time": "2023-09-15T21:17:32.877527700Z",
     "start_time": "2023-09-15T21:17:32.837586200Z"
    }
   },
   "id": "4e89b850053c8d20"
  },
  {
   "cell_type": "code",
   "execution_count": 13,
   "outputs": [
    {
     "data": {
      "text/plain": "target\nMETHODS        59349\nRESULTS        57949\nCONCLUSIONS    27166\nBACKGROUND     21726\nOBJECTIVE      13838\nName: count, dtype: int64"
     },
     "execution_count": 13,
     "metadata": {},
     "output_type": "execute_result"
    }
   ],
   "source": [
    "train_data.target.value_counts()"
   ],
   "metadata": {
    "collapsed": false,
    "ExecuteTime": {
     "end_time": "2023-09-15T21:17:32.945730Z",
     "start_time": "2023-09-15T21:17:32.865530600Z"
    }
   },
   "id": "126aa47da0ea82a1"
  },
  {
   "cell_type": "code",
   "execution_count": 14,
   "outputs": [],
   "source": [
    "import matplotlib.pyplot as plt\n",
    "def sentences_count_in_para(data_dic = train_data_dic):\n",
    "    count = []\n",
    "    for index in range(len(data_dic) - 1):\n",
    "        count.append(data_dic[index][\"total_lines\"])\n",
    "\n",
    "    return count[1:]\n",
    "sent_count_in_para = sentences_count_in_para(data_dic = train_data_dic)\n",
    "\n"
   ],
   "metadata": {
    "collapsed": false,
    "ExecuteTime": {
     "end_time": "2023-09-15T21:17:34.514308300Z",
     "start_time": "2023-09-15T21:17:32.921718100Z"
    }
   },
   "id": "ccde65de9d7d1f73"
  },
  {
   "cell_type": "code",
   "execution_count": 15,
   "outputs": [
    {
     "data": {
      "text/plain": "(array([2.420e+02, 2.777e+03, 6.127e+03, 3.018e+03, 2.084e+03, 5.890e+02,\n        9.600e+01, 5.200e+01, 1.100e+01, 3.000e+00]),\n array([ 4. ,  6.7,  9.4, 12.1, 14.8, 17.5, 20.2, 22.9, 25.6, 28.3, 31. ]),\n <BarContainer object of 10 artists>)"
     },
     "execution_count": 15,
     "metadata": {},
     "output_type": "execute_result"
    },
    {
     "data": {
      "text/plain": "<Figure size 640x480 with 1 Axes>",
      "image/png": "[encoded data removed]"
     },
     "metadata": {},
     "output_type": "display_data"
    }
   ],
   "source": [
    "plt.hist(sent_count_in_para)"
   ],
   "metadata": {
    "collapsed": false,
    "ExecuteTime": {
     "end_time": "2023-09-15T21:17:35.267002300Z",
     "start_time": "2023-09-15T21:17:34.517310100Z"
    }
   },
   "id": "387b334e8dafe1ac"
  },
  {
   "cell_type": "code",
   "execution_count": 16,
   "outputs": [
    {
     "name": "stderr",
     "output_type": "stream",
     "text": [
      "C:\\Users\\braje\\miniconda3\\envs\\ML\\Lib\\site-packages\\sklearn\\preprocessing\\_encoders.py:972: FutureWarning: `sparse` was renamed to `sparse_output` in version 1.2 and will be removed in 1.4. `sparse_output` is ignored unless you leave `sparse` to its default value.\n",
      "  warnings.warn(\n",
      "C:\\Users\\braje\\miniconda3\\envs\\ML\\Lib\\site-packages\\sklearn\\preprocessing\\_encoders.py:972: FutureWarning: `sparse` was renamed to `sparse_output` in version 1.2 and will be removed in 1.4. `sparse_output` is ignored unless you leave `sparse` to its default value.\n",
      "  warnings.warn(\n",
      "C:\\Users\\braje\\miniconda3\\envs\\ML\\Lib\\site-packages\\sklearn\\preprocessing\\_encoders.py:972: FutureWarning: `sparse` was renamed to `sparse_output` in version 1.2 and will be removed in 1.4. `sparse_output` is ignored unless you leave `sparse` to its default value.\n",
      "  warnings.warn(\n"
     ]
    }
   ],
   "source": [
    "from sklearn.preprocessing import OneHotEncoder\n",
    "one_hot_enc = OneHotEncoder(sparse=False)\n",
    "train_labels_one_hot = one_hot_enc.fit_transform(train_data[\"target\"].to_numpy().reshape(-1,1))\n",
    "test_labels_one_hot = one_hot_enc.fit_transform(test_data[\"target\"].to_numpy().reshape(-1,1))\n",
    "val_labels_one_hot = one_hot_enc.fit_transform(dev_data[\"target\"].to_numpy().reshape(-1,1))\n",
    "\n",
    "# one Hot Encoding done in alphabetical order\n",
    "# eg. [\"BACKGROUND\",\"CONCLUSION\",\"METHODS\",\"OBJECTS\",\"RESULTS\"]\n",
    "# [0 , 0 , 1 , 0 , 0]\n",
    "\n",
    "test_labels = constant(test_labels_one_hot)\n",
    "train_labels = constant(train_labels_one_hot)\n",
    "val_labels = constant(val_labels_one_hot)\n",
    "\n"
   ],
   "metadata": {
    "collapsed": false,
    "ExecuteTime": {
     "end_time": "2023-09-15T21:17:35.786359800Z",
     "start_time": "2023-09-15T21:17:35.269003600Z"
    }
   },
   "id": "6e4e8da7355706bb"
  },
  {
   "cell_type": "code",
   "execution_count": 17,
   "outputs": [],
   "source": [
    "from sklearn.preprocessing import LabelEncoder\n",
    "label_enc = LabelEncoder()\n",
    "\n",
    "train_labels_encoded = label_enc.fit_transform(train_data[\"target\"].to_numpy())\n",
    "val_labels_encoded = label_enc.fit_transform(dev_data[\"target\"].to_numpy())\n",
    "test_labels_encoded = label_enc.fit_transform(test_data[\"target\"].to_numpy())\n",
    "\n"
   ],
   "metadata": {
    "collapsed": false,
    "ExecuteTime": {
     "end_time": "2023-09-15T21:17:35.980233800Z",
     "start_time": "2023-09-15T21:17:35.788357Z"
    }
   },
   "id": "59c3cd4999febc2"
  },
  {
   "cell_type": "code",
   "execution_count": 18,
   "outputs": [
    {
     "data": {
      "text/plain": "array(['BACKGROUND', 'RESULTS'], dtype=object)"
     },
     "execution_count": 18,
     "metadata": {},
     "output_type": "execute_result"
    }
   ],
   "source": [
    "num_classes = len(label_enc.classes_)\n",
    "class_names = label_enc.classes_\n",
    "\n",
    "label_enc.inverse_transform([0,4]) # 0 = BACKGROUND\n",
    "# can access class using label_enc.inverse_transform([0,4])"
   ],
   "metadata": {
    "collapsed": false,
    "ExecuteTime": {
     "end_time": "2023-09-15T21:17:35.982232600Z",
     "start_time": "2023-09-15T21:17:35.964931Z"
    }
   },
   "id": "6f28a007d6e78a0d"
  },
  {
   "cell_type": "markdown",
   "source": [
    "15-09-23\n",
    "> Note: DataModeling Almost done \n",
    "* Abstract:\n",
    "    * Labels: \n",
    "        1. test_labels: one hot encoded tensors \n",
    "        2. train_labels:  one hot encoded tensors shape = (180028, 5)\n",
    "        3. val_labels:\n",
    "    * Data:\n",
    "        1. train_data: pd.DataFrame\n",
    "        2. dev_data\n",
    "        3. test_data\n"
   ],
   "metadata": {
    "collapsed": false
   },
   "id": "99031a5b990dbef3"
  },
  {
   "cell_type": "code",
   "execution_count": 19,
   "outputs": [
    {
     "data": {
      "text/plain": "Pipeline(steps=[('tf-idf', TfidfVectorizer()), ('clf', MultinomialNB())])",
      "text/html": "<style>#sk-container-id-1 {color: black;}#sk-container-id-1 pre{padding: 0;}#sk-container-id-1 div.sk-toggleable {background-color: white;}#sk-container-id-1 label.sk-toggleable__label {cursor: pointer;display: block;width: 100%;margin-bottom: 0;padding: 0.3em;box-sizing: border-box;text-align: center;}#sk-container-id-1 label.sk-toggleable__label-arrow:before {content: \"▸\";float: left;margin-right: 0.25em;color: #696969;}#sk-container-id-1 label.sk-toggleable__label-arrow:hover:before {color: black;}#sk-container-id-1 div.sk-estimator:hover label.sk-toggleable__label-arrow:before {color: black;}#sk-container-id-1 div.sk-toggleable__content {max-height: 0;max-width: 0;overflow: hidden;text-align: left;background-color: #f0f8ff;}#sk-container-id-1 div.sk-toggleable__content pre {margin: 0.2em;color: black;border-radius: 0.25em;background-color: #f0f8ff;}#sk-container-id-1 input.sk-toggleable__control:checked~div.sk-toggleable__content {max-height: 200px;max-width: 100%;overflow: auto;}#sk-container-id-1 input.sk-toggleable__control:checked~label.sk-toggleable__label-arrow:before {content: \"▾\";}#sk-container-id-1 div.sk-estimator input.sk-toggleable__control:checked~label.sk-toggleable__label {background-color: #d4ebff;}#sk-container-id-1 div.sk-label input.sk-toggleable__control:checked~label.sk-toggleable__label {background-color: #d4ebff;}#sk-container-id-1 input.sk-hidden--visually {border: 0;clip: rect(1px 1px 1px 1px);clip: rect(1px, 1px, 1px, 1px);height: 1px;margin: -1px;overflow: hidden;padding: 0;position: absolute;width: 1px;}#sk-container-id-1 div.sk-estimator {font-family: monospace;background-color: #f0f8ff;border: 1px dotted black;border-radius: 0.25em;box-sizing: border-box;margin-bottom: 0.5em;}#sk-container-id-1 div.sk-estimator:hover {background-color: #d4ebff;}#sk-container-id-1 div.sk-parallel-item::after {content: \"\";width: 100%;border-bottom: 1px solid gray;flex-grow: 1;}#sk-container-id-1 div.sk-label:hover label.sk-toggleable__label {background-color: #d4ebff;}#sk-container-id-1 div.sk-serial::before {content: \"\";position: absolute;border-left: 1px solid gray;box-sizing: border-box;top: 0;bottom: 0;left: 50%;z-index: 0;}#sk-container-id-1 div.sk-serial {display: flex;flex-direction: column;align-items: center;background-color: white;padding-right: 0.2em;padding-left: 0.2em;position: relative;}#sk-container-id-1 div.sk-item {position: relative;z-index: 1;}#sk-container-id-1 div.sk-parallel {display: flex;align-items: stretch;justify-content: center;background-color: white;position: relative;}#sk-container-id-1 div.sk-item::before, #sk-container-id-1 div.sk-parallel-item::before {content: \"\";position: absolute;border-left: 1px solid gray;box-sizing: border-box;top: 0;bottom: 0;left: 50%;z-index: -1;}#sk-container-id-1 div.sk-parallel-item {display: flex;flex-direction: column;z-index: 1;position: relative;background-color: white;}#sk-container-id-1 div.sk-parallel-item:first-child::after {align-self: flex-end;width: 50%;}#sk-container-id-1 div.sk-parallel-item:last-child::after {align-self: flex-start;width: 50%;}#sk-container-id-1 div.sk-parallel-item:only-child::after {width: 0;}#sk-container-id-1 div.sk-dashed-wrapped {border: 1px dashed gray;margin: 0 0.4em 0.5em 0.4em;box-sizing: border-box;padding-bottom: 0.4em;background-color: white;}#sk-container-id-1 div.sk-label label {font-family: monospace;font-weight: bold;display: inline-block;line-height: 1.2em;}#sk-container-id-1 div.sk-label-container {text-align: center;}#sk-container-id-1 div.sk-container {/* jupyter's `normalize.less` sets `[hidden] { display: none; }` but bootstrap.min.css set `[hidden] { display: none !important; }` so we also need the `!important` here to be able to override the default hidden behavior on the sphinx rendered scikit-learn.org. See: https://github.com/scikit-learn/scikit-learn/issues/21755 */display: inline-block !important;position: relative;}#sk-container-id-1 div.sk-text-repr-fallback {display: none;}</style><div id=\"sk-container-id-1\" class=\"sk-top-container\"><div class=\"sk-text-repr-fallback\"><pre>Pipeline(steps=[(&#x27;tf-idf&#x27;, TfidfVectorizer()), (&#x27;clf&#x27;, MultinomialNB())])</pre><b>In a Jupyter environment, please rerun this cell to show the HTML representation or trust the notebook. <br />On GitHub, the HTML representation is unable to render, please try loading this page with nbviewer.org.</b></div><div class=\"sk-container\" hidden><div class=\"sk-item sk-dashed-wrapped\"><div class=\"sk-label-container\"><div class=\"sk-label sk-toggleable\"><input class=\"sk-toggleable__control sk-hidden--visually\" id=\"sk-estimator-id-1\" type=\"checkbox\" ><label for=\"sk-estimator-id-1\" class=\"sk-toggleable__label sk-toggleable__label-arrow\">Pipeline</label><div class=\"sk-toggleable__content\"><pre>Pipeline(steps=[(&#x27;tf-idf&#x27;, TfidfVectorizer()), (&#x27;clf&#x27;, MultinomialNB())])</pre></div></div></div><div class=\"sk-serial\"><div class=\"sk-item\"><div class=\"sk-estimator sk-toggleable\"><input class=\"sk-toggleable__control sk-hidden--visually\" id=\"sk-estimator-id-2\" type=\"checkbox\" ><label for=\"sk-estimator-id-2\" class=\"sk-toggleable__label sk-toggleable__label-arrow\">TfidfVectorizer</label><div class=\"sk-toggleable__content\"><pre>TfidfVectorizer()</pre></div></div></div><div class=\"sk-item\"><div class=\"sk-estimator sk-toggleable\"><input class=\"sk-toggleable__control sk-hidden--visually\" id=\"sk-estimator-id-3\" type=\"checkbox\" ><label for=\"sk-estimator-id-3\" class=\"sk-toggleable__label sk-toggleable__label-arrow\">MultinomialNB</label><div class=\"sk-toggleable__content\"><pre>MultinomialNB()</pre></div></div></div></div></div></div></div>"
     },
     "execution_count": 19,
     "metadata": {},
     "output_type": "execute_result"
    }
   ],
   "source": [
    "from sklearn.feature_extraction.text import TfidfVectorizer\n",
    "from sklearn.naive_bayes import MultinomialNB\n",
    "from sklearn.pipeline import Pipeline\n",
    "\n",
    "# Create a pipeline\n",
    "model_nv = Pipeline([\n",
    "  (\"tf-idf\", TfidfVectorizer()),\n",
    "  (\"clf\", MultinomialNB())\n",
    "])\n",
    "\n",
    "# Fit the pipeline to the training data\n",
    "model_nv.fit(X=train_data[\"text\"], \n",
    "            y=train_labels_encoded)\n",
    "\n",
    "\n"
   ],
   "metadata": {
    "collapsed": false,
    "ExecuteTime": {
     "end_time": "2023-09-15T21:17:43.613505100Z",
     "start_time": "2023-09-15T21:17:35.987229200Z"
    }
   },
   "id": "d49adaca4e07a424"
  },
  {
   "cell_type": "code",
   "execution_count": 20,
   "outputs": [
    {
     "data": {
      "text/plain": "0.7220014570501357"
     },
     "execution_count": 20,
     "metadata": {},
     "output_type": "execute_result"
    }
   ],
   "source": [
    "model_nv.score(X=dev_data[\"text\"],\n",
    "              y=val_labels_encoded\n",
    "              )"
   ],
   "metadata": {
    "collapsed": false,
    "ExecuteTime": {
     "end_time": "2023-09-15T21:17:44.680958600Z",
     "start_time": "2023-09-15T21:17:43.595477500Z"
    }
   },
   "id": "9104179c182052e3"
  },
  {
   "cell_type": "code",
   "execution_count": 21,
   "outputs": [
    {
     "data": {
      "text/plain": "[{'text': 'liver function tests ( lfts ) were measured at @ time points from baseline , at discharge , and up to @ months follow-up . ',\n  'num': 4}]"
     },
     "execution_count": 21,
     "metadata": {},
     "output_type": "execute_result"
    }
   ],
   "source": [
    "obj  = [{\"text\": \"liver function tests ( lfts ) were measured at @ time points from baseline , at discharge , and up to @ months follow-up . \",\n",
    "        \"num\":4 }]\n",
    "obj"
   ],
   "metadata": {
    "collapsed": false,
    "ExecuteTime": {
     "end_time": "2023-09-15T21:17:44.707781600Z",
     "start_time": "2023-09-15T21:17:44.689494400Z"
    }
   },
   "id": "c2f0dfafe370b5e0"
  },
  {
   "cell_type": "code",
   "execution_count": 22,
   "outputs": [
    {
     "data": {
      "text/plain": "72"
     },
     "execution_count": 22,
     "metadata": {},
     "output_type": "execute_result"
    }
   ],
   "source": [
    "sum(model_nv.predict(test_data[\"text\"][:100]) == test_labels_encoded[:100])"
   ],
   "metadata": {
    "collapsed": false,
    "ExecuteTime": {
     "end_time": "2023-09-15T21:17:44.852905400Z",
     "start_time": "2023-09-15T21:17:44.703785100Z"
    }
   },
   "id": "ab67866de6b622e3"
  },
  {
   "cell_type": "code",
   "execution_count": 25,
   "outputs": [
    {
     "data": {
      "text/plain": "       target                                               text  line_number\n0  BACKGROUND  this study analyzed liver function abnormaliti...            0\n1     RESULTS  a post hoc analysis was conducted with the use...            1\n2     RESULTS  liver function tests ( lfts ) were measured at...            2\n3     RESULTS  survival analyses were used to assess the asso...            3\n4     RESULTS  the percentage of patients with abnormal lfts ...            4",
      "text/html": "<div>\n<style scoped>\n    .dataframe tbody tr th:only-of-type {\n        vertical-align: middle;\n    }\n\n    .dataframe tbody tr th {\n        vertical-align: top;\n    }\n\n    .dataframe thead th {\n        text-align: right;\n    }\n</style>\n<table border=\"1\" class=\"dataframe\">\n  <thead>\n    <tr style=\"text-align: right;\">\n      <th></th>\n      <th>target</th>\n      <th>text</th>\n      <th>line_number</th>\n    </tr>\n  </thead>\n  <tbody>\n    <tr>\n      <th>0</th>\n      <td>BACKGROUND</td>\n      <td>this study analyzed liver function abnormaliti...</td>\n      <td>0</td>\n    </tr>\n    <tr>\n      <th>1</th>\n      <td>RESULTS</td>\n      <td>a post hoc analysis was conducted with the use...</td>\n      <td>1</td>\n    </tr>\n    <tr>\n      <th>2</th>\n      <td>RESULTS</td>\n      <td>liver function tests ( lfts ) were measured at...</td>\n      <td>2</td>\n    </tr>\n    <tr>\n      <th>3</th>\n      <td>RESULTS</td>\n      <td>survival analyses were used to assess the asso...</td>\n      <td>3</td>\n    </tr>\n    <tr>\n      <th>4</th>\n      <td>RESULTS</td>\n      <td>the percentage of patients with abnormal lfts ...</td>\n      <td>4</td>\n    </tr>\n  </tbody>\n</table>\n</div>"
     },
     "execution_count": 25,
     "metadata": {},
     "output_type": "execute_result"
    }
   ],
   "source": [
    "test_data.head()"
   ],
   "metadata": {
    "collapsed": false,
    "ExecuteTime": {
     "end_time": "2023-09-15T21:20:27.762014300Z",
     "start_time": "2023-09-15T21:20:27.713414500Z"
    }
   },
   "id": "1fb5105d3670369f"
  },
  {
   "cell_type": "markdown",
   "source": [
    "> note: so far we got 72% of accuracy we need more experimenting"
   ],
   "metadata": {
    "collapsed": false
   },
   "id": "571c5ddf8389901b"
  },
  {
   "cell_type": "code",
   "execution_count": null,
   "outputs": [],
   "source": [
    "  "
   ],
   "metadata": {
    "collapsed": false,
    "ExecuteTime": {
     "end_time": "2023-09-18T06:38:50.766825400Z",
     "start_time": "2023-09-18T06:38:50.672369100Z"
    }
   },
   "id": "bbde0a46cbbe72b0"
  },
  {
   "cell_type": "code",
   "execution_count": null,
   "outputs": [],
   "source": [],
   "metadata": {
    "collapsed": false,
    "ExecuteTime": {
     "end_time": "2023-09-18T06:38:50.772828100Z",
     "start_time": "2023-09-18T06:38:50.685092500Z"
    }
   },
   "id": "18babc4f35dc225e"
  },
  {
   "cell_type": "code",
   "execution_count": null,
   "outputs": [],
   "source": [],
   "metadata": {
    "collapsed": false
   },
   "id": "591c90278844b36b"
  }
 ],
 "metadata": {
  "kernelspec": {
   "display_name": "Python 3",
   "language": "python",
   "name": "python3"
  },
  "language_info": {
   "codemirror_mode": {
    "name": "ipython",
    "version": 2
   },
   "file_extension": ".py",
   "mimetype": "text/x-python",
   "name": "python",
   "nbconvert_exporter": "python",
   "pygments_lexer": "ipython2",
   "version": "2.7.6"
  }
 },
 "nbformat": 4,
 "nbformat_minor": 5
}
