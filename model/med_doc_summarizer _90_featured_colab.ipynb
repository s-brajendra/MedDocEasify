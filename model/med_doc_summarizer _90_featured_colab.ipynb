{
  "cells": [
    {
      "cell_type": "markdown",
      "metadata": {
        "collapsed": false,
        "id": "a86065325101b511"
      },
      "source": [
        "### NLP/NLU Model Which summerizes Medical Research Paper which makes them easier to read for Student\n",
        "* In this Model We are Replicating Model proposed in paper [2017 PubMed 200k RCT](https://arxiv.org/abs/1710.06071)\n",
        "* Dateset is freely available at [GITHUB](https://github.com/Franck-Dernoncourt/pubmed-rct)"
      ],
      "id": "a86065325101b511"
    },
    {
      "cell_type": "code",
      "execution_count": 1,
      "metadata": {
        "id": "wiaZB7oW70_Q"
      },
      "outputs": [],
      "source": [
        "def read_lines_from_txt(filename):\n",
        "    \"\"\"\n",
        "    Reads a file named filename and returns lines of text as list\n",
        "    Args:\n",
        "      filename: string of target filepath\n",
        "    Returns: list of string, one string per line as a list item\n",
        "    \"\"\"\n",
        "    with open(filename, 'r') as f:\n",
        "        return f.readlines()\n",
        "\n",
        "\n",
        "def seprate_label_from_sentence(line,line_number):\n",
        "    \"\"\"\n",
        "    seprate line with delimeter \"\\t\n",
        "\n",
        "\n",
        "    \"\"\"\n",
        "    if (line[:3] != \"###\") and (line[:2] != \"\\n\"):\n",
        "\n",
        "        lst = line.split(\"\\t\")\n",
        "        lst[1] = lst[1].replace(\"\\n\",\"\")\n",
        "        return {\"target\": lst[0],\n",
        "                \"text\": lst[1].lower(),\n",
        "                \"line_number\":line_number\n",
        "                }\n",
        "\n",
        "    else:\n",
        "        pass\n",
        "\n",
        "\n",
        "def extract_para(file_line_list):\n",
        "\n",
        "\n",
        "\n",
        "    \"\"\"\n",
        "    will create dictionary object which contains all paragraph as indexed object\n",
        "    eg. extract_para(train_txt_lines)[0] is a paragraph dict object extracted from txt file\n",
        "    eg. extract_para(train_txt_lines)[0][\"entire_para\"][0] is a paragraph's {text,target} object\n",
        "\n",
        "    return dict:\n",
        "    {\n",
        "    total_para:\n",
        "    0:\n",
        "    1:\n",
        "    .\n",
        "    .\n",
        "    total_para\n",
        "    }\n",
        "    ----------\n",
        "    index\n",
        "    {\n",
        "    entire_para: list of dic object containing target, text\n",
        "    total_lines:total lines in para\n",
        "\n",
        "    }\n",
        "\n",
        "\n",
        "    :param file_line_list: txt file path\n",
        "    :Note para is seprated by ###\n",
        "    :return: dictionary conataining total_para, indexed para dic object\n",
        "    \"\"\"\n",
        "    all_para = {\"total_para\": 0}\n",
        "    i = 0\n",
        "    line_number = 0\n",
        "    para = {\"entire_para\": [],\n",
        "            \"total_lines\": 0}\n",
        "\n",
        "    for line in file_line_list:\n",
        "        if line[:3] == '###':\n",
        "            line_number = 0 # reset line number for new para\n",
        "            all_para[i] = para\n",
        "            all_para[\"total_para\"] += 1\n",
        "            para[\"total_lines\"] = len(para[\"entire_para\"]) - 1 # None line is present in list at the end\n",
        "            para = {\"entire_para\": [],\n",
        "                    \"total_lines\": 0}\n",
        "            i += 1\n",
        "            # print(\"para: \\n\")\n",
        "            # print(para)\n",
        "            # print(\" all para: \\n\")\n",
        "            # print(all_para)\n",
        "\n",
        "\n",
        "        else:\n",
        "            if line != None :\n",
        "\n",
        "                txt_n_labels = seprate_label_from_sentence(line,line_number)\n",
        "                # print(txt_n_labels) # will return label and text dict for line\n",
        "\n",
        "                line_number += 1\n",
        "                para[\"entire_para\"].append(txt_n_labels)\n",
        "\n",
        "\n",
        "    return all_para\n",
        "\n",
        "# def extract_para(file_line_list):\n",
        "#   all_para =  {}\n",
        "#   i = 0\n",
        "#   total = 0\n",
        "#   para = {}\n",
        "\n",
        "#   for line in file_line_list:\n",
        "#     if line == r'###\\d+\\n':\n",
        "#       all_para[i] = para\n",
        "#       para = {}\n",
        "#       i++\n",
        "#     else:\n",
        "#       tex_n_label = seprate_label_from_sentence(line = line,total_line = j)\n",
        "\n",
        "#       para[\"target\"]\n",
        "\n",
        "def make_list_of_all_labeled_sentences(data_dic):\n",
        "\n",
        "    \"\"\"\n",
        "    :param data_dic: data dictionary\n",
        "    :return: list of all data which contains object\n",
        "    \"\"\"\n",
        "    dev_deta_lines = []\n",
        "    for index in range(len(data_dic) - 1):\n",
        "\n",
        "        for line in range(data_dic[index][\"total_lines\"]):\n",
        "          obj = data_dic[index][\"entire_para\"][line]\n",
        "          obj[\"total_lines\"] = data_dic[index][\"total_lines\"]\n",
        "          dev_deta_lines.append(obj)\n",
        "\n",
        "    return dev_deta_lines\n",
        "\n",
        "from sklearn.metrics import accuracy_score, precision_recall_fscore_support\n",
        "\n",
        "\n",
        "  # Calculate model accuracy\n",
        "\n",
        "def accuracy_of_model(y_true,y_pred):\n",
        "  \"\"\"\n",
        "\n",
        "\n",
        "  Args:\n",
        "      y_true: true labels in the form of a 1D array\n",
        "      y_pred: predicted labels in the form of a 1D array\n",
        "  \"\"\"\n",
        "  model_accuracy = accuracy_score(y_true, y_pred) * 100\n",
        "  # Calculate model precision, recall and f1 score using \"weighted average\n",
        "  model_precision, model_recall, model_f1, _ = precision_recall_fscore_support(y_true, y_pred, average=\"weighted\")\n",
        "  model_results = {\"accuracy\": model_accuracy,\n",
        "                  \"precision\": model_precision,\n",
        "                  \"recall\": model_recall,\n",
        "                  \"f1\": model_f1}\n",
        "  return model_results\n",
        "\n"
      ],
      "id": "wiaZB7oW70_Q"
    },
    {
      "cell_type": "code",
      "execution_count": 2,
      "metadata": {
        "collapsed": true,
        "id": "initial_id"
      },
      "outputs": [],
      "source": [
        "import numpy as np\n",
        "\n",
        "# from helpers import helper as hf   (en - local machine)\n",
        "import pandas as pd\n",
        "\n",
        "\n",
        "\n"
      ],
      "id": "initial_id"
    },
    {
      "cell_type": "code",
      "execution_count": 3,
      "metadata": {
        "id": "73c13183a458083c"
      },
      "outputs": [],
      "source": [
        "from tensorflow import constant"
      ],
      "id": "73c13183a458083c"
    },
    {
      "cell_type": "code",
      "execution_count": 4,
      "metadata": {
        "id": "be30255869220cea",
        "colab": {
          "base_uri": "https://localhost:8080/"
        },
        "outputId": "23116370-7326-4a13-bc9e-e617bb8f1a9f"
      },
      "outputs": [
        {
          "output_type": "stream",
          "name": "stdout",
          "text": [
            "Cloning into 'pubmed-rct'...\n",
            "remote: Enumerating objects: 33, done.\u001b[K\n",
            "remote: Counting objects: 100% (8/8), done.\u001b[K\n",
            "remote: Compressing objects: 100% (3/3), done.\u001b[K\n",
            "remote: Total 33 (delta 5), reused 5 (delta 5), pack-reused 25\u001b[K\n",
            "Receiving objects: 100% (33/33), 177.08 MiB | 44.13 MiB/s, done.\n",
            "Resolving deltas: 100% (12/12), done.\n",
            "PubMed_200k_RCT\n",
            "PubMed_200k_RCT_numbers_replaced_with_at_sign\n",
            "PubMed_20k_RCT\n",
            "PubMed_20k_RCT_numbers_replaced_with_at_sign\n",
            "README.md\n"
          ]
        }
      ],
      "source": [
        "\n",
        "!git clone https://github.com/Franck-Dernoncourt/pubmed-rct.git\n",
        "!ls pubmed-rct\n",
        "\n",
        "\n",
        "# data_dir = \"../data/pubmed-rct-master/PubMed_20k_RCT_numbers_replaced_with_at_sign\"  (en - local machine)\n"
      ],
      "id": "be30255869220cea"
    },
    {
      "cell_type": "code",
      "execution_count": 6,
      "metadata": {
        "id": "EpUl7lyB8c9H"
      },
      "outputs": [],
      "source": [
        "data_dir_20k = \"pubmed-rct/PubMed_20k_RCT_numbers_replaced_with_at_sign/\"\n",
        "data_dir_200k = \"pubmed-rct/PubMed_200k_RCT_numbers_replaced_with_at_sign/\"\n"
      ],
      "id": "EpUl7lyB8c9H"
    },
    {
      "cell_type": "code",
      "source": [
        "import zipfile as zp\n",
        "import os\n",
        "# train.zip extraction\n",
        "zipref   = zp.ZipFile(\"pubmed-rct/PubMed_200k_RCT_numbers_replaced_with_at_sign/train.zip\",'r')\n",
        "zipref.extractall()\n",
        "zipref.close()\n",
        "\n",
        "import shutil\n",
        "shutil.move(\"train.txt\", data_dir_200k)\n",
        "os.remove(data_dir_200k+\"train.zip\")"
      ],
      "metadata": {
        "id": "Vrpg3hyGDynE"
      },
      "id": "Vrpg3hyGDynE",
      "execution_count": 7,
      "outputs": []
    },
    {
      "cell_type": "code",
      "execution_count": 8,
      "metadata": {
        "id": "6218c653d85de43a"
      },
      "outputs": [],
      "source": [
        "# train_text_lines = hf.read_lines_from_txt(data_dir+\"/train.txt\")\n",
        "# test_text_lines = hf.read_lines_from_txt(data_dir+\"/test.txt\")\n",
        "# dev_text_lines = hf.read_lines_from_txt(data_dir+\"/dev.txt\")\n",
        "\n",
        "\n",
        "train_text_lines_20k = read_lines_from_txt(data_dir_20k+\"/train.txt\")\n",
        "\n",
        "test_text_lines_200k = read_lines_from_txt(data_dir_200k+\"/test.txt\")\n",
        "dev_text_lines_200k = read_lines_from_txt(data_dir_200k+\"/dev.txt\")\n",
        "\n",
        "train_text_lines_200k = read_lines_from_txt(data_dir_200k+\"/train.txt\")\n",
        "\n"
      ],
      "id": "6218c653d85de43a"
    },
    {
      "cell_type": "code",
      "execution_count": 9,
      "metadata": {
        "id": "91d8258b2d6f830"
      },
      "outputs": [],
      "source": [
        "\n",
        "\n",
        "# train_data_dic = hf.extract_para(train_text_lines)\n",
        "# test_data_dic = hf.extract_para(test_text_lines)\n",
        "# dev_data_dic = hf.extract_para(dev_text_lines)\n",
        "\n",
        "train_data_dic_20k = extract_para(train_text_lines_20k)\n",
        "test_data_dic_200k = extract_para(test_text_lines_200k)\n",
        "dev_data_dic_200k = extract_para(dev_text_lines_200k)\n",
        "\n",
        "train_data_dic_200k = extract_para(train_text_lines_200k)\n",
        "\n"
      ],
      "id": "91d8258b2d6f830"
    },
    {
      "cell_type": "markdown",
      "metadata": {
        "collapsed": false,
        "id": "ac7b7496c05a341e"
      },
      "source": [
        "* Data Modeling\n",
        "```\n",
        "# object return structure\n",
        "\n",
        "    return dict:\n",
        "    {\n",
        "        \"total_para\":\n",
        "        0:\n",
        "        1:\n",
        "        .\n",
        "        .\n",
        "        .\n",
        "    }\n",
        "\n",
        "\n",
        "    0 indexed deic structure\n",
        "    {\n",
        "        \"entire_para\": list of dic object containing target, text eg. [ { target:\n",
        "                                                                          text:\n",
        "                                                                         },\n",
        "                                                                         {\n",
        "                                                                                ..  \n",
        "                                                                         }\n",
        "                                                                       ]\n",
        "        \"total_lines\":total lines in para\n",
        "\n",
        "    }\n",
        "```"
      ],
      "id": "ac7b7496c05a341e"
    },
    {
      "cell_type": "code",
      "execution_count": 10,
      "metadata": {
        "id": "17ed48228707491c",
        "colab": {
          "base_uri": "https://localhost:8080/"
        },
        "outputId": "b29b5b16-3774-4429-86a0-f06921cef594"
      },
      "outputs": [
        {
          "output_type": "stream",
          "name": "stdout",
          "text": [
            "train:  190654 test: 2500 test: 2500\n"
          ]
        }
      ],
      "source": [
        "print( \"train: \", train_data_dic_200k[\"total_para\"], \"test:\",\n",
        "test_data_dic_200k[\"total_para\"], \"test:\",\n",
        "dev_data_dic_200k[\"total_para\"]  )"
      ],
      "id": "17ed48228707491c"
    },
    {
      "cell_type": "code",
      "execution_count": 12,
      "metadata": {
        "id": "153ffc84233b095f"
      },
      "outputs": [],
      "source": [
        "# dev_data = pd.DataFrame(hf.make_list_of_all_labeled_sentences(dev_data_dic))\n",
        "# test_data = pd.DataFrame(hf.make_list_of_all_labeled_sentences(test_data_dic))\n",
        "# train_data = pd.DataFrame(hf.make_list_of_all_labeled_sentences(train_data_dic))\n",
        "\n",
        "dev_data_200k = pd.DataFrame(make_list_of_all_labeled_sentences(dev_data_dic_200k))\n",
        "test_data_200k = pd.DataFrame(make_list_of_all_labeled_sentences(test_data_dic_200k))\n",
        "train_data_200k = pd.DataFrame(make_list_of_all_labeled_sentences(train_data_dic_200k))\n",
        "\n",
        "train_data_20k = pd.DataFrame(make_list_of_all_labeled_sentences(train_data_dic_20k))\n",
        "\n",
        "\n",
        "\n",
        "\n"
      ],
      "id": "153ffc84233b095f"
    },
    {
      "cell_type": "code",
      "execution_count": 13,
      "metadata": {
        "id": "92639d663691fd29",
        "colab": {
          "base_uri": "https://localhost:8080/",
          "height": 676
        },
        "outputId": "b1d889b3-290f-4db3-e076-3173263ba565"
      },
      "outputs": [
        {
          "output_type": "execute_result",
          "data": {
            "text/plain": [
              "         target                                               text  \\\n",
              "0    BACKGROUND  the emergence of hiv as a chronic condition me...   \n",
              "1    BACKGROUND  this paper describes the design and evaluation...   \n",
              "2       METHODS  this study is designed as a randomised control...   \n",
              "3       METHODS  the intervention group will participate in the...   \n",
              "4       METHODS  the program is based on self-efficacy theory a...   \n",
              "5       METHODS  participants will access the program for a min...   \n",
              "6       METHODS  primary outcomes are domain specific self-effi...   \n",
              "7       METHODS  secondary outcomes include : depression , anxi...   \n",
              "8       METHODS  data collection will take place at baseline , ...   \n",
              "9   CONCLUSIONS  results of the positive outlook study will pro...   \n",
              "10   BACKGROUND                                           actrn@ .   \n",
              "11   BACKGROUND  the aim of this study was to evaluate the effi...   \n",
              "12      METHODS  a total of @ patients suffering from thyroid o...   \n",
              "13      METHODS  patients were randomized into two groups : gro...   \n",
              "14      METHODS  only @ patients in both groups ( @ female and ...   \n",
              "15      RESULTS  both groups showed improvement in symptoms and...   \n",
              "16      RESULTS  mean exophthalmometry value before treatment w...   \n",
              "17      RESULTS  mean initial clinical activity score was @ @ a...   \n",
              "18      RESULTS  there was no change in the best-corrected visu...   \n",
              "19      RESULTS  there was an increase in body weight , blood s...   \n",
              "\n",
              "    line_number  total_lines  \n",
              "0             0           11  \n",
              "1             1           11  \n",
              "2             2           11  \n",
              "3             3           11  \n",
              "4             4           11  \n",
              "5             5           11  \n",
              "6             6           11  \n",
              "7             7           11  \n",
              "8             8           11  \n",
              "9             9           11  \n",
              "10           10           11  \n",
              "11            0           12  \n",
              "12            1           12  \n",
              "13            2           12  \n",
              "14            3           12  \n",
              "15            4           12  \n",
              "16            5           12  \n",
              "17            6           12  \n",
              "18            7           12  \n",
              "19            8           12  "
            ],
            "text/html": [
              "\n",
              "  <div id=\"df-2a9e38be-877d-4499-b572-96889702f462\" class=\"colab-df-container\">\n",
              "    <div>\n",
              "<style scoped>\n",
              "    .dataframe tbody tr th:only-of-type {\n",
              "        vertical-align: middle;\n",
              "    }\n",
              "\n",
              "    .dataframe tbody tr th {\n",
              "        vertical-align: top;\n",
              "    }\n",
              "\n",
              "    .dataframe thead th {\n",
              "        text-align: right;\n",
              "    }\n",
              "</style>\n",
              "<table border=\"1\" class=\"dataframe\">\n",
              "  <thead>\n",
              "    <tr style=\"text-align: right;\">\n",
              "      <th></th>\n",
              "      <th>target</th>\n",
              "      <th>text</th>\n",
              "      <th>line_number</th>\n",
              "      <th>total_lines</th>\n",
              "    </tr>\n",
              "  </thead>\n",
              "  <tbody>\n",
              "    <tr>\n",
              "      <th>0</th>\n",
              "      <td>BACKGROUND</td>\n",
              "      <td>the emergence of hiv as a chronic condition me...</td>\n",
              "      <td>0</td>\n",
              "      <td>11</td>\n",
              "    </tr>\n",
              "    <tr>\n",
              "      <th>1</th>\n",
              "      <td>BACKGROUND</td>\n",
              "      <td>this paper describes the design and evaluation...</td>\n",
              "      <td>1</td>\n",
              "      <td>11</td>\n",
              "    </tr>\n",
              "    <tr>\n",
              "      <th>2</th>\n",
              "      <td>METHODS</td>\n",
              "      <td>this study is designed as a randomised control...</td>\n",
              "      <td>2</td>\n",
              "      <td>11</td>\n",
              "    </tr>\n",
              "    <tr>\n",
              "      <th>3</th>\n",
              "      <td>METHODS</td>\n",
              "      <td>the intervention group will participate in the...</td>\n",
              "      <td>3</td>\n",
              "      <td>11</td>\n",
              "    </tr>\n",
              "    <tr>\n",
              "      <th>4</th>\n",
              "      <td>METHODS</td>\n",
              "      <td>the program is based on self-efficacy theory a...</td>\n",
              "      <td>4</td>\n",
              "      <td>11</td>\n",
              "    </tr>\n",
              "    <tr>\n",
              "      <th>5</th>\n",
              "      <td>METHODS</td>\n",
              "      <td>participants will access the program for a min...</td>\n",
              "      <td>5</td>\n",
              "      <td>11</td>\n",
              "    </tr>\n",
              "    <tr>\n",
              "      <th>6</th>\n",
              "      <td>METHODS</td>\n",
              "      <td>primary outcomes are domain specific self-effi...</td>\n",
              "      <td>6</td>\n",
              "      <td>11</td>\n",
              "    </tr>\n",
              "    <tr>\n",
              "      <th>7</th>\n",
              "      <td>METHODS</td>\n",
              "      <td>secondary outcomes include : depression , anxi...</td>\n",
              "      <td>7</td>\n",
              "      <td>11</td>\n",
              "    </tr>\n",
              "    <tr>\n",
              "      <th>8</th>\n",
              "      <td>METHODS</td>\n",
              "      <td>data collection will take place at baseline , ...</td>\n",
              "      <td>8</td>\n",
              "      <td>11</td>\n",
              "    </tr>\n",
              "    <tr>\n",
              "      <th>9</th>\n",
              "      <td>CONCLUSIONS</td>\n",
              "      <td>results of the positive outlook study will pro...</td>\n",
              "      <td>9</td>\n",
              "      <td>11</td>\n",
              "    </tr>\n",
              "    <tr>\n",
              "      <th>10</th>\n",
              "      <td>BACKGROUND</td>\n",
              "      <td>actrn@ .</td>\n",
              "      <td>10</td>\n",
              "      <td>11</td>\n",
              "    </tr>\n",
              "    <tr>\n",
              "      <th>11</th>\n",
              "      <td>BACKGROUND</td>\n",
              "      <td>the aim of this study was to evaluate the effi...</td>\n",
              "      <td>0</td>\n",
              "      <td>12</td>\n",
              "    </tr>\n",
              "    <tr>\n",
              "      <th>12</th>\n",
              "      <td>METHODS</td>\n",
              "      <td>a total of @ patients suffering from thyroid o...</td>\n",
              "      <td>1</td>\n",
              "      <td>12</td>\n",
              "    </tr>\n",
              "    <tr>\n",
              "      <th>13</th>\n",
              "      <td>METHODS</td>\n",
              "      <td>patients were randomized into two groups : gro...</td>\n",
              "      <td>2</td>\n",
              "      <td>12</td>\n",
              "    </tr>\n",
              "    <tr>\n",
              "      <th>14</th>\n",
              "      <td>METHODS</td>\n",
              "      <td>only @ patients in both groups ( @ female and ...</td>\n",
              "      <td>3</td>\n",
              "      <td>12</td>\n",
              "    </tr>\n",
              "    <tr>\n",
              "      <th>15</th>\n",
              "      <td>RESULTS</td>\n",
              "      <td>both groups showed improvement in symptoms and...</td>\n",
              "      <td>4</td>\n",
              "      <td>12</td>\n",
              "    </tr>\n",
              "    <tr>\n",
              "      <th>16</th>\n",
              "      <td>RESULTS</td>\n",
              "      <td>mean exophthalmometry value before treatment w...</td>\n",
              "      <td>5</td>\n",
              "      <td>12</td>\n",
              "    </tr>\n",
              "    <tr>\n",
              "      <th>17</th>\n",
              "      <td>RESULTS</td>\n",
              "      <td>mean initial clinical activity score was @ @ a...</td>\n",
              "      <td>6</td>\n",
              "      <td>12</td>\n",
              "    </tr>\n",
              "    <tr>\n",
              "      <th>18</th>\n",
              "      <td>RESULTS</td>\n",
              "      <td>there was no change in the best-corrected visu...</td>\n",
              "      <td>7</td>\n",
              "      <td>12</td>\n",
              "    </tr>\n",
              "    <tr>\n",
              "      <th>19</th>\n",
              "      <td>RESULTS</td>\n",
              "      <td>there was an increase in body weight , blood s...</td>\n",
              "      <td>8</td>\n",
              "      <td>12</td>\n",
              "    </tr>\n",
              "  </tbody>\n",
              "</table>\n",
              "</div>\n",
              "    <div class=\"colab-df-buttons\">\n",
              "\n",
              "  <div class=\"colab-df-container\">\n",
              "    <button class=\"colab-df-convert\" onclick=\"convertToInteractive('df-2a9e38be-877d-4499-b572-96889702f462')\"\n",
              "            title=\"Convert this dataframe to an interactive table.\"\n",
              "            style=\"display:none;\">\n",
              "\n",
              "  <svg xmlns=\"http://www.w3.org/2000/svg\" height=\"24px\" viewBox=\"0 -960 960 960\">\n",
              "    <path d=\"M120-120v-720h720v720H120Zm60-500h600v-160H180v160Zm220 220h160v-160H400v160Zm0 220h160v-160H400v160ZM180-400h160v-160H180v160Zm440 0h160v-160H620v160ZM180-180h160v-160H180v160Zm440 0h160v-160H620v160Z\"/>\n",
              "  </svg>\n",
              "    </button>\n",
              "\n",
              "  <style>\n",
              "    .colab-df-container {\n",
              "      display:flex;\n",
              "      gap: 12px;\n",
              "    }\n",
              "\n",
              "    .colab-df-convert {\n",
              "      background-color: #E8F0FE;\n",
              "      border: none;\n",
              "      border-radius: 50%;\n",
              "      cursor: pointer;\n",
              "      display: none;\n",
              "      fill: #1967D2;\n",
              "      height: 32px;\n",
              "      padding: 0 0 0 0;\n",
              "      width: 32px;\n",
              "    }\n",
              "\n",
              "    .colab-df-convert:hover {\n",
              "      background-color: #E2EBFA;\n",
              "      box-shadow: 0px 1px 2px rgba(60, 64, 67, 0.3), 0px 1px 3px 1px rgba(60, 64, 67, 0.15);\n",
              "      fill: #174EA6;\n",
              "    }\n",
              "\n",
              "    .colab-df-buttons div {\n",
              "      margin-bottom: 4px;\n",
              "    }\n",
              "\n",
              "    [theme=dark] .colab-df-convert {\n",
              "      background-color: #3B4455;\n",
              "      fill: #D2E3FC;\n",
              "    }\n",
              "\n",
              "    [theme=dark] .colab-df-convert:hover {\n",
              "      background-color: #434B5C;\n",
              "      box-shadow: 0px 1px 3px 1px rgba(0, 0, 0, 0.15);\n",
              "      filter: drop-shadow(0px 1px 2px rgba(0, 0, 0, 0.3));\n",
              "      fill: #FFFFFF;\n",
              "    }\n",
              "  </style>\n",
              "\n",
              "    <script>\n",
              "      const buttonEl =\n",
              "        document.querySelector('#df-2a9e38be-877d-4499-b572-96889702f462 button.colab-df-convert');\n",
              "      buttonEl.style.display =\n",
              "        google.colab.kernel.accessAllowed ? 'block' : 'none';\n",
              "\n",
              "      async function convertToInteractive(key) {\n",
              "        const element = document.querySelector('#df-2a9e38be-877d-4499-b572-96889702f462');\n",
              "        const dataTable =\n",
              "          await google.colab.kernel.invokeFunction('convertToInteractive',\n",
              "                                                    [key], {});\n",
              "        if (!dataTable) return;\n",
              "\n",
              "        const docLinkHtml = 'Like what you see? Visit the ' +\n",
              "          '<a target=\"_blank\" href=https://colab.research.google.com/notebooks/data_table.ipynb>data table notebook</a>'\n",
              "          + ' to learn more about interactive tables.';\n",
              "        element.innerHTML = '';\n",
              "        dataTable['output_type'] = 'display_data';\n",
              "        await google.colab.output.renderOutput(dataTable, element);\n",
              "        const docLink = document.createElement('div');\n",
              "        docLink.innerHTML = docLinkHtml;\n",
              "        element.appendChild(docLink);\n",
              "      }\n",
              "    </script>\n",
              "  </div>\n",
              "\n",
              "\n",
              "<div id=\"df-36d4b1e2-9b98-46f3-b991-0c7a837cd940\">\n",
              "  <button class=\"colab-df-quickchart\" onclick=\"quickchart('df-36d4b1e2-9b98-46f3-b991-0c7a837cd940')\"\n",
              "            title=\"Suggest charts.\"\n",
              "            style=\"display:none;\">\n",
              "\n",
              "<svg xmlns=\"http://www.w3.org/2000/svg\" height=\"24px\"viewBox=\"0 0 24 24\"\n",
              "     width=\"24px\">\n",
              "    <g>\n",
              "        <path d=\"M19 3H5c-1.1 0-2 .9-2 2v14c0 1.1.9 2 2 2h14c1.1 0 2-.9 2-2V5c0-1.1-.9-2-2-2zM9 17H7v-7h2v7zm4 0h-2V7h2v10zm4 0h-2v-4h2v4z\"/>\n",
              "    </g>\n",
              "</svg>\n",
              "  </button>\n",
              "\n",
              "<style>\n",
              "  .colab-df-quickchart {\n",
              "      --bg-color: #E8F0FE;\n",
              "      --fill-color: #1967D2;\n",
              "      --hover-bg-color: #E2EBFA;\n",
              "      --hover-fill-color: #174EA6;\n",
              "      --disabled-fill-color: #AAA;\n",
              "      --disabled-bg-color: #DDD;\n",
              "  }\n",
              "\n",
              "  [theme=dark] .colab-df-quickchart {\n",
              "      --bg-color: #3B4455;\n",
              "      --fill-color: #D2E3FC;\n",
              "      --hover-bg-color: #434B5C;\n",
              "      --hover-fill-color: #FFFFFF;\n",
              "      --disabled-bg-color: #3B4455;\n",
              "      --disabled-fill-color: #666;\n",
              "  }\n",
              "\n",
              "  .colab-df-quickchart {\n",
              "    background-color: var(--bg-color);\n",
              "    border: none;\n",
              "    border-radius: 50%;\n",
              "    cursor: pointer;\n",
              "    display: none;\n",
              "    fill: var(--fill-color);\n",
              "    height: 32px;\n",
              "    padding: 0;\n",
              "    width: 32px;\n",
              "  }\n",
              "\n",
              "  .colab-df-quickchart:hover {\n",
              "    background-color: var(--hover-bg-color);\n",
              "    box-shadow: 0 1px 2px rgba(60, 64, 67, 0.3), 0 1px 3px 1px rgba(60, 64, 67, 0.15);\n",
              "    fill: var(--button-hover-fill-color);\n",
              "  }\n",
              "\n",
              "  .colab-df-quickchart-complete:disabled,\n",
              "  .colab-df-quickchart-complete:disabled:hover {\n",
              "    background-color: var(--disabled-bg-color);\n",
              "    fill: var(--disabled-fill-color);\n",
              "    box-shadow: none;\n",
              "  }\n",
              "\n",
              "  .colab-df-spinner {\n",
              "    border: 2px solid var(--fill-color);\n",
              "    border-color: transparent;\n",
              "    border-bottom-color: var(--fill-color);\n",
              "    animation:\n",
              "      spin 1s steps(1) infinite;\n",
              "  }\n",
              "\n",
              "  @keyframes spin {\n",
              "    0% {\n",
              "      border-color: transparent;\n",
              "      border-bottom-color: var(--fill-color);\n",
              "      border-left-color: var(--fill-color);\n",
              "    }\n",
              "    20% {\n",
              "      border-color: transparent;\n",
              "      border-left-color: var(--fill-color);\n",
              "      border-top-color: var(--fill-color);\n",
              "    }\n",
              "    30% {\n",
              "      border-color: transparent;\n",
              "      border-left-color: var(--fill-color);\n",
              "      border-top-color: var(--fill-color);\n",
              "      border-right-color: var(--fill-color);\n",
              "    }\n",
              "    40% {\n",
              "      border-color: transparent;\n",
              "      border-right-color: var(--fill-color);\n",
              "      border-top-color: var(--fill-color);\n",
              "    }\n",
              "    60% {\n",
              "      border-color: transparent;\n",
              "      border-right-color: var(--fill-color);\n",
              "    }\n",
              "    80% {\n",
              "      border-color: transparent;\n",
              "      border-right-color: var(--fill-color);\n",
              "      border-bottom-color: var(--fill-color);\n",
              "    }\n",
              "    90% {\n",
              "      border-color: transparent;\n",
              "      border-bottom-color: var(--fill-color);\n",
              "    }\n",
              "  }\n",
              "</style>\n",
              "\n",
              "  <script>\n",
              "    async function quickchart(key) {\n",
              "      const quickchartButtonEl =\n",
              "        document.querySelector('#' + key + ' button');\n",
              "      quickchartButtonEl.disabled = true;  // To prevent multiple clicks.\n",
              "      quickchartButtonEl.classList.add('colab-df-spinner');\n",
              "      try {\n",
              "        const charts = await google.colab.kernel.invokeFunction(\n",
              "            'suggestCharts', [key], {});\n",
              "      } catch (error) {\n",
              "        console.error('Error during call to suggestCharts:', error);\n",
              "      }\n",
              "      quickchartButtonEl.classList.remove('colab-df-spinner');\n",
              "      quickchartButtonEl.classList.add('colab-df-quickchart-complete');\n",
              "    }\n",
              "    (() => {\n",
              "      let quickchartButtonEl =\n",
              "        document.querySelector('#df-36d4b1e2-9b98-46f3-b991-0c7a837cd940 button');\n",
              "      quickchartButtonEl.style.display =\n",
              "        google.colab.kernel.accessAllowed ? 'block' : 'none';\n",
              "    })();\n",
              "  </script>\n",
              "</div>\n",
              "    </div>\n",
              "  </div>\n"
            ]
          },
          "metadata": {},
          "execution_count": 13
        }
      ],
      "source": [
        "train_data_200k.head(20)"
      ],
      "id": "92639d663691fd29"
    },
    {
      "cell_type": "code",
      "execution_count": null,
      "metadata": {
        "id": "4e89b850053c8d20"
      },
      "outputs": [],
      "source": [
        "dev_data"
      ],
      "id": "4e89b850053c8d20"
    },
    {
      "cell_type": "code",
      "execution_count": null,
      "metadata": {
        "id": "126aa47da0ea82a1"
      },
      "outputs": [],
      "source": [
        "train_data.target.value_counts()"
      ],
      "id": "126aa47da0ea82a1"
    },
    {
      "cell_type": "code",
      "execution_count": null,
      "metadata": {
        "id": "ccde65de9d7d1f73"
      },
      "outputs": [],
      "source": [
        "import matplotlib.pyplot as plt\n",
        "def sentences_count_in_para(data_dic = train_data_dic):\n",
        "    count = []\n",
        "    for index in range(len(data_dic) - 1):\n",
        "        count.append(data_dic[index][\"total_lines\"])\n",
        "\n",
        "    return count[1:]\n",
        "sent_count_in_para = sentences_count_in_para(data_dic = train_data_dic)\n",
        "\n"
      ],
      "id": "ccde65de9d7d1f73"
    },
    {
      "cell_type": "code",
      "execution_count": null,
      "metadata": {
        "id": "387b334e8dafe1ac"
      },
      "outputs": [],
      "source": [
        "plt.hist(sent_count_in_para)"
      ],
      "id": "387b334e8dafe1ac"
    },
    {
      "cell_type": "code",
      "execution_count": 46,
      "metadata": {
        "id": "6e4e8da7355706bb",
        "colab": {
          "base_uri": "https://localhost:8080/"
        },
        "outputId": "3ff66b0c-e855-48b8-c8f2-75775fde9c0c"
      },
      "outputs": [
        {
          "output_type": "stream",
          "name": "stderr",
          "text": [
            "/usr/local/lib/python3.10/dist-packages/sklearn/preprocessing/_encoders.py:868: FutureWarning: `sparse` was renamed to `sparse_output` in version 1.2 and will be removed in 1.4. `sparse_output` is ignored unless you leave `sparse` to its default value.\n",
            "  warnings.warn(\n",
            "/usr/local/lib/python3.10/dist-packages/sklearn/preprocessing/_encoders.py:868: FutureWarning: `sparse` was renamed to `sparse_output` in version 1.2 and will be removed in 1.4. `sparse_output` is ignored unless you leave `sparse` to its default value.\n",
            "  warnings.warn(\n",
            "/usr/local/lib/python3.10/dist-packages/sklearn/preprocessing/_encoders.py:868: FutureWarning: `sparse` was renamed to `sparse_output` in version 1.2 and will be removed in 1.4. `sparse_output` is ignored unless you leave `sparse` to its default value.\n",
            "  warnings.warn(\n"
          ]
        }
      ],
      "source": [
        "from sklearn.preprocessing import OneHotEncoder\n",
        "one_hot_enc = OneHotEncoder(sparse=False)\n",
        "train_labels_one_hot_200k = one_hot_enc.fit_transform(train_data_200k[\"target\"].to_numpy().reshape(-1,1))\n",
        "test_labels_one_hot_200k = one_hot_enc.fit_transform(test_data_200k[\"target\"].to_numpy().reshape(-1,1))\n",
        "val_labels_one_hot_200k = one_hot_enc.fit_transform(dev_data_200k[\"target\"].to_numpy().reshape(-1,1))\n",
        "\n",
        "# one Hot Encoding done in alphabetical order\n",
        "# eg. [\"BACKGROUND\",\"CONCLUSION\",\"METHODS\",\"OBJECTS\",\"RESULTS\"]\n",
        "# [0 , 0 , 1 , 0 , 0]\n",
        "\n",
        "test_labels_200k = constant(test_labels_one_hot_200k)\n",
        "train_labels_200k = constant(train_labels_one_hot_200k)\n",
        "val_labels_200k = constant(val_labels_one_hot_200k)\n",
        "\n"
      ],
      "id": "6e4e8da7355706bb"
    },
    {
      "cell_type": "code",
      "execution_count": 14,
      "metadata": {
        "id": "59c3cd4999febc2"
      },
      "outputs": [],
      "source": [
        "from sklearn.preprocessing import LabelEncoder\n",
        "label_enc = LabelEncoder()\n",
        "\n",
        "train_labels_encoded = label_enc.fit_transform(train_data_20k[\"target\"].to_numpy())\n",
        "# val_labels_encoded = label_enc.fit_transform(dev_data_200k[\"target\"].to_numpy())\n",
        "# test_labels_encoded = label_enc.fit_transform(test_data_200k[\"target\"].to_numpy())\n",
        "\n"
      ],
      "id": "59c3cd4999febc2"
    },
    {
      "cell_type": "code",
      "execution_count": 15,
      "metadata": {
        "id": "6f28a007d6e78a0d",
        "colab": {
          "base_uri": "https://localhost:8080/"
        },
        "outputId": "c17f9344-90eb-4521-b8d0-fd16010aa9f3"
      },
      "outputs": [
        {
          "output_type": "execute_result",
          "data": {
            "text/plain": [
              "array(['BACKGROUND', 'RESULTS'], dtype=object)"
            ]
          },
          "metadata": {},
          "execution_count": 15
        }
      ],
      "source": [
        "num_classes = len(label_enc.classes_)\n",
        "class_names = label_enc.classes_\n",
        "\n",
        "label_enc.inverse_transform([0,4]) # 0 = BACKGROUND\n",
        "# can access class using label_enc.inverse_transform([0,4])"
      ],
      "id": "6f28a007d6e78a0d"
    },
    {
      "cell_type": "markdown",
      "metadata": {
        "collapsed": false,
        "id": "99031a5b990dbef3"
      },
      "source": [
        "15-09-23\n",
        "> Note: DataModeling Almost done\n",
        "* Abstract:\n",
        "    * Labels:\n",
        "        1. test_labels: one hot encoded tensors\n",
        "        2. train_labels:  one hot encoded tensors shape = (180028, 5)\n",
        "        3. val_labels:\n",
        "    * Data:\n",
        "        1. train_data: pd.DataFrame\n",
        "        2. dev_data\n",
        "        3. test_data\n"
      ],
      "id": "99031a5b990dbef3"
    },
    {
      "cell_type": "markdown",
      "metadata": {
        "collapsed": false,
        "id": "571c5ddf8389901b"
      },
      "source": [
        "> note: so far we got 72% of accuracy we need more experimenting"
      ],
      "id": "571c5ddf8389901b"
    },
    {
      "cell_type": "markdown",
      "metadata": {
        "collapsed": false,
        "id": "ac5cd5f74439deb3"
      },
      "source": [
        " #### Deep Sequence Models\n",
        "\n",
        "   * Goal is preparing Data in a proper form\n",
        "   * and getting insights so that we can customize model for best result\n"
      ],
      "id": "ac5cd5f74439deb3"
    },
    {
      "cell_type": "markdown",
      "metadata": {
        "collapsed": false,
        "id": "65e33f5dd60bd856"
      },
      "source": [
        "##### Data insights\n",
        " * **avg sentence length in train data**"
      ],
      "id": "65e33f5dd60bd856"
    },
    {
      "cell_type": "markdown",
      "metadata": {
        "collapsed": false,
        "id": "5837ae8e7baa51f7"
      },
      "source": [
        "💡 most sentence length is leass than 50 mostly around 25"
      ],
      "id": "5837ae8e7baa51f7"
    },
    {
      "cell_type": "markdown",
      "metadata": {
        "collapsed": false,
        "id": "e1b59b0d2475d178"
      },
      "source": [
        "  * **Text Vectorization length we will take to 60 using above hist**"
      ],
      "id": "e1b59b0d2475d178"
    },
    {
      "cell_type": "code",
      "execution_count": 16,
      "metadata": {
        "id": "1d97de9db78d868b"
      },
      "outputs": [],
      "source": [
        "from tensorflow import keras\n",
        "from tensorflow import data\n",
        "\n"
      ],
      "id": "1d97de9db78d868b"
    },
    {
      "cell_type": "markdown",
      "metadata": {
        "collapsed": false,
        "id": "24b4c0414a211344"
      },
      "source": [
        "##### MODEL"
      ],
      "id": "24b4c0414a211344"
    },
    {
      "cell_type": "markdown",
      "metadata": {
        "collapsed": false,
        "id": "6c87aaf97e9e13c2"
      },
      "source": [],
      "id": "6c87aaf97e9e13c2"
    },
    {
      "cell_type": "markdown",
      "metadata": {
        "collapsed": false,
        "id": "3682d65a8f75bd"
      },
      "source": [
        "##### comparison base to model 1 on test data\n",
        "   | Model                    | Accuracy |   Precision   | Recall | f1 |\n",
        "    |--------------------------|----------|:-------------:|-------:|------:|\n",
        "    | base                  | 71.6605 | 0.71245|  0.71660 | 0.692418 |\n",
        "    | conv1D trained embedding |  79.430222 |   0.797181    |    0.79430 | 0.79256 |\n",
        "    \n",
        "> note : 80% accuracy on training dataset\n",
        "commented as it is taking lot of time to fit\n"
      ],
      "id": "3682d65a8f75bd"
    },
    {
      "cell_type": "code",
      "execution_count": 18,
      "metadata": {
        "id": "41076e1835fe3285"
      },
      "outputs": [],
      "source": [
        "# universal sentence encoder downloaded from tensorflow hub\n",
        "import tensorflow_hub as hub\n",
        "# embedding_layer_tfhub = hub.KerasLayer(\"../data/use\")\n",
        "\n",
        "\n",
        "tf_hub_embedding_layer = hub.KerasLayer(\"https://tfhub.dev/google/universal-sentence-encoder/4\",\n",
        "                                        trainable=False,\n",
        "                                        name=\"universal_sentence_encoder\")\n",
        "\n",
        "\n",
        "\n",
        "\n"
      ],
      "id": "41076e1835fe3285"
    },
    {
      "cell_type": "markdown",
      "metadata": {
        "collapsed": false,
        "id": "356f7dfa409e3e07"
      },
      "source": [],
      "id": "356f7dfa409e3e07"
    },
    {
      "cell_type": "markdown",
      "metadata": {
        "collapsed": false,
        "id": "1919376c05adbb87"
      },
      "source": [
        "##### character level embedding\n"
      ],
      "id": "1919376c05adbb87"
    },
    {
      "cell_type": "code",
      "execution_count": 19,
      "metadata": {
        "id": "fd9112d1480b8928",
        "colab": {
          "base_uri": "https://localhost:8080/",
          "height": 36
        },
        "outputId": "ddb5ba5e-3274-45b4-e4ae-8e2e7948b44a"
      },
      "outputs": [
        {
          "output_type": "execute_result",
          "data": {
            "text/plain": [
              "'o k   g e t   i t'"
            ],
            "application/vnd.google.colaboratory.intrinsic+json": {
              "type": "string"
            }
          },
          "metadata": {},
          "execution_count": 19
        }
      ],
      "source": [
        "def split_sen_to_char(text):\n",
        "    return \" \".join(list(text))\n",
        "\n",
        "split_sen_to_char(\"ok get it\")"
      ],
      "id": "fd9112d1480b8928"
    },
    {
      "cell_type": "code",
      "execution_count": 20,
      "metadata": {
        "id": "5983da5ac8b7bbcb"
      },
      "outputs": [],
      "source": [
        "train_chars_200k = [split_sen_to_char(sent) for sent in train_data_200k[\"text\"]]\n",
        "val_chars_200k = [split_sen_to_char(sent) for sent in dev_data_200k[\"text\"]]\n",
        "test_chars_200k = [split_sen_to_char(sent) for sent in test_data_200k[\"text\"]]\n",
        "\n",
        "train_chars_20k = [split_sen_to_char(sent) for sent in train_data_20k[\"text\"]]\n"
      ],
      "id": "5983da5ac8b7bbcb"
    },
    {
      "cell_type": "code",
      "execution_count": 21,
      "metadata": {
        "id": "347b0c2e60d479d6"
      },
      "outputs": [],
      "source": [
        "len_char = [len(sentence) for sentence in train_chars_20k]\n",
        "mean_len_char = np.mean(len_char)"
      ],
      "id": "347b0c2e60d479d6"
    },
    {
      "cell_type": "code",
      "execution_count": 22,
      "metadata": {
        "id": "336b0819ee87bec",
        "colab": {
          "base_uri": "https://localhost:8080/"
        },
        "outputId": "5ef55ecf-7a7b-4565-f116-d49cc1bc1b96"
      },
      "outputs": [
        {
          "output_type": "stream",
          "name": "stdout",
          "text": [
            "Avg no of char in sentence: 297.7297309307441 \n",
            "\n"
          ]
        }
      ],
      "source": [
        "print(f\"Avg no of char in sentence: {mean_len_char} \\n\" )\n",
        "OUTPUT_SEQ_LEN = round(mean_len_char)"
      ],
      "id": "336b0819ee87bec"
    },
    {
      "cell_type": "code",
      "execution_count": 26,
      "metadata": {
        "id": "2ed314d7c04a0b23"
      },
      "outputs": [],
      "source": [
        "# from matplotlib.pyplot import plt\n",
        "# plt.hist(len_char, bins = 20)"
      ],
      "id": "2ed314d7c04a0b23"
    },
    {
      "cell_type": "code",
      "execution_count": 27,
      "metadata": {
        "id": "faf81963b786e334"
      },
      "outputs": [],
      "source": [
        "import string\n",
        "len_all_chars = len(string.ascii_lowercase + string.digits + string.punctuation)\n"
      ],
      "id": "faf81963b786e334"
    },
    {
      "cell_type": "code",
      "execution_count": 28,
      "metadata": {
        "id": "a861f555f6f84b9e"
      },
      "outputs": [],
      "source": [
        "# token level embeding\n",
        "vectorize_char_level_layer = keras.layers.TextVectorization(max_tokens=len_all_chars,\n",
        "                                                            output_sequence_length=OUTPUT_SEQ_LEN,\n",
        "                                                            name = \"layer_char_level_vectorizeing\"\n",
        "                                                            )\n"
      ],
      "id": "a861f555f6f84b9e"
    },
    {
      "cell_type": "code",
      "execution_count": 29,
      "metadata": {
        "id": "782ef2fee21ca908"
      },
      "outputs": [],
      "source": [
        "vectorize_char_level_layer.adapt(train_chars_20k)\n",
        "OUTPUT_DIM_CHAR_LEVEL = 25\n",
        "embedding_char_level = keras.layers.Embedding(input_dim=OUTPUT_SEQ_LEN ,\n",
        "                                              output_dim=25,\n",
        "                                              mask_zero=True,\n",
        "                                              name = \"embedding_char_layer\")"
      ],
      "id": "782ef2fee21ca908"
    },
    {
      "cell_type": "code",
      "execution_count": 30,
      "metadata": {
        "id": "f6412235c441b6dc"
      },
      "outputs": [],
      "source": [
        "# train_char_dataset = data.Dataset.from_tensor_slices((train_chars, train_labels_one_hot)).batch(32).prefetch(data.AUTOTUNE)\n",
        "# val_char_dataset = data.Dataset.from_tensor_slices((val_chars, val_labels_one_hot)).batch(32).prefetch(data.AUTOTUNE)\n"
      ],
      "id": "f6412235c441b6dc"
    },
    {
      "cell_type": "markdown",
      "metadata": {
        "collapsed": false,
        "id": "b182c6a0fba25e4b"
      },
      "source": [
        "##### Multimodal Modal as described in paper"
      ],
      "id": "b182c6a0fba25e4b"
    },
    {
      "cell_type": "code",
      "execution_count": 32,
      "metadata": {
        "id": "c1baed2f76c86f9f"
      },
      "outputs": [],
      "source": [
        "from tensorflow.keras.utils import plot_model"
      ],
      "id": "c1baed2f76c86f9f"
    },
    {
      "cell_type": "markdown",
      "metadata": {
        "id": "S6q6VPutF5nR"
      },
      "source": [
        "##### comparison base to model 1 on test data\n",
        "    | Model                    | Accuracy |   Precision   | Recall | f1 |\n",
        "    |--------------------------|----------|:-------------:|-------:|------:|\n",
        "    | base                  | 71.6605 | 0.71245|  0.71660 | 0.692418 |\n",
        "    | conv1D trained embedding |  79.430222 |   0.797181    |    0.79430 | 0.79256 |\n",
        "    | model_token_and_char | 0.7386  |       |     |  |\n",
        "    \n",
        "> note : 80% accuracy on training dataset\n",
        "commented as it is taking lot of time to fit"
      ],
      "id": "S6q6VPutF5nR"
    },
    {
      "cell_type": "code",
      "execution_count": 35,
      "metadata": {
        "id": "muw8IKnIFwZ_"
      },
      "outputs": [],
      "source": [],
      "id": "muw8IKnIFwZ_"
    },
    {
      "cell_type": "markdown",
      "metadata": {
        "id": "2wZwNsoJHr3P"
      },
      "source": [
        "##### Adding positional feature embedding layer"
      ],
      "id": "2wZwNsoJHr3P"
    },
    {
      "cell_type": "code",
      "execution_count": 35,
      "metadata": {
        "id": "i5e043u2IVCC"
      },
      "outputs": [],
      "source": [],
      "id": "i5e043u2IVCC"
    },
    {
      "cell_type": "markdown",
      "metadata": {
        "id": "U7XDRei6Kx7H"
      },
      "source": [
        "#### feature engineering\n",
        "> **NOTE:** one hot encode line number as a feature of our data as position embedding layer\n",
        "\n",
        "> **NOTE:** from hist it is clear that line_number 15 is appearing in more than 10000 examples"
      ],
      "id": "U7XDRei6Kx7H"
    },
    {
      "cell_type": "code",
      "execution_count": 36,
      "metadata": {
        "id": "GyZkI_StKyas"
      },
      "outputs": [],
      "source": [
        "import tensorflow as tf\n",
        "train_line_number_one_hot_200k = tf.one_hot(train_data_200k[\"line_number\"].to_numpy(),depth = 15)\n",
        "val_line_number_one_hot_200k = tf.one_hot(dev_data_200k[\"line_number\"].to_numpy(),depth = 15)\n",
        "\n",
        "test_line_number_one_hot_200k = tf.one_hot(test_data_200k[\"line_number\"].to_numpy(),depth = 15)\n"
      ],
      "id": "GyZkI_StKyas"
    },
    {
      "cell_type": "code",
      "execution_count": 37,
      "metadata": {
        "id": "qTohqb-BLVio",
        "colab": {
          "base_uri": "https://localhost:8080/"
        },
        "outputId": "700248b1-ede7-43c8-fa14-3a1178029bbd"
      },
      "outputs": [
        {
          "output_type": "execute_result",
          "data": {
            "text/plain": [
              "(TensorShape([2211851, 20]),\n",
              " <tf.Tensor: shape=(10, 20), dtype=float32, numpy=\n",
              " array([[0., 0., 0., 0., 0., 0., 0., 0., 0., 0., 0., 1., 0., 0., 0., 0.,\n",
              "         0., 0., 0., 0.],\n",
              "        [0., 0., 0., 0., 0., 0., 0., 0., 0., 0., 0., 1., 0., 0., 0., 0.,\n",
              "         0., 0., 0., 0.],\n",
              "        [0., 0., 0., 0., 0., 0., 0., 0., 0., 0., 0., 1., 0., 0., 0., 0.,\n",
              "         0., 0., 0., 0.],\n",
              "        [0., 0., 0., 0., 0., 0., 0., 0., 0., 0., 0., 1., 0., 0., 0., 0.,\n",
              "         0., 0., 0., 0.],\n",
              "        [0., 0., 0., 0., 0., 0., 0., 0., 0., 0., 0., 1., 0., 0., 0., 0.,\n",
              "         0., 0., 0., 0.],\n",
              "        [0., 0., 0., 0., 0., 0., 0., 0., 0., 0., 0., 1., 0., 0., 0., 0.,\n",
              "         0., 0., 0., 0.],\n",
              "        [0., 0., 0., 0., 0., 0., 0., 0., 0., 0., 0., 1., 0., 0., 0., 0.,\n",
              "         0., 0., 0., 0.],\n",
              "        [0., 0., 0., 0., 0., 0., 0., 0., 0., 0., 0., 1., 0., 0., 0., 0.,\n",
              "         0., 0., 0., 0.],\n",
              "        [0., 0., 0., 0., 0., 0., 0., 0., 0., 0., 0., 1., 0., 0., 0., 0.,\n",
              "         0., 0., 0., 0.],\n",
              "        [0., 0., 0., 0., 0., 0., 0., 0., 0., 0., 0., 1., 0., 0., 0., 0.,\n",
              "         0., 0., 0., 0.]], dtype=float32)>)"
            ]
          },
          "metadata": {},
          "execution_count": 37
        }
      ],
      "source": [
        "\n",
        "train_total_lines_one_hot_200k = tf.one_hot(train_data_200k[\"total_lines\"].to_numpy(), depth=20)\n",
        "val_total_lines_one_hot_200k = tf.one_hot(dev_data_200k[\"total_lines\"].to_numpy(), depth=20)\n",
        "test_total_lines_one_hot_200k = tf.one_hot(test_data_200k[\"total_lines\"].to_numpy(), depth=20)\n",
        "\n",
        "train_total_lines_one_hot_200k.shape, train_total_lines_one_hot_200k[:10]"
      ],
      "id": "qTohqb-BLVio"
    },
    {
      "cell_type": "code",
      "execution_count": 41,
      "metadata": {
        "id": "cTRdzIT1Lj6M"
      },
      "outputs": [],
      "source": [
        "\n",
        "# from tensorflow import\n",
        "# model for token level feature\n",
        "layer_input_token = keras.layers.Input(shape=[],\n",
        "                                 dtype=tf.string,name=\"layer_input_token\")\n",
        "layer_embedding_token = tf_hub_embedding_layer(layer_input_token)\n",
        "layer_output_token = keras.layers.Dense(128,activation=\"relu\")(layer_embedding_token)\n",
        "model_token = keras.Model(inputs = layer_input_token,\n",
        "                          outputs = layer_output_token)\n",
        "\n",
        "\n",
        "# model for char level feature\n",
        "\n",
        "\n",
        "\n",
        "\n",
        "input_char = keras.layers.Input(shape=(1,),\n",
        "                                 dtype=tf.string,\n",
        "                                name=\"layer_input_char\")\n",
        "char_vecotorizer = vectorize_char_level_layer(input_char)\n",
        "\n",
        "layer_embedding_char = embedding_char_level(char_vecotorizer)\n",
        "\n",
        "layer_output_char_bidir = keras.layers.Bidirectional(keras.layers.LSTM(25))(layer_embedding_char)\n",
        "model_char = keras.Model(inputs = input_char,\n",
        "                          outputs = layer_output_char_bidir)\n",
        "\n",
        "\n",
        "# concatenation combine 1 and 2\n",
        "\n",
        "token_char_concat = keras.layers.Concatenate(name=\"token_char_hybrid_embedding\")([model_token.output, model_char.output])\n",
        "\n",
        "z = keras.layers.Dense(256,activation = \"relu\")(token_char_concat)\n",
        "z = keras.layers.Dropout(0.5)(z)\n",
        "\n",
        "\n",
        "# model for token line_number feature\n",
        "line_number_inputs = keras.layers.Input(shape= (15,), dtype = tf.float32,name = \"line_number_input\")\n",
        "\n",
        "x = keras.layers.Dense(32,activation = \"relu\" )(line_number_inputs)\n",
        "\n",
        "line_number_model = keras.Model(inputs = line_number_inputs,\n",
        "                                outputs = x)\n",
        "# model for total_lines level feature\n",
        "\n",
        "total_line_inputs = keras.layers.Input(shape= (20,), dtype = tf.float32, name = \"toal_lines_input\")\n",
        "\n",
        "y = keras.layers.Dense(32,activation = \"relu\" )(total_line_inputs)\n",
        "\n",
        "toal_lines_model = keras.Model(inputs = total_line_inputs,\n",
        "                                outputs = y)\n",
        "\n",
        "# combine outputs of z, line_number model, total_lines model\n",
        "\n",
        "tribrid_embedding = keras.layers.Concatenate(name = \"concatenation_of_char_token_positional_embedding\")([line_number_model.output,toal_lines_model.output,z])\n",
        "\n",
        "# layer that accepts aboube concatenated embedding\n",
        "\n",
        "output_layer = keras.layers.Dense(5,activation = 'softmax',name = \"final_output\")(tribrid_embedding)\n",
        "\n",
        "model_with_extra_feature = keras.Model(inputs = [line_number_model.input,toal_lines_model.input,model_token.input,model_char.input],\n",
        "                                       outputs = output_layer)\n",
        "\n",
        "\n",
        "# 5. Construct model with char and token inputs\n",
        "\n"
      ],
      "id": "cTRdzIT1Lj6M"
    },
    {
      "cell_type": "code",
      "execution_count": 42,
      "metadata": {
        "id": "kzUm1nkXL0XD",
        "colab": {
          "base_uri": "https://localhost:8080/",
          "height": 856
        },
        "outputId": "63166652-fcd8-49fb-c932-408b0e2efc4d"
      },
      "outputs": [
        {
          "output_type": "execute_result",
          "data": {
            "image/png": "[encoded data removed]",
            "text/plain": [
              "<IPython.core.display.Image object>"
            ]
          },
          "metadata": {},
          "execution_count": 42
        }
      ],
      "source": [
        "plot_model(model_with_extra_feature)"
      ],
      "id": "kzUm1nkXL0XD"
    },
    {
      "cell_type": "code",
      "execution_count": 43,
      "metadata": {
        "id": "Nqasv5UnWT_7"
      },
      "outputs": [],
      "source": [
        "\n",
        "\n",
        "model_with_extra_feature.compile(loss=tf.keras.losses.CategoricalCrossentropy(label_smoothing=0.2),\n",
        "                optimizer=tf.keras.optimizers.Adam(),\n",
        "                metrics=[\"accuracy\"])"
      ],
      "id": "Nqasv5UnWT_7"
    },
    {
      "cell_type": "code",
      "execution_count": 47,
      "metadata": {
        "id": "ZUbjRivabgmg"
      },
      "outputs": [],
      "source": [
        "\n",
        "train_pos_char_token_data = tf.data.Dataset.from_tensor_slices((train_line_number_one_hot_200k, # line numbers\n",
        "                                                                train_total_lines_one_hot_200k, # total lines\n",
        "                                                                train_data_200k[\"text\"], # train tokens\n",
        "                                                                train_chars_200k)) # train chars\n",
        "train_pos_char_token_labels = tf.data.Dataset.from_tensor_slices(train_labels_200k) # train labels\n",
        "train_pos_char_token_dataset = tf.data.Dataset.zip((train_pos_char_token_data, train_pos_char_token_labels)) # combine data and labels\n",
        "train_pos_char_token_dataset = train_pos_char_token_dataset.batch(32).prefetch(tf.data.AUTOTUNE) # turn into batches and prefetch appropriately\n",
        "\n",
        "# Validation dataset\n",
        "val_pos_char_token_data = tf.data.Dataset.from_tensor_slices((val_line_number_one_hot_200k,\n",
        "                                                              val_total_lines_one_hot_200k,\n",
        "                                                              dev_data_200k[\"text\"],\n",
        "                                                              val_chars_200k))\n",
        "val_pos_char_token_labels = tf.data.Dataset.from_tensor_slices(val_labels_one_hot_200k)\n",
        "val_pos_char_token_dataset = tf.data.Dataset.zip((val_pos_char_token_data, val_pos_char_token_labels))\n",
        "val_pos_char_token_dataset = val_pos_char_token_dataset.batch(32).prefetch(tf.data.AUTOTUNE)"
      ],
      "id": "ZUbjRivabgmg"
    },
    {
      "cell_type": "code",
      "execution_count": null,
      "metadata": {
        "id": "mWHqTiRGcW4h"
      },
      "outputs": [],
      "source": [
        "val_pos_char_token_dataset"
      ],
      "id": "mWHqTiRGcW4h"
    },
    {
      "cell_type": "code",
      "execution_count": 48,
      "metadata": {
        "id": "VGcwBqDPc0Ll",
        "colab": {
          "base_uri": "https://localhost:8080/"
        },
        "outputId": "ec44a83b-cc4e-42ad-d11e-6e537b1683df"
      },
      "outputs": [
        {
          "output_type": "stream",
          "name": "stdout",
          "text": [
            "Epoch 1/3\n",
            "6912/6912 [==============================] - 347s 48ms/step - loss: 0.9397 - accuracy: 0.8300 - val_loss: 0.9075 - val_accuracy: 0.8521\n",
            "Epoch 2/3\n",
            "6912/6912 [==============================] - 309s 45ms/step - loss: 0.9067 - accuracy: 0.8526 - val_loss: 0.8951 - val_accuracy: 0.8656\n",
            "Epoch 3/3\n",
            "6912/6912 [==============================] - 308s 45ms/step - loss: 0.9024 - accuracy: 0.8555 - val_loss: 0.8887 - val_accuracy: 0.8646\n"
          ]
        }
      ],
      "source": [
        "\n",
        "# Fit the token, char and positional embedding model\n",
        "model_with_extra_feature_history = model_with_extra_feature.fit(train_pos_char_token_dataset,\n",
        "                              steps_per_epoch=int(0.1 * len(train_pos_char_token_dataset)),\n",
        "                              epochs=3,\n",
        "                              validation_data=val_pos_char_token_dataset,\n",
        "                              validation_steps=int(0.1 * len(val_pos_char_token_dataset)))"
      ],
      "id": "VGcwBqDPc0Ll"
    },
    {
      "cell_type": "code",
      "execution_count": 49,
      "metadata": {
        "id": "YEKbCRvHdWyX"
      },
      "outputs": [],
      "source": [
        "random_med_para = 'This RCT examined the efficacy of a manualized social intervention for children with HFASDs. Participants were randomly assigned to treatment or wait-list conditions. Treatment included instruction and therapeutic activities targeting social skills, face-emotion recognition, interest expansion, and interpretation of non-literal language. A response-cost program was applied to reduce problem behaviors and foster skills acquisition. Significant treatment effects were found for five of seven primary outcome measures (parent ratings and direct child measures). Secondary measures based on staff ratings (treatment group only) corroborated gains reported by parents. High levels of parent, child and staff satisfaction were reported, along with high levels of treatment fidelity. Standardized effect size estimates were primarily in the medium and large ranges and favored the treatment group.'"
      ],
      "id": "YEKbCRvHdWyX"
    },
    {
      "cell_type": "code",
      "execution_count": 50,
      "metadata": {
        "id": "UThnkUmYXKHZ",
        "colab": {
          "base_uri": "https://localhost:8080/",
          "height": 210
        },
        "outputId": "14cb0977-2a47-4a31-f788-547e52612cf1"
      },
      "outputs": [
        {
          "output_type": "error",
          "ename": "FileNotFoundError",
          "evalue": "ignored",
          "traceback": [
            "\u001b[0;31m---------------------------------------------------------------------------\u001b[0m",
            "\u001b[0;31mFileNotFoundError\u001b[0m                         Traceback (most recent call last)",
            "\u001b[0;32m<ipython-input-50-922c3c4b10a6>\u001b[0m in \u001b[0;36m<cell line: 1>\u001b[0;34m()\u001b[0m\n\u001b[0;32m----> 1\u001b[0;31m \u001b[0mtest_file\u001b[0m \u001b[0;34m=\u001b[0m \u001b[0mopen\u001b[0m\u001b[0;34m(\u001b[0m\u001b[0;34m\"./test.txt\"\u001b[0m\u001b[0;34m,\u001b[0m\u001b[0;34m'r'\u001b[0m\u001b[0;34m)\u001b[0m\u001b[0;34m\u001b[0m\u001b[0;34m\u001b[0m\u001b[0m\n\u001b[0m\u001b[1;32m      2\u001b[0m \u001b[0mtext\u001b[0m \u001b[0;34m=\u001b[0m \u001b[0mtest_file\u001b[0m\u001b[0;34m.\u001b[0m\u001b[0mread\u001b[0m\u001b[0;34m(\u001b[0m\u001b[0;34m)\u001b[0m\u001b[0;34m\u001b[0m\u001b[0;34m\u001b[0m\u001b[0m\n\u001b[1;32m      3\u001b[0m \u001b[0mrandom_med_para\u001b[0m \u001b[0;34m=\u001b[0m \u001b[0mtext\u001b[0m\u001b[0;34m.\u001b[0m\u001b[0mreplace\u001b[0m\u001b[0;34m(\u001b[0m\u001b[0;34m\"\\n\"\u001b[0m\u001b[0;34m,\u001b[0m\u001b[0;34m\"\"\u001b[0m\u001b[0;34m)\u001b[0m\u001b[0;34m\u001b[0m\u001b[0;34m\u001b[0m\u001b[0m\n",
            "\u001b[0;31mFileNotFoundError\u001b[0m: [Errno 2] No such file or directory: './test.txt'"
          ]
        }
      ],
      "source": [
        "test_file = open(\"./test.txt\",'r')\n",
        "text = test_file.read()\n",
        "random_med_para = text.replace(\"\\n\",\"\")"
      ],
      "id": "UThnkUmYXKHZ"
    },
    {
      "cell_type": "code",
      "execution_count": 51,
      "metadata": {
        "id": "dz-iR-p-B-h3",
        "colab": {
          "base_uri": "https://localhost:8080/",
          "height": 105
        },
        "outputId": "db1bc6af-ce71-4285-d6f6-edd2beaaaa9e"
      },
      "outputs": [
        {
          "output_type": "execute_result",
          "data": {
            "text/plain": [
              "'This RCT examined the efficacy of a manualized social intervention for children with HFASDs. Participants were randomly assigned to treatment or wait-list conditions. Treatment included instruction and therapeutic activities targeting social skills, face-emotion recognition, interest expansion, and interpretation of non-literal language. A response-cost program was applied to reduce problem behaviors and foster skills acquisition. Significant treatment effects were found for five of seven primary outcome measures (parent ratings and direct child measures). Secondary measures based on staff ratings (treatment group only) corroborated gains reported by parents. High levels of parent, child and staff satisfaction were reported, along with high levels of treatment fidelity. Standardized effect size estimates were primarily in the medium and large ranges and favored the treatment group.'"
            ],
            "application/vnd.google.colaboratory.intrinsic+json": {
              "type": "string"
            }
          },
          "metadata": {},
          "execution_count": 51
        }
      ],
      "source": [
        "random_med_para"
      ],
      "id": "dz-iR-p-B-h3"
    },
    {
      "cell_type": "markdown",
      "metadata": {
        "id": "xbVClJyvZLY9"
      },
      "source": [
        "##### On random data"
      ],
      "id": "xbVClJyvZLY9"
    },
    {
      "cell_type": "code",
      "execution_count": 52,
      "metadata": {
        "id": "tWnC9tQ4ZQl-",
        "colab": {
          "base_uri": "https://localhost:8080/",
          "height": 300
        },
        "outputId": "99a8e055-b0a8-488e-c1e3-16b80db38440"
      },
      "outputs": [
        {
          "output_type": "execute_result",
          "data": {
            "text/plain": [
              "                                                text  line_number  total_lines\n",
              "0  This RCT examined the efficacy of a manualized...            0            8\n",
              "1  Participants were randomly assigned to treatme...            1            8\n",
              "2  Treatment included instruction and therapeutic...            2            8\n",
              "3  A response-cost program was applied to reduce ...            3            8\n",
              "4  Significant treatment effects were found for f...            4            8\n",
              "5  Secondary measures based on staff ratings (tre...            5            8\n",
              "6  High levels of parent, child and staff satisfa...            6            8\n",
              "7  Standardized effect size estimates were primar...            7            8"
            ],
            "text/html": [
              "\n",
              "  <div id=\"df-f47bd4bc-41fb-4fc9-896c-bf7e8e694ce5\" class=\"colab-df-container\">\n",
              "    <div>\n",
              "<style scoped>\n",
              "    .dataframe tbody tr th:only-of-type {\n",
              "        vertical-align: middle;\n",
              "    }\n",
              "\n",
              "    .dataframe tbody tr th {\n",
              "        vertical-align: top;\n",
              "    }\n",
              "\n",
              "    .dataframe thead th {\n",
              "        text-align: right;\n",
              "    }\n",
              "</style>\n",
              "<table border=\"1\" class=\"dataframe\">\n",
              "  <thead>\n",
              "    <tr style=\"text-align: right;\">\n",
              "      <th></th>\n",
              "      <th>text</th>\n",
              "      <th>line_number</th>\n",
              "      <th>total_lines</th>\n",
              "    </tr>\n",
              "  </thead>\n",
              "  <tbody>\n",
              "    <tr>\n",
              "      <th>0</th>\n",
              "      <td>This RCT examined the efficacy of a manualized...</td>\n",
              "      <td>0</td>\n",
              "      <td>8</td>\n",
              "    </tr>\n",
              "    <tr>\n",
              "      <th>1</th>\n",
              "      <td>Participants were randomly assigned to treatme...</td>\n",
              "      <td>1</td>\n",
              "      <td>8</td>\n",
              "    </tr>\n",
              "    <tr>\n",
              "      <th>2</th>\n",
              "      <td>Treatment included instruction and therapeutic...</td>\n",
              "      <td>2</td>\n",
              "      <td>8</td>\n",
              "    </tr>\n",
              "    <tr>\n",
              "      <th>3</th>\n",
              "      <td>A response-cost program was applied to reduce ...</td>\n",
              "      <td>3</td>\n",
              "      <td>8</td>\n",
              "    </tr>\n",
              "    <tr>\n",
              "      <th>4</th>\n",
              "      <td>Significant treatment effects were found for f...</td>\n",
              "      <td>4</td>\n",
              "      <td>8</td>\n",
              "    </tr>\n",
              "    <tr>\n",
              "      <th>5</th>\n",
              "      <td>Secondary measures based on staff ratings (tre...</td>\n",
              "      <td>5</td>\n",
              "      <td>8</td>\n",
              "    </tr>\n",
              "    <tr>\n",
              "      <th>6</th>\n",
              "      <td>High levels of parent, child and staff satisfa...</td>\n",
              "      <td>6</td>\n",
              "      <td>8</td>\n",
              "    </tr>\n",
              "    <tr>\n",
              "      <th>7</th>\n",
              "      <td>Standardized effect size estimates were primar...</td>\n",
              "      <td>7</td>\n",
              "      <td>8</td>\n",
              "    </tr>\n",
              "  </tbody>\n",
              "</table>\n",
              "</div>\n",
              "    <div class=\"colab-df-buttons\">\n",
              "\n",
              "  <div class=\"colab-df-container\">\n",
              "    <button class=\"colab-df-convert\" onclick=\"convertToInteractive('df-f47bd4bc-41fb-4fc9-896c-bf7e8e694ce5')\"\n",
              "            title=\"Convert this dataframe to an interactive table.\"\n",
              "            style=\"display:none;\">\n",
              "\n",
              "  <svg xmlns=\"http://www.w3.org/2000/svg\" height=\"24px\" viewBox=\"0 -960 960 960\">\n",
              "    <path d=\"M120-120v-720h720v720H120Zm60-500h600v-160H180v160Zm220 220h160v-160H400v160Zm0 220h160v-160H400v160ZM180-400h160v-160H180v160Zm440 0h160v-160H620v160ZM180-180h160v-160H180v160Zm440 0h160v-160H620v160Z\"/>\n",
              "  </svg>\n",
              "    </button>\n",
              "\n",
              "  <style>\n",
              "    .colab-df-container {\n",
              "      display:flex;\n",
              "      gap: 12px;\n",
              "    }\n",
              "\n",
              "    .colab-df-convert {\n",
              "      background-color: #E8F0FE;\n",
              "      border: none;\n",
              "      border-radius: 50%;\n",
              "      cursor: pointer;\n",
              "      display: none;\n",
              "      fill: #1967D2;\n",
              "      height: 32px;\n",
              "      padding: 0 0 0 0;\n",
              "      width: 32px;\n",
              "    }\n",
              "\n",
              "    .colab-df-convert:hover {\n",
              "      background-color: #E2EBFA;\n",
              "      box-shadow: 0px 1px 2px rgba(60, 64, 67, 0.3), 0px 1px 3px 1px rgba(60, 64, 67, 0.15);\n",
              "      fill: #174EA6;\n",
              "    }\n",
              "\n",
              "    .colab-df-buttons div {\n",
              "      margin-bottom: 4px;\n",
              "    }\n",
              "\n",
              "    [theme=dark] .colab-df-convert {\n",
              "      background-color: #3B4455;\n",
              "      fill: #D2E3FC;\n",
              "    }\n",
              "\n",
              "    [theme=dark] .colab-df-convert:hover {\n",
              "      background-color: #434B5C;\n",
              "      box-shadow: 0px 1px 3px 1px rgba(0, 0, 0, 0.15);\n",
              "      filter: drop-shadow(0px 1px 2px rgba(0, 0, 0, 0.3));\n",
              "      fill: #FFFFFF;\n",
              "    }\n",
              "  </style>\n",
              "\n",
              "    <script>\n",
              "      const buttonEl =\n",
              "        document.querySelector('#df-f47bd4bc-41fb-4fc9-896c-bf7e8e694ce5 button.colab-df-convert');\n",
              "      buttonEl.style.display =\n",
              "        google.colab.kernel.accessAllowed ? 'block' : 'none';\n",
              "\n",
              "      async function convertToInteractive(key) {\n",
              "        const element = document.querySelector('#df-f47bd4bc-41fb-4fc9-896c-bf7e8e694ce5');\n",
              "        const dataTable =\n",
              "          await google.colab.kernel.invokeFunction('convertToInteractive',\n",
              "                                                    [key], {});\n",
              "        if (!dataTable) return;\n",
              "\n",
              "        const docLinkHtml = 'Like what you see? Visit the ' +\n",
              "          '<a target=\"_blank\" href=https://colab.research.google.com/notebooks/data_table.ipynb>data table notebook</a>'\n",
              "          + ' to learn more about interactive tables.';\n",
              "        element.innerHTML = '';\n",
              "        dataTable['output_type'] = 'display_data';\n",
              "        await google.colab.output.renderOutput(dataTable, element);\n",
              "        const docLink = document.createElement('div');\n",
              "        docLink.innerHTML = docLinkHtml;\n",
              "        element.appendChild(docLink);\n",
              "      }\n",
              "    </script>\n",
              "  </div>\n",
              "\n",
              "\n",
              "<div id=\"df-a43569d7-a36e-4490-9589-84c32224ea4a\">\n",
              "  <button class=\"colab-df-quickchart\" onclick=\"quickchart('df-a43569d7-a36e-4490-9589-84c32224ea4a')\"\n",
              "            title=\"Suggest charts.\"\n",
              "            style=\"display:none;\">\n",
              "\n",
              "<svg xmlns=\"http://www.w3.org/2000/svg\" height=\"24px\"viewBox=\"0 0 24 24\"\n",
              "     width=\"24px\">\n",
              "    <g>\n",
              "        <path d=\"M19 3H5c-1.1 0-2 .9-2 2v14c0 1.1.9 2 2 2h14c1.1 0 2-.9 2-2V5c0-1.1-.9-2-2-2zM9 17H7v-7h2v7zm4 0h-2V7h2v10zm4 0h-2v-4h2v4z\"/>\n",
              "    </g>\n",
              "</svg>\n",
              "  </button>\n",
              "\n",
              "<style>\n",
              "  .colab-df-quickchart {\n",
              "      --bg-color: #E8F0FE;\n",
              "      --fill-color: #1967D2;\n",
              "      --hover-bg-color: #E2EBFA;\n",
              "      --hover-fill-color: #174EA6;\n",
              "      --disabled-fill-color: #AAA;\n",
              "      --disabled-bg-color: #DDD;\n",
              "  }\n",
              "\n",
              "  [theme=dark] .colab-df-quickchart {\n",
              "      --bg-color: #3B4455;\n",
              "      --fill-color: #D2E3FC;\n",
              "      --hover-bg-color: #434B5C;\n",
              "      --hover-fill-color: #FFFFFF;\n",
              "      --disabled-bg-color: #3B4455;\n",
              "      --disabled-fill-color: #666;\n",
              "  }\n",
              "\n",
              "  .colab-df-quickchart {\n",
              "    background-color: var(--bg-color);\n",
              "    border: none;\n",
              "    border-radius: 50%;\n",
              "    cursor: pointer;\n",
              "    display: none;\n",
              "    fill: var(--fill-color);\n",
              "    height: 32px;\n",
              "    padding: 0;\n",
              "    width: 32px;\n",
              "  }\n",
              "\n",
              "  .colab-df-quickchart:hover {\n",
              "    background-color: var(--hover-bg-color);\n",
              "    box-shadow: 0 1px 2px rgba(60, 64, 67, 0.3), 0 1px 3px 1px rgba(60, 64, 67, 0.15);\n",
              "    fill: var(--button-hover-fill-color);\n",
              "  }\n",
              "\n",
              "  .colab-df-quickchart-complete:disabled,\n",
              "  .colab-df-quickchart-complete:disabled:hover {\n",
              "    background-color: var(--disabled-bg-color);\n",
              "    fill: var(--disabled-fill-color);\n",
              "    box-shadow: none;\n",
              "  }\n",
              "\n",
              "  .colab-df-spinner {\n",
              "    border: 2px solid var(--fill-color);\n",
              "    border-color: transparent;\n",
              "    border-bottom-color: var(--fill-color);\n",
              "    animation:\n",
              "      spin 1s steps(1) infinite;\n",
              "  }\n",
              "\n",
              "  @keyframes spin {\n",
              "    0% {\n",
              "      border-color: transparent;\n",
              "      border-bottom-color: var(--fill-color);\n",
              "      border-left-color: var(--fill-color);\n",
              "    }\n",
              "    20% {\n",
              "      border-color: transparent;\n",
              "      border-left-color: var(--fill-color);\n",
              "      border-top-color: var(--fill-color);\n",
              "    }\n",
              "    30% {\n",
              "      border-color: transparent;\n",
              "      border-left-color: var(--fill-color);\n",
              "      border-top-color: var(--fill-color);\n",
              "      border-right-color: var(--fill-color);\n",
              "    }\n",
              "    40% {\n",
              "      border-color: transparent;\n",
              "      border-right-color: var(--fill-color);\n",
              "      border-top-color: var(--fill-color);\n",
              "    }\n",
              "    60% {\n",
              "      border-color: transparent;\n",
              "      border-right-color: var(--fill-color);\n",
              "    }\n",
              "    80% {\n",
              "      border-color: transparent;\n",
              "      border-right-color: var(--fill-color);\n",
              "      border-bottom-color: var(--fill-color);\n",
              "    }\n",
              "    90% {\n",
              "      border-color: transparent;\n",
              "      border-bottom-color: var(--fill-color);\n",
              "    }\n",
              "  }\n",
              "</style>\n",
              "\n",
              "  <script>\n",
              "    async function quickchart(key) {\n",
              "      const quickchartButtonEl =\n",
              "        document.querySelector('#' + key + ' button');\n",
              "      quickchartButtonEl.disabled = true;  // To prevent multiple clicks.\n",
              "      quickchartButtonEl.classList.add('colab-df-spinner');\n",
              "      try {\n",
              "        const charts = await google.colab.kernel.invokeFunction(\n",
              "            'suggestCharts', [key], {});\n",
              "      } catch (error) {\n",
              "        console.error('Error during call to suggestCharts:', error);\n",
              "      }\n",
              "      quickchartButtonEl.classList.remove('colab-df-spinner');\n",
              "      quickchartButtonEl.classList.add('colab-df-quickchart-complete');\n",
              "    }\n",
              "    (() => {\n",
              "      let quickchartButtonEl =\n",
              "        document.querySelector('#df-a43569d7-a36e-4490-9589-84c32224ea4a button');\n",
              "      quickchartButtonEl.style.display =\n",
              "        google.colab.kernel.accessAllowed ? 'block' : 'none';\n",
              "    })();\n",
              "  </script>\n",
              "</div>\n",
              "    </div>\n",
              "  </div>\n"
            ]
          },
          "metadata": {},
          "execution_count": 52
        }
      ],
      "source": [
        "# trained pipeline\n",
        " # create sentence splitting pipeline object\n",
        "\n",
        "def para_to_formatted_inp(para = random_med_para):\n",
        "  \"\"\"\n",
        "  function return list of dic obj containe text line number total lines\n",
        "  \"\"\"\n",
        "  from spacy.lang.en import English\n",
        "  nlp = English()\n",
        "  sentencizer = nlp.add_pipe(\"sentencizer\")\n",
        "  doc = nlp(para)\n",
        "  abstract_lines = [str(sent) for sent in list(doc.sents)] # return detected sentences from doc in string type (not spaCy token type)\n",
        "  total_lines = len(abstract_lines)\n",
        "  temp_list = []\n",
        "\n",
        "  i = 0\n",
        "  for line in abstract_lines:\n",
        "    temp_dict = {}\n",
        "    temp_dict[\"text\"] = line\n",
        "    temp_dict[\"line_number\"] = i\n",
        "    temp_dict[\"total_lines\"] = total_lines\n",
        "    i = i+1\n",
        "    temp_list.append(temp_dict)\n",
        "\n",
        "\n",
        "\n",
        "  return temp_list\n",
        "lines = para_to_formatted_inp()\n",
        "pd.DataFrame(lines)"
      ],
      "id": "tWnC9tQ4ZQl-"
    },
    {
      "cell_type": "code",
      "execution_count": 53,
      "metadata": {
        "id": "8svsdynpCtN1"
      },
      "outputs": [],
      "source": [
        "line_number_list = [line[\"line_number\"] for line in lines]\n",
        "total_line_list = [line[\"total_lines\"] for line in lines]\n"
      ],
      "id": "8svsdynpCtN1"
    },
    {
      "cell_type": "code",
      "execution_count": 54,
      "metadata": {
        "id": "wwM8epy1FcL6"
      },
      "outputs": [],
      "source": [
        "import tensorflow as tf"
      ],
      "id": "wwM8epy1FcL6"
    },
    {
      "cell_type": "code",
      "execution_count": 55,
      "metadata": {
        "id": "4kYau_I3Gx6L"
      },
      "outputs": [],
      "source": [
        "one_hot_line_number = tf.one_hot(line_number_list,depth = 15)\n",
        "one_hot_total_lines = tf.one_hot(total_line_list,depth = 20)\n",
        "line_list = [line[\"text\"] for line in lines]\n",
        "splitted_lines_in_chars = [split_sen_to_char(line[\"text\"]) for line in lines]\n"
      ],
      "id": "4kYau_I3Gx6L"
    },
    {
      "cell_type": "code",
      "execution_count": 55,
      "metadata": {
        "id": "0wgHe9KGG15R"
      },
      "outputs": [],
      "source": [],
      "id": "0wgHe9KGG15R"
    },
    {
      "cell_type": "code",
      "execution_count": 56,
      "metadata": {
        "id": "q3O39IUeJKvW",
        "colab": {
          "base_uri": "https://localhost:8080/"
        },
        "outputId": "b11828cd-72cf-47e5-f183-71833d4e0919"
      },
      "outputs": [
        {
          "output_type": "stream",
          "name": "stdout",
          "text": [
            "1/1 [==============================] - 3s 3s/step\n"
          ]
        }
      ],
      "source": [
        "predected = model_with_extra_feature.predict(x = (one_hot_line_number,\n",
        "                                       one_hot_total_lines,\n",
        "                                       tf.constant(line_list),\n",
        "                                       tf.constant(splitted_lines_in_chars)))"
      ],
      "id": "q3O39IUeJKvW"
    },
    {
      "cell_type": "code",
      "execution_count": 57,
      "metadata": {
        "id": "XusNDDcOJvt2"
      },
      "outputs": [],
      "source": [
        "predected = tf.argmax(predected,axis = 1)"
      ],
      "id": "XusNDDcOJvt2"
    },
    {
      "cell_type": "code",
      "execution_count": 58,
      "metadata": {
        "id": "AS2lbhobKHvM",
        "colab": {
          "base_uri": "https://localhost:8080/"
        },
        "outputId": "6108f150-4e2e-473b-ecd4-5a7c56cf0c24"
      },
      "outputs": [
        {
          "output_type": "execute_result",
          "data": {
            "text/plain": [
              "['OBJECTIVE',\n",
              " 'METHODS',\n",
              " 'METHODS',\n",
              " 'METHODS',\n",
              " 'RESULTS',\n",
              " 'METHODS',\n",
              " 'RESULTS',\n",
              " 'RESULTS']"
            ]
          },
          "metadata": {},
          "execution_count": 58
        }
      ],
      "source": [
        "test_abstract_pred_classes = [label_enc.classes_[i] for i in predected]\n",
        "test_abstract_pred_classes"
      ],
      "id": "AS2lbhobKHvM"
    },
    {
      "cell_type": "code",
      "execution_count": 59,
      "metadata": {
        "id": "5_DcNVgVK2so",
        "colab": {
          "base_uri": "https://localhost:8080/"
        },
        "outputId": "d5a9b120-d38b-4e9f-9fcd-a5b65d9303de"
      },
      "outputs": [
        {
          "output_type": "stream",
          "name": "stdout",
          "text": [
            "OBJECTIVE: This RCT examined the efficacy of a manualized social intervention for children with HFASDs.\n",
            "METHODS: Participants were randomly assigned to treatment or wait-list conditions.\n",
            "METHODS: Treatment included instruction and therapeutic activities targeting social skills, face-emotion recognition, interest expansion, and interpretation of non-literal language.\n",
            "METHODS: A response-cost program was applied to reduce problem behaviors and foster skills acquisition.\n",
            "RESULTS: Significant treatment effects were found for five of seven primary outcome measures (parent ratings and direct child measures).\n",
            "METHODS: Secondary measures based on staff ratings (treatment group only) corroborated gains reported by parents.\n",
            "RESULTS: High levels of parent, child and staff satisfaction were reported, along with high levels of treatment fidelity.\n",
            "RESULTS: Standardized effect size estimates were primarily in the medium and large ranges and favored the treatment group.\n"
          ]
        }
      ],
      "source": [
        "for i, line in enumerate(line_list):\n",
        "  print(f\"{test_abstract_pred_classes[i]}: {line}\")"
      ],
      "id": "5_DcNVgVK2so"
    },
    {
      "cell_type": "code",
      "execution_count": 75,
      "metadata": {
        "id": "PWY6uYLJLYRW",
        "colab": {
          "base_uri": "https://localhost:8080/"
        },
        "outputId": "782bb271-5d38-4fd2-b238-65db5cff820e"
      },
      "outputs": [
        {
          "output_type": "execute_result",
          "data": {
            "text/plain": [
              "{'BACKGROUND': [],\n",
              " 'OBJECTIVE': ['This RCT examined the efficacy of a manualized social intervention for children with HFASDs.'],\n",
              " 'METHODS': ['Participants were randomly assigned to treatment or wait-list conditions.',\n",
              "  'Treatment included instruction and therapeutic activities targeting social skills, face-emotion recognition, interest expansion, and interpretation of non-literal language.',\n",
              "  'A response-cost program was applied to reduce problem behaviors and foster skills acquisition.',\n",
              "  'Secondary measures based on staff ratings (treatment group only) corroborated gains reported by parents.'],\n",
              " 'RESULTS': ['Significant treatment effects were found for five of seven primary outcome measures (parent ratings and direct child measures).',\n",
              "  'High levels of parent, child and staff satisfaction were reported, along with high levels of treatment fidelity.'],\n",
              " 'CONCLUSIONS': []}"
            ]
          },
          "metadata": {},
          "execution_count": 75
        }
      ],
      "source": [
        "from tensorflow.python.ops.math_ops import Range\n",
        "def transform_para(predictions=test_abstract_pred_classes,lines_list = line_list):\n",
        "  temp_dic = {\n",
        "      \"BACKGROUND\":[],\n",
        "      \"OBJECTIVE\":[],\n",
        "      \"METHODS\":[],\n",
        "      \"RESULTS\":[],\n",
        "      \"CONCLUSIONS\":[],\n",
        "  }\n",
        "  i = 0\n",
        "  for i in range(len(lines_list )- 1):\n",
        "    pred_class = predictions[i]\n",
        "    # print(pred_class)\n",
        "    temp_dic[pred_class].append(lines_list[i])\n",
        "\n",
        "\n",
        "\n",
        "\n",
        "  return temp_dic\n",
        "\n",
        "\n",
        "transform_para()\n",
        "\n"
      ],
      "id": "PWY6uYLJLYRW"
    },
    {
      "cell_type": "markdown",
      "metadata": {
        "id": "i1t73muBSojX"
      },
      "source": [
        "This RCT examined the efficacy of a manualized social intervention for children with HFASDs. Participants were randomly assigned to treatment or wait-list conditions. Treatment included instruction and therapeutic activities targeting social skills, face-emotion recognition, interest expansion, and interpretation of non-literal language. A response-cost program was applied to reduce problem behaviors and foster skills acquisition. Significant treatment effects were found for five of seven primary outcome measures (parent ratings and direct child measures). Secondary measures based on staff ratings (treatment group only) corroborated gains reported by parents. High levels of parent, child and staff satisfaction were reported, along with high levels of treatment fidelity. Standardized effect size estimates were primarily in the medium and large ranges and favored the treatment group.\n",
        "\n",
        "\n",
        "to\n",
        "\n",
        "OBJECTIVE: This RCT examined the efficacy of a manualized social intervention for children with HFASDs.\n",
        "\n",
        "METHODS: Participants were randomly assigned to treatment or wait-list conditions.\n",
        "\n",
        "METHODS: Treatment included instruction and therapeutic activities targeting social skills, face-emotion recognition, interest expansion, and interpretation of non-literal language.\n",
        "\n",
        "METHODS: A response-cost program was applied to reduce problem behaviors and foster skills acquisition.\n",
        "\n",
        "RESULTS: Significant treatment effects were found for five of seven primary outcome measures (parent ratings and direct child measures).\n",
        "\n",
        "METHODS: Secondary measures based on staff ratings (treatment group only) corroborated gains reported by parents.\n",
        "\n",
        "RESULTS: High levels of parent, child and staff satisfaction were reported, along with high levels of treatment fidelity.\n",
        "\n",
        "RESULTS: Standardized effect size estimates were primarily in the medium and large ranges and favored the treatment group"
      ],
      "id": "i1t73muBSojX"
    },
    {
      "cell_type": "code",
      "source": [
        "from google.colab import drive\n",
        "drive.mount('/content/drive')"
      ],
      "metadata": {
        "colab": {
          "base_uri": "https://localhost:8080/"
        },
        "id": "-2JqOg1dL7oQ",
        "outputId": "ad7fef82-fc9d-4cb8-8759-799f81e9e20a"
      },
      "id": "-2JqOg1dL7oQ",
      "execution_count": 69,
      "outputs": [
        {
          "output_type": "stream",
          "name": "stdout",
          "text": [
            "Mounted at /content/drive\n"
          ]
        }
      ]
    },
    {
      "cell_type": "code",
      "source": [
        "model_with_extra_feature.save(\"drive/MyDrive/90_percent_model_200k\")\n"
      ],
      "metadata": {
        "id": "9KiEc8xXMC-_"
      },
      "id": "9KiEc8xXMC-_",
      "execution_count": 71,
      "outputs": []
    },
    {
      "cell_type": "code",
      "source": [
        "test_abstract_pred_classes"
      ],
      "metadata": {
        "colab": {
          "base_uri": "https://localhost:8080/"
        },
        "id": "MQZtkfJ4N1Ks",
        "outputId": "78ad0432-1bc7-4d03-fd5a-730d1bc5767c"
      },
      "id": "MQZtkfJ4N1Ks",
      "execution_count": 72,
      "outputs": [
        {
          "output_type": "execute_result",
          "data": {
            "text/plain": [
              "['OBJECTIVE',\n",
              " 'METHODS',\n",
              " 'METHODS',\n",
              " 'METHODS',\n",
              " 'RESULTS',\n",
              " 'METHODS',\n",
              " 'RESULTS',\n",
              " 'RESULTS']"
            ]
          },
          "metadata": {},
          "execution_count": 72
        }
      ]
    },
    {
      "cell_type": "code",
      "source": [],
      "metadata": {
        "id": "8hlS8UUJOKcE"
      },
      "id": "8hlS8UUJOKcE",
      "execution_count": null,
      "outputs": []
    }
  ],
  "metadata": {
    "accelerator": "GPU",
    "colab": {
      "provenance": [],
      "gpuType": "T4"
    },
    "kernelspec": {
      "display_name": "Python 3",
      "name": "python3"
    },
    "language_info": {
      "codemirror_mode": {
        "name": "ipython",
        "version": 2
      },
      "file_extension": ".py",
      "mimetype": "text/x-python",
      "name": "python",
      "nbconvert_exporter": "python",
      "pygments_lexer": "ipython2",
      "version": "2.7.6"
    }
  },
  "nbformat": 4,
  "nbformat_minor": 5
}