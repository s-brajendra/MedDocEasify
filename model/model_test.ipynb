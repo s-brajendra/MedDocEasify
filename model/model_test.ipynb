{
 "cells": [
  {
   "cell_type": "code",
   "execution_count": 1,
   "id": "initial_id",
   "metadata": {
    "collapsed": true,
    "ExecuteTime": {
     "end_time": "2023-09-26T07:00:42.721803700Z",
     "start_time": "2023-09-26T07:00:33.712074800Z"
    }
   },
   "outputs": [],
   "source": [
    "from tensorflow import keras"
   ]
  },
  {
   "cell_type": "code",
   "execution_count": 2,
   "outputs": [],
   "source": [
    "trained_model = keras.models.load_model(\"../saved-models/90_percent_model_2_lakh_para\")"
   ],
   "metadata": {
    "collapsed": false,
    "ExecuteTime": {
     "end_time": "2023-09-26T07:01:42.041747400Z",
     "start_time": "2023-09-26T07:01:10.365923Z"
    }
   },
   "id": "e47ee3e93d9d9236"
  },
  {
   "cell_type": "code",
   "execution_count": 7,
   "outputs": [],
   "source": [
    "random_med_para = 'This RCT examined the efficacy of a manualized social intervention for children with HFASDs. Participants were randomly assigned to treatment or wait-list conditions. Treatment included instruction and therapeutic activities targeting social skills, face-emotion recognition, interest expansion, and interpretation of non-literal language. A response-cost program was applied to reduce problem behaviors and foster skills acquisition. Significant treatment effects were found for five of seven primary outcome measures (parent ratings and direct child measures). Secondary measures based on staff ratings (treatment group only) corroborated gains reported by parents. High levels of parent, child and staff satisfaction were reported, along with high levels of treatment fidelity. Standardized effect size estimates were primarily in the medium and large ranges and favored the treatment group.'\n"
   ],
   "metadata": {
    "collapsed": false,
    "ExecuteTime": {
     "end_time": "2023-09-26T07:03:45.581365100Z",
     "start_time": "2023-09-26T07:03:45.528739700Z"
    }
   },
   "id": "21ef2e4b66597efe"
  },
  {
   "cell_type": "code",
   "execution_count": 10,
   "outputs": [
    {
     "ename": "ImportError",
     "evalue": "cannot import name 'TypeAliasType' from 'typing_extensions' (C:\\Users\\braje\\miniconda3\\envs\\ML\\Lib\\site-packages\\typing_extensions.py)",
     "output_type": "error",
     "traceback": [
      "\u001B[1;31m---------------------------------------------------------------------------\u001B[0m",
      "\u001B[1;31mImportError\u001B[0m                               Traceback (most recent call last)",
      "File \u001B[1;32m~\\miniconda3\\envs\\ML\\Lib\\site-packages\\confection\\__init__.py:38\u001B[0m\n\u001B[0;32m     37\u001B[0m \u001B[38;5;28;01mtry\u001B[39;00m:\n\u001B[1;32m---> 38\u001B[0m     \u001B[38;5;28;01mfrom\u001B[39;00m \u001B[38;5;21;01mpydantic\u001B[39;00m\u001B[38;5;21;01m.\u001B[39;00m\u001B[38;5;21;01mv1\u001B[39;00m \u001B[38;5;28;01mimport\u001B[39;00m BaseModel, Extra, ValidationError, create_model\n\u001B[0;32m     39\u001B[0m     \u001B[38;5;28;01mfrom\u001B[39;00m \u001B[38;5;21;01mpydantic\u001B[39;00m\u001B[38;5;21;01m.\u001B[39;00m\u001B[38;5;21;01mv1\u001B[39;00m\u001B[38;5;21;01m.\u001B[39;00m\u001B[38;5;21;01mfields\u001B[39;00m \u001B[38;5;28;01mimport\u001B[39;00m ModelField\n",
      "File \u001B[1;32m~\\miniconda3\\envs\\ML\\Lib\\site-packages\\pydantic\\__init__.py:12\u001B[0m\n\u001B[0;32m      4\u001B[0m \u001B[38;5;28;01mfrom\u001B[39;00m \u001B[38;5;21;01mpydantic_core\u001B[39;00m\u001B[38;5;21;01m.\u001B[39;00m\u001B[38;5;21;01mcore_schema\u001B[39;00m \u001B[38;5;28;01mimport\u001B[39;00m (\n\u001B[0;32m      5\u001B[0m     FieldSerializationInfo,\n\u001B[0;32m      6\u001B[0m     SerializationInfo,\n\u001B[1;32m   (...)\u001B[0m\n\u001B[0;32m      9\u001B[0m     ValidatorFunctionWrapHandler,\n\u001B[0;32m     10\u001B[0m )\n\u001B[1;32m---> 12\u001B[0m \u001B[38;5;28;01mfrom\u001B[39;00m \u001B[38;5;21;01m.\u001B[39;00m \u001B[38;5;28;01mimport\u001B[39;00m dataclasses\n\u001B[0;32m     13\u001B[0m \u001B[38;5;28;01mfrom\u001B[39;00m \u001B[38;5;21;01m.\u001B[39;00m\u001B[38;5;21;01m_internal\u001B[39;00m\u001B[38;5;21;01m.\u001B[39;00m\u001B[38;5;21;01m_generate_schema\u001B[39;00m \u001B[38;5;28;01mimport\u001B[39;00m GenerateSchema \u001B[38;5;28;01mas\u001B[39;00m GenerateSchema\n",
      "File \u001B[1;32m~\\miniconda3\\envs\\ML\\Lib\\site-packages\\pydantic\\dataclasses.py:11\u001B[0m\n\u001B[0;32m      9\u001B[0m \u001B[38;5;28;01mfrom\u001B[39;00m \u001B[38;5;21;01mtyping_extensions\u001B[39;00m \u001B[38;5;28;01mimport\u001B[39;00m Literal, TypeGuard, dataclass_transform\n\u001B[1;32m---> 11\u001B[0m \u001B[38;5;28;01mfrom\u001B[39;00m \u001B[38;5;21;01m.\u001B[39;00m\u001B[38;5;21;01m_internal\u001B[39;00m \u001B[38;5;28;01mimport\u001B[39;00m _config, _decorators, _typing_extra\n\u001B[0;32m     12\u001B[0m \u001B[38;5;28;01mfrom\u001B[39;00m \u001B[38;5;21;01m.\u001B[39;00m\u001B[38;5;21;01m_internal\u001B[39;00m \u001B[38;5;28;01mimport\u001B[39;00m _dataclasses \u001B[38;5;28;01mas\u001B[39;00m _pydantic_dataclasses\n",
      "File \u001B[1;32m~\\miniconda3\\envs\\ML\\Lib\\site-packages\\pydantic\\_internal\\_decorators.py:15\u001B[0m\n\u001B[0;32m     14\u001B[0m \u001B[38;5;28;01mfrom\u001B[39;00m \u001B[38;5;21;01m.\u001B[39;00m\u001B[38;5;21;01m.\u001B[39;00m\u001B[38;5;21;01merrors\u001B[39;00m \u001B[38;5;28;01mimport\u001B[39;00m PydanticUserError\n\u001B[1;32m---> 15\u001B[0m \u001B[38;5;28;01mfrom\u001B[39;00m \u001B[38;5;21;01m.\u001B[39;00m\u001B[38;5;21;01m.\u001B[39;00m\u001B[38;5;21;01mfields\u001B[39;00m \u001B[38;5;28;01mimport\u001B[39;00m ComputedFieldInfo\n\u001B[0;32m     16\u001B[0m \u001B[38;5;28;01mfrom\u001B[39;00m \u001B[38;5;21;01m.\u001B[39;00m\u001B[38;5;21;01m_core_utils\u001B[39;00m \u001B[38;5;28;01mimport\u001B[39;00m get_type_ref\n",
      "File \u001B[1;32m~\\miniconda3\\envs\\ML\\Lib\\site-packages\\pydantic\\fields.py:24\u001B[0m\n\u001B[0;32m     22\u001B[0m \u001B[38;5;28;01mfrom\u001B[39;00m \u001B[38;5;21;01mtyping_extensions\u001B[39;00m \u001B[38;5;28;01mimport\u001B[39;00m Literal, Unpack\n\u001B[1;32m---> 24\u001B[0m \u001B[38;5;28;01mfrom\u001B[39;00m \u001B[38;5;21;01m.\u001B[39;00m \u001B[38;5;28;01mimport\u001B[39;00m types\n\u001B[0;32m     25\u001B[0m \u001B[38;5;28;01mfrom\u001B[39;00m \u001B[38;5;21;01m.\u001B[39;00m\u001B[38;5;21;01m_internal\u001B[39;00m \u001B[38;5;28;01mimport\u001B[39;00m _decorators, _fields, _generics, _internal_dataclass, _repr, _typing_extra, _utils\n",
      "File \u001B[1;32m~\\miniconda3\\envs\\ML\\Lib\\site-packages\\pydantic\\types.py:33\u001B[0m\n\u001B[0;32m     31\u001B[0m \u001B[38;5;28;01mfrom\u001B[39;00m \u001B[38;5;21;01mtyping_extensions\u001B[39;00m \u001B[38;5;28;01mimport\u001B[39;00m Annotated, Literal, Protocol, deprecated\n\u001B[1;32m---> 33\u001B[0m \u001B[38;5;28;01mfrom\u001B[39;00m \u001B[38;5;21;01m.\u001B[39;00m\u001B[38;5;21;01m_internal\u001B[39;00m \u001B[38;5;28;01mimport\u001B[39;00m _fields, _internal_dataclass, _utils, _validators\n\u001B[0;32m     34\u001B[0m \u001B[38;5;28;01mfrom\u001B[39;00m \u001B[38;5;21;01m.\u001B[39;00m\u001B[38;5;21;01m_migration\u001B[39;00m \u001B[38;5;28;01mimport\u001B[39;00m getattr_migration\n",
      "File \u001B[1;32m~\\miniconda3\\envs\\ML\\Lib\\site-packages\\pydantic\\_internal\\_fields.py:13\u001B[0m\n\u001B[0;32m     11\u001B[0m \u001B[38;5;28;01mfrom\u001B[39;00m \u001B[38;5;21;01mpydantic_core\u001B[39;00m \u001B[38;5;28;01mimport\u001B[39;00m PydanticUndefined\n\u001B[1;32m---> 13\u001B[0m \u001B[38;5;28;01mfrom\u001B[39;00m \u001B[38;5;21;01m.\u001B[39;00m \u001B[38;5;28;01mimport\u001B[39;00m _typing_extra\n\u001B[0;32m     14\u001B[0m \u001B[38;5;28;01mfrom\u001B[39;00m \u001B[38;5;21;01m.\u001B[39;00m\u001B[38;5;21;01m_config\u001B[39;00m \u001B[38;5;28;01mimport\u001B[39;00m ConfigWrapper\n",
      "File \u001B[1;32m~\\miniconda3\\envs\\ML\\Lib\\site-packages\\pydantic\\_internal\\_typing_extra.py:13\u001B[0m\n\u001B[0;32m     11\u001B[0m \u001B[38;5;28;01mfrom\u001B[39;00m \u001B[38;5;21;01mtyping\u001B[39;00m \u001B[38;5;28;01mimport\u001B[39;00m TYPE_CHECKING, Any, ForwardRef\n\u001B[1;32m---> 13\u001B[0m \u001B[38;5;28;01mfrom\u001B[39;00m \u001B[38;5;21;01mtyping_extensions\u001B[39;00m \u001B[38;5;28;01mimport\u001B[39;00m Annotated, Final, Literal, TypeAliasType, TypeGuard, get_args, get_origin\n\u001B[0;32m     15\u001B[0m \u001B[38;5;28;01mif\u001B[39;00m TYPE_CHECKING:\n",
      "\u001B[1;31mImportError\u001B[0m: cannot import name 'TypeAliasType' from 'typing_extensions' (C:\\Users\\braje\\miniconda3\\envs\\ML\\Lib\\site-packages\\typing_extensions.py)",
      "\nDuring handling of the above exception, another exception occurred:\n",
      "\u001B[1;31mImportError\u001B[0m                               Traceback (most recent call last)",
      "Cell \u001B[1;32mIn[10], line 4\u001B[0m\n\u001B[0;32m      1\u001B[0m \u001B[38;5;66;03m# trained pipeline\u001B[39;00m\n\u001B[0;32m      2\u001B[0m  \u001B[38;5;66;03m# create sentence splitting pipeline object\u001B[39;00m\n\u001B[1;32m----> 4\u001B[0m \u001B[38;5;28;01mfrom\u001B[39;00m \u001B[38;5;21;01mspacy\u001B[39;00m\u001B[38;5;21;01m.\u001B[39;00m\u001B[38;5;21;01mlang\u001B[39;00m\u001B[38;5;21;01m.\u001B[39;00m\u001B[38;5;21;01men\u001B[39;00m \u001B[38;5;28;01mimport\u001B[39;00m English\n\u001B[0;32m      5\u001B[0m \u001B[38;5;28;01mdef\u001B[39;00m \u001B[38;5;21mpara_to_formatted_inp\u001B[39m(para \u001B[38;5;241m=\u001B[39m random_med_para):\n\u001B[0;32m      6\u001B[0m \u001B[38;5;250m  \u001B[39m\u001B[38;5;124;03m\"\"\"\u001B[39;00m\n\u001B[0;32m      7\u001B[0m \u001B[38;5;124;03m  function return list of dic obj containe text line number total lines\u001B[39;00m\n\u001B[0;32m      8\u001B[0m \u001B[38;5;124;03m  \"\"\"\u001B[39;00m\n",
      "File \u001B[1;32m~\\miniconda3\\envs\\ML\\Lib\\site-packages\\spacy\\__init__.py:6\u001B[0m\n\u001B[0;32m      3\u001B[0m \u001B[38;5;28;01mfrom\u001B[39;00m \u001B[38;5;21;01mtyping\u001B[39;00m \u001B[38;5;28;01mimport\u001B[39;00m Any, Dict, Iterable, Union\n\u001B[0;32m      5\u001B[0m \u001B[38;5;66;03m# set library-specific custom warning handling before doing anything else\u001B[39;00m\n\u001B[1;32m----> 6\u001B[0m \u001B[38;5;28;01mfrom\u001B[39;00m \u001B[38;5;21;01m.\u001B[39;00m\u001B[38;5;21;01merrors\u001B[39;00m \u001B[38;5;28;01mimport\u001B[39;00m setup_default_warnings\n\u001B[0;32m      8\u001B[0m setup_default_warnings()  \u001B[38;5;66;03m# noqa: E402\u001B[39;00m\n\u001B[0;32m     10\u001B[0m \u001B[38;5;66;03m# These are imported as part of the API\u001B[39;00m\n",
      "File \u001B[1;32m~\\miniconda3\\envs\\ML\\Lib\\site-packages\\spacy\\errors.py:3\u001B[0m\n\u001B[0;32m      1\u001B[0m \u001B[38;5;28;01mimport\u001B[39;00m \u001B[38;5;21;01mwarnings\u001B[39;00m\n\u001B[1;32m----> 3\u001B[0m \u001B[38;5;28;01mfrom\u001B[39;00m \u001B[38;5;21;01m.\u001B[39;00m\u001B[38;5;21;01mcompat\u001B[39;00m \u001B[38;5;28;01mimport\u001B[39;00m Literal\n\u001B[0;32m      6\u001B[0m \u001B[38;5;28;01mclass\u001B[39;00m \u001B[38;5;21;01mErrorsWithCodes\u001B[39;00m(\u001B[38;5;28mtype\u001B[39m):\n\u001B[0;32m      7\u001B[0m     \u001B[38;5;28;01mdef\u001B[39;00m \u001B[38;5;21m__getattribute__\u001B[39m(\u001B[38;5;28mself\u001B[39m, code):\n",
      "File \u001B[1;32m~\\miniconda3\\envs\\ML\\Lib\\site-packages\\spacy\\compat.py:4\u001B[0m\n\u001B[0;32m      1\u001B[0m \u001B[38;5;124;03m\"\"\"Helpers for Python and platform compatibility.\"\"\"\u001B[39;00m\n\u001B[0;32m      2\u001B[0m \u001B[38;5;28;01mimport\u001B[39;00m \u001B[38;5;21;01msys\u001B[39;00m\n\u001B[1;32m----> 4\u001B[0m \u001B[38;5;28;01mfrom\u001B[39;00m \u001B[38;5;21;01mthinc\u001B[39;00m\u001B[38;5;21;01m.\u001B[39;00m\u001B[38;5;21;01mutil\u001B[39;00m \u001B[38;5;28;01mimport\u001B[39;00m copy_array\n\u001B[0;32m      6\u001B[0m \u001B[38;5;28;01mtry\u001B[39;00m:\n\u001B[0;32m      7\u001B[0m     \u001B[38;5;28;01mimport\u001B[39;00m \u001B[38;5;21;01mcPickle\u001B[39;00m \u001B[38;5;28;01mas\u001B[39;00m \u001B[38;5;21;01mpickle\u001B[39;00m\n",
      "File \u001B[1;32m~\\miniconda3\\envs\\ML\\Lib\\site-packages\\thinc\\__init__.py:5\u001B[0m\n\u001B[0;32m      2\u001B[0m \u001B[38;5;28;01mimport\u001B[39;00m \u001B[38;5;21;01mnumpy\u001B[39;00m\n\u001B[0;32m      4\u001B[0m \u001B[38;5;28;01mfrom\u001B[39;00m \u001B[38;5;21;01m.\u001B[39;00m\u001B[38;5;21;01mabout\u001B[39;00m \u001B[38;5;28;01mimport\u001B[39;00m __version__\n\u001B[1;32m----> 5\u001B[0m \u001B[38;5;28;01mfrom\u001B[39;00m \u001B[38;5;21;01m.\u001B[39;00m\u001B[38;5;21;01mconfig\u001B[39;00m \u001B[38;5;28;01mimport\u001B[39;00m registry\n\u001B[0;32m      7\u001B[0m \u001B[38;5;66;03m# fmt: off\u001B[39;00m\n\u001B[0;32m      8\u001B[0m __all__ \u001B[38;5;241m=\u001B[39m [\n\u001B[0;32m      9\u001B[0m     \u001B[38;5;124m\"\u001B[39m\u001B[38;5;124mregistry\u001B[39m\u001B[38;5;124m\"\u001B[39m,\n\u001B[0;32m     10\u001B[0m     \u001B[38;5;124m\"\u001B[39m\u001B[38;5;124m__version__\u001B[39m\u001B[38;5;124m\"\u001B[39m,\n\u001B[0;32m     11\u001B[0m ]\n",
      "File \u001B[1;32m~\\miniconda3\\envs\\ML\\Lib\\site-packages\\thinc\\config.py:2\u001B[0m\n\u001B[0;32m      1\u001B[0m \u001B[38;5;28;01mimport\u001B[39;00m \u001B[38;5;21;01mcatalogue\u001B[39;00m\n\u001B[1;32m----> 2\u001B[0m \u001B[38;5;28;01mimport\u001B[39;00m \u001B[38;5;21;01mconfection\u001B[39;00m\n\u001B[0;32m      3\u001B[0m \u001B[38;5;28;01mfrom\u001B[39;00m \u001B[38;5;21;01mconfection\u001B[39;00m \u001B[38;5;28;01mimport\u001B[39;00m VARIABLE_RE, Config, ConfigValidationError, Promise\n\u001B[0;32m      5\u001B[0m \u001B[38;5;28;01mfrom\u001B[39;00m \u001B[38;5;21;01m.\u001B[39;00m\u001B[38;5;21;01mtypes\u001B[39;00m \u001B[38;5;28;01mimport\u001B[39;00m Decorator\n",
      "File \u001B[1;32m~\\miniconda3\\envs\\ML\\Lib\\site-packages\\confection\\__init__.py:42\u001B[0m\n\u001B[0;32m     40\u001B[0m     \u001B[38;5;28;01mfrom\u001B[39;00m \u001B[38;5;21;01mpydantic\u001B[39;00m\u001B[38;5;21;01m.\u001B[39;00m\u001B[38;5;21;01mv1\u001B[39;00m\u001B[38;5;21;01m.\u001B[39;00m\u001B[38;5;21;01mmain\u001B[39;00m \u001B[38;5;28;01mimport\u001B[39;00m ModelMetaclass\n\u001B[0;32m     41\u001B[0m \u001B[38;5;28;01mexcept\u001B[39;00m \u001B[38;5;167;01mImportError\u001B[39;00m:\n\u001B[1;32m---> 42\u001B[0m     \u001B[38;5;28;01mfrom\u001B[39;00m \u001B[38;5;21;01mpydantic\u001B[39;00m \u001B[38;5;28;01mimport\u001B[39;00m BaseModel, create_model, ValidationError, Extra  \u001B[38;5;66;03m# type: ignore\u001B[39;00m\n\u001B[0;32m     43\u001B[0m     \u001B[38;5;28;01mfrom\u001B[39;00m \u001B[38;5;21;01mpydantic\u001B[39;00m\u001B[38;5;21;01m.\u001B[39;00m\u001B[38;5;21;01mmain\u001B[39;00m \u001B[38;5;28;01mimport\u001B[39;00m ModelMetaclass  \u001B[38;5;66;03m# type: ignore\u001B[39;00m\n\u001B[0;32m     44\u001B[0m     \u001B[38;5;28;01mfrom\u001B[39;00m \u001B[38;5;21;01mpydantic\u001B[39;00m\u001B[38;5;21;01m.\u001B[39;00m\u001B[38;5;21;01mfields\u001B[39;00m \u001B[38;5;28;01mimport\u001B[39;00m ModelField  \u001B[38;5;66;03m# type: ignore\u001B[39;00m\n",
      "File \u001B[1;32m~\\miniconda3\\envs\\ML\\Lib\\site-packages\\pydantic\\__init__.py:12\u001B[0m\n\u001B[0;32m      3\u001B[0m \u001B[38;5;28;01mimport\u001B[39;00m \u001B[38;5;21;01mpydantic_core\u001B[39;00m\n\u001B[0;32m      4\u001B[0m \u001B[38;5;28;01mfrom\u001B[39;00m \u001B[38;5;21;01mpydantic_core\u001B[39;00m\u001B[38;5;21;01m.\u001B[39;00m\u001B[38;5;21;01mcore_schema\u001B[39;00m \u001B[38;5;28;01mimport\u001B[39;00m (\n\u001B[0;32m      5\u001B[0m     FieldSerializationInfo,\n\u001B[0;32m      6\u001B[0m     SerializationInfo,\n\u001B[1;32m   (...)\u001B[0m\n\u001B[0;32m      9\u001B[0m     ValidatorFunctionWrapHandler,\n\u001B[0;32m     10\u001B[0m )\n\u001B[1;32m---> 12\u001B[0m \u001B[38;5;28;01mfrom\u001B[39;00m \u001B[38;5;21;01m.\u001B[39;00m \u001B[38;5;28;01mimport\u001B[39;00m dataclasses\n\u001B[0;32m     13\u001B[0m \u001B[38;5;28;01mfrom\u001B[39;00m \u001B[38;5;21;01m.\u001B[39;00m\u001B[38;5;21;01m_internal\u001B[39;00m\u001B[38;5;21;01m.\u001B[39;00m\u001B[38;5;21;01m_generate_schema\u001B[39;00m \u001B[38;5;28;01mimport\u001B[39;00m GenerateSchema \u001B[38;5;28;01mas\u001B[39;00m GenerateSchema\n\u001B[0;32m     14\u001B[0m \u001B[38;5;28;01mfrom\u001B[39;00m \u001B[38;5;21;01m.\u001B[39;00m\u001B[38;5;21;01m_migration\u001B[39;00m \u001B[38;5;28;01mimport\u001B[39;00m getattr_migration\n",
      "File \u001B[1;32m~\\miniconda3\\envs\\ML\\Lib\\site-packages\\pydantic\\dataclasses.py:11\u001B[0m\n\u001B[0;32m      7\u001B[0m \u001B[38;5;28;01mfrom\u001B[39;00m \u001B[38;5;21;01mtyping\u001B[39;00m \u001B[38;5;28;01mimport\u001B[39;00m TYPE_CHECKING, Any, Callable, Generic, NoReturn, TypeVar, overload\n\u001B[0;32m      9\u001B[0m \u001B[38;5;28;01mfrom\u001B[39;00m \u001B[38;5;21;01mtyping_extensions\u001B[39;00m \u001B[38;5;28;01mimport\u001B[39;00m Literal, TypeGuard, dataclass_transform\n\u001B[1;32m---> 11\u001B[0m \u001B[38;5;28;01mfrom\u001B[39;00m \u001B[38;5;21;01m.\u001B[39;00m\u001B[38;5;21;01m_internal\u001B[39;00m \u001B[38;5;28;01mimport\u001B[39;00m _config, _decorators, _typing_extra\n\u001B[0;32m     12\u001B[0m \u001B[38;5;28;01mfrom\u001B[39;00m \u001B[38;5;21;01m.\u001B[39;00m\u001B[38;5;21;01m_internal\u001B[39;00m \u001B[38;5;28;01mimport\u001B[39;00m _dataclasses \u001B[38;5;28;01mas\u001B[39;00m _pydantic_dataclasses\n\u001B[0;32m     13\u001B[0m \u001B[38;5;28;01mfrom\u001B[39;00m \u001B[38;5;21;01m.\u001B[39;00m\u001B[38;5;21;01m_migration\u001B[39;00m \u001B[38;5;28;01mimport\u001B[39;00m getattr_migration\n",
      "File \u001B[1;32m~\\miniconda3\\envs\\ML\\Lib\\site-packages\\pydantic\\_internal\\_decorators.py:15\u001B[0m\n\u001B[0;32m     12\u001B[0m \u001B[38;5;28;01mfrom\u001B[39;00m \u001B[38;5;21;01mtyping_extensions\u001B[39;00m \u001B[38;5;28;01mimport\u001B[39;00m Literal, TypeAlias, is_typeddict\n\u001B[0;32m     14\u001B[0m \u001B[38;5;28;01mfrom\u001B[39;00m \u001B[38;5;21;01m.\u001B[39;00m\u001B[38;5;21;01m.\u001B[39;00m\u001B[38;5;21;01merrors\u001B[39;00m \u001B[38;5;28;01mimport\u001B[39;00m PydanticUserError\n\u001B[1;32m---> 15\u001B[0m \u001B[38;5;28;01mfrom\u001B[39;00m \u001B[38;5;21;01m.\u001B[39;00m\u001B[38;5;21;01m.\u001B[39;00m\u001B[38;5;21;01mfields\u001B[39;00m \u001B[38;5;28;01mimport\u001B[39;00m ComputedFieldInfo\n\u001B[0;32m     16\u001B[0m \u001B[38;5;28;01mfrom\u001B[39;00m \u001B[38;5;21;01m.\u001B[39;00m\u001B[38;5;21;01m_core_utils\u001B[39;00m \u001B[38;5;28;01mimport\u001B[39;00m get_type_ref\n\u001B[0;32m     17\u001B[0m \u001B[38;5;28;01mfrom\u001B[39;00m \u001B[38;5;21;01m.\u001B[39;00m\u001B[38;5;21;01m_internal_dataclass\u001B[39;00m \u001B[38;5;28;01mimport\u001B[39;00m slots_true\n",
      "File \u001B[1;32m~\\miniconda3\\envs\\ML\\Lib\\site-packages\\pydantic\\fields.py:24\u001B[0m\n\u001B[0;32m     21\u001B[0m \u001B[38;5;28;01mfrom\u001B[39;00m \u001B[38;5;21;01mpydantic_core\u001B[39;00m \u001B[38;5;28;01mimport\u001B[39;00m PydanticUndefined\n\u001B[0;32m     22\u001B[0m \u001B[38;5;28;01mfrom\u001B[39;00m \u001B[38;5;21;01mtyping_extensions\u001B[39;00m \u001B[38;5;28;01mimport\u001B[39;00m Literal, Unpack\n\u001B[1;32m---> 24\u001B[0m \u001B[38;5;28;01mfrom\u001B[39;00m \u001B[38;5;21;01m.\u001B[39;00m \u001B[38;5;28;01mimport\u001B[39;00m types\n\u001B[0;32m     25\u001B[0m \u001B[38;5;28;01mfrom\u001B[39;00m \u001B[38;5;21;01m.\u001B[39;00m\u001B[38;5;21;01m_internal\u001B[39;00m \u001B[38;5;28;01mimport\u001B[39;00m _decorators, _fields, _generics, _internal_dataclass, _repr, _typing_extra, _utils\n\u001B[0;32m     26\u001B[0m \u001B[38;5;28;01mfrom\u001B[39;00m \u001B[38;5;21;01m.\u001B[39;00m\u001B[38;5;21;01merrors\u001B[39;00m \u001B[38;5;28;01mimport\u001B[39;00m PydanticUserError\n",
      "File \u001B[1;32m~\\miniconda3\\envs\\ML\\Lib\\site-packages\\pydantic\\types.py:33\u001B[0m\n\u001B[0;32m     30\u001B[0m \u001B[38;5;28;01mfrom\u001B[39;00m \u001B[38;5;21;01mpydantic_core\u001B[39;00m \u001B[38;5;28;01mimport\u001B[39;00m CoreSchema, PydanticCustomError, core_schema\n\u001B[0;32m     31\u001B[0m \u001B[38;5;28;01mfrom\u001B[39;00m \u001B[38;5;21;01mtyping_extensions\u001B[39;00m \u001B[38;5;28;01mimport\u001B[39;00m Annotated, Literal, Protocol, deprecated\n\u001B[1;32m---> 33\u001B[0m \u001B[38;5;28;01mfrom\u001B[39;00m \u001B[38;5;21;01m.\u001B[39;00m\u001B[38;5;21;01m_internal\u001B[39;00m \u001B[38;5;28;01mimport\u001B[39;00m _fields, _internal_dataclass, _utils, _validators\n\u001B[0;32m     34\u001B[0m \u001B[38;5;28;01mfrom\u001B[39;00m \u001B[38;5;21;01m.\u001B[39;00m\u001B[38;5;21;01m_migration\u001B[39;00m \u001B[38;5;28;01mimport\u001B[39;00m getattr_migration\n\u001B[0;32m     35\u001B[0m \u001B[38;5;28;01mfrom\u001B[39;00m \u001B[38;5;21;01m.\u001B[39;00m\u001B[38;5;21;01mannotated_handlers\u001B[39;00m \u001B[38;5;28;01mimport\u001B[39;00m GetCoreSchemaHandler, GetJsonSchemaHandler\n",
      "File \u001B[1;32m~\\miniconda3\\envs\\ML\\Lib\\site-packages\\pydantic\\_internal\\_fields.py:13\u001B[0m\n\u001B[0;32m     10\u001B[0m \u001B[38;5;28;01mfrom\u001B[39;00m \u001B[38;5;21;01mannotated_types\u001B[39;00m \u001B[38;5;28;01mimport\u001B[39;00m BaseMetadata\n\u001B[0;32m     11\u001B[0m \u001B[38;5;28;01mfrom\u001B[39;00m \u001B[38;5;21;01mpydantic_core\u001B[39;00m \u001B[38;5;28;01mimport\u001B[39;00m PydanticUndefined\n\u001B[1;32m---> 13\u001B[0m \u001B[38;5;28;01mfrom\u001B[39;00m \u001B[38;5;21;01m.\u001B[39;00m \u001B[38;5;28;01mimport\u001B[39;00m _typing_extra\n\u001B[0;32m     14\u001B[0m \u001B[38;5;28;01mfrom\u001B[39;00m \u001B[38;5;21;01m.\u001B[39;00m\u001B[38;5;21;01m_config\u001B[39;00m \u001B[38;5;28;01mimport\u001B[39;00m ConfigWrapper\n\u001B[0;32m     15\u001B[0m \u001B[38;5;28;01mfrom\u001B[39;00m \u001B[38;5;21;01m.\u001B[39;00m\u001B[38;5;21;01m_repr\u001B[39;00m \u001B[38;5;28;01mimport\u001B[39;00m Representation\n",
      "File \u001B[1;32m~\\miniconda3\\envs\\ML\\Lib\\site-packages\\pydantic\\_internal\\_typing_extra.py:13\u001B[0m\n\u001B[0;32m     10\u001B[0m \u001B[38;5;28;01mfrom\u001B[39;00m \u001B[38;5;21;01mtypes\u001B[39;00m \u001B[38;5;28;01mimport\u001B[39;00m GetSetDescriptorType\n\u001B[0;32m     11\u001B[0m \u001B[38;5;28;01mfrom\u001B[39;00m \u001B[38;5;21;01mtyping\u001B[39;00m \u001B[38;5;28;01mimport\u001B[39;00m TYPE_CHECKING, Any, ForwardRef\n\u001B[1;32m---> 13\u001B[0m \u001B[38;5;28;01mfrom\u001B[39;00m \u001B[38;5;21;01mtyping_extensions\u001B[39;00m \u001B[38;5;28;01mimport\u001B[39;00m Annotated, Final, Literal, TypeAliasType, TypeGuard, get_args, get_origin\n\u001B[0;32m     15\u001B[0m \u001B[38;5;28;01mif\u001B[39;00m TYPE_CHECKING:\n\u001B[0;32m     16\u001B[0m     \u001B[38;5;28;01mfrom\u001B[39;00m \u001B[38;5;21;01m.\u001B[39;00m\u001B[38;5;21;01m_dataclasses\u001B[39;00m \u001B[38;5;28;01mimport\u001B[39;00m StandardDataclass\n",
      "\u001B[1;31mImportError\u001B[0m: cannot import name 'TypeAliasType' from 'typing_extensions' (C:\\Users\\braje\\miniconda3\\envs\\ML\\Lib\\site-packages\\typing_extensions.py)"
     ]
    }
   ],
   "source": [
    "# trained pipeline\n",
    " # create sentence splitting pipeline object\n",
    "\n",
    "from spacy.lang.en import English\n",
    "def para_to_formatted_inp(para = random_med_para):\n",
    "  \"\"\"\n",
    "  function return list of dic obj containe text line number total lines\n",
    "  \"\"\"\n",
    " \n",
    "  nlp = English()\n",
    "  sentencizer = nlp.add_pipe(\"sentencizer\")\n",
    "  doc = nlp(para)\n",
    "  abstract_lines = [str(sent) for sent in list(doc.sents)] # return detected sentences from doc in string type (not spaCy token type)\n",
    "  total_lines = len(abstract_lines)\n",
    "  temp_list = []\n",
    "\n",
    "  i = 0\n",
    "  for line in abstract_lines:\n",
    "    temp_dict = {}\n",
    "    temp_dict[\"text\"] = line\n",
    "    temp_dict[\"line_number\"] = i\n",
    "    temp_dict[\"total_lines\"] = total_lines\n",
    "    i = i+1\n",
    "    temp_list.append(temp_dict)\n",
    "\n",
    "\n",
    "\n",
    "  return temp_list\n",
    "lines = para_to_formatted_inp()\n",
    "pd.DataFrame(lines)"
   ],
   "metadata": {
    "collapsed": false,
    "ExecuteTime": {
     "end_time": "2023-09-26T07:08:16.167647500Z",
     "start_time": "2023-09-26T07:08:09.738692800Z"
    }
   },
   "id": "a637c3c62155e58d"
  },
  {
   "cell_type": "code",
   "execution_count": null,
   "outputs": [],
   "source": [
    "line_number_list = [line[\"line_number\"] for line in lines]\n",
    "total_line_list = [line[\"total_lines\"] for line in lines]\n"
   ],
   "metadata": {
    "collapsed": false
   },
   "id": "6b6bfac127374904"
  },
  {
   "cell_type": "code",
   "execution_count": null,
   "outputs": [],
   "source": [
    "import tensorflow as tf"
   ],
   "metadata": {
    "collapsed": false
   },
   "id": "d28a61ea882389b5"
  },
  {
   "cell_type": "code",
   "execution_count": null,
   "outputs": [],
   "source": [
    "one_hot_line_number = tf.one_hot(line_number_list,depth = 15)\n",
    "one_hot_total_lines = tf.one_hot(total_line_list,depth = 20)\n",
    "line_list = [line[\"text\"] for line in lines]\n",
    "splitted_lines_in_chars = [split_sen_to_char(line[\"text\"]) for line in lines]"
   ],
   "metadata": {
    "collapsed": false
   },
   "id": "97499b0ba1e52fb5"
  },
  {
   "cell_type": "code",
   "execution_count": null,
   "outputs": [],
   "source": [
    "predected = model_with_extra_feature.predict(x = (one_hot_line_number,\n",
    "                                       one_hot_total_lines,\n",
    "                                       tf.constant(line_list),\n",
    "                                       tf.constant(splitted_lines_in_chars)))"
   ],
   "metadata": {
    "collapsed": false
   },
   "id": "e612f79e9a08791"
  },
  {
   "cell_type": "code",
   "execution_count": null,
   "outputs": [],
   "source": [
    "predected = tf.argmax(predected,axis = 1)"
   ],
   "metadata": {
    "collapsed": false
   },
   "id": "5e5b1fc3f9444a25"
  },
  {
   "cell_type": "code",
   "execution_count": null,
   "outputs": [],
   "source": [
    "test_abstract_pred_classes = [label_enc.classes_[i] for i in predected]\n",
    "test_abstract_pred_classes"
   ],
   "metadata": {
    "collapsed": false
   },
   "id": "1dc7054b64712e91"
  },
  {
   "cell_type": "code",
   "execution_count": null,
   "outputs": [],
   "source": [
    "for i, line in enumerate(line_list):\n",
    "  print(f\"{test_abstract_pred_classes[i]}: {line}\")"
   ],
   "metadata": {
    "collapsed": false
   },
   "id": "b2fd5faee218e837"
  },
  {
   "cell_type": "code",
   "execution_count": null,
   "outputs": [],
   "source": [
    "from tensorflow.python.ops.math_ops import Range\n",
    "def transform_para(predictions=test_abstract_pred_classes,lines_list = line_list):\n",
    "  temp_dic = {\n",
    "      \"BACKGROUND\":[],\n",
    "      \"OBJECTIVE\":[],\n",
    "      \"METHODS\":[],\n",
    "      \"RESULTS\":[],\n",
    "      \"CONCLUSIONS\":[],\n",
    "  }\n",
    "  i = 0\n",
    "  for i in range(len(lines_list )- 1):\n",
    "    pred_class = predictions[i]\n",
    "    # print(pred_class)\n",
    "    temp_dic[pred_class].append(lines_list[i])\n",
    "\n",
    "\n",
    "\n",
    "\n",
    "  return temp_dic\n",
    "\n",
    "\n",
    "transform_para()\n",
    "\n"
   ],
   "metadata": {
    "collapsed": false
   },
   "id": "a7ed9c40645c8520"
  },
  {
   "cell_type": "code",
   "execution_count": null,
   "outputs": [],
   "source": [],
   "metadata": {
    "collapsed": false
   },
   "id": "9df1fcee485842b2"
  }
 ],
 "metadata": {
  "kernelspec": {
   "display_name": "Python 3",
   "language": "python",
   "name": "python3"
  },
  "language_info": {
   "codemirror_mode": {
    "name": "ipython",
    "version": 2
   },
   "file_extension": ".py",
   "mimetype": "text/x-python",
   "name": "python",
   "nbconvert_exporter": "python",
   "pygments_lexer": "ipython2",
   "version": "2.7.6"
  }
 },
 "nbformat": 4,
 "nbformat_minor": 5
}
