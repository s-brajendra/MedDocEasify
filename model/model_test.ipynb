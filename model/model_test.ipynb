{
 "cells": [
  {
   "cell_type": "code",
   "execution_count": 1,
   "outputs": [],
   "source": [
    "from flask import Flask\n",
    "\n",
    "app = Flask(__name__)\n",
    "\n",
    "@app.route(\"/\")\n",
    "def hello():\n",
    "    return \"Hello, World!\""
   ],
   "metadata": {
    "collapsed": false,
    "ExecuteTime": {
     "end_time": "2023-09-26T11:28:08.354996400Z",
     "start_time": "2023-09-26T11:28:08.136306900Z"
    }
   },
   "id": "bd4ce6ad501eee5b"
  },
  {
   "cell_type": "code",
   "execution_count": 2,
   "outputs": [],
   "source": [
    "def read_lines_from_txt(filename):\n",
    "    \"\"\"\n",
    "    Reads a file named filename and returns lines of text as list\n",
    "    Args:\n",
    "      filename: string of target filepath\n",
    "    Returns: list of string, one string per line as a list item\n",
    "    \"\"\"\n",
    "    with open(filename, 'r') as f:\n",
    "        return f.readlines()\n",
    "\n",
    "\n",
    "def seprate_label_from_sentence(line,line_number):\n",
    "    \"\"\"\n",
    "    seprate line with delimeter \"\\t\n",
    "\n",
    "\n",
    "    \"\"\"\n",
    "    if (line[:3] != \"###\") and (line[:2] != \"\\n\"):\n",
    "\n",
    "        lst = line.split(\"\\t\")\n",
    "        lst[1] = lst[1].replace(\"\\n\",\"\")\n",
    "        return {\"target\": lst[0],\n",
    "                \"text\": lst[1].lower(),\n",
    "                \"line_number\":line_number\n",
    "                }\n",
    "\n",
    "    else:\n",
    "        pass\n",
    "\n",
    "\n",
    "def extract_para(file_line_list):\n",
    "\n",
    "\n",
    "\n",
    "    \"\"\"\n",
    "    will create dictionary object which contains all paragraph as indexed object\n",
    "    eg. extract_para(train_txt_lines)[0] is a paragraph dict object extracted from txt file\n",
    "    eg. extract_para(train_txt_lines)[0][\"entire_para\"][0] is a paragraph's {text,target} object\n",
    "\n",
    "    return dict:\n",
    "    {\n",
    "    total_para:\n",
    "    0:\n",
    "    1:\n",
    "    .\n",
    "    .\n",
    "    total_para\n",
    "    }\n",
    "    ----------\n",
    "    index\n",
    "    {\n",
    "    entire_para: list of dic object containing target, text\n",
    "    total_lines:total lines in para\n",
    "\n",
    "    }\n",
    "\n",
    "\n",
    "    :param file_line_list: txt file path\n",
    "    :Note para is seprated by ###\n",
    "    :return: dictionary conataining total_para, indexed para dic object\n",
    "    \"\"\"\n",
    "    all_para = {\"total_para\": 0}\n",
    "    i = 0\n",
    "    line_number = 0\n",
    "    para = {\"entire_para\": [],\n",
    "            \"total_lines\": 0}\n",
    "\n",
    "    for line in file_line_list:\n",
    "        if line[:3] == '###':\n",
    "            line_number = 0 # reset line number for new para\n",
    "            all_para[i] = para\n",
    "            all_para[\"total_para\"] += 1\n",
    "            para[\"total_lines\"] = len(para[\"entire_para\"]) - 1 # None line is present in list at the end\n",
    "            para = {\"entire_para\": [],\n",
    "                    \"total_lines\": 0}\n",
    "            i += 1\n",
    "            # print(\"para: \\n\")\n",
    "            # print(para)\n",
    "            # print(\" all para: \\n\")\n",
    "            # print(all_para)\n",
    "\n",
    "\n",
    "        else:\n",
    "            if line != None :\n",
    "\n",
    "                txt_n_labels = seprate_label_from_sentence(line,line_number)\n",
    "                # print(txt_n_labels) # will return label and text dict for line\n",
    "\n",
    "                line_number += 1\n",
    "                para[\"entire_para\"].append(txt_n_labels)\n",
    "\n",
    "\n",
    "    return all_para\n",
    "\n",
    "# def extract_para(file_line_list):\n",
    "#   all_para =  {}\n",
    "#   i = 0\n",
    "#   total = 0\n",
    "#   para = {}\n",
    "\n",
    "#   for line in file_line_list:\n",
    "#     if line == r'###\\d+\\n':\n",
    "#       all_para[i] = para\n",
    "#       para = {}\n",
    "#       i++\n",
    "#     else:\n",
    "#       tex_n_label = seprate_label_from_sentence(line = line,total_line = j)\n",
    "\n",
    "#       para[\"target\"]\n",
    "\n",
    "def make_list_of_all_labeled_sentences(data_dic):\n",
    "\n",
    "    \"\"\"\n",
    "    :param data_dic: data dictionary\n",
    "    :return: list of all data which contains object\n",
    "    \"\"\"\n",
    "    dev_deta_lines = []\n",
    "    for index in range(len(data_dic) - 1):\n",
    "\n",
    "        for line in range(data_dic[index][\"total_lines\"]):\n",
    "          obj = data_dic[index][\"entire_para\"][line]\n",
    "          obj[\"total_lines\"] = data_dic[index][\"total_lines\"]\n",
    "          dev_deta_lines.append(obj)\n",
    "\n",
    "    return dev_deta_lines\n",
    "\n",
    "from sklearn.metrics import accuracy_score, precision_recall_fscore_support\n",
    "\n",
    "\n",
    "  # Calculate model accuracy\n",
    "\n",
    "def accuracy_of_model(y_true,y_pred):\n",
    "  \"\"\"\n",
    "\n",
    "\n",
    "  Args:\n",
    "      y_true: true labels in the form of a 1D array\n",
    "      y_pred: predicted labels in the form of a 1D array\n",
    "  \"\"\"\n",
    "  model_accuracy = accuracy_score(y_true, y_pred) * 100\n",
    "  # Calculate model precision, recall and f1 score using \"weighted average\n",
    "  model_precision, model_recall, model_f1, _ = precision_recall_fscore_support(y_true, y_pred, average=\"weighted\")\n",
    "  model_results = {\"accuracy\": model_accuracy,\n",
    "                  \"precision\": model_precision,\n",
    "                  \"recall\": model_recall,\n",
    "                  \"f1\": model_f1}\n",
    "  return model_results\n",
    "\n"
   ],
   "metadata": {
    "collapsed": false,
    "ExecuteTime": {
     "end_time": "2023-09-26T11:28:12.832269100Z",
     "start_time": "2023-09-26T11:28:10.502844900Z"
    }
   },
   "id": "862f68252ed823be"
  },
  {
   "cell_type": "code",
   "execution_count": 3,
   "id": "initial_id",
   "metadata": {
    "collapsed": true,
    "ExecuteTime": {
     "end_time": "2023-09-26T11:28:20.922756800Z",
     "start_time": "2023-09-26T11:28:12.782495200Z"
    }
   },
   "outputs": [],
   "source": [
    "from tensorflow import keras"
   ]
  },
  {
   "cell_type": "code",
   "execution_count": 4,
   "outputs": [],
   "source": [
    "trained_model = keras.models.load_model(\"../saved-models/90_percent_model_2_lakh_para\")"
   ],
   "metadata": {
    "collapsed": false,
    "ExecuteTime": {
     "end_time": "2023-09-26T11:28:49.330252100Z",
     "start_time": "2023-09-26T11:28:20.922756800Z"
    }
   },
   "id": "e47ee3e93d9d9236"
  },
  {
   "cell_type": "code",
   "execution_count": 5,
   "outputs": [],
   "source": [
    "random_med_para = 'This RCT examined the efficacy of a manualized social intervention for children with HFASDs. Participants were randomly assigned to treatment or wait-list conditions. Treatment included instruction and therapeutic activities targeting social skills, face-emotion recognition, interest expansion, and interpretation of non-literal language. A response-cost program was applied to reduce problem behaviors and foster skills acquisition. Significant treatment effects were found for five of seven primary outcome measures (parent ratings and direct child measures). Secondary measures based on staff ratings (treatment group only) corroborated gains reported by parents. High levels of parent, child and staff satisfaction were reported, along with high levels of treatment fidelity. Standardized effect size estimates were primarily in the medium and large ranges and favored the treatment group.'\n"
   ],
   "metadata": {
    "collapsed": false,
    "ExecuteTime": {
     "end_time": "2023-09-26T11:28:49.378433900Z",
     "start_time": "2023-09-26T11:28:49.349764700Z"
    }
   },
   "id": "21ef2e4b66597efe"
  },
  {
   "cell_type": "code",
   "execution_count": 6,
   "outputs": [
    {
     "data": {
      "text/plain": "                                                text  line_number  total_lines\n0  This RCT examined the efficacy of a manualized...            0            8\n1  Participants were randomly assigned to treatme...            1            8\n2  Treatment included instruction and therapeutic...            2            8\n3  A response-cost program was applied to reduce ...            3            8\n4  Significant treatment effects were found for f...            4            8\n5  Secondary measures based on staff ratings (tre...            5            8\n6  High levels of parent, child and staff satisfa...            6            8\n7  Standardized effect size estimates were primar...            7            8",
      "text/html": "<div>\n<style scoped>\n    .dataframe tbody tr th:only-of-type {\n        vertical-align: middle;\n    }\n\n    .dataframe tbody tr th {\n        vertical-align: top;\n    }\n\n    .dataframe thead th {\n        text-align: right;\n    }\n</style>\n<table border=\"1\" class=\"dataframe\">\n  <thead>\n    <tr style=\"text-align: right;\">\n      <th></th>\n      <th>text</th>\n      <th>line_number</th>\n      <th>total_lines</th>\n    </tr>\n  </thead>\n  <tbody>\n    <tr>\n      <th>0</th>\n      <td>This RCT examined the efficacy of a manualized...</td>\n      <td>0</td>\n      <td>8</td>\n    </tr>\n    <tr>\n      <th>1</th>\n      <td>Participants were randomly assigned to treatme...</td>\n      <td>1</td>\n      <td>8</td>\n    </tr>\n    <tr>\n      <th>2</th>\n      <td>Treatment included instruction and therapeutic...</td>\n      <td>2</td>\n      <td>8</td>\n    </tr>\n    <tr>\n      <th>3</th>\n      <td>A response-cost program was applied to reduce ...</td>\n      <td>3</td>\n      <td>8</td>\n    </tr>\n    <tr>\n      <th>4</th>\n      <td>Significant treatment effects were found for f...</td>\n      <td>4</td>\n      <td>8</td>\n    </tr>\n    <tr>\n      <th>5</th>\n      <td>Secondary measures based on staff ratings (tre...</td>\n      <td>5</td>\n      <td>8</td>\n    </tr>\n    <tr>\n      <th>6</th>\n      <td>High levels of parent, child and staff satisfa...</td>\n      <td>6</td>\n      <td>8</td>\n    </tr>\n    <tr>\n      <th>7</th>\n      <td>Standardized effect size estimates were primar...</td>\n      <td>7</td>\n      <td>8</td>\n    </tr>\n  </tbody>\n</table>\n</div>"
     },
     "execution_count": 6,
     "metadata": {},
     "output_type": "execute_result"
    }
   ],
   "source": [
    "import pandas as pd\n",
    "import spacy\n",
    "from spacy.lang.en import English\n",
    "\n",
    "def para_to_formatted_inp(para = random_med_para):\n",
    "  \"\"\"\n",
    "  function return list of dic obj containe text line number total lines\n",
    "  \"\"\"\n",
    " \n",
    "  nlp = English()\n",
    "  sentencizer = nlp.add_pipe(\"sentencizer\")\n",
    "  doc = nlp(para)\n",
    "  abstract_lines = [str(sent) for sent in list(doc.sents)] # return detected sentences from doc in string type (not spaCy token type)\n",
    "  total_lines = len(abstract_lines)\n",
    "  temp_list = []\n",
    "\n",
    "  i = 0\n",
    "  for line in abstract_lines:\n",
    "    temp_dict = {}\n",
    "    temp_dict[\"text\"] = line\n",
    "    temp_dict[\"line_number\"] = i\n",
    "    temp_dict[\"total_lines\"] = total_lines\n",
    "    i = i+1\n",
    "    temp_list.append(temp_dict)\n",
    "\n",
    "\n",
    "\n",
    "  return temp_list\n",
    "lines = para_to_formatted_inp()\n",
    "pd.DataFrame(lines)"
   ],
   "metadata": {
    "collapsed": false,
    "ExecuteTime": {
     "end_time": "2023-09-26T11:28:51.502291800Z",
     "start_time": "2023-09-26T11:28:49.373416100Z"
    }
   },
   "id": "a637c3c62155e58d"
  },
  {
   "cell_type": "code",
   "execution_count": 7,
   "outputs": [],
   "source": [
    "line_number_list = [line[\"line_number\"] for line in lines]\n",
    "total_line_list = [line[\"total_lines\"] for line in lines]\n"
   ],
   "metadata": {
    "collapsed": false,
    "ExecuteTime": {
     "end_time": "2023-09-26T11:28:51.512224500Z",
     "start_time": "2023-09-26T11:28:51.502291800Z"
    }
   },
   "id": "6b6bfac127374904"
  },
  {
   "cell_type": "code",
   "execution_count": 8,
   "outputs": [],
   "source": [
    "import tensorflow as tf"
   ],
   "metadata": {
    "collapsed": false,
    "ExecuteTime": {
     "end_time": "2023-09-26T11:28:51.529924400Z",
     "start_time": "2023-09-26T11:28:51.511215100Z"
    }
   },
   "id": "d28a61ea882389b5"
  },
  {
   "cell_type": "code",
   "execution_count": 9,
   "outputs": [],
   "source": [
    "def split_sen_to_char(text):\n",
    "    return \" \".join(list(text))\n",
    "one_hot_line_number = tf.one_hot(line_number_list,depth = 15)\n",
    "one_hot_total_lines = tf.one_hot(total_line_list,depth = 20)\n",
    "line_list = [line[\"text\"] for line in lines]\n",
    "splitted_lines_in_chars = [split_sen_to_char(line[\"text\"]) for line in lines]"
   ],
   "metadata": {
    "collapsed": false,
    "ExecuteTime": {
     "end_time": "2023-09-26T11:28:51.559349800Z",
     "start_time": "2023-09-26T11:28:51.519607400Z"
    }
   },
   "id": "97499b0ba1e52fb5"
  },
  {
   "cell_type": "code",
   "execution_count": 10,
   "outputs": [
    {
     "name": "stdout",
     "output_type": "stream",
     "text": [
      "1/1 [==============================] - 10s 10s/step\n"
     ]
    }
   ],
   "source": [
    "predected = trained_model.predict(x = (one_hot_line_number,\n",
    "                                       one_hot_total_lines,\n",
    "                                       tf.constant(line_list),\n",
    "                                       tf.constant(splitted_lines_in_chars)))"
   ],
   "metadata": {
    "collapsed": false,
    "ExecuteTime": {
     "end_time": "2023-09-26T11:29:01.254037600Z",
     "start_time": "2023-09-26T11:28:51.541264100Z"
    }
   },
   "id": "e612f79e9a08791"
  },
  {
   "cell_type": "code",
   "execution_count": 11,
   "outputs": [],
   "source": [
    "predected = tf.argmax(predected,axis = 1)"
   ],
   "metadata": {
    "collapsed": false,
    "ExecuteTime": {
     "end_time": "2023-09-26T11:29:01.293141700Z",
     "start_time": "2023-09-26T11:29:01.252502300Z"
    }
   },
   "id": "5e5b1fc3f9444a25"
  },
  {
   "cell_type": "code",
   "execution_count": 12,
   "outputs": [
    {
     "data": {
      "text/plain": "['OBJECTIVE',\n 'METHODS',\n 'METHODS',\n 'METHODS',\n 'RESULTS',\n 'METHODS',\n 'RESULTS',\n 'RESULTS']"
     },
     "execution_count": 12,
     "metadata": {},
     "output_type": "execute_result"
    }
   ],
   "source": [
    "classes_ = ['BACKGROUND', 'CONCLUSIONS', 'METHODS', 'OBJECTIVE', 'RESULTS']\n",
    "      \n",
    "test_abstract_pred_classes = [classes_[i] for i in predected]\n",
    "test_abstract_pred_classes"
   ],
   "metadata": {
    "collapsed": false,
    "ExecuteTime": {
     "end_time": "2023-09-26T11:29:01.357197500Z",
     "start_time": "2023-09-26T11:29:01.264042500Z"
    }
   },
   "id": "1dc7054b64712e91"
  },
  {
   "cell_type": "code",
   "execution_count": 13,
   "outputs": [
    {
     "name": "stdout",
     "output_type": "stream",
     "text": [
      "OBJECTIVE: This RCT examined the efficacy of a manualized social intervention for children with HFASDs.\n",
      "METHODS: Participants were randomly assigned to treatment or wait-list conditions.\n",
      "METHODS: Treatment included instruction and therapeutic activities targeting social skills, face-emotion recognition, interest expansion, and interpretation of non-literal language.\n",
      "METHODS: A response-cost program was applied to reduce problem behaviors and foster skills acquisition.\n",
      "RESULTS: Significant treatment effects were found for five of seven primary outcome measures (parent ratings and direct child measures).\n",
      "METHODS: Secondary measures based on staff ratings (treatment group only) corroborated gains reported by parents.\n",
      "RESULTS: High levels of parent, child and staff satisfaction were reported, along with high levels of treatment fidelity.\n",
      "RESULTS: Standardized effect size estimates were primarily in the medium and large ranges and favored the treatment group.\n"
     ]
    }
   ],
   "source": [
    "for i, line in enumerate(line_list):\n",
    "  print(f\"{test_abstract_pred_classes[i]}: {line}\")"
   ],
   "metadata": {
    "collapsed": false,
    "ExecuteTime": {
     "end_time": "2023-09-26T11:29:01.358197200Z",
     "start_time": "2023-09-26T11:29:01.285648400Z"
    }
   },
   "id": "b2fd5faee218e837"
  },
  {
   "cell_type": "code",
   "execution_count": 14,
   "outputs": [
    {
     "data": {
      "text/plain": "{'BACKGROUND': [],\n 'OBJECTIVE': ['This RCT examined the efficacy of a manualized social intervention for children with HFASDs.'],\n 'METHODS': ['Participants were randomly assigned to treatment or wait-list conditions.',\n  'Treatment included instruction and therapeutic activities targeting social skills, face-emotion recognition, interest expansion, and interpretation of non-literal language.',\n  'A response-cost program was applied to reduce problem behaviors and foster skills acquisition.',\n  'Secondary measures based on staff ratings (treatment group only) corroborated gains reported by parents.'],\n 'RESULTS': ['Significant treatment effects were found for five of seven primary outcome measures (parent ratings and direct child measures).',\n  'High levels of parent, child and staff satisfaction were reported, along with high levels of treatment fidelity.'],\n 'CONCLUSIONS': []}"
     },
     "execution_count": 14,
     "metadata": {},
     "output_type": "execute_result"
    }
   ],
   "source": [
    "from tensorflow.python.ops.math_ops import Range\n",
    "def transform_para(predictions=test_abstract_pred_classes,lines_list = line_list):\n",
    "  temp_dic = {\n",
    "      \"BACKGROUND\":[],\n",
    "      \"OBJECTIVE\":[],\n",
    "      \"METHODS\":[],\n",
    "      \"RESULTS\":[],\n",
    "      \"CONCLUSIONS\":[],\n",
    "  }\n",
    "  i = 0\n",
    "  for i in range(len(lines_list )- 1):\n",
    "    pred_class = predictions[i]\n",
    "    # print(pred_class)\n",
    "    temp_dic[pred_class].append(lines_list[i])\n",
    "\n",
    "\n",
    "\n",
    "\n",
    "  return temp_dic\n",
    "\n",
    "\n",
    "transform_para()\n",
    "\n"
   ],
   "metadata": {
    "collapsed": false,
    "ExecuteTime": {
     "end_time": "2023-09-26T11:29:01.365219400Z",
     "start_time": "2023-09-26T11:29:01.294204900Z"
    }
   },
   "id": "a7ed9c40645c8520"
  },
  {
   "cell_type": "code",
   "execution_count": 14,
   "outputs": [],
   "source": [],
   "metadata": {
    "collapsed": false,
    "ExecuteTime": {
     "end_time": "2023-09-26T11:29:01.366221700Z",
     "start_time": "2023-09-26T11:29:01.309553Z"
    }
   },
   "id": "9df1fcee485842b2"
  },
  {
   "cell_type": "code",
   "execution_count": null,
   "outputs": [],
   "source": [],
   "metadata": {
    "collapsed": false
   },
   "id": "90f6bba12848534"
  }
 ],
 "metadata": {
  "kernelspec": {
   "display_name": "Python 3",
   "language": "python",
   "name": "python3"
  },
  "language_info": {
   "codemirror_mode": {
    "name": "ipython",
    "version": 2
   },
   "file_extension": ".py",
   "mimetype": "text/x-python",
   "name": "python",
   "nbconvert_exporter": "python",
   "pygments_lexer": "ipython2",
   "version": "2.7.6"
  }
 },
 "nbformat": 4,
 "nbformat_minor": 5
}
