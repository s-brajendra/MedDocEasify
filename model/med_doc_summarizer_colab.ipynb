{
  "cells": [
    {
      "cell_type": "markdown",
      "source": [
        "### NLP/NLU Model Which summerizes Medical Research Paper which makes them easier to read for Student\n",
        "* In this Model We are Replicating Model proposed in paper [2017 PubMed 200k RCT](https://arxiv.org/abs/1710.06071)\n",
        "* Dateset is freely available at [GITHUB](https://github.com/Franck-Dernoncourt/pubmed-rct)"
      ],
      "metadata": {
        "collapsed": false,
        "id": "a86065325101b511"
      },
      "id": "a86065325101b511"
    },
    {
      "cell_type": "code",
      "source": [
        "def read_lines_from_txt(filename):\n",
        "    \"\"\"\n",
        "    Reads a file named filename and returns lines of text as list\n",
        "    Args:\n",
        "      filename: string of target filepath\n",
        "    Returns: list of string, one string per line as a list item\n",
        "    \"\"\"\n",
        "    with open(filename, 'r') as f:\n",
        "        return f.readlines()\n",
        "\n",
        "\n",
        "def seprate_label_from_sentence(line,line_number):\n",
        "    \"\"\"\n",
        "    seprate line with delimeter \"\\t\n",
        "\n",
        "\n",
        "    \"\"\"\n",
        "    if (line[:3] != \"###\") and (line[:2] != \"\\n\"):\n",
        "\n",
        "        lst = line.split(\"\\t\")\n",
        "        lst[1] = lst[1].replace(\"\\n\",\"\")\n",
        "        return {\"target\": lst[0],\n",
        "                \"text\": lst[1].lower(),\n",
        "                \"line_number\":line_number\n",
        "                }\n",
        "\n",
        "    else:\n",
        "        pass\n",
        "\n",
        "\n",
        "def extract_para(file_line_list):\n",
        "\n",
        "\n",
        "\n",
        "    \"\"\"\n",
        "    will create dictionary object which contains all paragraph as indexed object\n",
        "    eg. extract_para(train_txt_lines)[0] is a paragraph dict object extracted from txt file\n",
        "    eg. extract_para(train_txt_lines)[0][\"entire_para\"][0] is a paragraph's {text,target} object\n",
        "\n",
        "    return dict:\n",
        "    {\n",
        "    total_para:\n",
        "    0:\n",
        "    1:\n",
        "    .\n",
        "    .\n",
        "    total_para\n",
        "    }\n",
        "    ----------\n",
        "    index\n",
        "    {\n",
        "    entire_para: list of dic object containing target, text\n",
        "    total_lines:total lines in para\n",
        "\n",
        "    }\n",
        "\n",
        "\n",
        "    :param file_line_list: txt file path\n",
        "    :Note para is seprated by ###\n",
        "    :return: dictionary conataining total_para, indexed para dic object\n",
        "    \"\"\"\n",
        "    all_para = {\"total_para\": 0}\n",
        "    i = 0\n",
        "    line_number = 0\n",
        "    para = {\"entire_para\": [],\n",
        "            \"total_lines\": 0}\n",
        "\n",
        "    for line in file_line_list:\n",
        "        if line[:3] == '###':\n",
        "            line_number = 0 # reset line number for new para\n",
        "            all_para[i] = para\n",
        "            all_para[\"total_para\"] += 1\n",
        "            para[\"total_lines\"] = len(para[\"entire_para\"]) - 1 # None line is present in list at the end\n",
        "            para = {\"entire_para\": [],\n",
        "                    \"total_lines\": 0}\n",
        "            i += 1\n",
        "            # print(\"para: \\n\")\n",
        "            # print(para)\n",
        "            # print(\" all para: \\n\")\n",
        "            # print(all_para)\n",
        "\n",
        "\n",
        "        else:\n",
        "            if line != None :\n",
        "\n",
        "                txt_n_labels = seprate_label_from_sentence(line,line_number)\n",
        "                # print(txt_n_labels) # will return label and text dict for line\n",
        "\n",
        "                line_number += 1\n",
        "                para[\"entire_para\"].append(txt_n_labels)\n",
        "\n",
        "\n",
        "    return all_para\n",
        "\n",
        "# def extract_para(file_line_list):\n",
        "#   all_para =  {}\n",
        "#   i = 0\n",
        "#   total = 0\n",
        "#   para = {}\n",
        "\n",
        "#   for line in file_line_list:\n",
        "#     if line == r'###\\d+\\n':\n",
        "#       all_para[i] = para\n",
        "#       para = {}\n",
        "#       i++\n",
        "#     else:\n",
        "#       tex_n_label = seprate_label_from_sentence(line = line,total_line = j)\n",
        "\n",
        "#       para[\"target\"]\n",
        "\n",
        "def make_list_of_all_labeled_sentences(data_dic):\n",
        "\n",
        "    \"\"\"\n",
        "    :param data_dic: data dictionary\n",
        "    :return: list of all data which contains object\n",
        "    \"\"\"\n",
        "    dev_deta_lines = []\n",
        "    for index in range(len(data_dic) - 1):\n",
        "\n",
        "        for line in range(data_dic[index][\"total_lines\"]):\n",
        "          obj = data_dic[index][\"entire_para\"][line]\n",
        "          obj[\"total_lines\"] = data_dic[index][\"total_lines\"]\n",
        "          dev_deta_lines.append(obj)\n",
        "\n",
        "    return dev_deta_lines\n",
        "\n",
        "from sklearn.metrics import accuracy_score, precision_recall_fscore_support\n",
        "\n",
        "\n",
        "  # Calculate model accuracy\n",
        "\n",
        "def accuracy_of_model(y_true,y_pred):\n",
        "  \"\"\"\n",
        "\n",
        "\n",
        "  Args:\n",
        "      y_true: true labels in the form of a 1D array\n",
        "      y_pred: predicted labels in the form of a 1D array\n",
        "  \"\"\"\n",
        "  model_accuracy = accuracy_score(y_true, y_pred) * 100\n",
        "  # Calculate model precision, recall and f1 score using \"weighted average\n",
        "  model_precision, model_recall, model_f1, _ = precision_recall_fscore_support(y_true, y_pred, average=\"weighted\")\n",
        "  model_results = {\"accuracy\": model_accuracy,\n",
        "                  \"precision\": model_precision,\n",
        "                  \"recall\": model_recall,\n",
        "                  \"f1\": model_f1}\n",
        "  return model_results\n",
        "\n"
      ],
      "metadata": {
        "id": "wiaZB7oW70_Q"
      },
      "id": "wiaZB7oW70_Q",
      "execution_count": 27,
      "outputs": []
    },
    {
      "cell_type": "code",
      "execution_count": 28,
      "id": "initial_id",
      "metadata": {
        "collapsed": true,
        "ExecuteTime": {
          "end_time": "2023-09-24T11:16:10.110148600Z",
          "start_time": "2023-09-24T11:16:08.628210100Z"
        },
        "id": "initial_id"
      },
      "outputs": [],
      "source": [
        "import numpy as np\n",
        "\n",
        "# from helpers import helper as hf   (en - local machine)\n",
        "import pandas as pd\n",
        "\n",
        "\n",
        "\n"
      ]
    },
    {
      "cell_type": "code",
      "execution_count": 29,
      "outputs": [],
      "source": [
        "from tensorflow import constant"
      ],
      "metadata": {
        "ExecuteTime": {
          "end_time": "2023-09-24T11:17:43.504573400Z",
          "start_time": "2023-09-24T11:17:37.614065Z"
        },
        "id": "73c13183a458083c"
      },
      "id": "73c13183a458083c"
    },
    {
      "cell_type": "code",
      "execution_count": 30,
      "outputs": [
        {
          "output_type": "stream",
          "name": "stdout",
          "text": [
            "Cloning into 'pubmed-rct'...\n",
            "remote: Enumerating objects: 33, done.\u001b[K\n",
            "remote: Counting objects: 100% (8/8), done.\u001b[K\n",
            "remote: Compressing objects: 100% (3/3), done.\u001b[K\n",
            "remote: Total 33 (delta 5), reused 5 (delta 5), pack-reused 25\u001b[K\n",
            "Receiving objects: 100% (33/33), 177.08 MiB | 44.99 MiB/s, done.\n",
            "Resolving deltas: 100% (12/12), done.\n",
            "PubMed_200k_RCT\n",
            "PubMed_200k_RCT_numbers_replaced_with_at_sign\n",
            "PubMed_20k_RCT\n",
            "PubMed_20k_RCT_numbers_replaced_with_at_sign\n",
            "README.md\n"
          ]
        }
      ],
      "source": [
        "\n",
        "!git clone https://github.com/Franck-Dernoncourt/pubmed-rct.git\n",
        "!ls pubmed-rct\n",
        "\n",
        "\n",
        "# data_dir = \"../data/pubmed-rct-master/PubMed_20k_RCT_numbers_replaced_with_at_sign\"  (en - local machine)\n"
      ],
      "metadata": {
        "ExecuteTime": {
          "end_time": "2023-09-24T11:17:43.515013400Z",
          "start_time": "2023-09-24T11:17:43.509994200Z"
        },
        "colab": {
          "base_uri": "https://localhost:8080/"
        },
        "id": "be30255869220cea",
        "outputId": "cdec2795-5239-4992-8ce7-435df1d9148a"
      },
      "id": "be30255869220cea"
    },
    {
      "cell_type": "code",
      "source": [
        "data_dir = \"pubmed-rct/PubMed_20k_RCT_numbers_replaced_with_at_sign/\""
      ],
      "metadata": {
        "id": "EpUl7lyB8c9H"
      },
      "id": "EpUl7lyB8c9H",
      "execution_count": 31,
      "outputs": []
    },
    {
      "cell_type": "code",
      "execution_count": 32,
      "outputs": [],
      "source": [
        "# train_text_lines = hf.read_lines_from_txt(data_dir+\"/train.txt\")\n",
        "# test_text_lines = hf.read_lines_from_txt(data_dir+\"/test.txt\")\n",
        "# dev_text_lines = hf.read_lines_from_txt(data_dir+\"/dev.txt\")\n",
        "\n",
        "\n",
        "train_text_lines = read_lines_from_txt(data_dir+\"/train.txt\")\n",
        "test_text_lines = read_lines_from_txt(data_dir+\"/test.txt\")\n",
        "dev_text_lines = read_lines_from_txt(data_dir+\"/dev.txt\")"
      ],
      "metadata": {
        "ExecuteTime": {
          "end_time": "2023-09-24T11:17:43.666859800Z",
          "start_time": "2023-09-24T11:17:43.510504900Z"
        },
        "id": "6218c653d85de43a"
      },
      "id": "6218c653d85de43a"
    },
    {
      "cell_type": "code",
      "execution_count": 33,
      "outputs": [],
      "source": [
        "\n",
        "\n",
        "# train_data_dic = hf.extract_para(train_text_lines)\n",
        "# test_data_dic = hf.extract_para(test_text_lines)\n",
        "# dev_data_dic = hf.extract_para(dev_text_lines)\n",
        "\n",
        "train_data_dic = extract_para(train_text_lines)\n",
        "test_data_dic = extract_para(test_text_lines)\n",
        "dev_data_dic = extract_para(dev_text_lines)\n"
      ],
      "metadata": {
        "ExecuteTime": {
          "end_time": "2023-09-24T11:17:44.036044600Z",
          "start_time": "2023-09-24T11:17:43.666859800Z"
        },
        "id": "91d8258b2d6f830"
      },
      "id": "91d8258b2d6f830"
    },
    {
      "cell_type": "markdown",
      "source": [
        "* Data Modeling\n",
        "```\n",
        "# object return structure\n",
        "\n",
        "    return dict:\n",
        "    {\n",
        "        \"total_para\":\n",
        "        0:\n",
        "        1:\n",
        "        .\n",
        "        .\n",
        "        .\n",
        "    }\n",
        "\n",
        "\n",
        "    0 indexed deic structure\n",
        "    {\n",
        "        \"entire_para\": list of dic object containing target, text eg. [ { target:\n",
        "                                                                          text:\n",
        "                                                                         },\n",
        "                                                                         {\n",
        "                                                                                ..  \n",
        "                                                                         }\n",
        "                                                                       ]\n",
        "        \"total_lines\":total lines in para\n",
        "\n",
        "    }\n",
        "```"
      ],
      "metadata": {
        "collapsed": false,
        "id": "ac7b7496c05a341e"
      },
      "id": "ac7b7496c05a341e"
    },
    {
      "cell_type": "code",
      "execution_count": 34,
      "outputs": [
        {
          "output_type": "stream",
          "name": "stdout",
          "text": [
            "train:  15000 test: 2500 test: 2500\n"
          ]
        }
      ],
      "source": [
        "print( \"train: \", train_data_dic[\"total_para\"], \"test:\",\n",
        "test_data_dic[\"total_para\"], \"test:\",\n",
        "dev_data_dic[\"total_para\"]  )"
      ],
      "metadata": {
        "ExecuteTime": {
          "end_time": "2023-09-24T11:17:44.045517400Z",
          "start_time": "2023-09-24T11:17:44.036044600Z"
        },
        "colab": {
          "base_uri": "https://localhost:8080/"
        },
        "id": "17ed48228707491c",
        "outputId": "32c70d79-fc26-4825-c58f-99419a4b33ec"
      },
      "id": "17ed48228707491c"
    },
    {
      "cell_type": "code",
      "execution_count": 35,
      "outputs": [
        {
          "output_type": "execute_result",
          "data": {
            "text/plain": [
              "False"
            ]
          },
          "metadata": {},
          "execution_count": 35
        }
      ],
      "source": [
        "len(dev_data_dic[3][\"entire_para\"]) == dev_data_dic[3][\"total_lines\"]"
      ],
      "metadata": {
        "ExecuteTime": {
          "end_time": "2023-09-24T11:17:44.576467200Z",
          "start_time": "2023-09-24T11:17:44.568412900Z"
        },
        "colab": {
          "base_uri": "https://localhost:8080/"
        },
        "id": "9695baed1eaf4fc1",
        "outputId": "53596162-2af0-441a-f7cc-569c4df533ac"
      },
      "id": "9695baed1eaf4fc1"
    },
    {
      "cell_type": "code",
      "execution_count": 36,
      "outputs": [
        {
          "output_type": "execute_result",
          "data": {
            "text/plain": [
              "{'entire_para': [{'target': 'BACKGROUND',\n",
              "   'text': 'minimally invasive endovascular aneurysm repair ( evar ) could be a surgical technique that improves outcome of patients with ruptured abdominal aortic aneurysm ( raaa ) .',\n",
              "   'line_number': 0},\n",
              "  {'target': 'BACKGROUND',\n",
              "   'text': 'the aim of this study was to analyse the cost-effectiveness and cost-utility of evar compared with standard open repair ( or ) in the treatment of raaa , with costs per @-day and @-month survivor as outcome parameters .',\n",
              "   'line_number': 1},\n",
              "  {'target': 'METHODS',\n",
              "   'text': 'resource use was determined from the amsterdam acute aneurysm ( ajax ) trial , a multicentre randomized trial comparing evar with or in patients with raaa .',\n",
              "   'line_number': 2},\n",
              "  {'target': 'METHODS',\n",
              "   'text': 'the analysis was performed from a provider perspective .',\n",
              "   'line_number': 3},\n",
              "  {'target': 'METHODS',\n",
              "   'text': 'all costs were calculated as if all patients had been treated in the same hospital ( onze lieve vrouwe gasthuis , teaching hospital ) .',\n",
              "   'line_number': 4},\n",
              "  {'target': 'RESULTS',\n",
              "   'text': 'a total of @ patients were randomized .',\n",
              "   'line_number': 5},\n",
              "  {'target': 'RESULTS',\n",
              "   'text': 'the @-day mortality rate was @ per cent after evar and @ per cent for or : absolute risk reduction ( arr ) @ ( @ per cent confidence interval ( c.i. ) -@ to @ ) per cent .',\n",
              "   'line_number': 6},\n",
              "  {'target': 'RESULTS',\n",
              "   'text': 'at @months , the total mortality rate for evar was @ per cent , compared with @ per cent among those assigned to or : arr @ ( -@ to @ ) per cent .',\n",
              "   'line_number': 7},\n",
              "  {'target': 'RESULTS',\n",
              "   'text': 'the mean cost difference between evar and or was @ ( @ per cent c.i. -@ to @,@ ) at @days and @,@ ( -@ to @,@ ) at @months .',\n",
              "   'line_number': 8},\n",
              "  {'target': 'RESULTS',\n",
              "   'text': 'the incremental cost-effectiveness ratio per prevented death was @,@ at @days and @,@ at @months .',\n",
              "   'line_number': 9},\n",
              "  {'target': 'RESULTS',\n",
              "   'text': 'there was no significant difference in quality of life between evar and or .',\n",
              "   'line_number': 10},\n",
              "  {'target': 'RESULTS',\n",
              "   'text': 'nor was evar superior regarding cost-utility .',\n",
              "   'line_number': 11},\n",
              "  {'target': 'CONCLUSIONS',\n",
              "   'text': 'evar may be more effective for raaa , but its increased costs mean that it is unaffordable based on current standards of societal willingness-to-pay for health gains .',\n",
              "   'line_number': 12},\n",
              "  None],\n",
              " 'total_lines': 13}"
            ]
          },
          "metadata": {},
          "execution_count": 36
        }
      ],
      "source": [
        "test_data_dic[2]"
      ],
      "metadata": {
        "ExecuteTime": {
          "end_time": "2023-09-24T11:17:45.164482700Z",
          "start_time": "2023-09-24T11:17:45.148419200Z"
        },
        "colab": {
          "base_uri": "https://localhost:8080/"
        },
        "id": "46cc6a59ed70edf0",
        "outputId": "8be5bef0-88bf-474c-8fa9-d0eb2efd3269"
      },
      "id": "46cc6a59ed70edf0"
    },
    {
      "cell_type": "code",
      "execution_count": 37,
      "outputs": [
        {
          "output_type": "execute_result",
          "data": {
            "text/plain": [
              "{'entire_para': [{'target': 'OBJECTIVE',\n",
              "   'text': 'to determine whether plasma sclerostin levels are affected by applying whole-body vibration treatments .',\n",
              "   'line_number': 0},\n",
              "  {'target': 'METHODS',\n",
              "   'text': 'following a pilot study , the pretsent prospective , randomized , controlled single-blind study was performed on @ healthy volunteer women ( ages @ to @ years ) .',\n",
              "   'line_number': 1},\n",
              "  {'target': 'METHODS',\n",
              "   'text': 'subjects were randomly divided into @ groups , and whole-body vibration was applied to the treatment group but not to the controls .',\n",
              "   'line_number': 2},\n",
              "  {'target': 'METHODS',\n",
              "   'text': 'the plasma sclerostin levels were measured before the treatment and at the @th minute after whole-body vibration on the @st , @nd , and @th days of application .',\n",
              "   'line_number': 3},\n",
              "  {'target': 'RESULTS',\n",
              "   'text': 'the plasma sclerostin level measured at @ min after the whole-body vibration treatment increased @ % ( p = @ ) on the @st day and decreased @ % ( p = @ ) on the @th day in the whole-body vibration group .',\n",
              "   'line_number': 4},\n",
              "  {'target': 'RESULTS',\n",
              "   'text': 'in the control group , there was no change in the plasma sclerostin level at any time .',\n",
              "   'line_number': 5},\n",
              "  {'target': 'RESULTS',\n",
              "   'text': 'a progressive increase in baseline plasma sclerostin levels during the @ days of vibration sessions was also found .',\n",
              "   'line_number': 6},\n",
              "  {'target': 'CONCLUSIONS',\n",
              "   'text': 'our study demonstrated that whole-body vibration can change plasma sclerostin levels , and that this change is detectable @ min after whole-body vibration treatments .',\n",
              "   'line_number': 7},\n",
              "  None],\n",
              " 'total_lines': 8}"
            ]
          },
          "metadata": {},
          "execution_count": 37
        }
      ],
      "source": [
        "test_data_dic[80]"
      ],
      "metadata": {
        "ExecuteTime": {
          "end_time": "2023-09-24T11:17:46.052201400Z",
          "start_time": "2023-09-24T11:17:45.989564Z"
        },
        "colab": {
          "base_uri": "https://localhost:8080/"
        },
        "id": "abc5c66fd8b8460b",
        "outputId": "f3594eb8-46b4-4c77-e903-6f20515a0a30"
      },
      "id": "abc5c66fd8b8460b"
    },
    {
      "cell_type": "code",
      "execution_count": 38,
      "outputs": [],
      "source": [
        "# dev_data = pd.DataFrame(hf.make_list_of_all_labeled_sentences(dev_data_dic))\n",
        "# test_data = pd.DataFrame(hf.make_list_of_all_labeled_sentences(test_data_dic))\n",
        "# train_data = pd.DataFrame(hf.make_list_of_all_labeled_sentences(train_data_dic))\n",
        "\n",
        "dev_data = pd.DataFrame(make_list_of_all_labeled_sentences(dev_data_dic))\n",
        "test_data = pd.DataFrame(make_list_of_all_labeled_sentences(test_data_dic))\n",
        "train_data = pd.DataFrame(make_list_of_all_labeled_sentences(train_data_dic))\n",
        "\n",
        "\n",
        "\n"
      ],
      "metadata": {
        "ExecuteTime": {
          "end_time": "2023-09-24T11:17:46.915949700Z",
          "start_time": "2023-09-24T11:17:46.656528200Z"
        },
        "id": "153ffc84233b095f"
      },
      "id": "153ffc84233b095f"
    },
    {
      "cell_type": "code",
      "execution_count": 39,
      "outputs": [
        {
          "output_type": "execute_result",
          "data": {
            "text/plain": [
              "         target                                               text  \\\n",
              "0     OBJECTIVE  to investigate the efficacy of @ weeks of dail...   \n",
              "1       METHODS  a total of @ patients with primary knee oa wer...   \n",
              "2       METHODS  outcome measures included pain reduction and i...   \n",
              "3       METHODS  pain was assessed using the visual analog pain...   \n",
              "4       METHODS  secondary outcome measures included the wester...   \n",
              "5       METHODS  serum levels of interleukin @ ( il-@ ) , il-@ ...   \n",
              "6       RESULTS  there was a clinically relevant reduction in t...   \n",
              "7       RESULTS  the mean difference between treatment arms ( @...   \n",
              "8       RESULTS  further , there was a clinically relevant redu...   \n",
              "9       RESULTS  these differences remained significant at @ we...   \n",
              "10      RESULTS  the outcome measures in rheumatology clinical ...   \n",
              "11  CONCLUSIONS  low-dose oral prednisolone had both a short-te...   \n",
              "12   BACKGROUND  emotional eating is associated with overeating...   \n",
              "13   BACKGROUND  yet , empirical evidence for individual ( trai...   \n",
              "14    OBJECTIVE  the aim of this study was to test if attention...   \n",
              "15    OBJECTIVE  it was expected that emotional eating is predi...   \n",
              "16      METHODS  participants ( n = @ ) were randomly assigned ...   \n",
              "17      METHODS  attentional biases for high caloric foods were...   \n",
              "18      METHODS  self-reported emotional eating was assessed wi...   \n",
              "19      RESULTS  hierarchical multivariate regression modeling ...   \n",
              "\n",
              "    line_number  total_lines  \n",
              "0             0           12  \n",
              "1             1           12  \n",
              "2             2           12  \n",
              "3             3           12  \n",
              "4             4           12  \n",
              "5             5           12  \n",
              "6             6           12  \n",
              "7             7           12  \n",
              "8             8           12  \n",
              "9             9           12  \n",
              "10           10           12  \n",
              "11           11           12  \n",
              "12            0           11  \n",
              "13            1           11  \n",
              "14            2           11  \n",
              "15            3           11  \n",
              "16            4           11  \n",
              "17            5           11  \n",
              "18            6           11  \n",
              "19            7           11  "
            ],
            "text/html": [
              "\n",
              "  <div id=\"df-32ec4e89-520c-469a-bfe1-0d6987b551b6\" class=\"colab-df-container\">\n",
              "    <div>\n",
              "<style scoped>\n",
              "    .dataframe tbody tr th:only-of-type {\n",
              "        vertical-align: middle;\n",
              "    }\n",
              "\n",
              "    .dataframe tbody tr th {\n",
              "        vertical-align: top;\n",
              "    }\n",
              "\n",
              "    .dataframe thead th {\n",
              "        text-align: right;\n",
              "    }\n",
              "</style>\n",
              "<table border=\"1\" class=\"dataframe\">\n",
              "  <thead>\n",
              "    <tr style=\"text-align: right;\">\n",
              "      <th></th>\n",
              "      <th>target</th>\n",
              "      <th>text</th>\n",
              "      <th>line_number</th>\n",
              "      <th>total_lines</th>\n",
              "    </tr>\n",
              "  </thead>\n",
              "  <tbody>\n",
              "    <tr>\n",
              "      <th>0</th>\n",
              "      <td>OBJECTIVE</td>\n",
              "      <td>to investigate the efficacy of @ weeks of dail...</td>\n",
              "      <td>0</td>\n",
              "      <td>12</td>\n",
              "    </tr>\n",
              "    <tr>\n",
              "      <th>1</th>\n",
              "      <td>METHODS</td>\n",
              "      <td>a total of @ patients with primary knee oa wer...</td>\n",
              "      <td>1</td>\n",
              "      <td>12</td>\n",
              "    </tr>\n",
              "    <tr>\n",
              "      <th>2</th>\n",
              "      <td>METHODS</td>\n",
              "      <td>outcome measures included pain reduction and i...</td>\n",
              "      <td>2</td>\n",
              "      <td>12</td>\n",
              "    </tr>\n",
              "    <tr>\n",
              "      <th>3</th>\n",
              "      <td>METHODS</td>\n",
              "      <td>pain was assessed using the visual analog pain...</td>\n",
              "      <td>3</td>\n",
              "      <td>12</td>\n",
              "    </tr>\n",
              "    <tr>\n",
              "      <th>4</th>\n",
              "      <td>METHODS</td>\n",
              "      <td>secondary outcome measures included the wester...</td>\n",
              "      <td>4</td>\n",
              "      <td>12</td>\n",
              "    </tr>\n",
              "    <tr>\n",
              "      <th>5</th>\n",
              "      <td>METHODS</td>\n",
              "      <td>serum levels of interleukin @ ( il-@ ) , il-@ ...</td>\n",
              "      <td>5</td>\n",
              "      <td>12</td>\n",
              "    </tr>\n",
              "    <tr>\n",
              "      <th>6</th>\n",
              "      <td>RESULTS</td>\n",
              "      <td>there was a clinically relevant reduction in t...</td>\n",
              "      <td>6</td>\n",
              "      <td>12</td>\n",
              "    </tr>\n",
              "    <tr>\n",
              "      <th>7</th>\n",
              "      <td>RESULTS</td>\n",
              "      <td>the mean difference between treatment arms ( @...</td>\n",
              "      <td>7</td>\n",
              "      <td>12</td>\n",
              "    </tr>\n",
              "    <tr>\n",
              "      <th>8</th>\n",
              "      <td>RESULTS</td>\n",
              "      <td>further , there was a clinically relevant redu...</td>\n",
              "      <td>8</td>\n",
              "      <td>12</td>\n",
              "    </tr>\n",
              "    <tr>\n",
              "      <th>9</th>\n",
              "      <td>RESULTS</td>\n",
              "      <td>these differences remained significant at @ we...</td>\n",
              "      <td>9</td>\n",
              "      <td>12</td>\n",
              "    </tr>\n",
              "    <tr>\n",
              "      <th>10</th>\n",
              "      <td>RESULTS</td>\n",
              "      <td>the outcome measures in rheumatology clinical ...</td>\n",
              "      <td>10</td>\n",
              "      <td>12</td>\n",
              "    </tr>\n",
              "    <tr>\n",
              "      <th>11</th>\n",
              "      <td>CONCLUSIONS</td>\n",
              "      <td>low-dose oral prednisolone had both a short-te...</td>\n",
              "      <td>11</td>\n",
              "      <td>12</td>\n",
              "    </tr>\n",
              "    <tr>\n",
              "      <th>12</th>\n",
              "      <td>BACKGROUND</td>\n",
              "      <td>emotional eating is associated with overeating...</td>\n",
              "      <td>0</td>\n",
              "      <td>11</td>\n",
              "    </tr>\n",
              "    <tr>\n",
              "      <th>13</th>\n",
              "      <td>BACKGROUND</td>\n",
              "      <td>yet , empirical evidence for individual ( trai...</td>\n",
              "      <td>1</td>\n",
              "      <td>11</td>\n",
              "    </tr>\n",
              "    <tr>\n",
              "      <th>14</th>\n",
              "      <td>OBJECTIVE</td>\n",
              "      <td>the aim of this study was to test if attention...</td>\n",
              "      <td>2</td>\n",
              "      <td>11</td>\n",
              "    </tr>\n",
              "    <tr>\n",
              "      <th>15</th>\n",
              "      <td>OBJECTIVE</td>\n",
              "      <td>it was expected that emotional eating is predi...</td>\n",
              "      <td>3</td>\n",
              "      <td>11</td>\n",
              "    </tr>\n",
              "    <tr>\n",
              "      <th>16</th>\n",
              "      <td>METHODS</td>\n",
              "      <td>participants ( n = @ ) were randomly assigned ...</td>\n",
              "      <td>4</td>\n",
              "      <td>11</td>\n",
              "    </tr>\n",
              "    <tr>\n",
              "      <th>17</th>\n",
              "      <td>METHODS</td>\n",
              "      <td>attentional biases for high caloric foods were...</td>\n",
              "      <td>5</td>\n",
              "      <td>11</td>\n",
              "    </tr>\n",
              "    <tr>\n",
              "      <th>18</th>\n",
              "      <td>METHODS</td>\n",
              "      <td>self-reported emotional eating was assessed wi...</td>\n",
              "      <td>6</td>\n",
              "      <td>11</td>\n",
              "    </tr>\n",
              "    <tr>\n",
              "      <th>19</th>\n",
              "      <td>RESULTS</td>\n",
              "      <td>hierarchical multivariate regression modeling ...</td>\n",
              "      <td>7</td>\n",
              "      <td>11</td>\n",
              "    </tr>\n",
              "  </tbody>\n",
              "</table>\n",
              "</div>\n",
              "    <div class=\"colab-df-buttons\">\n",
              "\n",
              "  <div class=\"colab-df-container\">\n",
              "    <button class=\"colab-df-convert\" onclick=\"convertToInteractive('df-32ec4e89-520c-469a-bfe1-0d6987b551b6')\"\n",
              "            title=\"Convert this dataframe to an interactive table.\"\n",
              "            style=\"display:none;\">\n",
              "\n",
              "  <svg xmlns=\"http://www.w3.org/2000/svg\" height=\"24px\" viewBox=\"0 -960 960 960\">\n",
              "    <path d=\"M120-120v-720h720v720H120Zm60-500h600v-160H180v160Zm220 220h160v-160H400v160Zm0 220h160v-160H400v160ZM180-400h160v-160H180v160Zm440 0h160v-160H620v160ZM180-180h160v-160H180v160Zm440 0h160v-160H620v160Z\"/>\n",
              "  </svg>\n",
              "    </button>\n",
              "\n",
              "  <style>\n",
              "    .colab-df-container {\n",
              "      display:flex;\n",
              "      gap: 12px;\n",
              "    }\n",
              "\n",
              "    .colab-df-convert {\n",
              "      background-color: #E8F0FE;\n",
              "      border: none;\n",
              "      border-radius: 50%;\n",
              "      cursor: pointer;\n",
              "      display: none;\n",
              "      fill: #1967D2;\n",
              "      height: 32px;\n",
              "      padding: 0 0 0 0;\n",
              "      width: 32px;\n",
              "    }\n",
              "\n",
              "    .colab-df-convert:hover {\n",
              "      background-color: #E2EBFA;\n",
              "      box-shadow: 0px 1px 2px rgba(60, 64, 67, 0.3), 0px 1px 3px 1px rgba(60, 64, 67, 0.15);\n",
              "      fill: #174EA6;\n",
              "    }\n",
              "\n",
              "    .colab-df-buttons div {\n",
              "      margin-bottom: 4px;\n",
              "    }\n",
              "\n",
              "    [theme=dark] .colab-df-convert {\n",
              "      background-color: #3B4455;\n",
              "      fill: #D2E3FC;\n",
              "    }\n",
              "\n",
              "    [theme=dark] .colab-df-convert:hover {\n",
              "      background-color: #434B5C;\n",
              "      box-shadow: 0px 1px 3px 1px rgba(0, 0, 0, 0.15);\n",
              "      filter: drop-shadow(0px 1px 2px rgba(0, 0, 0, 0.3));\n",
              "      fill: #FFFFFF;\n",
              "    }\n",
              "  </style>\n",
              "\n",
              "    <script>\n",
              "      const buttonEl =\n",
              "        document.querySelector('#df-32ec4e89-520c-469a-bfe1-0d6987b551b6 button.colab-df-convert');\n",
              "      buttonEl.style.display =\n",
              "        google.colab.kernel.accessAllowed ? 'block' : 'none';\n",
              "\n",
              "      async function convertToInteractive(key) {\n",
              "        const element = document.querySelector('#df-32ec4e89-520c-469a-bfe1-0d6987b551b6');\n",
              "        const dataTable =\n",
              "          await google.colab.kernel.invokeFunction('convertToInteractive',\n",
              "                                                    [key], {});\n",
              "        if (!dataTable) return;\n",
              "\n",
              "        const docLinkHtml = 'Like what you see? Visit the ' +\n",
              "          '<a target=\"_blank\" href=https://colab.research.google.com/notebooks/data_table.ipynb>data table notebook</a>'\n",
              "          + ' to learn more about interactive tables.';\n",
              "        element.innerHTML = '';\n",
              "        dataTable['output_type'] = 'display_data';\n",
              "        await google.colab.output.renderOutput(dataTable, element);\n",
              "        const docLink = document.createElement('div');\n",
              "        docLink.innerHTML = docLinkHtml;\n",
              "        element.appendChild(docLink);\n",
              "      }\n",
              "    </script>\n",
              "  </div>\n",
              "\n",
              "\n",
              "<div id=\"df-5e701bf8-c9cb-4d74-8b67-034506e5842f\">\n",
              "  <button class=\"colab-df-quickchart\" onclick=\"quickchart('df-5e701bf8-c9cb-4d74-8b67-034506e5842f')\"\n",
              "            title=\"Suggest charts.\"\n",
              "            style=\"display:none;\">\n",
              "\n",
              "<svg xmlns=\"http://www.w3.org/2000/svg\" height=\"24px\"viewBox=\"0 0 24 24\"\n",
              "     width=\"24px\">\n",
              "    <g>\n",
              "        <path d=\"M19 3H5c-1.1 0-2 .9-2 2v14c0 1.1.9 2 2 2h14c1.1 0 2-.9 2-2V5c0-1.1-.9-2-2-2zM9 17H7v-7h2v7zm4 0h-2V7h2v10zm4 0h-2v-4h2v4z\"/>\n",
              "    </g>\n",
              "</svg>\n",
              "  </button>\n",
              "\n",
              "<style>\n",
              "  .colab-df-quickchart {\n",
              "      --bg-color: #E8F0FE;\n",
              "      --fill-color: #1967D2;\n",
              "      --hover-bg-color: #E2EBFA;\n",
              "      --hover-fill-color: #174EA6;\n",
              "      --disabled-fill-color: #AAA;\n",
              "      --disabled-bg-color: #DDD;\n",
              "  }\n",
              "\n",
              "  [theme=dark] .colab-df-quickchart {\n",
              "      --bg-color: #3B4455;\n",
              "      --fill-color: #D2E3FC;\n",
              "      --hover-bg-color: #434B5C;\n",
              "      --hover-fill-color: #FFFFFF;\n",
              "      --disabled-bg-color: #3B4455;\n",
              "      --disabled-fill-color: #666;\n",
              "  }\n",
              "\n",
              "  .colab-df-quickchart {\n",
              "    background-color: var(--bg-color);\n",
              "    border: none;\n",
              "    border-radius: 50%;\n",
              "    cursor: pointer;\n",
              "    display: none;\n",
              "    fill: var(--fill-color);\n",
              "    height: 32px;\n",
              "    padding: 0;\n",
              "    width: 32px;\n",
              "  }\n",
              "\n",
              "  .colab-df-quickchart:hover {\n",
              "    background-color: var(--hover-bg-color);\n",
              "    box-shadow: 0 1px 2px rgba(60, 64, 67, 0.3), 0 1px 3px 1px rgba(60, 64, 67, 0.15);\n",
              "    fill: var(--button-hover-fill-color);\n",
              "  }\n",
              "\n",
              "  .colab-df-quickchart-complete:disabled,\n",
              "  .colab-df-quickchart-complete:disabled:hover {\n",
              "    background-color: var(--disabled-bg-color);\n",
              "    fill: var(--disabled-fill-color);\n",
              "    box-shadow: none;\n",
              "  }\n",
              "\n",
              "  .colab-df-spinner {\n",
              "    border: 2px solid var(--fill-color);\n",
              "    border-color: transparent;\n",
              "    border-bottom-color: var(--fill-color);\n",
              "    animation:\n",
              "      spin 1s steps(1) infinite;\n",
              "  }\n",
              "\n",
              "  @keyframes spin {\n",
              "    0% {\n",
              "      border-color: transparent;\n",
              "      border-bottom-color: var(--fill-color);\n",
              "      border-left-color: var(--fill-color);\n",
              "    }\n",
              "    20% {\n",
              "      border-color: transparent;\n",
              "      border-left-color: var(--fill-color);\n",
              "      border-top-color: var(--fill-color);\n",
              "    }\n",
              "    30% {\n",
              "      border-color: transparent;\n",
              "      border-left-color: var(--fill-color);\n",
              "      border-top-color: var(--fill-color);\n",
              "      border-right-color: var(--fill-color);\n",
              "    }\n",
              "    40% {\n",
              "      border-color: transparent;\n",
              "      border-right-color: var(--fill-color);\n",
              "      border-top-color: var(--fill-color);\n",
              "    }\n",
              "    60% {\n",
              "      border-color: transparent;\n",
              "      border-right-color: var(--fill-color);\n",
              "    }\n",
              "    80% {\n",
              "      border-color: transparent;\n",
              "      border-right-color: var(--fill-color);\n",
              "      border-bottom-color: var(--fill-color);\n",
              "    }\n",
              "    90% {\n",
              "      border-color: transparent;\n",
              "      border-bottom-color: var(--fill-color);\n",
              "    }\n",
              "  }\n",
              "</style>\n",
              "\n",
              "  <script>\n",
              "    async function quickchart(key) {\n",
              "      const quickchartButtonEl =\n",
              "        document.querySelector('#' + key + ' button');\n",
              "      quickchartButtonEl.disabled = true;  // To prevent multiple clicks.\n",
              "      quickchartButtonEl.classList.add('colab-df-spinner');\n",
              "      try {\n",
              "        const charts = await google.colab.kernel.invokeFunction(\n",
              "            'suggestCharts', [key], {});\n",
              "      } catch (error) {\n",
              "        console.error('Error during call to suggestCharts:', error);\n",
              "      }\n",
              "      quickchartButtonEl.classList.remove('colab-df-spinner');\n",
              "      quickchartButtonEl.classList.add('colab-df-quickchart-complete');\n",
              "    }\n",
              "    (() => {\n",
              "      let quickchartButtonEl =\n",
              "        document.querySelector('#df-5e701bf8-c9cb-4d74-8b67-034506e5842f button');\n",
              "      quickchartButtonEl.style.display =\n",
              "        google.colab.kernel.accessAllowed ? 'block' : 'none';\n",
              "    })();\n",
              "  </script>\n",
              "</div>\n",
              "    </div>\n",
              "  </div>\n"
            ]
          },
          "metadata": {},
          "execution_count": 39
        }
      ],
      "source": [
        "train_data.head(20)"
      ],
      "metadata": {
        "ExecuteTime": {
          "end_time": "2023-09-24T11:17:47.515587Z",
          "start_time": "2023-09-24T11:17:47.468463200Z"
        },
        "colab": {
          "base_uri": "https://localhost:8080/",
          "height": 676
        },
        "id": "92639d663691fd29",
        "outputId": "25a81289-3bba-4469-a581-1344e45eef70"
      },
      "id": "92639d663691fd29"
    },
    {
      "cell_type": "code",
      "execution_count": 40,
      "outputs": [
        {
          "output_type": "execute_result",
          "data": {
            "text/plain": [
              "            target                                               text  \\\n",
              "0       BACKGROUND  ige sensitization to aspergillus fumigatus and...   \n",
              "1       BACKGROUND  it is not clear whether these patients would b...   \n",
              "2        OBJECTIVE  we sought to determine whether a @-month cours...   \n",
              "3          METHODS  asthmatic patients who were ige sensitized to ...   \n",
              "4          METHODS  primary outcomes were improvement in quality o...   \n",
              "...            ...                                                ...   \n",
              "30193      RESULTS  in patients with uncontrolled or untreated hyp...   \n",
              "30194      RESULTS  the mean difference in total ipss and ipss-qua...   \n",
              "30195      RESULTS  maximum flow rate , average flow rate , voided...   \n",
              "30196  CONCLUSIONS  this study shows that alfuzosin @ mg is effect...   \n",
              "30197  CONCLUSIONS  however , in patients with uncontrolled or unt...   \n",
              "\n",
              "       line_number  total_lines  \n",
              "0                0           10  \n",
              "1                1           10  \n",
              "2                2           10  \n",
              "3                3           10  \n",
              "4                4           10  \n",
              "...            ...          ...  \n",
              "30193            7           12  \n",
              "30194            8           12  \n",
              "30195            9           12  \n",
              "30196           10           12  \n",
              "30197           11           12  \n",
              "\n",
              "[30198 rows x 4 columns]"
            ],
            "text/html": [
              "\n",
              "  <div id=\"df-d8ef132b-ecd0-4309-b9b2-f5d3e591c3d6\" class=\"colab-df-container\">\n",
              "    <div>\n",
              "<style scoped>\n",
              "    .dataframe tbody tr th:only-of-type {\n",
              "        vertical-align: middle;\n",
              "    }\n",
              "\n",
              "    .dataframe tbody tr th {\n",
              "        vertical-align: top;\n",
              "    }\n",
              "\n",
              "    .dataframe thead th {\n",
              "        text-align: right;\n",
              "    }\n",
              "</style>\n",
              "<table border=\"1\" class=\"dataframe\">\n",
              "  <thead>\n",
              "    <tr style=\"text-align: right;\">\n",
              "      <th></th>\n",
              "      <th>target</th>\n",
              "      <th>text</th>\n",
              "      <th>line_number</th>\n",
              "      <th>total_lines</th>\n",
              "    </tr>\n",
              "  </thead>\n",
              "  <tbody>\n",
              "    <tr>\n",
              "      <th>0</th>\n",
              "      <td>BACKGROUND</td>\n",
              "      <td>ige sensitization to aspergillus fumigatus and...</td>\n",
              "      <td>0</td>\n",
              "      <td>10</td>\n",
              "    </tr>\n",
              "    <tr>\n",
              "      <th>1</th>\n",
              "      <td>BACKGROUND</td>\n",
              "      <td>it is not clear whether these patients would b...</td>\n",
              "      <td>1</td>\n",
              "      <td>10</td>\n",
              "    </tr>\n",
              "    <tr>\n",
              "      <th>2</th>\n",
              "      <td>OBJECTIVE</td>\n",
              "      <td>we sought to determine whether a @-month cours...</td>\n",
              "      <td>2</td>\n",
              "      <td>10</td>\n",
              "    </tr>\n",
              "    <tr>\n",
              "      <th>3</th>\n",
              "      <td>METHODS</td>\n",
              "      <td>asthmatic patients who were ige sensitized to ...</td>\n",
              "      <td>3</td>\n",
              "      <td>10</td>\n",
              "    </tr>\n",
              "    <tr>\n",
              "      <th>4</th>\n",
              "      <td>METHODS</td>\n",
              "      <td>primary outcomes were improvement in quality o...</td>\n",
              "      <td>4</td>\n",
              "      <td>10</td>\n",
              "    </tr>\n",
              "    <tr>\n",
              "      <th>...</th>\n",
              "      <td>...</td>\n",
              "      <td>...</td>\n",
              "      <td>...</td>\n",
              "      <td>...</td>\n",
              "    </tr>\n",
              "    <tr>\n",
              "      <th>30193</th>\n",
              "      <td>RESULTS</td>\n",
              "      <td>in patients with uncontrolled or untreated hyp...</td>\n",
              "      <td>7</td>\n",
              "      <td>12</td>\n",
              "    </tr>\n",
              "    <tr>\n",
              "      <th>30194</th>\n",
              "      <td>RESULTS</td>\n",
              "      <td>the mean difference in total ipss and ipss-qua...</td>\n",
              "      <td>8</td>\n",
              "      <td>12</td>\n",
              "    </tr>\n",
              "    <tr>\n",
              "      <th>30195</th>\n",
              "      <td>RESULTS</td>\n",
              "      <td>maximum flow rate , average flow rate , voided...</td>\n",
              "      <td>9</td>\n",
              "      <td>12</td>\n",
              "    </tr>\n",
              "    <tr>\n",
              "      <th>30196</th>\n",
              "      <td>CONCLUSIONS</td>\n",
              "      <td>this study shows that alfuzosin @ mg is effect...</td>\n",
              "      <td>10</td>\n",
              "      <td>12</td>\n",
              "    </tr>\n",
              "    <tr>\n",
              "      <th>30197</th>\n",
              "      <td>CONCLUSIONS</td>\n",
              "      <td>however , in patients with uncontrolled or unt...</td>\n",
              "      <td>11</td>\n",
              "      <td>12</td>\n",
              "    </tr>\n",
              "  </tbody>\n",
              "</table>\n",
              "<p>30198 rows × 4 columns</p>\n",
              "</div>\n",
              "    <div class=\"colab-df-buttons\">\n",
              "\n",
              "  <div class=\"colab-df-container\">\n",
              "    <button class=\"colab-df-convert\" onclick=\"convertToInteractive('df-d8ef132b-ecd0-4309-b9b2-f5d3e591c3d6')\"\n",
              "            title=\"Convert this dataframe to an interactive table.\"\n",
              "            style=\"display:none;\">\n",
              "\n",
              "  <svg xmlns=\"http://www.w3.org/2000/svg\" height=\"24px\" viewBox=\"0 -960 960 960\">\n",
              "    <path d=\"M120-120v-720h720v720H120Zm60-500h600v-160H180v160Zm220 220h160v-160H400v160Zm0 220h160v-160H400v160ZM180-400h160v-160H180v160Zm440 0h160v-160H620v160ZM180-180h160v-160H180v160Zm440 0h160v-160H620v160Z\"/>\n",
              "  </svg>\n",
              "    </button>\n",
              "\n",
              "  <style>\n",
              "    .colab-df-container {\n",
              "      display:flex;\n",
              "      gap: 12px;\n",
              "    }\n",
              "\n",
              "    .colab-df-convert {\n",
              "      background-color: #E8F0FE;\n",
              "      border: none;\n",
              "      border-radius: 50%;\n",
              "      cursor: pointer;\n",
              "      display: none;\n",
              "      fill: #1967D2;\n",
              "      height: 32px;\n",
              "      padding: 0 0 0 0;\n",
              "      width: 32px;\n",
              "    }\n",
              "\n",
              "    .colab-df-convert:hover {\n",
              "      background-color: #E2EBFA;\n",
              "      box-shadow: 0px 1px 2px rgba(60, 64, 67, 0.3), 0px 1px 3px 1px rgba(60, 64, 67, 0.15);\n",
              "      fill: #174EA6;\n",
              "    }\n",
              "\n",
              "    .colab-df-buttons div {\n",
              "      margin-bottom: 4px;\n",
              "    }\n",
              "\n",
              "    [theme=dark] .colab-df-convert {\n",
              "      background-color: #3B4455;\n",
              "      fill: #D2E3FC;\n",
              "    }\n",
              "\n",
              "    [theme=dark] .colab-df-convert:hover {\n",
              "      background-color: #434B5C;\n",
              "      box-shadow: 0px 1px 3px 1px rgba(0, 0, 0, 0.15);\n",
              "      filter: drop-shadow(0px 1px 2px rgba(0, 0, 0, 0.3));\n",
              "      fill: #FFFFFF;\n",
              "    }\n",
              "  </style>\n",
              "\n",
              "    <script>\n",
              "      const buttonEl =\n",
              "        document.querySelector('#df-d8ef132b-ecd0-4309-b9b2-f5d3e591c3d6 button.colab-df-convert');\n",
              "      buttonEl.style.display =\n",
              "        google.colab.kernel.accessAllowed ? 'block' : 'none';\n",
              "\n",
              "      async function convertToInteractive(key) {\n",
              "        const element = document.querySelector('#df-d8ef132b-ecd0-4309-b9b2-f5d3e591c3d6');\n",
              "        const dataTable =\n",
              "          await google.colab.kernel.invokeFunction('convertToInteractive',\n",
              "                                                    [key], {});\n",
              "        if (!dataTable) return;\n",
              "\n",
              "        const docLinkHtml = 'Like what you see? Visit the ' +\n",
              "          '<a target=\"_blank\" href=https://colab.research.google.com/notebooks/data_table.ipynb>data table notebook</a>'\n",
              "          + ' to learn more about interactive tables.';\n",
              "        element.innerHTML = '';\n",
              "        dataTable['output_type'] = 'display_data';\n",
              "        await google.colab.output.renderOutput(dataTable, element);\n",
              "        const docLink = document.createElement('div');\n",
              "        docLink.innerHTML = docLinkHtml;\n",
              "        element.appendChild(docLink);\n",
              "      }\n",
              "    </script>\n",
              "  </div>\n",
              "\n",
              "\n",
              "<div id=\"df-b31b6f04-2389-4416-84a7-17072966b9b2\">\n",
              "  <button class=\"colab-df-quickchart\" onclick=\"quickchart('df-b31b6f04-2389-4416-84a7-17072966b9b2')\"\n",
              "            title=\"Suggest charts.\"\n",
              "            style=\"display:none;\">\n",
              "\n",
              "<svg xmlns=\"http://www.w3.org/2000/svg\" height=\"24px\"viewBox=\"0 0 24 24\"\n",
              "     width=\"24px\">\n",
              "    <g>\n",
              "        <path d=\"M19 3H5c-1.1 0-2 .9-2 2v14c0 1.1.9 2 2 2h14c1.1 0 2-.9 2-2V5c0-1.1-.9-2-2-2zM9 17H7v-7h2v7zm4 0h-2V7h2v10zm4 0h-2v-4h2v4z\"/>\n",
              "    </g>\n",
              "</svg>\n",
              "  </button>\n",
              "\n",
              "<style>\n",
              "  .colab-df-quickchart {\n",
              "      --bg-color: #E8F0FE;\n",
              "      --fill-color: #1967D2;\n",
              "      --hover-bg-color: #E2EBFA;\n",
              "      --hover-fill-color: #174EA6;\n",
              "      --disabled-fill-color: #AAA;\n",
              "      --disabled-bg-color: #DDD;\n",
              "  }\n",
              "\n",
              "  [theme=dark] .colab-df-quickchart {\n",
              "      --bg-color: #3B4455;\n",
              "      --fill-color: #D2E3FC;\n",
              "      --hover-bg-color: #434B5C;\n",
              "      --hover-fill-color: #FFFFFF;\n",
              "      --disabled-bg-color: #3B4455;\n",
              "      --disabled-fill-color: #666;\n",
              "  }\n",
              "\n",
              "  .colab-df-quickchart {\n",
              "    background-color: var(--bg-color);\n",
              "    border: none;\n",
              "    border-radius: 50%;\n",
              "    cursor: pointer;\n",
              "    display: none;\n",
              "    fill: var(--fill-color);\n",
              "    height: 32px;\n",
              "    padding: 0;\n",
              "    width: 32px;\n",
              "  }\n",
              "\n",
              "  .colab-df-quickchart:hover {\n",
              "    background-color: var(--hover-bg-color);\n",
              "    box-shadow: 0 1px 2px rgba(60, 64, 67, 0.3), 0 1px 3px 1px rgba(60, 64, 67, 0.15);\n",
              "    fill: var(--button-hover-fill-color);\n",
              "  }\n",
              "\n",
              "  .colab-df-quickchart-complete:disabled,\n",
              "  .colab-df-quickchart-complete:disabled:hover {\n",
              "    background-color: var(--disabled-bg-color);\n",
              "    fill: var(--disabled-fill-color);\n",
              "    box-shadow: none;\n",
              "  }\n",
              "\n",
              "  .colab-df-spinner {\n",
              "    border: 2px solid var(--fill-color);\n",
              "    border-color: transparent;\n",
              "    border-bottom-color: var(--fill-color);\n",
              "    animation:\n",
              "      spin 1s steps(1) infinite;\n",
              "  }\n",
              "\n",
              "  @keyframes spin {\n",
              "    0% {\n",
              "      border-color: transparent;\n",
              "      border-bottom-color: var(--fill-color);\n",
              "      border-left-color: var(--fill-color);\n",
              "    }\n",
              "    20% {\n",
              "      border-color: transparent;\n",
              "      border-left-color: var(--fill-color);\n",
              "      border-top-color: var(--fill-color);\n",
              "    }\n",
              "    30% {\n",
              "      border-color: transparent;\n",
              "      border-left-color: var(--fill-color);\n",
              "      border-top-color: var(--fill-color);\n",
              "      border-right-color: var(--fill-color);\n",
              "    }\n",
              "    40% {\n",
              "      border-color: transparent;\n",
              "      border-right-color: var(--fill-color);\n",
              "      border-top-color: var(--fill-color);\n",
              "    }\n",
              "    60% {\n",
              "      border-color: transparent;\n",
              "      border-right-color: var(--fill-color);\n",
              "    }\n",
              "    80% {\n",
              "      border-color: transparent;\n",
              "      border-right-color: var(--fill-color);\n",
              "      border-bottom-color: var(--fill-color);\n",
              "    }\n",
              "    90% {\n",
              "      border-color: transparent;\n",
              "      border-bottom-color: var(--fill-color);\n",
              "    }\n",
              "  }\n",
              "</style>\n",
              "\n",
              "  <script>\n",
              "    async function quickchart(key) {\n",
              "      const quickchartButtonEl =\n",
              "        document.querySelector('#' + key + ' button');\n",
              "      quickchartButtonEl.disabled = true;  // To prevent multiple clicks.\n",
              "      quickchartButtonEl.classList.add('colab-df-spinner');\n",
              "      try {\n",
              "        const charts = await google.colab.kernel.invokeFunction(\n",
              "            'suggestCharts', [key], {});\n",
              "      } catch (error) {\n",
              "        console.error('Error during call to suggestCharts:', error);\n",
              "      }\n",
              "      quickchartButtonEl.classList.remove('colab-df-spinner');\n",
              "      quickchartButtonEl.classList.add('colab-df-quickchart-complete');\n",
              "    }\n",
              "    (() => {\n",
              "      let quickchartButtonEl =\n",
              "        document.querySelector('#df-b31b6f04-2389-4416-84a7-17072966b9b2 button');\n",
              "      quickchartButtonEl.style.display =\n",
              "        google.colab.kernel.accessAllowed ? 'block' : 'none';\n",
              "    })();\n",
              "  </script>\n",
              "</div>\n",
              "    </div>\n",
              "  </div>\n"
            ]
          },
          "metadata": {},
          "execution_count": 40
        }
      ],
      "source": [
        "dev_data"
      ],
      "metadata": {
        "ExecuteTime": {
          "end_time": "2023-09-24T11:17:48.031573700Z",
          "start_time": "2023-09-24T11:17:48.015473600Z"
        },
        "colab": {
          "base_uri": "https://localhost:8080/",
          "height": 424
        },
        "id": "4e89b850053c8d20",
        "outputId": "5e652d3b-6d59-4eb1-88dd-7838366350ad"
      },
      "id": "4e89b850053c8d20"
    },
    {
      "cell_type": "code",
      "execution_count": 41,
      "outputs": [
        {
          "output_type": "execute_result",
          "data": {
            "text/plain": [
              "METHODS        59349\n",
              "RESULTS        57949\n",
              "CONCLUSIONS    27166\n",
              "BACKGROUND     21726\n",
              "OBJECTIVE      13838\n",
              "Name: target, dtype: int64"
            ]
          },
          "metadata": {},
          "execution_count": 41
        }
      ],
      "source": [
        "train_data.target.value_counts()"
      ],
      "metadata": {
        "ExecuteTime": {
          "end_time": "2023-09-24T11:17:48.517676300Z",
          "start_time": "2023-09-24T11:17:48.486093200Z"
        },
        "colab": {
          "base_uri": "https://localhost:8080/"
        },
        "id": "126aa47da0ea82a1",
        "outputId": "0a1bac70-6625-4201-a924-35439d26bd47"
      },
      "id": "126aa47da0ea82a1"
    },
    {
      "cell_type": "code",
      "execution_count": 42,
      "outputs": [],
      "source": [
        "import matplotlib.pyplot as plt\n",
        "def sentences_count_in_para(data_dic = train_data_dic):\n",
        "    count = []\n",
        "    for index in range(len(data_dic) - 1):\n",
        "        count.append(data_dic[index][\"total_lines\"])\n",
        "\n",
        "    return count[1:]\n",
        "sent_count_in_para = sentences_count_in_para(data_dic = train_data_dic)\n",
        "\n"
      ],
      "metadata": {
        "ExecuteTime": {
          "end_time": "2023-09-24T11:17:49.799674Z",
          "start_time": "2023-09-24T11:17:48.983754500Z"
        },
        "id": "ccde65de9d7d1f73"
      },
      "id": "ccde65de9d7d1f73"
    },
    {
      "cell_type": "code",
      "execution_count": 43,
      "outputs": [
        {
          "output_type": "execute_result",
          "data": {
            "text/plain": [
              "(array([2.420e+02, 2.777e+03, 6.127e+03, 3.018e+03, 2.084e+03, 5.890e+02,\n",
              "        9.600e+01, 5.200e+01, 1.100e+01, 3.000e+00]),\n",
              " array([ 4. ,  6.7,  9.4, 12.1, 14.8, 17.5, 20.2, 22.9, 25.6, 28.3, 31. ]),\n",
              " <BarContainer object of 10 artists>)"
            ]
          },
          "metadata": {},
          "execution_count": 43
        },
        {
          "output_type": "display_data",
          "data": {
            "text/plain": [
              "<Figure size 640x480 with 1 Axes>"
            ],
            "image/png": "[encoded data removed]"
          },
          "metadata": {}
        }
      ],
      "source": [
        "plt.hist(sent_count_in_para)"
      ],
      "metadata": {
        "ExecuteTime": {
          "end_time": "2023-09-24T11:17:50.049747700Z",
          "start_time": "2023-09-24T11:17:49.799674Z"
        },
        "colab": {
          "base_uri": "https://localhost:8080/",
          "height": 499
        },
        "id": "387b334e8dafe1ac",
        "outputId": "6c768209-4473-4e48-cf0e-fda6cdc4ebf7"
      },
      "id": "387b334e8dafe1ac"
    },
    {
      "cell_type": "code",
      "execution_count": 44,
      "outputs": [
        {
          "output_type": "stream",
          "name": "stderr",
          "text": [
            "/usr/local/lib/python3.10/dist-packages/sklearn/preprocessing/_encoders.py:868: FutureWarning: `sparse` was renamed to `sparse_output` in version 1.2 and will be removed in 1.4. `sparse_output` is ignored unless you leave `sparse` to its default value.\n",
            "  warnings.warn(\n",
            "/usr/local/lib/python3.10/dist-packages/sklearn/preprocessing/_encoders.py:868: FutureWarning: `sparse` was renamed to `sparse_output` in version 1.2 and will be removed in 1.4. `sparse_output` is ignored unless you leave `sparse` to its default value.\n",
            "  warnings.warn(\n",
            "/usr/local/lib/python3.10/dist-packages/sklearn/preprocessing/_encoders.py:868: FutureWarning: `sparse` was renamed to `sparse_output` in version 1.2 and will be removed in 1.4. `sparse_output` is ignored unless you leave `sparse` to its default value.\n",
            "  warnings.warn(\n"
          ]
        }
      ],
      "source": [
        "from sklearn.preprocessing import OneHotEncoder\n",
        "one_hot_enc = OneHotEncoder(sparse=False)\n",
        "train_labels_one_hot = one_hot_enc.fit_transform(train_data[\"target\"].to_numpy().reshape(-1,1))\n",
        "test_labels_one_hot = one_hot_enc.fit_transform(test_data[\"target\"].to_numpy().reshape(-1,1))\n",
        "val_labels_one_hot = one_hot_enc.fit_transform(dev_data[\"target\"].to_numpy().reshape(-1,1))\n",
        "\n",
        "# one Hot Encoding done in alphabetical order\n",
        "# eg. [\"BACKGROUND\",\"CONCLUSION\",\"METHODS\",\"OBJECTS\",\"RESULTS\"]\n",
        "# [0 , 0 , 1 , 0 , 0]\n",
        "\n",
        "test_labels = constant(test_labels_one_hot)\n",
        "train_labels = constant(train_labels_one_hot)\n",
        "val_labels = constant(val_labels_one_hot)\n",
        "\n"
      ],
      "metadata": {
        "ExecuteTime": {
          "end_time": "2023-09-24T11:17:50.820851700Z",
          "start_time": "2023-09-24T11:17:50.709393300Z"
        },
        "colab": {
          "base_uri": "https://localhost:8080/"
        },
        "id": "6e4e8da7355706bb",
        "outputId": "849aec77-5340-4fc5-acb0-e408788c39e2"
      },
      "id": "6e4e8da7355706bb"
    },
    {
      "cell_type": "code",
      "execution_count": 45,
      "outputs": [],
      "source": [
        "from sklearn.preprocessing import LabelEncoder\n",
        "label_enc = LabelEncoder()\n",
        "\n",
        "train_labels_encoded = label_enc.fit_transform(train_data[\"target\"].to_numpy())\n",
        "val_labels_encoded = label_enc.fit_transform(dev_data[\"target\"].to_numpy())\n",
        "test_labels_encoded = label_enc.fit_transform(test_data[\"target\"].to_numpy())\n",
        "\n"
      ],
      "metadata": {
        "ExecuteTime": {
          "end_time": "2023-09-24T11:17:51.394576600Z",
          "start_time": "2023-09-24T11:17:51.331769800Z"
        },
        "id": "59c3cd4999febc2"
      },
      "id": "59c3cd4999febc2"
    },
    {
      "cell_type": "code",
      "execution_count": 46,
      "outputs": [
        {
          "output_type": "execute_result",
          "data": {
            "text/plain": [
              "array(['BACKGROUND', 'RESULTS'], dtype=object)"
            ]
          },
          "metadata": {},
          "execution_count": 46
        }
      ],
      "source": [
        "num_classes = len(label_enc.classes_)\n",
        "class_names = label_enc.classes_\n",
        "\n",
        "label_enc.inverse_transform([0,4]) # 0 = BACKGROUND\n",
        "# can access class using label_enc.inverse_transform([0,4])"
      ],
      "metadata": {
        "ExecuteTime": {
          "end_time": "2023-09-24T11:17:51.862733400Z",
          "start_time": "2023-09-24T11:17:51.831443300Z"
        },
        "colab": {
          "base_uri": "https://localhost:8080/"
        },
        "id": "6f28a007d6e78a0d",
        "outputId": "9637da4e-9e09-4221-bd36-2cf5bade7274"
      },
      "id": "6f28a007d6e78a0d"
    },
    {
      "cell_type": "markdown",
      "source": [
        "15-09-23\n",
        "> Note: DataModeling Almost done\n",
        "* Abstract:\n",
        "    * Labels:\n",
        "        1. test_labels: one hot encoded tensors\n",
        "        2. train_labels:  one hot encoded tensors shape = (180028, 5)\n",
        "        3. val_labels:\n",
        "    * Data:\n",
        "        1. train_data: pd.DataFrame\n",
        "        2. dev_data\n",
        "        3. test_data\n"
      ],
      "metadata": {
        "collapsed": false,
        "id": "99031a5b990dbef3"
      },
      "id": "99031a5b990dbef3"
    },
    {
      "cell_type": "code",
      "execution_count": 47,
      "outputs": [
        {
          "output_type": "execute_result",
          "data": {
            "text/plain": [
              "Pipeline(steps=[('tf-idf', TfidfVectorizer()), ('clf', MultinomialNB())])"
            ],
            "text/html": [
              "<style>#sk-container-id-1 {color: black;background-color: white;}#sk-container-id-1 pre{padding: 0;}#sk-container-id-1 div.sk-toggleable {background-color: white;}#sk-container-id-1 label.sk-toggleable__label {cursor: pointer;display: block;width: 100%;margin-bottom: 0;padding: 0.3em;box-sizing: border-box;text-align: center;}#sk-container-id-1 label.sk-toggleable__label-arrow:before {content: \"▸\";float: left;margin-right: 0.25em;color: #696969;}#sk-container-id-1 label.sk-toggleable__label-arrow:hover:before {color: black;}#sk-container-id-1 div.sk-estimator:hover label.sk-toggleable__label-arrow:before {color: black;}#sk-container-id-1 div.sk-toggleable__content {max-height: 0;max-width: 0;overflow: hidden;text-align: left;background-color: #f0f8ff;}#sk-container-id-1 div.sk-toggleable__content pre {margin: 0.2em;color: black;border-radius: 0.25em;background-color: #f0f8ff;}#sk-container-id-1 input.sk-toggleable__control:checked~div.sk-toggleable__content {max-height: 200px;max-width: 100%;overflow: auto;}#sk-container-id-1 input.sk-toggleable__control:checked~label.sk-toggleable__label-arrow:before {content: \"▾\";}#sk-container-id-1 div.sk-estimator input.sk-toggleable__control:checked~label.sk-toggleable__label {background-color: #d4ebff;}#sk-container-id-1 div.sk-label input.sk-toggleable__control:checked~label.sk-toggleable__label {background-color: #d4ebff;}#sk-container-id-1 input.sk-hidden--visually {border: 0;clip: rect(1px 1px 1px 1px);clip: rect(1px, 1px, 1px, 1px);height: 1px;margin: -1px;overflow: hidden;padding: 0;position: absolute;width: 1px;}#sk-container-id-1 div.sk-estimator {font-family: monospace;background-color: #f0f8ff;border: 1px dotted black;border-radius: 0.25em;box-sizing: border-box;margin-bottom: 0.5em;}#sk-container-id-1 div.sk-estimator:hover {background-color: #d4ebff;}#sk-container-id-1 div.sk-parallel-item::after {content: \"\";width: 100%;border-bottom: 1px solid gray;flex-grow: 1;}#sk-container-id-1 div.sk-label:hover label.sk-toggleable__label {background-color: #d4ebff;}#sk-container-id-1 div.sk-serial::before {content: \"\";position: absolute;border-left: 1px solid gray;box-sizing: border-box;top: 0;bottom: 0;left: 50%;z-index: 0;}#sk-container-id-1 div.sk-serial {display: flex;flex-direction: column;align-items: center;background-color: white;padding-right: 0.2em;padding-left: 0.2em;position: relative;}#sk-container-id-1 div.sk-item {position: relative;z-index: 1;}#sk-container-id-1 div.sk-parallel {display: flex;align-items: stretch;justify-content: center;background-color: white;position: relative;}#sk-container-id-1 div.sk-item::before, #sk-container-id-1 div.sk-parallel-item::before {content: \"\";position: absolute;border-left: 1px solid gray;box-sizing: border-box;top: 0;bottom: 0;left: 50%;z-index: -1;}#sk-container-id-1 div.sk-parallel-item {display: flex;flex-direction: column;z-index: 1;position: relative;background-color: white;}#sk-container-id-1 div.sk-parallel-item:first-child::after {align-self: flex-end;width: 50%;}#sk-container-id-1 div.sk-parallel-item:last-child::after {align-self: flex-start;width: 50%;}#sk-container-id-1 div.sk-parallel-item:only-child::after {width: 0;}#sk-container-id-1 div.sk-dashed-wrapped {border: 1px dashed gray;margin: 0 0.4em 0.5em 0.4em;box-sizing: border-box;padding-bottom: 0.4em;background-color: white;}#sk-container-id-1 div.sk-label label {font-family: monospace;font-weight: bold;display: inline-block;line-height: 1.2em;}#sk-container-id-1 div.sk-label-container {text-align: center;}#sk-container-id-1 div.sk-container {/* jupyter's `normalize.less` sets `[hidden] { display: none; }` but bootstrap.min.css set `[hidden] { display: none !important; }` so we also need the `!important` here to be able to override the default hidden behavior on the sphinx rendered scikit-learn.org. See: https://github.com/scikit-learn/scikit-learn/issues/21755 */display: inline-block !important;position: relative;}#sk-container-id-1 div.sk-text-repr-fallback {display: none;}</style><div id=\"sk-container-id-1\" class=\"sk-top-container\"><div class=\"sk-text-repr-fallback\"><pre>Pipeline(steps=[(&#x27;tf-idf&#x27;, TfidfVectorizer()), (&#x27;clf&#x27;, MultinomialNB())])</pre><b>In a Jupyter environment, please rerun this cell to show the HTML representation or trust the notebook. <br />On GitHub, the HTML representation is unable to render, please try loading this page with nbviewer.org.</b></div><div class=\"sk-container\" hidden><div class=\"sk-item sk-dashed-wrapped\"><div class=\"sk-label-container\"><div class=\"sk-label sk-toggleable\"><input class=\"sk-toggleable__control sk-hidden--visually\" id=\"sk-estimator-id-1\" type=\"checkbox\" ><label for=\"sk-estimator-id-1\" class=\"sk-toggleable__label sk-toggleable__label-arrow\">Pipeline</label><div class=\"sk-toggleable__content\"><pre>Pipeline(steps=[(&#x27;tf-idf&#x27;, TfidfVectorizer()), (&#x27;clf&#x27;, MultinomialNB())])</pre></div></div></div><div class=\"sk-serial\"><div class=\"sk-item\"><div class=\"sk-estimator sk-toggleable\"><input class=\"sk-toggleable__control sk-hidden--visually\" id=\"sk-estimator-id-2\" type=\"checkbox\" ><label for=\"sk-estimator-id-2\" class=\"sk-toggleable__label sk-toggleable__label-arrow\">TfidfVectorizer</label><div class=\"sk-toggleable__content\"><pre>TfidfVectorizer()</pre></div></div></div><div class=\"sk-item\"><div class=\"sk-estimator sk-toggleable\"><input class=\"sk-toggleable__control sk-hidden--visually\" id=\"sk-estimator-id-3\" type=\"checkbox\" ><label for=\"sk-estimator-id-3\" class=\"sk-toggleable__label sk-toggleable__label-arrow\">MultinomialNB</label><div class=\"sk-toggleable__content\"><pre>MultinomialNB()</pre></div></div></div></div></div></div></div>"
            ]
          },
          "metadata": {},
          "execution_count": 47
        }
      ],
      "source": [
        "from sklearn.feature_extraction.text import TfidfVectorizer\n",
        "from sklearn.naive_bayes import MultinomialNB\n",
        "from sklearn.pipeline import Pipeline\n",
        "\n",
        "# Create a pipeline\n",
        "model_nv = Pipeline([\n",
        "  (\"tf-idf\", TfidfVectorizer()),\n",
        "  (\"clf\", MultinomialNB())\n",
        "])\n",
        "\n",
        "# Fit the pipeline to the training data\n",
        "model_nv.fit(X=train_data[\"text\"],\n",
        "            y=train_labels_encoded)\n",
        "\n",
        "\n"
      ],
      "metadata": {
        "ExecuteTime": {
          "end_time": "2023-09-24T11:17:56.864407600Z",
          "start_time": "2023-09-24T11:17:53.119656100Z"
        },
        "colab": {
          "base_uri": "https://localhost:8080/",
          "height": 127
        },
        "id": "d49adaca4e07a424",
        "outputId": "85508df0-745a-432d-b104-ee583c92ceef"
      },
      "id": "d49adaca4e07a424"
    },
    {
      "cell_type": "code",
      "execution_count": 48,
      "outputs": [
        {
          "output_type": "execute_result",
          "data": {
            "text/plain": [
              "0.7220014570501357"
            ]
          },
          "metadata": {},
          "execution_count": 48
        }
      ],
      "source": [
        "model_nv.score(X=dev_data[\"text\"],\n",
        "              y=val_labels_encoded\n",
        "              )"
      ],
      "metadata": {
        "ExecuteTime": {
          "end_time": "2023-09-24T11:17:57.445670800Z",
          "start_time": "2023-09-24T11:17:56.864407600Z"
        },
        "colab": {
          "base_uri": "https://localhost:8080/"
        },
        "id": "9104179c182052e3",
        "outputId": "a5c6adef-a000-4d3d-ebd4-4cc36debb283"
      },
      "id": "9104179c182052e3"
    },
    {
      "cell_type": "code",
      "execution_count": 49,
      "outputs": [],
      "source": [
        "pred = model_nv.predict(test_data[\"text\"])"
      ],
      "metadata": {
        "ExecuteTime": {
          "end_time": "2023-09-24T11:17:57.942276Z",
          "start_time": "2023-09-24T11:17:57.421528800Z"
        },
        "id": "1fb5105d3670369f"
      },
      "id": "1fb5105d3670369f"
    },
    {
      "cell_type": "markdown",
      "source": [
        "> note: so far we got 72% of accuracy we need more experimenting"
      ],
      "metadata": {
        "collapsed": false,
        "id": "571c5ddf8389901b"
      },
      "id": "571c5ddf8389901b"
    },
    {
      "cell_type": "code",
      "execution_count": 50,
      "outputs": [
        {
          "output_type": "execute_result",
          "data": {
            "text/plain": [
              "{'accuracy': 71.66052395656938,\n",
              " 'precision': 0.7124522262544967,\n",
              " 'recall': 0.7166052395656938,\n",
              " 'f1': 0.6924182031316956}"
            ]
          },
          "metadata": {},
          "execution_count": 50
        }
      ],
      "source": [
        "# base_accuracy = hf.accuracy_of_model(test_labels_encoded,pred)\n",
        "# base_accuracy # reference accuracy for further experimenting\n",
        "\n",
        "\n",
        "base_accuracy = accuracy_of_model(test_labels_encoded,pred)\n",
        "base_accuracy # reference accuracy for further experimenting"
      ],
      "metadata": {
        "ExecuteTime": {
          "end_time": "2023-09-24T11:18:00.439427600Z",
          "start_time": "2023-09-24T11:18:00.392130500Z"
        },
        "colab": {
          "base_uri": "https://localhost:8080/"
        },
        "id": "bbde0a46cbbe72b0",
        "outputId": "eaccf3ad-16f2-4fba-f397-566775a14f1d"
      },
      "id": "bbde0a46cbbe72b0"
    },
    {
      "cell_type": "markdown",
      "source": [
        " #### Deep Sequence Models\n",
        "\n",
        "   * Goal is preparing Data in a proper form\n",
        "   * and getting insights so that we can customize model for best result\n"
      ],
      "metadata": {
        "collapsed": false,
        "id": "ac5cd5f74439deb3"
      },
      "id": "ac5cd5f74439deb3"
    },
    {
      "cell_type": "markdown",
      "source": [
        "##### Data insights\n",
        " * **avg sentence length in train data**"
      ],
      "metadata": {
        "collapsed": false,
        "id": "65e33f5dd60bd856"
      },
      "id": "65e33f5dd60bd856"
    },
    {
      "cell_type": "code",
      "execution_count": 51,
      "outputs": [],
      "source": [
        "temp = []\n",
        "\n",
        "for sentence in train_data[\"text\"]:\n",
        "\n",
        "    sentence_word_count = len(sentence.split(\" \"))\n",
        "    temp.append(sentence_word_count)\n",
        "    # print(temp)\n",
        "avg_sent_word_count = np.mean(temp)\n",
        "max_sentence_word_count = np.median(temp)\n"
      ],
      "metadata": {
        "ExecuteTime": {
          "end_time": "2023-09-24T11:18:02.330415100Z",
          "start_time": "2023-09-24T11:18:01.982815700Z"
        },
        "id": "ff267e316e8359c6"
      },
      "id": "ff267e316e8359c6"
    },
    {
      "cell_type": "code",
      "execution_count": 52,
      "outputs": [
        {
          "output_type": "stream",
          "name": "stdout",
          "text": [
            "avg no of words in sentence: 26.338069633612548\n",
            "median of sentence length: 23.0\n"
          ]
        }
      ],
      "source": [
        "print(f\"avg no of words in sentence: {avg_sent_word_count}\")\n",
        "print(f\"median of sentence length: {max_sentence_word_count}\")\n"
      ],
      "metadata": {
        "ExecuteTime": {
          "end_time": "2023-09-24T11:18:02.409010300Z",
          "start_time": "2023-09-24T11:18:02.409010300Z"
        },
        "colab": {
          "base_uri": "https://localhost:8080/"
        },
        "id": "8f4c95c1d7eb6faa",
        "outputId": "b341c3e9-8917-41d7-a401-bcd0892d95c2"
      },
      "id": "8f4c95c1d7eb6faa"
    },
    {
      "cell_type": "code",
      "execution_count": 53,
      "outputs": [
        {
          "output_type": "execute_result",
          "data": {
            "text/plain": [
              "(array([4.6220e+03, 2.0864e+04, 3.5049e+04, 3.6423e+04, 2.8878e+04,\n",
              "        2.0005e+04, 1.2593e+04, 7.6670e+03, 4.8980e+03, 2.6580e+03,\n",
              "        2.0780e+03, 1.3590e+03, 8.9500e+02, 6.0000e+02, 4.4400e+02,\n",
              "        2.9200e+02, 2.0300e+02, 1.2500e+02, 1.0000e+02, 6.5000e+01,\n",
              "        4.9000e+01, 3.6000e+01, 2.6000e+01, 2.3000e+01, 1.2000e+01,\n",
              "        8.0000e+00, 1.1000e+01, 4.0000e+00, 5.0000e+00, 4.0000e+00,\n",
              "        3.0000e+00, 3.0000e+00, 6.0000e+00, 2.0000e+00, 5.0000e+00,\n",
              "        3.0000e+00, 3.0000e+00, 0.0000e+00, 2.0000e+00, 0.0000e+00,\n",
              "        1.0000e+00, 2.0000e+00, 0.0000e+00, 0.0000e+00, 0.0000e+00,\n",
              "        0.0000e+00, 1.0000e+00, 0.0000e+00, 0.0000e+00, 1.0000e+00]),\n",
              " array([  1. ,   6.9,  12.8,  18.7,  24.6,  30.5,  36.4,  42.3,  48.2,\n",
              "         54.1,  60. ,  65.9,  71.8,  77.7,  83.6,  89.5,  95.4, 101.3,\n",
              "        107.2, 113.1, 119. , 124.9, 130.8, 136.7, 142.6, 148.5, 154.4,\n",
              "        160.3, 166.2, 172.1, 178. , 183.9, 189.8, 195.7, 201.6, 207.5,\n",
              "        213.4, 219.3, 225.2, 231.1, 237. , 242.9, 248.8, 254.7, 260.6,\n",
              "        266.5, 272.4, 278.3, 284.2, 290.1, 296. ]),\n",
              " <BarContainer object of 50 artists>)"
            ]
          },
          "metadata": {},
          "execution_count": 53
        },
        {
          "output_type": "display_data",
          "data": {
            "text/plain": [
              "<Figure size 640x480 with 1 Axes>"
            ],
            "image/png": "[encoded data removed]"
          },
          "metadata": {}
        }
      ],
      "source": [
        "plt.hist(temp,bins=50,stacked=True)"
      ],
      "metadata": {
        "ExecuteTime": {
          "end_time": "2023-09-24T11:18:04.250384200Z",
          "start_time": "2023-09-24T11:18:03.058684300Z"
        },
        "colab": {
          "base_uri": "https://localhost:8080/",
          "height": 725
        },
        "id": "608ab55fdbdb023",
        "outputId": "755d4bcb-7e44-4f04-9072-313dc1c35d1c"
      },
      "id": "608ab55fdbdb023"
    },
    {
      "cell_type": "markdown",
      "source": [
        "💡 most sentence length is leass than 50 mostly around 25"
      ],
      "metadata": {
        "collapsed": false,
        "id": "5837ae8e7baa51f7"
      },
      "id": "5837ae8e7baa51f7"
    },
    {
      "cell_type": "markdown",
      "source": [
        "  * **Text Vectorization length we will take to 60 using above hist**"
      ],
      "metadata": {
        "collapsed": false,
        "id": "e1b59b0d2475d178"
      },
      "id": "e1b59b0d2475d178"
    },
    {
      "cell_type": "code",
      "execution_count": 54,
      "outputs": [],
      "source": [
        "from tensorflow import keras\n"
      ],
      "metadata": {
        "ExecuteTime": {
          "end_time": "2023-09-24T11:18:06.708251Z",
          "start_time": "2023-09-24T11:18:06.707743800Z"
        },
        "id": "1d97de9db78d868b"
      },
      "id": "1d97de9db78d868b"
    },
    {
      "cell_type": "code",
      "execution_count": 55,
      "outputs": [],
      "source": [
        "MAX_TOKEN = 68000 # from paper\n",
        "otp_seq_ln = 60\n",
        "text_vectorizer_layer = keras.layers.TextVectorization(max_tokens=MAX_TOKEN,\n",
        "                                                 output_sequence_length=otp_seq_ln\n",
        ")\n",
        "text_vectorizer_layer.adapt(train_data[\"text\"])"
      ],
      "metadata": {
        "ExecuteTime": {
          "end_time": "2023-09-24T11:18:15.166881Z",
          "start_time": "2023-09-24T11:18:07.611493400Z"
        },
        "id": "3f7453f814844d69"
      },
      "id": "3f7453f814844d69"
    },
    {
      "cell_type": "code",
      "execution_count": 56,
      "outputs": [
        {
          "output_type": "execute_result",
          "data": {
            "text/plain": [
              "<tf.Tensor: shape=(1, 60), dtype=int64, numpy=\n",
              "array([[15664,   388,  2650,     5,   237,     0,     0,     0,     0,\n",
              "            0,     0,     0,     0,     0,     0,     0,     0,     0,\n",
              "            0,     0,     0,     0,     0,     0,     0,     0,     0,\n",
              "            0,     0,     0,     0,     0,     0,     0,     0,     0,\n",
              "            0,     0,     0,     0,     0,     0,     0,     0,     0,\n",
              "            0,     0,     0,     0,     0,     0,     0,     0,     0,\n",
              "            0,     0,     0,     0,     0,     0]])>"
            ]
          },
          "metadata": {},
          "execution_count": 56
        }
      ],
      "source": [
        "text_vectorizer_layer([\"ok i am in hospital\"]) # mapped sentence to integer"
      ],
      "metadata": {
        "ExecuteTime": {
          "end_time": "2023-09-24T11:18:15.219162Z",
          "start_time": "2023-09-24T11:18:15.171890800Z"
        },
        "colab": {
          "base_uri": "https://localhost:8080/"
        },
        "id": "6c97beeef4a591cd",
        "outputId": "eee360f7-fb39-4f4d-f414-28095c5c8c17"
      },
      "id": "6c97beeef4a591cd"
    },
    {
      "cell_type": "code",
      "execution_count": 57,
      "outputs": [],
      "source": [
        "total_words_saved = len(text_vectorizer_layer.get_vocabulary())\n",
        "# Embedding layer\n",
        "embedding_layer = keras.layers.Embedding(total_words_saved,\n",
        "                       output_dim=512,\n",
        "                       mask_zero=True,\n",
        "                       name=\"Token_Embadding_Layer\"\n",
        "                       )\n"
      ],
      "metadata": {
        "ExecuteTime": {
          "end_time": "2023-09-24T11:18:25.484569200Z",
          "start_time": "2023-09-24T11:18:25.343907400Z"
        },
        "id": "6adbb2e2802dcd5c"
      },
      "id": "6adbb2e2802dcd5c"
    },
    {
      "cell_type": "code",
      "execution_count": 58,
      "outputs": [
        {
          "output_type": "execute_result",
          "data": {
            "text/plain": [
              "<tf.Tensor: shape=(1, 60), dtype=int64, numpy=\n",
              "array([[   12,     7,  2529,     9,     7,  8582,   110,    48,     7,\n",
              "         1683,    69, 23956,  9793,     7,  8582,    44,   542,     4,\n",
              "            2,   182,   214,     4,   390,   674,  1176,  8582,    48,\n",
              "            0,     0,     0,     0,     0,     0,     0,     0,     0,\n",
              "            0,     0,     0,     0,     0,     0,     0,     0,     0,\n",
              "            0,     0,     0,     0,     0,     0,     0,     0,     0,\n",
              "            0,     0,     0,     0,     0,     0]])>"
            ]
          },
          "metadata": {},
          "execution_count": 58
        }
      ],
      "source": [
        "temp_sent = np.random.choice(train_data[\"text\"])\n",
        "tokened = text_vectorizer_layer([temp_sent])\n",
        "tokened"
      ],
      "metadata": {
        "ExecuteTime": {
          "end_time": "2023-09-24T11:18:26.196777900Z",
          "start_time": "2023-09-24T11:18:26.165068700Z"
        },
        "colab": {
          "base_uri": "https://localhost:8080/"
        },
        "id": "371a5f083f08ed43",
        "outputId": "2cc2b569-ebd2-4f96-ae36-c02f08095d5c"
      },
      "id": "371a5f083f08ed43"
    },
    {
      "cell_type": "code",
      "execution_count": 59,
      "outputs": [
        {
          "output_type": "stream",
          "name": "stdout",
          "text": [
            "sentence:\n",
            "patients with @ ae were @ % with rilonacept versus @ % placebo , with slightly more ae-related withdrawals with rilonacept ( @ % vs @ % ) because of the greater incidence of injection site reactions ( @ % rilonacept , @ % placebo ) .\n",
            "\n",
            "Tokened sentence\n",
            "tf.Tensor(\n",
            "[[   12     7  2529     9     7  8582   110    48     7  1683    69 23956\n",
            "   9793     7  8582    44   542     4     2   182   214     4   390   674\n",
            "   1176  8582    48     0     0     0     0     0     0     0     0     0\n",
            "      0     0     0     0     0     0     0     0     0     0     0     0\n",
            "      0     0     0     0     0     0     0     0     0     0     0     0]], shape=(1, 60), dtype=int64)\n",
            "Embedded Sentece:\n",
            "tf.Tensor(\n",
            "[[[ 0.01402401  0.04022202 -0.00172511 ... -0.01104707 -0.04075044\n",
            "    0.00583769]\n",
            "  [ 0.01633098 -0.01082461 -0.04575042 ...  0.03600829 -0.04685465\n",
            "   -0.03982732]\n",
            "  [ 0.01172547  0.04590276  0.01994138 ...  0.02532777  0.0413372\n",
            "    0.04788869]\n",
            "  ...\n",
            "  [-0.03995019  0.00769468 -0.0024588  ...  0.00647432 -0.03765\n",
            "   -0.02793322]\n",
            "  [-0.03995019  0.00769468 -0.0024588  ...  0.00647432 -0.03765\n",
            "   -0.02793322]\n",
            "  [-0.03995019  0.00769468 -0.0024588  ...  0.00647432 -0.03765\n",
            "   -0.02793322]]], shape=(1, 60, 512), dtype=float32)\n"
          ]
        }
      ],
      "source": [
        "print(\"sentence:\")\n",
        "print(temp_sent+ \"\\n\")\n",
        "print(\"Tokened sentence\")\n",
        "print(tokened)\n",
        "print(\"Embedded Sentece:\")\n",
        "print(embedding_layer(tokened)) # each word is represented by 512 long vector"
      ],
      "metadata": {
        "ExecuteTime": {
          "end_time": "2023-09-24T11:18:27.194254900Z",
          "start_time": "2023-09-24T11:18:26.893834100Z"
        },
        "colab": {
          "base_uri": "https://localhost:8080/"
        },
        "id": "ae045d91f5050c7c",
        "outputId": "a7902937-e7f5-4e91-e43a-91fa4131753f"
      },
      "id": "ae045d91f5050c7c"
    },
    {
      "cell_type": "code",
      "execution_count": 60,
      "outputs": [],
      "source": [
        "from tensorflow import data"
      ],
      "metadata": {
        "ExecuteTime": {
          "end_time": "2023-09-24T11:18:27.971331100Z",
          "start_time": "2023-09-24T11:18:27.959320900Z"
        },
        "id": "9301461d65ce91b8"
      },
      "id": "9301461d65ce91b8"
    },
    {
      "cell_type": "code",
      "execution_count": 61,
      "outputs": [
        {
          "output_type": "execute_result",
          "data": {
            "text/plain": [
              "<_TensorSliceDataset element_spec=(TensorSpec(shape=(), dtype=tf.string, name=None), TensorSpec(shape=(5,), dtype=tf.float64, name=None))>"
            ]
          },
          "metadata": {},
          "execution_count": 61
        }
      ],
      "source": [
        "train_dataset = data.Dataset.from_tensor_slices((train_data[\"text\"],train_labels_one_hot)) # we ll use one hot encoding\n",
        "val_dataset = data.Dataset.from_tensor_slices((dev_data[\"text\"],val_labels_one_hot)) # we ll use one hot encoding\n",
        "\n",
        "test_dataset = data.Dataset.from_tensor_slices((test_data[\"text\"],test_labels_one_hot)) # we ll use one hot encoding\n",
        "\n",
        "train_dataset\n",
        "# fast dataloading"
      ],
      "metadata": {
        "ExecuteTime": {
          "end_time": "2023-09-24T11:18:28.617584100Z",
          "start_time": "2023-09-24T11:18:28.545590700Z"
        },
        "colab": {
          "base_uri": "https://localhost:8080/"
        },
        "id": "4bdd0ad43867956e",
        "outputId": "f9f229d7-bc88-44bb-9611-c98e54b5816c"
      },
      "id": "4bdd0ad43867956e"
    },
    {
      "cell_type": "code",
      "execution_count": 62,
      "outputs": [],
      "source": [
        "train_dataset = train_dataset.batch(32).prefetch(data.AUTOTUNE)\n",
        "val_dataset = val_dataset.batch(32).prefetch(data.AUTOTUNE)\n",
        "test_dataset = test_dataset.batch(32).prefetch(data.AUTOTUNE)\n"
      ],
      "metadata": {
        "ExecuteTime": {
          "end_time": "2023-09-24T11:18:29.231205900Z",
          "start_time": "2023-09-24T11:18:29.199464600Z"
        },
        "id": "36d63fb21b350eb1"
      },
      "id": "36d63fb21b350eb1"
    },
    {
      "cell_type": "markdown",
      "source": [
        "##### MODEL"
      ],
      "metadata": {
        "collapsed": false,
        "id": "24b4c0414a211344"
      },
      "id": "24b4c0414a211344"
    },
    {
      "cell_type": "code",
      "execution_count": 63,
      "outputs": [],
      "source": [
        "from tensorflow import string as tfstr\n",
        "\n",
        "inputs = keras.layers.Input(shape=(1,),dtype=tfstr)\n",
        "text_vectors = text_vectorizer_layer(inputs)\n",
        "embedded_output = embedding_layer(text_vectors)\n",
        "x = keras.layers.Conv1D(64,kernel_size=5, padding=\"same\",activation=\"relu\")(embedded_output)\n",
        "x = keras.layers.GlobalMaxPool1D()(x)\n",
        "outputs = keras.layers.Dense(num_classes,activation=\"softmax\")(x)\n",
        "\n",
        "modelConv1DUntrainedEmbedding = keras.Model(inputs,outputs)\n",
        "\n",
        "modelConv1DUntrainedEmbedding.compile(loss=\"categorical_crossentropy\",\n",
        "                                      optimizer=keras.optimizers.Adam(),\n",
        "                                      metrics=[\"accuracy\"])\n"
      ],
      "metadata": {
        "ExecuteTime": {
          "end_time": "2023-09-24T11:18:31.084525200Z",
          "start_time": "2023-09-24T11:18:31.084525200Z"
        },
        "id": "f662ab2b4b3f93cf"
      },
      "id": "f662ab2b4b3f93cf"
    },
    {
      "cell_type": "code",
      "execution_count": 64,
      "outputs": [
        {
          "output_type": "stream",
          "name": "stdout",
          "text": [
            "Epoch 1/3\n",
            "562/562 [==============================] - 46s 65ms/step - loss: 0.7614 - accuracy: 0.7124 - val_loss: 0.5625 - val_accuracy: 0.7955\n",
            "Epoch 2/3\n",
            "562/562 [==============================] - 14s 26ms/step - loss: 0.5693 - accuracy: 0.7910 - val_loss: 0.5395 - val_accuracy: 0.7975\n",
            "Epoch 3/3\n",
            "562/562 [==============================] - 15s 26ms/step - loss: 0.5402 - accuracy: 0.8013 - val_loss: 0.5179 - val_accuracy: 0.8045\n"
          ]
        }
      ],
      "source": [
        "history_model1 = modelConv1DUntrainedEmbedding.fit(train_dataset,\n",
        "                                                   steps_per_epoch=int(0.1*len(train_dataset)),\n",
        "                                                   epochs=3,\n",
        "                                                   validation_data=val_dataset,\n",
        "                                                   validation_steps=int(0.1*len(val_dataset)),\n",
        "                                                   )"
      ],
      "metadata": {
        "ExecuteTime": {
          "end_time": "2023-09-24T11:18:31.854320100Z",
          "start_time": "2023-09-24T11:18:31.854320100Z"
        },
        "colab": {
          "base_uri": "https://localhost:8080/"
        },
        "id": "30122f6bbca56578",
        "outputId": "7f73fec7-14c5-4e48-ad63-b0e470224e9e"
      },
      "id": "30122f6bbca56578"
    },
    {
      "cell_type": "code",
      "execution_count": 65,
      "outputs": [
        {
          "output_type": "stream",
          "name": "stdout",
          "text": [
            "944/944 [==============================] - 5s 5ms/step - loss: 0.5193 - accuracy: 0.8044\n",
            "Accuracy on validation dataset: [0.5193361639976501, 0.8043578863143921]\n",
            "942/942 [==============================] - 3s 3ms/step\n",
            "{'accuracy': 80.0776969817711, 'precision': 0.8014039078764594, 'recall': 0.800776969817711, 'f1': 0.7994742560792792}\n"
          ]
        }
      ],
      "source": [
        "print(f\"Accuracy on validation dataset: {modelConv1DUntrainedEmbedding.evaluate(val_dataset)}\")\n",
        "\n",
        "test_dataset_prediction = modelConv1DUntrainedEmbedding.predict(test_dataset)\n",
        "pred_model1 =  np.argmax(test_dataset_prediction,axis=1)\n",
        "# print(hf.accuracy_of_model(np.argmax(test_labels,axis=1),pred_model1 ))\n",
        "print(accuracy_of_model(np.argmax(test_labels,axis=1),pred_model1 ))\n"
      ],
      "metadata": {
        "ExecuteTime": {
          "end_time": "2023-09-24T11:18:32.618618500Z",
          "start_time": "2023-09-24T11:18:32.618618500Z"
        },
        "colab": {
          "base_uri": "https://localhost:8080/"
        },
        "id": "bf1d92927c45f765",
        "outputId": "080cba54-631e-47ea-a6d9-e51a60516f49"
      },
      "id": "bf1d92927c45f765"
    },
    {
      "cell_type": "markdown",
      "source": [],
      "metadata": {
        "collapsed": false,
        "id": "6c87aaf97e9e13c2"
      },
      "id": "6c87aaf97e9e13c2"
    },
    {
      "cell_type": "markdown",
      "source": [
        "##### comparison base to model 1 on test data\n",
        "   | Model                    | Accuracy |   Precision   | Recall | f1 |\n",
        "    |--------------------------|----------|:-------------:|-------:|------:|\n",
        "    | base                  | 71.6605 | 0.71245|  0.71660 | 0.692418 |\n",
        "    | conv1D trained embedding |  79.430222 |   0.797181    |    0.79430 | 0.79256 |\n",
        "    \n",
        "> note : 80% accuracy on training dataset\n",
        "commented as it is taking lot of time to fit\n"
      ],
      "metadata": {
        "collapsed": false,
        "id": "3682d65a8f75bd"
      },
      "id": "3682d65a8f75bd"
    },
    {
      "cell_type": "code",
      "execution_count": 66,
      "outputs": [],
      "source": [
        "# universal sentence encoder downloaded from tensorflow hub\n",
        "import tensorflow_hub as hub\n",
        "# embedding_layer_tfhub = hub.KerasLayer(\"../data/use\")\n",
        "\n",
        "\n",
        "tf_hub_embedding_layer = hub.KerasLayer(\"https://tfhub.dev/google/universal-sentence-encoder/4\",\n",
        "                                        trainable=False,\n",
        "                                        name=\"universal_sentence_encoder\")\n",
        "\n",
        "\n",
        "\n",
        "\n"
      ],
      "metadata": {
        "ExecuteTime": {
          "end_time": "2023-09-24T11:18:41.609617500Z",
          "start_time": "2023-09-24T11:18:34.031815900Z"
        },
        "id": "41076e1835fe3285"
      },
      "id": "41076e1835fe3285"
    },
    {
      "cell_type": "markdown",
      "source": [],
      "metadata": {
        "collapsed": false,
        "id": "356f7dfa409e3e07"
      },
      "id": "356f7dfa409e3e07"
    },
    {
      "cell_type": "code",
      "execution_count": 66,
      "outputs": [],
      "source": [],
      "metadata": {
        "ExecuteTime": {
          "end_time": "2023-09-24T11:18:46.120951400Z",
          "start_time": "2023-09-24T11:18:46.120951400Z"
        },
        "id": "bb50a6024e08235b"
      },
      "id": "bb50a6024e08235b"
    },
    {
      "cell_type": "markdown",
      "source": [
        "##### character level embedding\n"
      ],
      "metadata": {
        "collapsed": false,
        "id": "1919376c05adbb87"
      },
      "id": "1919376c05adbb87"
    },
    {
      "cell_type": "code",
      "execution_count": 67,
      "outputs": [
        {
          "output_type": "execute_result",
          "data": {
            "text/plain": [
              "'o k   g e t   i t'"
            ],
            "application/vnd.google.colaboratory.intrinsic+json": {
              "type": "string"
            }
          },
          "metadata": {},
          "execution_count": 67
        }
      ],
      "source": [
        "def split_sen_to_char(text):\n",
        "    return \" \".join(list(text))\n",
        "\n",
        "split_sen_to_char(\"ok get it\")"
      ],
      "metadata": {
        "ExecuteTime": {
          "end_time": "2023-09-24T11:18:47.448000300Z",
          "start_time": "2023-09-24T11:18:47.415382300Z"
        },
        "colab": {
          "base_uri": "https://localhost:8080/",
          "height": 36
        },
        "id": "fd9112d1480b8928",
        "outputId": "b2f5aacf-6771-4d6d-9578-8f12d43bd8f0"
      },
      "id": "fd9112d1480b8928"
    },
    {
      "cell_type": "code",
      "execution_count": 68,
      "outputs": [],
      "source": [
        "train_chars = [split_sen_to_char(sent) for sent in train_data[\"text\"]]\n",
        "val_chars = [split_sen_to_char(sent) for sent in dev_data[\"text\"]]\n",
        "test_chars = [split_sen_to_char(sent) for sent in test_data[\"text\"]]\n"
      ],
      "metadata": {
        "ExecuteTime": {
          "end_time": "2023-09-24T11:18:48.913550500Z",
          "start_time": "2023-09-24T11:18:48.140190100Z"
        },
        "id": "5983da5ac8b7bbcb"
      },
      "id": "5983da5ac8b7bbcb"
    },
    {
      "cell_type": "code",
      "execution_count": 69,
      "outputs": [],
      "source": [
        "len_char = [len(sentence) for sentence in train_chars]\n",
        "mean_len_char = np.mean(len_char)"
      ],
      "metadata": {
        "ExecuteTime": {
          "end_time": "2023-09-24T11:18:48.957595900Z",
          "start_time": "2023-09-24T11:18:48.913550500Z"
        },
        "id": "347b0c2e60d479d6"
      },
      "id": "347b0c2e60d479d6"
    },
    {
      "cell_type": "code",
      "execution_count": 70,
      "outputs": [
        {
          "output_type": "stream",
          "name": "stdout",
          "text": [
            "Avg no of char in sentence: 297.7297309307441 \n",
            "\n"
          ]
        }
      ],
      "source": [
        "print(f\"Avg no of char in sentence: {mean_len_char} \\n\" )\n",
        "OUTPUT_SEQ_LEN = round(mean_len_char)"
      ],
      "metadata": {
        "ExecuteTime": {
          "end_time": "2023-09-24T11:18:50.005556100Z",
          "start_time": "2023-09-24T11:18:49.981905900Z"
        },
        "colab": {
          "base_uri": "https://localhost:8080/"
        },
        "id": "336b0819ee87bec",
        "outputId": "181aa6e1-da9b-49c0-98a6-f653c51a950c"
      },
      "id": "336b0819ee87bec"
    },
    {
      "cell_type": "code",
      "execution_count": 71,
      "outputs": [
        {
          "output_type": "execute_result",
          "data": {
            "text/plain": [
              "(array([2.2108e+04, 7.0578e+04, 5.3948e+04, 2.2389e+04, 7.4540e+03,\n",
              "        2.2340e+03, 8.0200e+02, 2.8700e+02, 1.1800e+02, 4.9000e+01,\n",
              "        2.9000e+01, 1.3000e+01, 8.0000e+00, 5.0000e+00, 1.0000e+00,\n",
              "        2.0000e+00, 1.0000e+00, 1.0000e+00, 0.0000e+00, 1.0000e+00]),\n",
              " array([1.0000e+00, 1.3950e+02, 2.7800e+02, 4.1650e+02, 5.5500e+02,\n",
              "        6.9350e+02, 8.3200e+02, 9.7050e+02, 1.1090e+03, 1.2475e+03,\n",
              "        1.3860e+03, 1.5245e+03, 1.6630e+03, 1.8015e+03, 1.9400e+03,\n",
              "        2.0785e+03, 2.2170e+03, 2.3555e+03, 2.4940e+03, 2.6325e+03,\n",
              "        2.7710e+03]),\n",
              " <BarContainer object of 20 artists>)"
            ]
          },
          "metadata": {},
          "execution_count": 71
        },
        {
          "output_type": "display_data",
          "data": {
            "text/plain": [
              "<Figure size 640x480 with 1 Axes>"
            ],
            "image/png": "[encoded data removed]"
          },
          "metadata": {}
        }
      ],
      "source": [
        "plt.hist(len_char, bins = 20)"
      ],
      "metadata": {
        "ExecuteTime": {
          "end_time": "2023-09-24T11:18:51.758254700Z",
          "start_time": "2023-09-24T11:18:50.728865100Z"
        },
        "colab": {
          "base_uri": "https://localhost:8080/",
          "height": 604
        },
        "id": "2ed314d7c04a0b23",
        "outputId": "ba44debd-3bf2-4078-ae88-5d198513d7ff"
      },
      "id": "2ed314d7c04a0b23"
    },
    {
      "cell_type": "code",
      "execution_count": 72,
      "outputs": [],
      "source": [
        "import string\n",
        "len_all_chars = len(string.ascii_lowercase + string.digits + string.punctuation)\n"
      ],
      "metadata": {
        "ExecuteTime": {
          "end_time": "2023-09-24T11:18:52.460120300Z",
          "start_time": "2023-09-24T11:18:52.436975100Z"
        },
        "id": "faf81963b786e334"
      },
      "id": "faf81963b786e334"
    },
    {
      "cell_type": "code",
      "execution_count": 73,
      "outputs": [],
      "source": [
        "# token level embeding\n",
        "vectorize_char_level_layer = keras.layers.TextVectorization(max_tokens=len_all_chars,\n",
        "                                                            output_sequence_length=OUTPUT_SEQ_LEN,\n",
        "                                                            name = \"layer_char_level_vectorizeing\"\n",
        "                                                            )\n"
      ],
      "metadata": {
        "ExecuteTime": {
          "end_time": "2023-09-24T11:18:53.921740300Z",
          "start_time": "2023-09-24T11:18:53.890394600Z"
        },
        "id": "a861f555f6f84b9e"
      },
      "id": "a861f555f6f84b9e"
    },
    {
      "cell_type": "code",
      "execution_count": 74,
      "outputs": [],
      "source": [
        "vectorize_char_level_layer.adapt(train_chars)\n",
        "OUTPUT_DIM_CHAR_LEVEL = 25\n",
        "embedding_char_level = keras.layers.Embedding(input_dim=OUTPUT_SEQ_LEN ,\n",
        "                                              output_dim=25,\n",
        "                                              mask_zero=True,\n",
        "                                              name = \"embedding_char_layer\")"
      ],
      "metadata": {
        "is_executing": true,
        "ExecuteTime": {
          "start_time": "2023-09-24T11:20:37.231719Z"
        },
        "id": "782ef2fee21ca908"
      },
      "id": "782ef2fee21ca908"
    },
    {
      "cell_type": "code",
      "execution_count": 75,
      "outputs": [],
      "source": [
        "# train_char_dataset = data.Dataset.from_tensor_slices((train_chars, train_labels_one_hot)).batch(32).prefetch(data.AUTOTUNE)\n",
        "# val_char_dataset = data.Dataset.from_tensor_slices((val_chars, val_labels_one_hot)).batch(32).prefetch(data.AUTOTUNE)\n"
      ],
      "metadata": {
        "ExecuteTime": {
          "start_time": "2023-09-24T10:58:52.685159500Z"
        },
        "id": "f6412235c441b6dc"
      },
      "id": "f6412235c441b6dc"
    },
    {
      "cell_type": "markdown",
      "source": [
        "##### Multimodal Modal as described in paper"
      ],
      "metadata": {
        "collapsed": false,
        "id": "b182c6a0fba25e4b"
      },
      "id": "b182c6a0fba25e4b"
    },
    {
      "cell_type": "code",
      "execution_count": 76,
      "outputs": [],
      "source": [
        "from tensorflow import string as tfstr\n",
        "\n",
        "# token lavel encoding\n",
        "layer_input_token = keras.layers.Input(shape=[],\n",
        "                                 dtype=tfstr,name=\"layer_input_token\")\n",
        "layer_embedding_token = tf_hub_embedding_layer(layer_input_token)\n",
        "layer_output_token = keras.layers.Dense(128,activation=\"relu\")(layer_embedding_token)\n",
        "model_token = keras.Model(inputs = layer_input_token,\n",
        "                          outputs = layer_output_token)\n",
        "\n",
        "# char level encodding\n",
        "\n",
        "\n",
        "\n",
        "\n",
        "input_char = keras.layers.Input(shape=(1,),\n",
        "                                 dtype=tfstr,\n",
        "                                name=\"layer_input_char\")\n",
        "char_vecotorizer = vectorize_char_level_layer(input_char)\n",
        "\n",
        "layer_embedding_char = embedding_char_level(char_vecotorizer)\n",
        "\n",
        "layer_output_char_bidir = keras.layers.Bidirectional(keras.layers.LSTM(25))(layer_embedding_char)\n",
        "model_char = keras.Model(inputs = input_char,\n",
        "                          outputs = layer_output_char_bidir)\n",
        "\n",
        "# concatenation\n",
        "\n",
        "token_char_concat = keras.layers.Concatenate(name=\"token_char_hybrid\")([model_token.output, model_char.output])\n",
        "\n",
        "\n",
        "combined_dropout = keras.layers.Dropout(0.5)(token_char_concat)\n",
        "combined_dense = keras.layers.Dense(200, activation=\"relu\")(combined_dropout) # slightly different to Figure 1 due to different shapes of token/char embedding layers\n",
        "final_dropout = keras.layers.Dropout(0.5)(combined_dense)\n",
        "output_layer = keras.layers.Dense(num_classes, activation=\"softmax\")(final_dropout)\n",
        "\n",
        "# 5. Construct model with char and token inputs\n",
        "model_token_and_char = keras.Model(inputs=[model_token.input, model_char.input],\n",
        "                         outputs=output_layer,\n",
        "                         name=\"model_token_and_char_embeddings\")\n"
      ],
      "metadata": {
        "ExecuteTime": {
          "end_time": "2023-09-24T11:01:18.194692Z",
          "start_time": "2023-09-24T11:01:16.232176Z"
        },
        "id": "bac1350a85db8f8e"
      },
      "id": "bac1350a85db8f8e"
    },
    {
      "cell_type": "code",
      "execution_count": 77,
      "outputs": [
        {
          "output_type": "execute_result",
          "data": {
            "image/png": "[encoded data removed]",
            "text/plain": [
              "<IPython.core.display.Image object>"
            ]
          },
          "metadata": {},
          "execution_count": 77
        }
      ],
      "source": [
        "from tensorflow.keras.utils import plot_model\n",
        "plot_model(model_token_and_char)"
      ],
      "metadata": {
        "ExecuteTime": {
          "start_time": "2023-09-24T10:58:52.693337Z"
        },
        "colab": {
          "base_uri": "https://localhost:8080/",
          "height": 856
        },
        "id": "c1baed2f76c86f9f",
        "outputId": "b3b44d7b-ae9d-41ec-ab4a-1174eeb969e8"
      },
      "id": "c1baed2f76c86f9f"
    },
    {
      "cell_type": "code",
      "source": [
        "## creating dataset for mulinput modal\n",
        "train_char_token_data = data.Dataset.from_tensor_slices((train_data[\"text\"], train_chars)) # make data\n",
        "train_char_token_labels = data.Dataset.from_tensor_slices(train_labels) # make labels\n",
        "train_char_token_dataset = data.Dataset.zip((train_char_token_data, train_char_token_labels)) # combine data and labels\n",
        "\n",
        "\n",
        "train_char_token_dataset = train_char_token_dataset.batch(32).prefetch(data.AUTOTUNE)\n",
        "\n",
        "\n",
        "# validation dataset\n",
        "\n",
        "val_char_token_data = data.Dataset.from_tensor_slices((dev_data[\"text\"], val_chars))\n",
        "val_char_token_labels = data.Dataset.from_tensor_slices(val_labels)\n",
        "val_char_token_dataset = data.Dataset.zip((val_char_token_data, val_char_token_labels))\n",
        "val_char_token_dataset = val_char_token_dataset.batch(32).prefetch(data.AUTOTUNE)"
      ],
      "metadata": {
        "id": "Ptu0_5y-_-XV"
      },
      "id": "Ptu0_5y-_-XV",
      "execution_count": 78,
      "outputs": []
    },
    {
      "cell_type": "code",
      "source": [
        "\n",
        "model_token_and_char.compile(loss=\"categorical_crossentropy\",\n",
        "                optimizer=keras.optimizers.Adam(),\n",
        "                metrics=[\"accuracy\"])\n",
        "\n",
        "model_token_and_char_history = model_token_and_char.fit(train_char_token_dataset,\n",
        "                              steps_per_epoch=int(0.1 * len(train_char_token_dataset)),\n",
        "                              epochs=3,\n",
        "                              validation_data=val_char_token_dataset,\n",
        "                              validation_steps=int(0.1 * len(val_char_token_dataset)))"
      ],
      "metadata": {
        "colab": {
          "base_uri": "https://localhost:8080/"
        },
        "id": "psDx0MJlDeXo",
        "outputId": "bb17d654-5880-4180-a26f-01f9b9d09afd"
      },
      "id": "psDx0MJlDeXo",
      "execution_count": 79,
      "outputs": [
        {
          "output_type": "stream",
          "name": "stdout",
          "text": [
            "Epoch 1/3\n",
            "562/562 [==============================] - 42s 52ms/step - loss: 0.9830 - accuracy: 0.6085 - val_loss: 0.7785 - val_accuracy: 0.6981\n",
            "Epoch 2/3\n",
            "562/562 [==============================] - 25s 44ms/step - loss: 0.7896 - accuracy: 0.6925 - val_loss: 0.7105 - val_accuracy: 0.7287\n",
            "Epoch 3/3\n",
            "562/562 [==============================] - 24s 44ms/step - loss: 0.7684 - accuracy: 0.7069 - val_loss: 0.6878 - val_accuracy: 0.7387\n"
          ]
        }
      ]
    },
    {
      "cell_type": "code",
      "source": [
        "model_token_and_char.evaluate(val_char_token_dataset)"
      ],
      "metadata": {
        "colab": {
          "base_uri": "https://localhost:8080/"
        },
        "id": "NiB47ccqDfk-",
        "outputId": "40469f1e-752c-4df4-b817-fc3b7b5597a6"
      },
      "id": "NiB47ccqDfk-",
      "execution_count": 80,
      "outputs": [
        {
          "output_type": "stream",
          "name": "stdout",
          "text": [
            "944/944 [==============================] - 17s 18ms/step - loss: 0.6898 - accuracy: 0.7379\n"
          ]
        },
        {
          "output_type": "execute_result",
          "data": {
            "text/plain": [
              "[0.6897720098495483, 0.7378965616226196]"
            ]
          },
          "metadata": {},
          "execution_count": 80
        }
      ]
    },
    {
      "cell_type": "markdown",
      "source": [
        "##### comparison base to model 1 on test data\n",
        "    | Model                    | Accuracy |   Precision   | Recall | f1 |\n",
        "    |--------------------------|----------|:-------------:|-------:|------:|\n",
        "    | base                  | 71.6605 | 0.71245|  0.71660 | 0.692418 |\n",
        "    | conv1D trained embedding |  79.430222 |   0.797181    |    0.79430 | 0.79256 |\n",
        "    | model_token_and_char | 0.7386  |       |     |  |\n",
        "    \n",
        "> note : 80% accuracy on training dataset\n",
        "commented as it is taking lot of time to fit"
      ],
      "metadata": {
        "id": "S6q6VPutF5nR"
      },
      "id": "S6q6VPutF5nR"
    },
    {
      "cell_type": "code",
      "source": [
        "train_data.line_number.plot.hist()"
      ],
      "metadata": {
        "colab": {
          "base_uri": "https://localhost:8080/",
          "height": 447
        },
        "id": "muw8IKnIFwZ_",
        "outputId": "b06836db-ad02-4391-a177-a80d57b93008"
      },
      "id": "muw8IKnIFwZ_",
      "execution_count": 81,
      "outputs": [
        {
          "output_type": "execute_result",
          "data": {
            "text/plain": [
              "<Axes: ylabel='Frequency'>"
            ]
          },
          "metadata": {},
          "execution_count": 81
        },
        {
          "output_type": "display_data",
          "data": {
            "text/plain": [
              "<Figure size 640x480 with 1 Axes>"
            ],
            "image/png": "[encoded data removed]"
          },
          "metadata": {}
        }
      ]
    },
    {
      "cell_type": "markdown",
      "source": [
        "##### Adding positional feature embedding layer"
      ],
      "metadata": {
        "id": "2wZwNsoJHr3P"
      },
      "id": "2wZwNsoJHr3P"
    },
    {
      "cell_type": "code",
      "source": [],
      "metadata": {
        "id": "i5e043u2IVCC"
      },
      "id": "i5e043u2IVCC",
      "execution_count": 81,
      "outputs": []
    },
    {
      "cell_type": "markdown",
      "source": [
        "#### feature engineering\n",
        "> **NOTE:** one hot encode line number as a feature of our data as position embedding layer\n",
        "\n",
        "> **NOTE:** from hist it is clear that line_number 15 is appearing in more than 10000 examples"
      ],
      "metadata": {
        "id": "U7XDRei6Kx7H"
      },
      "id": "U7XDRei6Kx7H"
    },
    {
      "cell_type": "code",
      "source": [
        "import tensorflow as tf\n",
        "train_line_number_one_hot = tf.one_hot(train_data[\"line_number\"].to_numpy(),depth = 15)\n",
        "val_line_number_one_hot = tf.one_hot(dev_data[\"line_number\"].to_numpy(),depth = 15)\n",
        "\n",
        "test_line_number_one_hot = tf.one_hot(test_data[\"line_number\"].to_numpy(),depth = 15)\n"
      ],
      "metadata": {
        "id": "GyZkI_StKyas"
      },
      "id": "GyZkI_StKyas",
      "execution_count": 82,
      "outputs": []
    },
    {
      "cell_type": "code",
      "source": [
        "\n",
        "train_total_lines_one_hot = tf.one_hot(train_data[\"total_lines\"].to_numpy(), depth=20)\n",
        "val_total_lines_one_hot = tf.one_hot(dev_data[\"total_lines\"].to_numpy(), depth=20)\n",
        "test_total_lines_one_hot = tf.one_hot(test_data[\"total_lines\"].to_numpy(), depth=20)\n",
        "\n",
        "train_total_lines_one_hot.shape, train_total_lines_one_hot[:10]"
      ],
      "metadata": {
        "colab": {
          "base_uri": "https://localhost:8080/"
        },
        "id": "qTohqb-BLVio",
        "outputId": "e108b7af-aa15-46bb-ad86-47211efb37ae"
      },
      "id": "qTohqb-BLVio",
      "execution_count": 83,
      "outputs": [
        {
          "output_type": "execute_result",
          "data": {
            "text/plain": [
              "(TensorShape([180028, 20]),\n",
              " <tf.Tensor: shape=(10, 20), dtype=float32, numpy=\n",
              " array([[0., 0., 0., 0., 0., 0., 0., 0., 0., 0., 0., 0., 1., 0., 0., 0.,\n",
              "         0., 0., 0., 0.],\n",
              "        [0., 0., 0., 0., 0., 0., 0., 0., 0., 0., 0., 0., 1., 0., 0., 0.,\n",
              "         0., 0., 0., 0.],\n",
              "        [0., 0., 0., 0., 0., 0., 0., 0., 0., 0., 0., 0., 1., 0., 0., 0.,\n",
              "         0., 0., 0., 0.],\n",
              "        [0., 0., 0., 0., 0., 0., 0., 0., 0., 0., 0., 0., 1., 0., 0., 0.,\n",
              "         0., 0., 0., 0.],\n",
              "        [0., 0., 0., 0., 0., 0., 0., 0., 0., 0., 0., 0., 1., 0., 0., 0.,\n",
              "         0., 0., 0., 0.],\n",
              "        [0., 0., 0., 0., 0., 0., 0., 0., 0., 0., 0., 0., 1., 0., 0., 0.,\n",
              "         0., 0., 0., 0.],\n",
              "        [0., 0., 0., 0., 0., 0., 0., 0., 0., 0., 0., 0., 1., 0., 0., 0.,\n",
              "         0., 0., 0., 0.],\n",
              "        [0., 0., 0., 0., 0., 0., 0., 0., 0., 0., 0., 0., 1., 0., 0., 0.,\n",
              "         0., 0., 0., 0.],\n",
              "        [0., 0., 0., 0., 0., 0., 0., 0., 0., 0., 0., 0., 1., 0., 0., 0.,\n",
              "         0., 0., 0., 0.],\n",
              "        [0., 0., 0., 0., 0., 0., 0., 0., 0., 0., 0., 0., 1., 0., 0., 0.,\n",
              "         0., 0., 0., 0.]], dtype=float32)>)"
            ]
          },
          "metadata": {},
          "execution_count": 83
        }
      ]
    },
    {
      "cell_type": "code",
      "source": [
        "\n",
        "# model for token level feature\n",
        "layer_input_token = keras.layers.Input(shape=[],\n",
        "                                 dtype=tfstr,name=\"layer_input_token\")\n",
        "layer_embedding_token = tf_hub_embedding_layer(layer_input_token)\n",
        "layer_output_token = keras.layers.Dense(128,activation=\"relu\")(layer_embedding_token)\n",
        "model_token = keras.Model(inputs = layer_input_token,\n",
        "                          outputs = layer_output_token)\n",
        "\n",
        "\n",
        "# model for char level feature\n",
        "\n",
        "\n",
        "\n",
        "\n",
        "input_char = keras.layers.Input(shape=(1,),\n",
        "                                 dtype=tfstr,\n",
        "                                name=\"layer_input_char\")\n",
        "char_vecotorizer = vectorize_char_level_layer(input_char)\n",
        "\n",
        "layer_embedding_char = embedding_char_level(char_vecotorizer)\n",
        "\n",
        "layer_output_char_bidir = keras.layers.Bidirectional(keras.layers.LSTM(25))(layer_embedding_char)\n",
        "model_char = keras.Model(inputs = input_char,\n",
        "                          outputs = layer_output_char_bidir)\n",
        "\n",
        "\n",
        "# concatenation combine 1 and 2\n",
        "\n",
        "token_char_concat = keras.layers.Concatenate(name=\"token_char_hybrid_embedding\")([model_token.output, model_char.output])\n",
        "\n",
        "z = keras.layers.Dense(256,activation = \"relu\")(token_char_concat)\n",
        "z = keras.layers.Dropout(0.5)(z)\n",
        "\n",
        "\n",
        "# model for token line_number feature\n",
        "line_number_inputs = keras.layers.Input(shape= (15,), dtype = tf.float32,name = \"line_number_input\")\n",
        "\n",
        "x = keras.layers.Dense(32,activation = \"relu\" )(line_number_inputs)\n",
        "\n",
        "line_number_model = keras.Model(inputs = line_number_inputs,\n",
        "                                outputs = x)\n",
        "# model for total_lines level feature\n",
        "\n",
        "total_line_inputs = keras.layers.Input(shape= (20,), dtype = tf.float32, name = \"toal_lines_input\")\n",
        "\n",
        "y = keras.layers.Dense(32,activation = \"relu\" )(total_line_inputs)\n",
        "\n",
        "toal_lines_model = keras.Model(inputs = total_line_inputs,\n",
        "                                outputs = y)\n",
        "\n",
        "# combine outputs of z, line_number model, total_lines model\n",
        "\n",
        "tribrid_embedding = keras.layers.Concatenate(name = \"concatenation_of_char_token_positional_embedding\")([line_number_model.output,toal_lines_model.output,z])\n",
        "\n",
        "# layer that accepts aboube concatenated embedding\n",
        "\n",
        "output_layer = keras.layers.Dense(5,activation = 'softmax',name = \"final_output\")(tribrid_embedding)\n",
        "\n",
        "model_with_extra_feature = keras.Model(inputs = [line_number_model.input,toal_lines_model.input,model_token.input,model_char.input],\n",
        "                                       outputs = output_layer)\n",
        "\n",
        "\n",
        "# 5. Construct model with char and token inputs\n",
        "\n"
      ],
      "metadata": {
        "id": "cTRdzIT1Lj6M"
      },
      "id": "cTRdzIT1Lj6M",
      "execution_count": 84,
      "outputs": []
    },
    {
      "cell_type": "code",
      "source": [
        "plot_model(model_with_extra_feature)"
      ],
      "metadata": {
        "colab": {
          "base_uri": "https://localhost:8080/",
          "height": 856
        },
        "id": "kzUm1nkXL0XD",
        "outputId": "41a580a3-958d-4e0b-d856-eeb1ec6557f9"
      },
      "id": "kzUm1nkXL0XD",
      "execution_count": 85,
      "outputs": [
        {
          "output_type": "execute_result",
          "data": {
            "image/png": "[encoded data removed]",
            "text/plain": [
              "<IPython.core.display.Image object>"
            ]
          },
          "metadata": {},
          "execution_count": 85
        }
      ]
    },
    {
      "cell_type": "code",
      "source": [
        "\n",
        "\n",
        "model_with_extra_feature.compile(loss=tf.keras.losses.CategoricalCrossentropy(label_smoothing=0.2),\n",
        "                optimizer=tf.keras.optimizers.Adam(),\n",
        "                metrics=[\"accuracy\"])"
      ],
      "metadata": {
        "id": "Nqasv5UnWT_7"
      },
      "id": "Nqasv5UnWT_7",
      "execution_count": 86,
      "outputs": []
    },
    {
      "cell_type": "code",
      "source": [
        "\n",
        "train_pos_char_token_data = tf.data.Dataset.from_tensor_slices((train_line_number_one_hot, # line numbers\n",
        "                                                                train_total_lines_one_hot, # total lines\n",
        "                                                                train_data[\"text\"], # train tokens\n",
        "                                                                train_chars)) # train chars\n",
        "train_pos_char_token_labels = tf.data.Dataset.from_tensor_slices(train_labels) # train labels\n",
        "train_pos_char_token_dataset = tf.data.Dataset.zip((train_pos_char_token_data, train_pos_char_token_labels)) # combine data and labels\n",
        "train_pos_char_token_dataset = train_pos_char_token_dataset.batch(32).prefetch(tf.data.AUTOTUNE) # turn into batches and prefetch appropriately\n",
        "\n",
        "# Validation dataset\n",
        "val_pos_char_token_data = tf.data.Dataset.from_tensor_slices((val_line_number_one_hot,\n",
        "                                                              val_total_lines_one_hot,\n",
        "                                                              dev_data[\"text\"],\n",
        "                                                              val_chars))\n",
        "val_pos_char_token_labels = tf.data.Dataset.from_tensor_slices(val_labels_one_hot)\n",
        "val_pos_char_token_dataset = tf.data.Dataset.zip((val_pos_char_token_data, val_pos_char_token_labels))\n",
        "val_pos_char_token_dataset = val_pos_char_token_dataset.batch(32).prefetch(tf.data.AUTOTUNE)"
      ],
      "metadata": {
        "id": "ZUbjRivabgmg"
      },
      "id": "ZUbjRivabgmg",
      "execution_count": 87,
      "outputs": []
    },
    {
      "cell_type": "code",
      "source": [
        "val_pos_char_token_dataset"
      ],
      "metadata": {
        "colab": {
          "base_uri": "https://localhost:8080/"
        },
        "id": "mWHqTiRGcW4h",
        "outputId": "c5a16c14-0843-414c-91c3-5b0332e53ec7"
      },
      "id": "mWHqTiRGcW4h",
      "execution_count": 88,
      "outputs": [
        {
          "output_type": "execute_result",
          "data": {
            "text/plain": [
              "<_PrefetchDataset element_spec=((TensorSpec(shape=(None, 15), dtype=tf.float32, name=None), TensorSpec(shape=(None, 20), dtype=tf.float32, name=None), TensorSpec(shape=(None,), dtype=tf.string, name=None), TensorSpec(shape=(None,), dtype=tf.string, name=None)), TensorSpec(shape=(None, 5), dtype=tf.float64, name=None))>"
            ]
          },
          "metadata": {},
          "execution_count": 88
        }
      ]
    },
    {
      "cell_type": "code",
      "source": [
        "\n",
        "# Fit the token, char and positional embedding model\n",
        "model_with_extra_feature_history = model_with_extra_feature.fit(train_pos_char_token_dataset,\n",
        "                              steps_per_epoch=int(0.1 * len(train_pos_char_token_dataset)),\n",
        "                              epochs=3,\n",
        "                              validation_data=val_pos_char_token_dataset,\n",
        "                              validation_steps=int(0.1 * len(val_pos_char_token_dataset)))"
      ],
      "metadata": {
        "colab": {
          "base_uri": "https://localhost:8080/"
        },
        "id": "VGcwBqDPc0Ll",
        "outputId": "b335c9db-6eea-4cbb-d2ba-737cec1b2557"
      },
      "id": "VGcwBqDPc0Ll",
      "execution_count": 89,
      "outputs": [
        {
          "output_type": "stream",
          "name": "stdout",
          "text": [
            "Epoch 1/3\n",
            "562/562 [==============================] - 40s 52ms/step - loss: 1.0907 - accuracy: 0.7294 - val_loss: 0.9778 - val_accuracy: 0.8049\n",
            "Epoch 2/3\n",
            "562/562 [==============================] - 26s 47ms/step - loss: 0.9679 - accuracy: 0.8174 - val_loss: 0.9498 - val_accuracy: 0.8218\n",
            "Epoch 3/3\n",
            "562/562 [==============================] - 23s 41ms/step - loss: 0.9489 - accuracy: 0.8231 - val_loss: 0.9379 - val_accuracy: 0.8291\n"
          ]
        }
      ]
    },
    {
      "cell_type": "code",
      "source": [
        "random_med_para = 'This RCT examined the efficacy of a manualized social intervention for children with HFASDs. Participants were randomly assigned to treatment or wait-list conditions. Treatment included instruction and therapeutic activities targeting social skills, face-emotion recognition, interest expansion, and interpretation of non-literal language. A response-cost program was applied to reduce problem behaviors and foster skills acquisition. Significant treatment effects were found for five of seven primary outcome measures (parent ratings and direct child measures). Secondary measures based on staff ratings (treatment group only) corroborated gains reported by parents. High levels of parent, child and staff satisfaction were reported, along with high levels of treatment fidelity. Standardized effect size estimates were primarily in the medium and large ranges and favored the treatment group.'"
      ],
      "metadata": {
        "id": "YEKbCRvHdWyX"
      },
      "id": "YEKbCRvHdWyX",
      "execution_count": 90,
      "outputs": []
    },
    {
      "cell_type": "code",
      "source": [
        "random_med_para"
      ],
      "metadata": {
        "colab": {
          "base_uri": "https://localhost:8080/",
          "height": 105
        },
        "id": "dz-iR-p-B-h3",
        "outputId": "8912aa9b-a758-4310-b1b4-132078490aa4"
      },
      "id": "dz-iR-p-B-h3",
      "execution_count": 91,
      "outputs": [
        {
          "output_type": "execute_result",
          "data": {
            "text/plain": [
              "'This RCT examined the efficacy of a manualized social intervention for children with HFASDs. Participants were randomly assigned to treatment or wait-list conditions. Treatment included instruction and therapeutic activities targeting social skills, face-emotion recognition, interest expansion, and interpretation of non-literal language. A response-cost program was applied to reduce problem behaviors and foster skills acquisition. Significant treatment effects were found for five of seven primary outcome measures (parent ratings and direct child measures). Secondary measures based on staff ratings (treatment group only) corroborated gains reported by parents. High levels of parent, child and staff satisfaction were reported, along with high levels of treatment fidelity. Standardized effect size estimates were primarily in the medium and large ranges and favored the treatment group.'"
            ],
            "application/vnd.google.colaboratory.intrinsic+json": {
              "type": "string"
            }
          },
          "metadata": {},
          "execution_count": 91
        }
      ]
    },
    {
      "cell_type": "markdown",
      "source": [
        "##### On random data"
      ],
      "metadata": {
        "id": "xbVClJyvZLY9"
      },
      "id": "xbVClJyvZLY9"
    },
    {
      "cell_type": "code",
      "source": [
        "# trained pipeline\n",
        " # create sentence splitting pipeline object\n",
        "\n",
        "def para_to_formatted_inp(para = random_med_para):\n",
        "  \"\"\"\n",
        "  function return list of dic obj containe text line number total lines\n",
        "  \"\"\"\n",
        "  from spacy.lang.en import English\n",
        "  nlp = English()\n",
        "  sentencizer = nlp.add_pipe(\"sentencizer\")\n",
        "  doc = nlp(para)\n",
        "  abstract_lines = [str(sent) for sent in list(doc.sents)] # return detected sentences from doc in string type (not spaCy token type)\n",
        "  total_lines = len(abstract_lines)\n",
        "  temp_list = []\n",
        "\n",
        "  i = 0\n",
        "  for line in abstract_lines:\n",
        "    temp_dict = {}\n",
        "    temp_dict[\"text\"] = line\n",
        "    temp_dict[\"line_number\"] = i\n",
        "    temp_dict[\"total_lines\"] = total_lines\n",
        "    i = i+1\n",
        "    temp_list.append(temp_dict)\n",
        "\n",
        "\n",
        "\n",
        "  return temp_list\n",
        "lines = para_to_formatted_inp()\n",
        "pd.DataFrame(lines)"
      ],
      "metadata": {
        "colab": {
          "base_uri": "https://localhost:8080/",
          "height": 300
        },
        "id": "tWnC9tQ4ZQl-",
        "outputId": "9d3c6f69-0f6e-4357-d6d4-529241192427"
      },
      "id": "tWnC9tQ4ZQl-",
      "execution_count": 92,
      "outputs": [
        {
          "output_type": "execute_result",
          "data": {
            "text/plain": [
              "                                                text  line_number  total_lines\n",
              "0  This RCT examined the efficacy of a manualized...            0            8\n",
              "1  Participants were randomly assigned to treatme...            1            8\n",
              "2  Treatment included instruction and therapeutic...            2            8\n",
              "3  A response-cost program was applied to reduce ...            3            8\n",
              "4  Significant treatment effects were found for f...            4            8\n",
              "5  Secondary measures based on staff ratings (tre...            5            8\n",
              "6  High levels of parent, child and staff satisfa...            6            8\n",
              "7  Standardized effect size estimates were primar...            7            8"
            ],
            "text/html": [
              "\n",
              "  <div id=\"df-b17ce143-44a0-41a1-b486-f336edcd3fbd\" class=\"colab-df-container\">\n",
              "    <div>\n",
              "<style scoped>\n",
              "    .dataframe tbody tr th:only-of-type {\n",
              "        vertical-align: middle;\n",
              "    }\n",
              "\n",
              "    .dataframe tbody tr th {\n",
              "        vertical-align: top;\n",
              "    }\n",
              "\n",
              "    .dataframe thead th {\n",
              "        text-align: right;\n",
              "    }\n",
              "</style>\n",
              "<table border=\"1\" class=\"dataframe\">\n",
              "  <thead>\n",
              "    <tr style=\"text-align: right;\">\n",
              "      <th></th>\n",
              "      <th>text</th>\n",
              "      <th>line_number</th>\n",
              "      <th>total_lines</th>\n",
              "    </tr>\n",
              "  </thead>\n",
              "  <tbody>\n",
              "    <tr>\n",
              "      <th>0</th>\n",
              "      <td>This RCT examined the efficacy of a manualized...</td>\n",
              "      <td>0</td>\n",
              "      <td>8</td>\n",
              "    </tr>\n",
              "    <tr>\n",
              "      <th>1</th>\n",
              "      <td>Participants were randomly assigned to treatme...</td>\n",
              "      <td>1</td>\n",
              "      <td>8</td>\n",
              "    </tr>\n",
              "    <tr>\n",
              "      <th>2</th>\n",
              "      <td>Treatment included instruction and therapeutic...</td>\n",
              "      <td>2</td>\n",
              "      <td>8</td>\n",
              "    </tr>\n",
              "    <tr>\n",
              "      <th>3</th>\n",
              "      <td>A response-cost program was applied to reduce ...</td>\n",
              "      <td>3</td>\n",
              "      <td>8</td>\n",
              "    </tr>\n",
              "    <tr>\n",
              "      <th>4</th>\n",
              "      <td>Significant treatment effects were found for f...</td>\n",
              "      <td>4</td>\n",
              "      <td>8</td>\n",
              "    </tr>\n",
              "    <tr>\n",
              "      <th>5</th>\n",
              "      <td>Secondary measures based on staff ratings (tre...</td>\n",
              "      <td>5</td>\n",
              "      <td>8</td>\n",
              "    </tr>\n",
              "    <tr>\n",
              "      <th>6</th>\n",
              "      <td>High levels of parent, child and staff satisfa...</td>\n",
              "      <td>6</td>\n",
              "      <td>8</td>\n",
              "    </tr>\n",
              "    <tr>\n",
              "      <th>7</th>\n",
              "      <td>Standardized effect size estimates were primar...</td>\n",
              "      <td>7</td>\n",
              "      <td>8</td>\n",
              "    </tr>\n",
              "  </tbody>\n",
              "</table>\n",
              "</div>\n",
              "    <div class=\"colab-df-buttons\">\n",
              "\n",
              "  <div class=\"colab-df-container\">\n",
              "    <button class=\"colab-df-convert\" onclick=\"convertToInteractive('df-b17ce143-44a0-41a1-b486-f336edcd3fbd')\"\n",
              "            title=\"Convert this dataframe to an interactive table.\"\n",
              "            style=\"display:none;\">\n",
              "\n",
              "  <svg xmlns=\"http://www.w3.org/2000/svg\" height=\"24px\" viewBox=\"0 -960 960 960\">\n",
              "    <path d=\"M120-120v-720h720v720H120Zm60-500h600v-160H180v160Zm220 220h160v-160H400v160Zm0 220h160v-160H400v160ZM180-400h160v-160H180v160Zm440 0h160v-160H620v160ZM180-180h160v-160H180v160Zm440 0h160v-160H620v160Z\"/>\n",
              "  </svg>\n",
              "    </button>\n",
              "\n",
              "  <style>\n",
              "    .colab-df-container {\n",
              "      display:flex;\n",
              "      gap: 12px;\n",
              "    }\n",
              "\n",
              "    .colab-df-convert {\n",
              "      background-color: #E8F0FE;\n",
              "      border: none;\n",
              "      border-radius: 50%;\n",
              "      cursor: pointer;\n",
              "      display: none;\n",
              "      fill: #1967D2;\n",
              "      height: 32px;\n",
              "      padding: 0 0 0 0;\n",
              "      width: 32px;\n",
              "    }\n",
              "\n",
              "    .colab-df-convert:hover {\n",
              "      background-color: #E2EBFA;\n",
              "      box-shadow: 0px 1px 2px rgba(60, 64, 67, 0.3), 0px 1px 3px 1px rgba(60, 64, 67, 0.15);\n",
              "      fill: #174EA6;\n",
              "    }\n",
              "\n",
              "    .colab-df-buttons div {\n",
              "      margin-bottom: 4px;\n",
              "    }\n",
              "\n",
              "    [theme=dark] .colab-df-convert {\n",
              "      background-color: #3B4455;\n",
              "      fill: #D2E3FC;\n",
              "    }\n",
              "\n",
              "    [theme=dark] .colab-df-convert:hover {\n",
              "      background-color: #434B5C;\n",
              "      box-shadow: 0px 1px 3px 1px rgba(0, 0, 0, 0.15);\n",
              "      filter: drop-shadow(0px 1px 2px rgba(0, 0, 0, 0.3));\n",
              "      fill: #FFFFFF;\n",
              "    }\n",
              "  </style>\n",
              "\n",
              "    <script>\n",
              "      const buttonEl =\n",
              "        document.querySelector('#df-b17ce143-44a0-41a1-b486-f336edcd3fbd button.colab-df-convert');\n",
              "      buttonEl.style.display =\n",
              "        google.colab.kernel.accessAllowed ? 'block' : 'none';\n",
              "\n",
              "      async function convertToInteractive(key) {\n",
              "        const element = document.querySelector('#df-b17ce143-44a0-41a1-b486-f336edcd3fbd');\n",
              "        const dataTable =\n",
              "          await google.colab.kernel.invokeFunction('convertToInteractive',\n",
              "                                                    [key], {});\n",
              "        if (!dataTable) return;\n",
              "\n",
              "        const docLinkHtml = 'Like what you see? Visit the ' +\n",
              "          '<a target=\"_blank\" href=https://colab.research.google.com/notebooks/data_table.ipynb>data table notebook</a>'\n",
              "          + ' to learn more about interactive tables.';\n",
              "        element.innerHTML = '';\n",
              "        dataTable['output_type'] = 'display_data';\n",
              "        await google.colab.output.renderOutput(dataTable, element);\n",
              "        const docLink = document.createElement('div');\n",
              "        docLink.innerHTML = docLinkHtml;\n",
              "        element.appendChild(docLink);\n",
              "      }\n",
              "    </script>\n",
              "  </div>\n",
              "\n",
              "\n",
              "<div id=\"df-23ed0eda-da76-4a51-93bf-18b815acda5c\">\n",
              "  <button class=\"colab-df-quickchart\" onclick=\"quickchart('df-23ed0eda-da76-4a51-93bf-18b815acda5c')\"\n",
              "            title=\"Suggest charts.\"\n",
              "            style=\"display:none;\">\n",
              "\n",
              "<svg xmlns=\"http://www.w3.org/2000/svg\" height=\"24px\"viewBox=\"0 0 24 24\"\n",
              "     width=\"24px\">\n",
              "    <g>\n",
              "        <path d=\"M19 3H5c-1.1 0-2 .9-2 2v14c0 1.1.9 2 2 2h14c1.1 0 2-.9 2-2V5c0-1.1-.9-2-2-2zM9 17H7v-7h2v7zm4 0h-2V7h2v10zm4 0h-2v-4h2v4z\"/>\n",
              "    </g>\n",
              "</svg>\n",
              "  </button>\n",
              "\n",
              "<style>\n",
              "  .colab-df-quickchart {\n",
              "      --bg-color: #E8F0FE;\n",
              "      --fill-color: #1967D2;\n",
              "      --hover-bg-color: #E2EBFA;\n",
              "      --hover-fill-color: #174EA6;\n",
              "      --disabled-fill-color: #AAA;\n",
              "      --disabled-bg-color: #DDD;\n",
              "  }\n",
              "\n",
              "  [theme=dark] .colab-df-quickchart {\n",
              "      --bg-color: #3B4455;\n",
              "      --fill-color: #D2E3FC;\n",
              "      --hover-bg-color: #434B5C;\n",
              "      --hover-fill-color: #FFFFFF;\n",
              "      --disabled-bg-color: #3B4455;\n",
              "      --disabled-fill-color: #666;\n",
              "  }\n",
              "\n",
              "  .colab-df-quickchart {\n",
              "    background-color: var(--bg-color);\n",
              "    border: none;\n",
              "    border-radius: 50%;\n",
              "    cursor: pointer;\n",
              "    display: none;\n",
              "    fill: var(--fill-color);\n",
              "    height: 32px;\n",
              "    padding: 0;\n",
              "    width: 32px;\n",
              "  }\n",
              "\n",
              "  .colab-df-quickchart:hover {\n",
              "    background-color: var(--hover-bg-color);\n",
              "    box-shadow: 0 1px 2px rgba(60, 64, 67, 0.3), 0 1px 3px 1px rgba(60, 64, 67, 0.15);\n",
              "    fill: var(--button-hover-fill-color);\n",
              "  }\n",
              "\n",
              "  .colab-df-quickchart-complete:disabled,\n",
              "  .colab-df-quickchart-complete:disabled:hover {\n",
              "    background-color: var(--disabled-bg-color);\n",
              "    fill: var(--disabled-fill-color);\n",
              "    box-shadow: none;\n",
              "  }\n",
              "\n",
              "  .colab-df-spinner {\n",
              "    border: 2px solid var(--fill-color);\n",
              "    border-color: transparent;\n",
              "    border-bottom-color: var(--fill-color);\n",
              "    animation:\n",
              "      spin 1s steps(1) infinite;\n",
              "  }\n",
              "\n",
              "  @keyframes spin {\n",
              "    0% {\n",
              "      border-color: transparent;\n",
              "      border-bottom-color: var(--fill-color);\n",
              "      border-left-color: var(--fill-color);\n",
              "    }\n",
              "    20% {\n",
              "      border-color: transparent;\n",
              "      border-left-color: var(--fill-color);\n",
              "      border-top-color: var(--fill-color);\n",
              "    }\n",
              "    30% {\n",
              "      border-color: transparent;\n",
              "      border-left-color: var(--fill-color);\n",
              "      border-top-color: var(--fill-color);\n",
              "      border-right-color: var(--fill-color);\n",
              "    }\n",
              "    40% {\n",
              "      border-color: transparent;\n",
              "      border-right-color: var(--fill-color);\n",
              "      border-top-color: var(--fill-color);\n",
              "    }\n",
              "    60% {\n",
              "      border-color: transparent;\n",
              "      border-right-color: var(--fill-color);\n",
              "    }\n",
              "    80% {\n",
              "      border-color: transparent;\n",
              "      border-right-color: var(--fill-color);\n",
              "      border-bottom-color: var(--fill-color);\n",
              "    }\n",
              "    90% {\n",
              "      border-color: transparent;\n",
              "      border-bottom-color: var(--fill-color);\n",
              "    }\n",
              "  }\n",
              "</style>\n",
              "\n",
              "  <script>\n",
              "    async function quickchart(key) {\n",
              "      const quickchartButtonEl =\n",
              "        document.querySelector('#' + key + ' button');\n",
              "      quickchartButtonEl.disabled = true;  // To prevent multiple clicks.\n",
              "      quickchartButtonEl.classList.add('colab-df-spinner');\n",
              "      try {\n",
              "        const charts = await google.colab.kernel.invokeFunction(\n",
              "            'suggestCharts', [key], {});\n",
              "      } catch (error) {\n",
              "        console.error('Error during call to suggestCharts:', error);\n",
              "      }\n",
              "      quickchartButtonEl.classList.remove('colab-df-spinner');\n",
              "      quickchartButtonEl.classList.add('colab-df-quickchart-complete');\n",
              "    }\n",
              "    (() => {\n",
              "      let quickchartButtonEl =\n",
              "        document.querySelector('#df-23ed0eda-da76-4a51-93bf-18b815acda5c button');\n",
              "      quickchartButtonEl.style.display =\n",
              "        google.colab.kernel.accessAllowed ? 'block' : 'none';\n",
              "    })();\n",
              "  </script>\n",
              "</div>\n",
              "    </div>\n",
              "  </div>\n"
            ]
          },
          "metadata": {},
          "execution_count": 92
        }
      ]
    },
    {
      "cell_type": "code",
      "source": [
        "line_number_list = [line[\"line_number\"] for line in lines]\n",
        "total_line_list = [line[\"total_lines\"] for line in lines]\n"
      ],
      "metadata": {
        "id": "8svsdynpCtN1"
      },
      "id": "8svsdynpCtN1",
      "execution_count": 93,
      "outputs": []
    },
    {
      "cell_type": "code",
      "source": [
        "import tensorflow as tf"
      ],
      "metadata": {
        "id": "wwM8epy1FcL6"
      },
      "id": "wwM8epy1FcL6",
      "execution_count": 94,
      "outputs": []
    },
    {
      "cell_type": "code",
      "source": [
        "one_hot_line_number = tf.one_hot(line_number_list,depth = 15)\n",
        "one_hot_total_lines = tf.one_hot(total_line_list,depth = 20)\n",
        "line_list = [line[\"text\"] for line in lines]\n",
        "splitted_lines_in_chars = [split_sen_to_char(line[\"text\"]) for line in lines]\n"
      ],
      "metadata": {
        "id": "4kYau_I3Gx6L"
      },
      "id": "4kYau_I3Gx6L",
      "execution_count": 97,
      "outputs": []
    },
    {
      "cell_type": "code",
      "source": [],
      "metadata": {
        "colab": {
          "base_uri": "https://localhost:8080/"
        },
        "id": "0wgHe9KGG15R",
        "outputId": "2ad5d970-beba-4a71-ed28-b5a441b6ffe4"
      },
      "id": "0wgHe9KGG15R",
      "execution_count": 98,
      "outputs": [
        {
          "output_type": "execute_result",
          "data": {
            "text/plain": [
              "['T h i s   R C T   e x a m i n e d   t h e   e f f i c a c y   o f   a   m a n u a l i z e d   s o c i a l   i n t e r v e n t i o n   f o r   c h i l d r e n   w i t h   H F A S D s .',\n",
              " 'P a r t i c i p a n t s   w e r e   r a n d o m l y   a s s i g n e d   t o   t r e a t m e n t   o r   w a i t - l i s t   c o n d i t i o n s .',\n",
              " 'T r e a t m e n t   i n c l u d e d   i n s t r u c t i o n   a n d   t h e r a p e u t i c   a c t i v i t i e s   t a r g e t i n g   s o c i a l   s k i l l s ,   f a c e - e m o t i o n   r e c o g n i t i o n ,   i n t e r e s t   e x p a n s i o n ,   a n d   i n t e r p r e t a t i o n   o f   n o n - l i t e r a l   l a n g u a g e .',\n",
              " 'A   r e s p o n s e - c o s t   p r o g r a m   w a s   a p p l i e d   t o   r e d u c e   p r o b l e m   b e h a v i o r s   a n d   f o s t e r   s k i l l s   a c q u i s i t i o n .',\n",
              " 'S i g n i f i c a n t   t r e a t m e n t   e f f e c t s   w e r e   f o u n d   f o r   f i v e   o f   s e v e n   p r i m a r y   o u t c o m e   m e a s u r e s   ( p a r e n t   r a t i n g s   a n d   d i r e c t   c h i l d   m e a s u r e s ) .',\n",
              " 'S e c o n d a r y   m e a s u r e s   b a s e d   o n   s t a f f   r a t i n g s   ( t r e a t m e n t   g r o u p   o n l y )   c o r r o b o r a t e d   g a i n s   r e p o r t e d   b y   p a r e n t s .',\n",
              " 'H i g h   l e v e l s   o f   p a r e n t ,   c h i l d   a n d   s t a f f   s a t i s f a c t i o n   w e r e   r e p o r t e d ,   a l o n g   w i t h   h i g h   l e v e l s   o f   t r e a t m e n t   f i d e l i t y .',\n",
              " 'S t a n d a r d i z e d   e f f e c t   s i z e   e s t i m a t e s   w e r e   p r i m a r i l y   i n   t h e   m e d i u m   a n d   l a r g e   r a n g e s   a n d   f a v o r e d   t h e   t r e a t m e n t   g r o u p .']"
            ]
          },
          "metadata": {},
          "execution_count": 98
        }
      ]
    },
    {
      "cell_type": "code",
      "source": [
        "predected = model_with_extra_feature.predict(x = (one_hot_line_number,\n",
        "                                       one_hot_total_lines,\n",
        "                                       tf.constant(line_list),\n",
        "                                       tf.constant(splitted_lines_in_chars)))"
      ],
      "metadata": {
        "colab": {
          "base_uri": "https://localhost:8080/"
        },
        "id": "q3O39IUeJKvW",
        "outputId": "8092afb4-4f25-43e9-9e7d-7896d9df3c70"
      },
      "id": "q3O39IUeJKvW",
      "execution_count": 113,
      "outputs": [
        {
          "output_type": "stream",
          "name": "stdout",
          "text": [
            "1/1 [==============================] - 0s 34ms/step\n"
          ]
        }
      ]
    },
    {
      "cell_type": "code",
      "source": [
        "predected = tf.argmax(predected,axis = 1)"
      ],
      "metadata": {
        "id": "XusNDDcOJvt2"
      },
      "id": "XusNDDcOJvt2",
      "execution_count": 114,
      "outputs": []
    },
    {
      "cell_type": "code",
      "source": [
        "test_abstract_pred_classes = [label_enc.classes_[i] for i in predected]\n",
        "test_abstract_pred_classes"
      ],
      "metadata": {
        "colab": {
          "base_uri": "https://localhost:8080/"
        },
        "id": "AS2lbhobKHvM",
        "outputId": "36283866-338d-4038-95bf-742ff0ee5b7b"
      },
      "id": "AS2lbhobKHvM",
      "execution_count": 125,
      "outputs": [
        {
          "output_type": "execute_result",
          "data": {
            "text/plain": [
              "['OBJECTIVE',\n",
              " 'METHODS',\n",
              " 'METHODS',\n",
              " 'METHODS',\n",
              " 'RESULTS',\n",
              " 'METHODS',\n",
              " 'RESULTS',\n",
              " 'RESULTS']"
            ]
          },
          "metadata": {},
          "execution_count": 125
        }
      ]
    },
    {
      "cell_type": "code",
      "source": [
        "for i, line in enumerate(line_list):\n",
        "  print(f\"{test_abstract_pred_classes[i]}: {line}\")"
      ],
      "metadata": {
        "colab": {
          "base_uri": "https://localhost:8080/"
        },
        "id": "5_DcNVgVK2so",
        "outputId": "3e3e1822-de92-4cbd-d7e3-13addbf6062a"
      },
      "id": "5_DcNVgVK2so",
      "execution_count": 126,
      "outputs": [
        {
          "output_type": "stream",
          "name": "stdout",
          "text": [
            "OBJECTIVE: This RCT examined the efficacy of a manualized social intervention for children with HFASDs.\n",
            "METHODS: Participants were randomly assigned to treatment or wait-list conditions.\n",
            "METHODS: Treatment included instruction and therapeutic activities targeting social skills, face-emotion recognition, interest expansion, and interpretation of non-literal language.\n",
            "METHODS: A response-cost program was applied to reduce problem behaviors and foster skills acquisition.\n",
            "RESULTS: Significant treatment effects were found for five of seven primary outcome measures (parent ratings and direct child measures).\n",
            "METHODS: Secondary measures based on staff ratings (treatment group only) corroborated gains reported by parents.\n",
            "RESULTS: High levels of parent, child and staff satisfaction were reported, along with high levels of treatment fidelity.\n",
            "RESULTS: Standardized effect size estimates were primarily in the medium and large ranges and favored the treatment group.\n"
          ]
        }
      ]
    },
    {
      "cell_type": "code",
      "source": [
        "def transform_para(predictions=test_abstract_pred_classes,lines_list = line_list):\n",
        "  temp_dic = {}\n",
        "  for tag in label_enc.classes_:\n",
        "    temp_dic[tag] = []\n",
        "\n",
        "  return temp_dic\n",
        "\n",
        "\n",
        "transform_para()\n",
        "\n"
      ],
      "metadata": {
        "colab": {
          "base_uri": "https://localhost:8080/"
        },
        "id": "PWY6uYLJLYRW",
        "outputId": "2fe399bf-f25a-486e-f03e-567810755ef8"
      },
      "id": "PWY6uYLJLYRW",
      "execution_count": 129,
      "outputs": [
        {
          "output_type": "execute_result",
          "data": {
            "text/plain": [
              "{'BACKGROUND': [],\n",
              " 'CONCLUSIONS': [],\n",
              " 'METHODS': [],\n",
              " 'OBJECTIVE': [],\n",
              " 'RESULTS': []}"
            ]
          },
          "metadata": {},
          "execution_count": 129
        }
      ]
    },
    {
      "cell_type": "markdown",
      "source": [
        "This RCT examined the efficacy of a manualized social intervention for children with HFASDs. Participants were randomly assigned to treatment or wait-list conditions. Treatment included instruction and therapeutic activities targeting social skills, face-emotion recognition, interest expansion, and interpretation of non-literal language. A response-cost program was applied to reduce problem behaviors and foster skills acquisition. Significant treatment effects were found for five of seven primary outcome measures (parent ratings and direct child measures). Secondary measures based on staff ratings (treatment group only) corroborated gains reported by parents. High levels of parent, child and staff satisfaction were reported, along with high levels of treatment fidelity. Standardized effect size estimates were primarily in the medium and large ranges and favored the treatment group.\n",
        "\n",
        "\n",
        "to\n",
        "\n",
        "OBJECTIVE: This RCT examined the efficacy of a manualized social intervention for children with HFASDs.\n",
        "\n",
        "METHODS: Participants were randomly assigned to treatment or wait-list conditions.\n",
        "\n",
        "METHODS: Treatment included instruction and therapeutic activities targeting social skills, face-emotion recognition, interest expansion, and interpretation of non-literal language.\n",
        "\n",
        "METHODS: A response-cost program was applied to reduce problem behaviors and foster skills acquisition.\n",
        "\n",
        "RESULTS: Significant treatment effects were found for five of seven primary outcome measures (parent ratings and direct child measures).\n",
        "\n",
        "METHODS: Secondary measures based on staff ratings (treatment group only) corroborated gains reported by parents.\n",
        "\n",
        "RESULTS: High levels of parent, child and staff satisfaction were reported, along with high levels of treatment fidelity.\n",
        "\n",
        "RESULTS: Standardized effect size estimates were primarily in the medium and large ranges and favored the treatment group"
      ],
      "metadata": {
        "id": "i1t73muBSojX"
      },
      "id": "i1t73muBSojX"
    },
    {
      "cell_type": "markdown",
      "source": [],
      "metadata": {
        "id": "XWKEhaEZSjGQ"
      },
      "id": "XWKEhaEZSjGQ"
    },
    {
      "cell_type": "code",
      "source": [],
      "metadata": {
        "id": "kvIuhLAYL5Ev"
      },
      "id": "kvIuhLAYL5Ev",
      "execution_count": null,
      "outputs": []
    }
  ],
  "metadata": {
    "kernelspec": {
      "display_name": "Python 3",
      "name": "python3"
    },
    "language_info": {
      "codemirror_mode": {
        "name": "ipython",
        "version": 2
      },
      "file_extension": ".py",
      "mimetype": "text/x-python",
      "name": "python",
      "nbconvert_exporter": "python",
      "pygments_lexer": "ipython2",
      "version": "2.7.6"
    },
    "colab": {
      "provenance": [],
      "gpuType": "T4"
    },
    "accelerator": "GPU"
  },
  "nbformat": 4,
  "nbformat_minor": 5
}